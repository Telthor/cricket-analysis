{
 "cells": [
  {
   "cell_type": "code",
   "execution_count": 292,
   "metadata": {},
   "outputs": [
    {
     "data": {
      "application/javascript": "\n            setTimeout(function() {\n                var nbb_cell_id = 292;\n                var nbb_unformatted_code = \"%load_ext lab_black\";\n                var nbb_formatted_code = \"%load_ext lab_black\";\n                var nbb_cells = Jupyter.notebook.get_cells();\n                for (var i = 0; i < nbb_cells.length; ++i) {\n                    if (nbb_cells[i].input_prompt_number == nbb_cell_id) {\n                        if (nbb_cells[i].get_text() == nbb_unformatted_code) {\n                             nbb_cells[i].set_text(nbb_formatted_code);\n                        }\n                        break;\n                    }\n                }\n            }, 500);\n            ",
      "text/plain": [
       "<IPython.core.display.Javascript object>"
      ]
     },
     "metadata": {},
     "output_type": "display_data"
    }
   ],
   "source": [
    "%load_ext lab_black"
   ]
  },
  {
   "cell_type": "code",
   "execution_count": 293,
   "metadata": {},
   "outputs": [
    {
     "data": {
      "application/javascript": "\n            setTimeout(function() {\n                var nbb_cell_id = 293;\n                var nbb_unformatted_code = \"import plotly.graph_objects as go\\nimport plotly.express as px\\nimport pandas as pd\\nimport numpy as np\\nimport polars as pl\";\n                var nbb_formatted_code = \"import plotly.graph_objects as go\\nimport plotly.express as px\\nimport pandas as pd\\nimport numpy as np\\nimport polars as pl\";\n                var nbb_cells = Jupyter.notebook.get_cells();\n                for (var i = 0; i < nbb_cells.length; ++i) {\n                    if (nbb_cells[i].input_prompt_number == nbb_cell_id) {\n                        if (nbb_cells[i].get_text() == nbb_unformatted_code) {\n                             nbb_cells[i].set_text(nbb_formatted_code);\n                        }\n                        break;\n                    }\n                }\n            }, 500);\n            ",
      "text/plain": [
       "<IPython.core.display.Javascript object>"
      ]
     },
     "metadata": {},
     "output_type": "display_data"
    }
   ],
   "source": [
    "import plotly.graph_objects as go\n",
    "import plotly.express as px\n",
    "import pandas as pd\n",
    "import numpy as np\n",
    "import polars as pl"
   ]
  },
  {
   "cell_type": "code",
   "execution_count": 294,
   "metadata": {},
   "outputs": [
    {
     "ename": "NameError",
     "evalue": "name 'all_df_pd' is not defined",
     "output_type": "error",
     "traceback": [
      "\u001b[0;31m---------------------------------------------------------------------------\u001b[0m",
      "\u001b[0;31mNameError\u001b[0m                                 Traceback (most recent call last)",
      "\u001b[1;32m/Volumes/GoogleDrive-114672731332146657526/My Drive/cricket-analysis/polars-test.ipynb Cell 3\u001b[0m in \u001b[0;36m<cell line: 1>\u001b[0;34m()\u001b[0m\n\u001b[0;32m----> <a href='vscode-notebook-cell:/Volumes/GoogleDrive-114672731332146657526/My%20Drive/cricket-analysis/polars-test.ipynb#W5sZmlsZQ%3D%3D?line=0'>1</a>\u001b[0m rooty \u001b[39m=\u001b[39m all_df_pd\u001b[39m.\u001b[39mloc[(all_df_pd[\u001b[39m\"\u001b[39m\u001b[39mbatsman\u001b[39m\u001b[39m\"\u001b[39m]\u001b[39m.\u001b[39misin(batsman_list))]\n",
      "\u001b[0;31mNameError\u001b[0m: name 'all_df_pd' is not defined"
     ]
    },
    {
     "data": {
      "application/javascript": "\n            setTimeout(function() {\n                var nbb_cell_id = 294;\n                var nbb_unformatted_code = \"rooty = all_df_pd.loc[(all_df_pd[\\\"batsman\\\"].isin(batsman_list))]\";\n                var nbb_formatted_code = \"rooty = all_df_pd.loc[(all_df_pd[\\\"batsman\\\"].isin(batsman_list))]\";\n                var nbb_cells = Jupyter.notebook.get_cells();\n                for (var i = 0; i < nbb_cells.length; ++i) {\n                    if (nbb_cells[i].input_prompt_number == nbb_cell_id) {\n                        if (nbb_cells[i].get_text() == nbb_unformatted_code) {\n                             nbb_cells[i].set_text(nbb_formatted_code);\n                        }\n                        break;\n                    }\n                }\n            }, 500);\n            ",
      "text/plain": [
       "<IPython.core.display.Javascript object>"
      ]
     },
     "metadata": {},
     "output_type": "display_data"
    }
   ],
   "source": [
    "rooty = all_df_pd.loc[(all_df_pd[\"batsman\"].isin(batsman_list))]\n",
    "\n"
   ]
  },
  {
   "cell_type": "code",
   "execution_count": 25,
   "metadata": {},
   "outputs": [],
   "source": [
    "rooty_pl = all_df_pl.filter(pl.col(\"batsman\").is_in(batsman_list))"
   ]
  },
  {
   "cell_type": "code",
   "execution_count": 26,
   "metadata": {},
   "outputs": [
    {
     "data": {
      "text/html": [
       "<div>\n",
       "<style scoped>\n",
       "    .dataframe tbody tr th:only-of-type {\n",
       "        vertical-align: middle;\n",
       "    }\n",
       "\n",
       "    .dataframe tbody tr th {\n",
       "        vertical-align: top;\n",
       "    }\n",
       "\n",
       "    .dataframe thead th {\n",
       "        text-align: right;\n",
       "    }\n",
       "\n",
       "    .dataframe td {\n",
       "        white-space: pre;\n",
       "    }\n",
       "\n",
       "    .dataframe td {\n",
       "        padding-top: 0;\n",
       "    }\n",
       "\n",
       "    .dataframe td {\n",
       "        padding-bottom: 0;\n",
       "    }\n",
       "</style>\n",
       "<table border=\"1\" class=\"dataframe\" >\n",
       "<small>shape: (5, 31)</small>\n",
       "<thead>\n",
       "<tr>\n",
       "<th>\n",
       "\n",
       "</th>\n",
       "<th>\n",
       "batsman\n",
       "</th>\n",
       "<th>\n",
       "bowler\n",
       "</th>\n",
       "<th>\n",
       "non_striker\n",
       "</th>\n",
       "<th>\n",
       "delivery\n",
       "</th>\n",
       "<th>\n",
       "team\n",
       "</th>\n",
       "<th>\n",
       "innings\n",
       "</th>\n",
       "<th>\n",
       "runs.batsman\n",
       "</th>\n",
       "<th>\n",
       "runs.extras\n",
       "</th>\n",
       "<th>\n",
       "runs.total\n",
       "</th>\n",
       "<th>\n",
       "wicket.fielders\n",
       "</th>\n",
       "<th>\n",
       "wicket.kind\n",
       "</th>\n",
       "<th>\n",
       "wicket.player_out\n",
       "</th>\n",
       "<th>\n",
       "extras.wides\n",
       "</th>\n",
       "<th>\n",
       "extras.byes\n",
       "</th>\n",
       "<th>\n",
       "extras.noballs\n",
       "</th>\n",
       "<th>\n",
       "extras.legbyes\n",
       "</th>\n",
       "<th>\n",
       "runs.non_boundary\n",
       "</th>\n",
       "<th>\n",
       "replacements.role\n",
       "</th>\n",
       "<th>\n",
       "team_1\n",
       "</th>\n",
       "<th>\n",
       "team_2\n",
       "</th>\n",
       "<th>\n",
       "location\n",
       "</th>\n",
       "<th>\n",
       "date\n",
       "</th>\n",
       "<th>\n",
       "winner\n",
       "</th>\n",
       "<th>\n",
       "cumulative_runs\n",
       "</th>\n",
       "<th>\n",
       "increasing_delivery\n",
       "</th>\n",
       "<th>\n",
       "spot_run_rate\n",
       "</th>\n",
       "<th>\n",
       "run_rate\n",
       "</th>\n",
       "<th>\n",
       "extras.penalty\n",
       "</th>\n",
       "<th>\n",
       "replacements.match\n",
       "</th>\n",
       "<th>\n",
       "wicket\n",
       "</th>\n",
       "</tr>\n",
       "<tr>\n",
       "<td>\n",
       "i64\n",
       "</td>\n",
       "<td>\n",
       "str\n",
       "</td>\n",
       "<td>\n",
       "str\n",
       "</td>\n",
       "<td>\n",
       "str\n",
       "</td>\n",
       "<td>\n",
       "f64\n",
       "</td>\n",
       "<td>\n",
       "str\n",
       "</td>\n",
       "<td>\n",
       "str\n",
       "</td>\n",
       "<td>\n",
       "i64\n",
       "</td>\n",
       "<td>\n",
       "i64\n",
       "</td>\n",
       "<td>\n",
       "i64\n",
       "</td>\n",
       "<td>\n",
       "str\n",
       "</td>\n",
       "<td>\n",
       "str\n",
       "</td>\n",
       "<td>\n",
       "str\n",
       "</td>\n",
       "<td>\n",
       "str\n",
       "</td>\n",
       "<td>\n",
       "str\n",
       "</td>\n",
       "<td>\n",
       "str\n",
       "</td>\n",
       "<td>\n",
       "str\n",
       "</td>\n",
       "<td>\n",
       "str\n",
       "</td>\n",
       "<td>\n",
       "str\n",
       "</td>\n",
       "<td>\n",
       "str\n",
       "</td>\n",
       "<td>\n",
       "str\n",
       "</td>\n",
       "<td>\n",
       "str\n",
       "</td>\n",
       "<td>\n",
       "str\n",
       "</td>\n",
       "<td>\n",
       "str\n",
       "</td>\n",
       "<td>\n",
       "i64\n",
       "</td>\n",
       "<td>\n",
       "i64\n",
       "</td>\n",
       "<td>\n",
       "f64\n",
       "</td>\n",
       "<td>\n",
       "f64\n",
       "</td>\n",
       "<td>\n",
       "str\n",
       "</td>\n",
       "<td>\n",
       "str\n",
       "</td>\n",
       "<td>\n",
       "str\n",
       "</td>\n",
       "</tr>\n",
       "</thead>\n",
       "<tbody>\n",
       "<tr>\n",
       "<td>\n",
       "24618\n",
       "</td>\n",
       "<td>\n",
       "&quot;CA Pujara&quot;\n",
       "</td>\n",
       "<td>\n",
       "&quot;ST Gabriel&quot;\n",
       "</td>\n",
       "<td>\n",
       "&quot;S Dhawan&quot;\n",
       "</td>\n",
       "<td>\n",
       "6.3\n",
       "</td>\n",
       "<td>\n",
       "&quot;India&quot;\n",
       "</td>\n",
       "<td>\n",
       "&quot;1st innings&quot;\n",
       "</td>\n",
       "<td>\n",
       "0\n",
       "</td>\n",
       "<td>\n",
       "0\n",
       "</td>\n",
       "<td>\n",
       "0\n",
       "</td>\n",
       "<td>\n",
       "null\n",
       "</td>\n",
       "<td>\n",
       "null\n",
       "</td>\n",
       "<td>\n",
       "null\n",
       "</td>\n",
       "<td>\n",
       "null\n",
       "</td>\n",
       "<td>\n",
       "null\n",
       "</td>\n",
       "<td>\n",
       "null\n",
       "</td>\n",
       "<td>\n",
       "null\n",
       "</td>\n",
       "<td>\n",
       "null\n",
       "</td>\n",
       "<td>\n",
       "null\n",
       "</td>\n",
       "<td>\n",
       "&quot;West Indies&quot;\n",
       "</td>\n",
       "<td>\n",
       "&quot;India&quot;\n",
       "</td>\n",
       "<td>\n",
       "&quot;Sir Vivian Ric...\n",
       "</td>\n",
       "<td>\n",
       "&quot;2016-07-21&quot;\n",
       "</td>\n",
       "<td>\n",
       "&quot;India&quot;\n",
       "</td>\n",
       "<td>\n",
       "0\n",
       "</td>\n",
       "<td>\n",
       "1\n",
       "</td>\n",
       "<td>\n",
       "null\n",
       "</td>\n",
       "<td>\n",
       "0.0\n",
       "</td>\n",
       "<td>\n",
       "null\n",
       "</td>\n",
       "<td>\n",
       "null\n",
       "</td>\n",
       "<td>\n",
       "null\n",
       "</td>\n",
       "</tr>\n",
       "<tr>\n",
       "<td>\n",
       "24619\n",
       "</td>\n",
       "<td>\n",
       "&quot;CA Pujara&quot;\n",
       "</td>\n",
       "<td>\n",
       "&quot;ST Gabriel&quot;\n",
       "</td>\n",
       "<td>\n",
       "&quot;S Dhawan&quot;\n",
       "</td>\n",
       "<td>\n",
       "6.4\n",
       "</td>\n",
       "<td>\n",
       "&quot;India&quot;\n",
       "</td>\n",
       "<td>\n",
       "&quot;1st innings&quot;\n",
       "</td>\n",
       "<td>\n",
       "0\n",
       "</td>\n",
       "<td>\n",
       "0\n",
       "</td>\n",
       "<td>\n",
       "0\n",
       "</td>\n",
       "<td>\n",
       "null\n",
       "</td>\n",
       "<td>\n",
       "null\n",
       "</td>\n",
       "<td>\n",
       "null\n",
       "</td>\n",
       "<td>\n",
       "null\n",
       "</td>\n",
       "<td>\n",
       "null\n",
       "</td>\n",
       "<td>\n",
       "null\n",
       "</td>\n",
       "<td>\n",
       "null\n",
       "</td>\n",
       "<td>\n",
       "null\n",
       "</td>\n",
       "<td>\n",
       "null\n",
       "</td>\n",
       "<td>\n",
       "&quot;West Indies&quot;\n",
       "</td>\n",
       "<td>\n",
       "&quot;India&quot;\n",
       "</td>\n",
       "<td>\n",
       "&quot;Sir Vivian Ric...\n",
       "</td>\n",
       "<td>\n",
       "&quot;2016-07-21&quot;\n",
       "</td>\n",
       "<td>\n",
       "&quot;India&quot;\n",
       "</td>\n",
       "<td>\n",
       "0\n",
       "</td>\n",
       "<td>\n",
       "2\n",
       "</td>\n",
       "<td>\n",
       "null\n",
       "</td>\n",
       "<td>\n",
       "0.0\n",
       "</td>\n",
       "<td>\n",
       "null\n",
       "</td>\n",
       "<td>\n",
       "null\n",
       "</td>\n",
       "<td>\n",
       "null\n",
       "</td>\n",
       "</tr>\n",
       "<tr>\n",
       "<td>\n",
       "24620\n",
       "</td>\n",
       "<td>\n",
       "&quot;CA Pujara&quot;\n",
       "</td>\n",
       "<td>\n",
       "&quot;ST Gabriel&quot;\n",
       "</td>\n",
       "<td>\n",
       "&quot;S Dhawan&quot;\n",
       "</td>\n",
       "<td>\n",
       "6.5\n",
       "</td>\n",
       "<td>\n",
       "&quot;India&quot;\n",
       "</td>\n",
       "<td>\n",
       "&quot;1st innings&quot;\n",
       "</td>\n",
       "<td>\n",
       "0\n",
       "</td>\n",
       "<td>\n",
       "4\n",
       "</td>\n",
       "<td>\n",
       "4\n",
       "</td>\n",
       "<td>\n",
       "null\n",
       "</td>\n",
       "<td>\n",
       "null\n",
       "</td>\n",
       "<td>\n",
       "null\n",
       "</td>\n",
       "<td>\n",
       "null\n",
       "</td>\n",
       "<td>\n",
       "&quot;4.0&quot;\n",
       "</td>\n",
       "<td>\n",
       "null\n",
       "</td>\n",
       "<td>\n",
       "null\n",
       "</td>\n",
       "<td>\n",
       "null\n",
       "</td>\n",
       "<td>\n",
       "null\n",
       "</td>\n",
       "<td>\n",
       "&quot;West Indies&quot;\n",
       "</td>\n",
       "<td>\n",
       "&quot;India&quot;\n",
       "</td>\n",
       "<td>\n",
       "&quot;Sir Vivian Ric...\n",
       "</td>\n",
       "<td>\n",
       "&quot;2016-07-21&quot;\n",
       "</td>\n",
       "<td>\n",
       "&quot;India&quot;\n",
       "</td>\n",
       "<td>\n",
       "0\n",
       "</td>\n",
       "<td>\n",
       "3\n",
       "</td>\n",
       "<td>\n",
       "null\n",
       "</td>\n",
       "<td>\n",
       "0.0\n",
       "</td>\n",
       "<td>\n",
       "null\n",
       "</td>\n",
       "<td>\n",
       "null\n",
       "</td>\n",
       "<td>\n",
       "null\n",
       "</td>\n",
       "</tr>\n",
       "<tr>\n",
       "<td>\n",
       "24621\n",
       "</td>\n",
       "<td>\n",
       "&quot;CA Pujara&quot;\n",
       "</td>\n",
       "<td>\n",
       "&quot;ST Gabriel&quot;\n",
       "</td>\n",
       "<td>\n",
       "&quot;S Dhawan&quot;\n",
       "</td>\n",
       "<td>\n",
       "6.6\n",
       "</td>\n",
       "<td>\n",
       "&quot;India&quot;\n",
       "</td>\n",
       "<td>\n",
       "&quot;1st innings&quot;\n",
       "</td>\n",
       "<td>\n",
       "0\n",
       "</td>\n",
       "<td>\n",
       "0\n",
       "</td>\n",
       "<td>\n",
       "0\n",
       "</td>\n",
       "<td>\n",
       "null\n",
       "</td>\n",
       "<td>\n",
       "null\n",
       "</td>\n",
       "<td>\n",
       "null\n",
       "</td>\n",
       "<td>\n",
       "null\n",
       "</td>\n",
       "<td>\n",
       "null\n",
       "</td>\n",
       "<td>\n",
       "null\n",
       "</td>\n",
       "<td>\n",
       "null\n",
       "</td>\n",
       "<td>\n",
       "null\n",
       "</td>\n",
       "<td>\n",
       "null\n",
       "</td>\n",
       "<td>\n",
       "&quot;West Indies&quot;\n",
       "</td>\n",
       "<td>\n",
       "&quot;India&quot;\n",
       "</td>\n",
       "<td>\n",
       "&quot;Sir Vivian Ric...\n",
       "</td>\n",
       "<td>\n",
       "&quot;2016-07-21&quot;\n",
       "</td>\n",
       "<td>\n",
       "&quot;India&quot;\n",
       "</td>\n",
       "<td>\n",
       "0\n",
       "</td>\n",
       "<td>\n",
       "4\n",
       "</td>\n",
       "<td>\n",
       "null\n",
       "</td>\n",
       "<td>\n",
       "0.0\n",
       "</td>\n",
       "<td>\n",
       "null\n",
       "</td>\n",
       "<td>\n",
       "null\n",
       "</td>\n",
       "<td>\n",
       "null\n",
       "</td>\n",
       "</tr>\n",
       "<tr>\n",
       "<td>\n",
       "24628\n",
       "</td>\n",
       "<td>\n",
       "&quot;CA Pujara&quot;\n",
       "</td>\n",
       "<td>\n",
       "&quot;CR Brathwaite&quot;\n",
       "</td>\n",
       "<td>\n",
       "&quot;S Dhawan&quot;\n",
       "</td>\n",
       "<td>\n",
       "8.1\n",
       "</td>\n",
       "<td>\n",
       "&quot;India&quot;\n",
       "</td>\n",
       "<td>\n",
       "&quot;1st innings&quot;\n",
       "</td>\n",
       "<td>\n",
       "0\n",
       "</td>\n",
       "<td>\n",
       "0\n",
       "</td>\n",
       "<td>\n",
       "0\n",
       "</td>\n",
       "<td>\n",
       "null\n",
       "</td>\n",
       "<td>\n",
       "null\n",
       "</td>\n",
       "<td>\n",
       "null\n",
       "</td>\n",
       "<td>\n",
       "null\n",
       "</td>\n",
       "<td>\n",
       "null\n",
       "</td>\n",
       "<td>\n",
       "null\n",
       "</td>\n",
       "<td>\n",
       "null\n",
       "</td>\n",
       "<td>\n",
       "null\n",
       "</td>\n",
       "<td>\n",
       "null\n",
       "</td>\n",
       "<td>\n",
       "&quot;West Indies&quot;\n",
       "</td>\n",
       "<td>\n",
       "&quot;India&quot;\n",
       "</td>\n",
       "<td>\n",
       "&quot;Sir Vivian Ric...\n",
       "</td>\n",
       "<td>\n",
       "&quot;2016-07-21&quot;\n",
       "</td>\n",
       "<td>\n",
       "&quot;India&quot;\n",
       "</td>\n",
       "<td>\n",
       "0\n",
       "</td>\n",
       "<td>\n",
       "5\n",
       "</td>\n",
       "<td>\n",
       "null\n",
       "</td>\n",
       "<td>\n",
       "0.0\n",
       "</td>\n",
       "<td>\n",
       "null\n",
       "</td>\n",
       "<td>\n",
       "null\n",
       "</td>\n",
       "<td>\n",
       "null\n",
       "</td>\n",
       "</tr>\n",
       "</tbody>\n",
       "</table>\n",
       "</div>"
      ],
      "text/plain": [
       "shape: (5, 31)\n",
       "┌───────┬───────────┬──────────────┬───────────┬─────┬──────────┬────────────┬────────────┬────────┐\n",
       "│       ┆ batsman   ┆ bowler       ┆ non_strik ┆ ... ┆ run_rate ┆ extras.pen ┆ replacemen ┆ wicket │\n",
       "│ ---   ┆ ---       ┆ ---          ┆ er        ┆     ┆ ---      ┆ alty       ┆ ts.match   ┆ ---    │\n",
       "│ i64   ┆ str       ┆ str          ┆ ---       ┆     ┆ f64      ┆ ---        ┆ ---        ┆ str    │\n",
       "│       ┆           ┆              ┆ str       ┆     ┆          ┆ str        ┆ str        ┆        │\n",
       "╞═══════╪═══════════╪══════════════╪═══════════╪═════╪══════════╪════════════╪════════════╪════════╡\n",
       "│ 24618 ┆ CA Pujara ┆ ST Gabriel   ┆ S Dhawan  ┆ ... ┆ 0.0      ┆ null       ┆ null       ┆ null   │\n",
       "├╌╌╌╌╌╌╌┼╌╌╌╌╌╌╌╌╌╌╌┼╌╌╌╌╌╌╌╌╌╌╌╌╌╌┼╌╌╌╌╌╌╌╌╌╌╌┼╌╌╌╌╌┼╌╌╌╌╌╌╌╌╌╌┼╌╌╌╌╌╌╌╌╌╌╌╌┼╌╌╌╌╌╌╌╌╌╌╌╌┼╌╌╌╌╌╌╌╌┤\n",
       "│ 24619 ┆ CA Pujara ┆ ST Gabriel   ┆ S Dhawan  ┆ ... ┆ 0.0      ┆ null       ┆ null       ┆ null   │\n",
       "├╌╌╌╌╌╌╌┼╌╌╌╌╌╌╌╌╌╌╌┼╌╌╌╌╌╌╌╌╌╌╌╌╌╌┼╌╌╌╌╌╌╌╌╌╌╌┼╌╌╌╌╌┼╌╌╌╌╌╌╌╌╌╌┼╌╌╌╌╌╌╌╌╌╌╌╌┼╌╌╌╌╌╌╌╌╌╌╌╌┼╌╌╌╌╌╌╌╌┤\n",
       "│ 24620 ┆ CA Pujara ┆ ST Gabriel   ┆ S Dhawan  ┆ ... ┆ 0.0      ┆ null       ┆ null       ┆ null   │\n",
       "├╌╌╌╌╌╌╌┼╌╌╌╌╌╌╌╌╌╌╌┼╌╌╌╌╌╌╌╌╌╌╌╌╌╌┼╌╌╌╌╌╌╌╌╌╌╌┼╌╌╌╌╌┼╌╌╌╌╌╌╌╌╌╌┼╌╌╌╌╌╌╌╌╌╌╌╌┼╌╌╌╌╌╌╌╌╌╌╌╌┼╌╌╌╌╌╌╌╌┤\n",
       "│ 24621 ┆ CA Pujara ┆ ST Gabriel   ┆ S Dhawan  ┆ ... ┆ 0.0      ┆ null       ┆ null       ┆ null   │\n",
       "├╌╌╌╌╌╌╌┼╌╌╌╌╌╌╌╌╌╌╌┼╌╌╌╌╌╌╌╌╌╌╌╌╌╌┼╌╌╌╌╌╌╌╌╌╌╌┼╌╌╌╌╌┼╌╌╌╌╌╌╌╌╌╌┼╌╌╌╌╌╌╌╌╌╌╌╌┼╌╌╌╌╌╌╌╌╌╌╌╌┼╌╌╌╌╌╌╌╌┤\n",
       "│ 24628 ┆ CA Pujara ┆ CR           ┆ S Dhawan  ┆ ... ┆ 0.0      ┆ null       ┆ null       ┆ null   │\n",
       "│       ┆           ┆ Brathwaite   ┆           ┆     ┆          ┆            ┆            ┆        │\n",
       "└───────┴───────────┴──────────────┴───────────┴─────┴──────────┴────────────┴────────────┴────────┘"
      ]
     },
     "execution_count": 26,
     "metadata": {},
     "output_type": "execute_result"
    }
   ],
   "source": [
    "rooty_pl.head()"
   ]
  },
  {
   "cell_type": "markdown",
   "metadata": {},
   "source": []
  },
  {
   "cell_type": "code",
   "execution_count": 36,
   "metadata": {},
   "outputs": [
    {
     "data": {
      "text/html": [
       "<div>\n",
       "<style scoped>\n",
       "    .dataframe tbody tr th:only-of-type {\n",
       "        vertical-align: middle;\n",
       "    }\n",
       "\n",
       "    .dataframe tbody tr th {\n",
       "        vertical-align: top;\n",
       "    }\n",
       "\n",
       "    .dataframe thead th {\n",
       "        text-align: right;\n",
       "    }\n",
       "\n",
       "    .dataframe td {\n",
       "        white-space: pre;\n",
       "    }\n",
       "\n",
       "    .dataframe td {\n",
       "        padding-top: 0;\n",
       "    }\n",
       "\n",
       "    .dataframe td {\n",
       "        padding-bottom: 0;\n",
       "    }\n",
       "</style>\n",
       "<table border=\"1\" class=\"dataframe\" >\n",
       "<small>shape: (3828, 3)</small>\n",
       "<thead>\n",
       "<tr>\n",
       "<th>\n",
       "batsman\n",
       "</th>\n",
       "<th>\n",
       "increasing_delivery\n",
       "</th>\n",
       "<th>\n",
       "cumulative_runs\n",
       "</th>\n",
       "</tr>\n",
       "<tr>\n",
       "<td>\n",
       "str\n",
       "</td>\n",
       "<td>\n",
       "i64\n",
       "</td>\n",
       "<td>\n",
       "f64\n",
       "</td>\n",
       "</tr>\n",
       "</thead>\n",
       "<tbody>\n",
       "<tr>\n",
       "<td>\n",
       "&quot;AN Cook&quot;\n",
       "</td>\n",
       "<td>\n",
       "1\n",
       "</td>\n",
       "<td>\n",
       "0.343643\n",
       "</td>\n",
       "</tr>\n",
       "<tr>\n",
       "<td>\n",
       "&quot;AN Cook&quot;\n",
       "</td>\n",
       "<td>\n",
       "2\n",
       "</td>\n",
       "<td>\n",
       "0.748276\n",
       "</td>\n",
       "</tr>\n",
       "<tr>\n",
       "<td>\n",
       "&quot;AN Cook&quot;\n",
       "</td>\n",
       "<td>\n",
       "3\n",
       "</td>\n",
       "<td>\n",
       "1.1591\n",
       "</td>\n",
       "</tr>\n",
       "<tr>\n",
       "<td>\n",
       "&quot;AN Cook&quot;\n",
       "</td>\n",
       "<td>\n",
       "4\n",
       "</td>\n",
       "<td>\n",
       "1.599303\n",
       "</td>\n",
       "</tr>\n",
       "<tr>\n",
       "<td>\n",
       "&quot;AN Cook&quot;\n",
       "</td>\n",
       "<td>\n",
       "5\n",
       "</td>\n",
       "<td>\n",
       "2.045775\n",
       "</td>\n",
       "</tr>\n",
       "<tr>\n",
       "<td>\n",
       "&quot;AN Cook&quot;\n",
       "</td>\n",
       "<td>\n",
       "6\n",
       "</td>\n",
       "<td>\n",
       "2.553191\n",
       "</td>\n",
       "</tr>\n",
       "<tr>\n",
       "<td>\n",
       "&quot;AN Cook&quot;\n",
       "</td>\n",
       "<td>\n",
       "7\n",
       "</td>\n",
       "<td>\n",
       "2.960573\n",
       "</td>\n",
       "</tr>\n",
       "<tr>\n",
       "<td>\n",
       "&quot;AN Cook&quot;\n",
       "</td>\n",
       "<td>\n",
       "8\n",
       "</td>\n",
       "<td>\n",
       "3.481752\n",
       "</td>\n",
       "</tr>\n",
       "<tr>\n",
       "<td>\n",
       "&quot;AN Cook&quot;\n",
       "</td>\n",
       "<td>\n",
       "9\n",
       "</td>\n",
       "<td>\n",
       "3.959559\n",
       "</td>\n",
       "</tr>\n",
       "<tr>\n",
       "<td>\n",
       "&quot;AN Cook&quot;\n",
       "</td>\n",
       "<td>\n",
       "10\n",
       "</td>\n",
       "<td>\n",
       "4.420664\n",
       "</td>\n",
       "</tr>\n",
       "<tr>\n",
       "<td>\n",
       "&quot;AN Cook&quot;\n",
       "</td>\n",
       "<td>\n",
       "11\n",
       "</td>\n",
       "<td>\n",
       "4.921348\n",
       "</td>\n",
       "</tr>\n",
       "<tr>\n",
       "<td>\n",
       "&quot;AN Cook&quot;\n",
       "</td>\n",
       "<td>\n",
       "12\n",
       "</td>\n",
       "<td>\n",
       "5.4061\n",
       "</td>\n",
       "</tr>\n",
       "<tr>\n",
       "<td>\n",
       "...\n",
       "</td>\n",
       "<td>\n",
       "...\n",
       "</td>\n",
       "<td>\n",
       "...\n",
       "</td>\n",
       "</tr>\n",
       "<tr>\n",
       "<td>\n",
       "&quot;SR Tendulkar&quot;\n",
       "</td>\n",
       "<td>\n",
       "368\n",
       "</td>\n",
       "<td>\n",
       "242.0\n",
       "</td>\n",
       "</tr>\n",
       "<tr>\n",
       "<td>\n",
       "&quot;SR Tendulkar&quot;\n",
       "</td>\n",
       "<td>\n",
       "369\n",
       "</td>\n",
       "<td>\n",
       "242.0\n",
       "</td>\n",
       "</tr>\n",
       "<tr>\n",
       "<td>\n",
       "&quot;SR Tendulkar&quot;\n",
       "</td>\n",
       "<td>\n",
       "370\n",
       "</td>\n",
       "<td>\n",
       "242.0\n",
       "</td>\n",
       "</tr>\n",
       "<tr>\n",
       "<td>\n",
       "&quot;SR Tendulkar&quot;\n",
       "</td>\n",
       "<td>\n",
       "371\n",
       "</td>\n",
       "<td>\n",
       "243.0\n",
       "</td>\n",
       "</tr>\n",
       "<tr>\n",
       "<td>\n",
       "&quot;SR Tendulkar&quot;\n",
       "</td>\n",
       "<td>\n",
       "372\n",
       "</td>\n",
       "<td>\n",
       "247.0\n",
       "</td>\n",
       "</tr>\n",
       "<tr>\n",
       "<td>\n",
       "&quot;SR Tendulkar&quot;\n",
       "</td>\n",
       "<td>\n",
       "373\n",
       "</td>\n",
       "<td>\n",
       "247.0\n",
       "</td>\n",
       "</tr>\n",
       "<tr>\n",
       "<td>\n",
       "&quot;SR Tendulkar&quot;\n",
       "</td>\n",
       "<td>\n",
       "374\n",
       "</td>\n",
       "<td>\n",
       "247.0\n",
       "</td>\n",
       "</tr>\n",
       "<tr>\n",
       "<td>\n",
       "&quot;SR Tendulkar&quot;\n",
       "</td>\n",
       "<td>\n",
       "375\n",
       "</td>\n",
       "<td>\n",
       "247.0\n",
       "</td>\n",
       "</tr>\n",
       "<tr>\n",
       "<td>\n",
       "&quot;SR Tendulkar&quot;\n",
       "</td>\n",
       "<td>\n",
       "376\n",
       "</td>\n",
       "<td>\n",
       "247.0\n",
       "</td>\n",
       "</tr>\n",
       "<tr>\n",
       "<td>\n",
       "&quot;SR Tendulkar&quot;\n",
       "</td>\n",
       "<td>\n",
       "377\n",
       "</td>\n",
       "<td>\n",
       "247.0\n",
       "</td>\n",
       "</tr>\n",
       "<tr>\n",
       "<td>\n",
       "&quot;SR Tendulkar&quot;\n",
       "</td>\n",
       "<td>\n",
       "378\n",
       "</td>\n",
       "<td>\n",
       "247.0\n",
       "</td>\n",
       "</tr>\n",
       "<tr>\n",
       "<td>\n",
       "&quot;SR Tendulkar&quot;\n",
       "</td>\n",
       "<td>\n",
       "379\n",
       "</td>\n",
       "<td>\n",
       "248.0\n",
       "</td>\n",
       "</tr>\n",
       "</tbody>\n",
       "</table>\n",
       "</div>"
      ],
      "text/plain": [
       "shape: (3828, 3)\n",
       "┌──────────────┬─────────────────────┬─────────────────┐\n",
       "│ batsman      ┆ increasing_delivery ┆ cumulative_runs │\n",
       "│ ---          ┆ ---                 ┆ ---             │\n",
       "│ str          ┆ i64                 ┆ f64             │\n",
       "╞══════════════╪═════════════════════╪═════════════════╡\n",
       "│ AN Cook      ┆ 1                   ┆ 0.343643        │\n",
       "├╌╌╌╌╌╌╌╌╌╌╌╌╌╌┼╌╌╌╌╌╌╌╌╌╌╌╌╌╌╌╌╌╌╌╌╌┼╌╌╌╌╌╌╌╌╌╌╌╌╌╌╌╌╌┤\n",
       "│ AN Cook      ┆ 2                   ┆ 0.748276        │\n",
       "├╌╌╌╌╌╌╌╌╌╌╌╌╌╌┼╌╌╌╌╌╌╌╌╌╌╌╌╌╌╌╌╌╌╌╌╌┼╌╌╌╌╌╌╌╌╌╌╌╌╌╌╌╌╌┤\n",
       "│ AN Cook      ┆ 3                   ┆ 1.1591          │\n",
       "├╌╌╌╌╌╌╌╌╌╌╌╌╌╌┼╌╌╌╌╌╌╌╌╌╌╌╌╌╌╌╌╌╌╌╌╌┼╌╌╌╌╌╌╌╌╌╌╌╌╌╌╌╌╌┤\n",
       "│ AN Cook      ┆ 4                   ┆ 1.599303        │\n",
       "├╌╌╌╌╌╌╌╌╌╌╌╌╌╌┼╌╌╌╌╌╌╌╌╌╌╌╌╌╌╌╌╌╌╌╌╌┼╌╌╌╌╌╌╌╌╌╌╌╌╌╌╌╌╌┤\n",
       "│ ...          ┆ ...                 ┆ ...             │\n",
       "├╌╌╌╌╌╌╌╌╌╌╌╌╌╌┼╌╌╌╌╌╌╌╌╌╌╌╌╌╌╌╌╌╌╌╌╌┼╌╌╌╌╌╌╌╌╌╌╌╌╌╌╌╌╌┤\n",
       "│ SR Tendulkar ┆ 376                 ┆ 247.0           │\n",
       "├╌╌╌╌╌╌╌╌╌╌╌╌╌╌┼╌╌╌╌╌╌╌╌╌╌╌╌╌╌╌╌╌╌╌╌╌┼╌╌╌╌╌╌╌╌╌╌╌╌╌╌╌╌╌┤\n",
       "│ SR Tendulkar ┆ 377                 ┆ 247.0           │\n",
       "├╌╌╌╌╌╌╌╌╌╌╌╌╌╌┼╌╌╌╌╌╌╌╌╌╌╌╌╌╌╌╌╌╌╌╌╌┼╌╌╌╌╌╌╌╌╌╌╌╌╌╌╌╌╌┤\n",
       "│ SR Tendulkar ┆ 378                 ┆ 247.0           │\n",
       "├╌╌╌╌╌╌╌╌╌╌╌╌╌╌┼╌╌╌╌╌╌╌╌╌╌╌╌╌╌╌╌╌╌╌╌╌┼╌╌╌╌╌╌╌╌╌╌╌╌╌╌╌╌╌┤\n",
       "│ SR Tendulkar ┆ 379                 ┆ 248.0           │\n",
       "└──────────────┴─────────────────────┴─────────────────┘"
      ]
     },
     "execution_count": 36,
     "metadata": {},
     "output_type": "execute_result"
    }
   ],
   "source": [
    "rooty_pl.groupby([\"batsman\", \"increasing_delivery\"]).agg([pl.mean(\"cumulative_runs\")]).sort(['batsman', 'increasing_delivery'])"
   ]
  },
  {
   "cell_type": "code",
   "execution_count": 43,
   "metadata": {},
   "outputs": [
    {
     "data": {
      "application/vnd.plotly.v1+json": {
       "config": {
        "plotlyServerURL": "https://plot.ly"
       },
       "data": [
        {
         "hovertemplate": "batsman=AN Cook<br>increasing_delivery=%{x}<br>run_rate=%{y}<extra></extra>",
         "legendgroup": "AN Cook",
         "line": {
          "color": "#636efa",
          "dash": "solid"
         },
         "marker": {
          "symbol": "circle"
         },
         "mode": "lines",
         "name": "AN Cook",
         "showlegend": true,
         "type": "scattergl",
         "x": [
          1,
          2,
          3,
          4,
          5,
          6,
          7,
          8,
          9,
          10,
          11,
          12,
          13,
          14,
          15,
          16,
          17,
          18,
          19,
          20,
          21,
          22,
          23,
          24,
          25,
          26,
          27,
          28,
          29,
          30,
          31,
          32,
          33,
          34,
          35,
          36,
          37,
          38,
          39,
          40,
          41,
          42,
          43,
          44,
          45,
          46,
          47,
          48,
          49,
          50,
          51,
          52,
          53,
          54,
          55,
          56,
          57,
          58,
          59,
          60,
          61,
          62,
          63,
          64,
          65,
          66,
          67,
          68,
          69,
          70,
          71,
          72,
          73,
          74,
          75,
          76,
          77,
          78,
          79,
          80,
          81,
          82,
          83,
          84,
          85,
          86,
          87,
          88,
          89,
          90,
          91,
          92,
          93,
          94,
          95,
          96,
          97,
          98,
          99,
          100,
          101,
          102,
          103,
          104,
          105,
          106,
          107,
          108,
          109,
          110,
          111,
          112,
          113,
          114,
          115,
          116,
          117,
          118,
          119,
          120,
          121,
          122,
          123,
          124,
          125,
          126,
          127,
          128,
          129,
          130,
          131,
          132,
          133,
          134,
          135,
          136,
          137,
          138,
          139,
          140,
          141,
          142,
          143,
          144,
          145,
          146,
          147,
          148,
          149,
          150,
          151,
          152,
          153,
          154,
          155,
          156,
          157,
          158,
          159,
          160,
          161,
          162,
          163,
          164,
          165,
          166,
          167,
          168,
          169,
          170,
          171,
          172,
          173,
          174,
          175,
          176,
          177,
          178,
          179,
          180,
          181,
          182,
          183,
          184,
          185,
          186,
          187,
          188,
          189,
          190,
          191,
          192,
          193,
          194,
          195,
          196,
          197,
          198,
          199,
          200,
          201,
          202,
          203,
          204,
          205,
          206,
          207,
          208,
          209,
          210,
          211,
          212,
          213,
          214,
          215,
          216,
          217,
          218,
          219,
          220,
          221,
          222,
          223,
          224,
          225,
          226,
          227,
          228,
          229,
          230,
          231,
          232,
          233,
          234,
          235,
          236,
          237,
          238,
          239,
          240,
          241,
          242,
          243,
          244,
          245,
          246,
          247,
          248,
          249,
          250,
          251,
          252,
          253,
          254,
          255,
          256,
          257,
          258,
          259,
          260,
          261,
          262,
          263,
          264,
          265,
          266,
          267,
          268,
          269,
          270,
          271,
          272,
          273,
          274,
          275,
          276,
          277,
          278,
          279,
          280,
          281,
          282,
          283,
          284,
          285,
          286,
          287,
          288,
          289,
          290,
          291,
          292,
          293,
          294,
          295,
          296,
          297,
          298,
          299,
          300,
          301,
          302,
          303,
          304,
          305,
          306,
          307,
          308,
          309,
          310,
          311,
          312,
          313,
          314,
          315,
          316,
          317,
          318,
          319,
          320,
          321,
          322,
          323,
          324,
          325,
          326,
          327,
          328,
          329,
          330,
          331,
          332,
          333,
          334,
          335,
          336,
          337,
          338,
          339,
          340,
          341,
          342,
          343,
          344,
          345,
          346,
          347,
          348,
          349,
          350,
          351,
          352,
          353,
          354,
          355,
          356,
          357,
          358,
          359,
          360,
          361,
          362,
          363,
          364,
          365,
          366,
          367,
          368,
          369,
          370,
          371,
          372,
          373,
          374,
          375,
          376,
          377,
          378,
          379,
          380,
          381,
          382,
          383,
          384,
          385,
          386,
          387,
          388,
          389,
          390,
          391,
          392,
          393,
          394,
          395,
          396,
          397,
          398,
          399,
          400,
          401,
          402,
          403,
          404,
          405,
          406,
          407,
          408,
          409,
          410,
          411,
          412,
          413,
          414,
          415,
          416,
          417,
          418,
          419,
          420,
          421,
          422,
          423,
          424,
          425,
          426,
          427,
          428,
          429,
          430,
          431,
          432,
          433,
          434,
          435,
          436,
          437,
          438,
          439,
          440,
          441,
          442,
          443,
          444,
          445,
          446,
          447,
          448,
          449,
          450,
          451,
          452,
          453,
          454,
          455,
          456,
          457,
          458,
          459,
          460,
          461,
          462,
          463,
          464,
          465,
          466,
          467,
          468,
          469,
          470,
          471,
          472,
          473,
          474,
          475,
          476,
          477,
          478,
          479,
          480,
          481,
          482,
          483,
          484,
          485,
          486,
          487,
          488,
          489,
          490,
          491,
          492,
          493,
          494,
          495,
          496,
          497,
          498,
          499,
          500,
          501,
          502,
          503,
          504,
          505,
          506,
          507,
          508,
          509,
          510,
          511,
          512,
          513,
          514,
          515,
          516,
          517,
          518,
          519,
          520,
          521,
          522,
          523,
          524,
          525,
          526,
          527,
          528,
          529,
          530,
          531,
          532,
          533,
          534,
          535,
          536,
          537,
          538,
          539,
          540,
          541,
          542,
          543,
          544,
          545,
          546,
          547
         ],
         "xaxis": "x",
         "y": [
          34.36426116838488,
          37.41379310344828,
          38.63898500576701,
          39.98257839721254,
          40.91549295774648,
          42.5531914893617,
          42.29390681003584,
          43.52189781021898,
          43.995098039215684,
          44.20664206642066,
          44.73953013278856,
          45.05108556832694,
          44.58521870286576,
          46.797052154195015,
          47.46987951807229,
          46.97662601626016,
          47.693434220161095,
          46.76894467689446,
          47.412649270234404,
          47.30769230769231,
          47.660636306924516,
          47.50603378921963,
          46.909728992006244,
          46.94570135746606,
          46.95890410958904,
          46.492165242165235,
          46.26996664911357,
          46.30602240896358,
          46.86520376175549,
          46.99145299145299,
          47.133545044292156,
          47.07446808510638,
          47.2792440534376,
          47.44038155802861,
          47.04968944099379,
          47.43827160493827,
          47.57060431217735,
          47.64065335753176,
          47.518368571000146,
          47.125748502994014,
          47.66508030933968,
          47.57468204673173,
          47.33154442456768,
          47.4616292798111,
          47.97979797979798,
          48.06606437041219,
          47.84434490481524,
          48.28020134228188,
          48.179812465526744,
          48.26027397260274,
          48.12091503267973,
          48.25053418803419,
          47.59500398618124,
          47.84607302337799,
          48.136686009026434,
          48.11001042752868,
          48.41331269349845,
          48.46886258363356,
          48.30508474576271,
          48.40909090909091,
          48.40445501188837,
          48.17778872198966,
          47.753357753357754,
          47.7294921875,
          47.14718352513628,
          46.72727272727273,
          47.03899855560905,
          46.831659493065516,
          46.742076116413344,
          46.398559423769505,
          46.46703751923304,
          46.11581920903955,
          45.93684699326678,
          45.980302336234544,
          45.98870056497175,
          46.1306868867083,
          45.790416480071656,
          45.94385499557914,
          45.47055586130985,
          45.358695652173914,
          45.6140350877193,
          45.51775780915704,
          45.74048406013434,
          45.64896755162242,
          45.64075630252101,
          45.64215378168866,
          45.253299276287784,
          45.31518010291595,
          45.399618401526396,
          45.54497354497355,
          45.67836010143703,
          45.86323343182778,
          46.006890072032576,
          46.471455656203915,
          46.51578947368421,
          46.35416666666666,
          46.36051233989379,
          46.60894660894661,
          46.627895112743595,
          46.37755102040816,
          46.312386340674884,
          46.25850340136054,
          46.146844660194176,
          45.957402812241526,
          46.31469979296066,
          46.236669401148475,
          46.137071651090345,
          46.090534979423865,
          46.10601427115189,
          45.97107438016529,
          46.079033579033585,
          46.13095238095239,
          46.00752720984641,
          45.88626739261948,
          45.72713643178411,
          45.72008113590264,
          45.566882916280505,
          45.22912743251726,
          45.420168067226896,
          45.44303797468354,
          45.29762527461032,
          45.273578880136256,
          45.0849963045085,
          45.119396732299954,
          44.832,
          44.49880408784518,
          44.6122316902168,
          44.32508680555556,
          44.34754521963825,
          44.294871794871796,
          44.158184902459716,
          44.26557239057239,
          44.30795298104415,
          44.2190456169855,
          44.422973698336016,
          44.57587382779199,
          44.47187634177759,
          44.64633354964309,
          44.76538172447117,
          44.669509594882726,
          44.59616809569175,
          44.68152196762665,
          44.59868489719236,
          44.599917081260365,
          44.55995882655687,
          44.85263594852636,
          44.563055991627415,
          44.51013513513514,
          44.54032172152978,
          44.529100529100525,
          44.54956375486177,
          44.58020050125314,
          44.79717813051146,
          44.52241307080017,
          44.59016393442623,
          44.61958806221101,
          44.29936305732484,
          44.187763713080166,
          44.21383647798742,
          44.208333333333336,
          44.24430641821946,
          44.381669805398616,
          44.44213372153479,
          44.522529971062426,
          44.77405635300372,
          44.7645125958379,
          44.93195427327164,
          44.97835497835498,
          44.841312533620226,
          44.79144385026738,
          44.94260342213559,
          45.2281702501097,
          45.03112494441974,
          44.917737209826456,
          44.52571428571429,
          44.54545454545455,
          44.463276836158194,
          44.542536115569824,
          44.59012655341466,
          44.83796296296296,
          44.78591160220995,
          44.88324175824176,
          44.93397085610201,
          44.95018115942029,
          45.03737780333525,
          44.79897148200094,
          44.68728202743548,
          45.22543059777102,
          45.56716995741386,
          45.53273427471117,
          45.254396563297085,
          45.20566239316239,
          45.4595036814835,
          45.61855670103093,
          45.8029689608637,
          45.757250268528466,
          46.12429688571821,
          46.08244608244608,
          46.04969290898939,
          46.041666666666664,
          46.00608070757325,
          45.9983498349835,
          46.16467276565799,
          46.20448179271709,
          46.11846689895471,
          46.0748959778086,
          46.086956521739125,
          46.15384615384615,
          46.09706083390294,
          46.25850340136054,
          46.20176032498308,
          46.573251942286355,
          46.60314830157415,
          46.632765255634965,
          46.49794801641587,
          46.55501089324619,
          46.530224993223094,
          46.45537948290242,
          46.492320464923196,
          46.47382920110193,
          46.6487556561086,
          46.579391891891895,
          46.55269058295964,
          46.512276785714285,
          46.52777777777778,
          46.612278761061944,
          46.517070484581495,
          46.68311403508772,
          46.60207423580786,
          46.52173913043478,
          46.61796536796537,
          46.85344827586207,
          46.881258941344775,
          47.00854700854701,
          47.537993920972646,
          47.975517890772124,
          48.02312861384592,
          48.00809212573918,
          47.96218812955215,
          47.8858024691358,
          47.81005071461503,
          47.995102540557085,
          47.88904130467917,
          47.91803278688524,
          48.06530612244898,
          48.146341463414636,
          48.24291497975709,
          48.25806451612903,
          48.192771084337345,
          48.16,
          48.12749003984063,
          48.19047619047619,
          48.22134387351779,
          48.16272965879265,
          48.10457516339869,
          48.14453125,
          47.82608695652174,
          47.80923491742501,
          47.79251300990432,
          47.8428093645485,
          47.87606196901549,
          47.848716169326856,
          47.82232976149326,
          47.88223140495868,
          47.96046720575023,
          47.85177228786252,
          47.8330658105939,
          48.33955223880597,
          48.457249070631974,
          48.351851851851855,
          48.277982779827795,
          48.20261437908496,
          48.209198209198206,
          48.29683698296837,
          48.299465240641716,
          48.35890878090367,
          48.651518369080485,
          48.793906051629286,
          49.75358422939068,
          49.70982142857143,
          49.66637010676157,
          50.49645390070922,
          50.435806831566545,
          49.647887323943664,
          49.573934837092736,
          50.24206562668101,
          50.14741356204771,
          50.24038461538461,
          50.1441753171857,
          50.22988505747126,
          51.26522961574508,
          51.12079701120797,
          51.008377288240766,
          50.83487940630798,
          50.847457627118644,
          51.92567567567568,
          52.08754208754209,
          52.04697986577181,
          52.173913043478265,
          52.1,
          52.02657807308971,
          52.11920529801324,
          52.277227722772274,
          52.36842105263158,
          52.393442622950815,
          52.51633986928105,
          52.63843648208469,
          52.5,
          52.42718446601941,
          52.38709677419355,
          52.21864951768489,
          52.1474358974359,
          52.07667731629393,
          52.038216560509554,
          52,
          52.05696202531645,
          51.9242902208202,
          51.886792452830186,
          52.10031347962382,
          52.21875,
          52.05607476635514,
          52.11180124223603,
          52.136222910216716,
          52.03703703703703,
          52.15384615384615,
          52.30061349693251,
          52.26299694189603,
          52.103658536585364,
          52.24924012158054,
          52.3030303030303,
          52.2356495468278,
          52.13855421686746,
          52.04204204204204,
          51.97604790419162,
          51.940298507462686,
          51.96428571428571,
          51.958456973293764,
          51.92307692307693,
          51.85840707964602,
          52,
          52.023460410557185,
          52.10526315789474,
          52.76967930029154,
          52.810077519379846,
          52.72141706924316,
          52.34826589595376,
          52.34149855907781,
          53.20197044334975,
          53.29512893982808,
          53.265306122448976,
          53.15425315425316,
          53.04383116883117,
          53.05544314042897,
          53.06698950766747,
          52.95774647887323,
          52.96950240770466,
          53.261304521808725,
          53.232242617717475,
          53.24313569438918,
          53.492063492063494,
          53.46260387811634,
          53.51223362273087,
          53.48288075560803,
          53.610675039246466,
          53.50293542074364,
          53.43481654957065,
          53.40599455040872,
          53.454968944099384,
          53.387533875338754,
          53.32046332046332,
          53.330766268771654,
          53.3026113671275,
          53.27460743010341,
          53.20855614973262,
          54.13333333333333,
          54.12234042553192,
          53.97877984084881,
          54.76190476190476,
          54.881266490765164,
          54.89473684210526,
          54.85564304461942,
          54.869109947643985,
          54.83028720626631,
          54.89583333333333,
          54.9090909090909,
          54.92227979274611,
          54.935400516795866,
          54.948453608247426,
          55.012853470437015,
          54.97435897435897,
          55.089514066496164,
          54.94897959183673,
          54.961832061068705,
          54.8730964467005,
          54.835443037974684,
          54.949494949494955,
          55.062972292191446,
          54.92462311557789,
          55.08771929824561,
          55,
          55.062344139650875,
          55.27363184079602,
          55.13647642679901,
          55.24752475247525,
          55.25925925925926,
          55.17241379310345,
          55.03685503685504,
          55.09803921568628,
          53.9119804400978,
          51.869918699187,
          52.06812652068127,
          52.10355987055016,
          52.38095238095239,
          52.41545893719806,
          52.28915662650602,
          52.40384615384615,
          52.35811350919264,
          52.63157894736842,
          52.58552108194113,
          52.53968253968254,
          52.41488519398259,
          52.36966824644551,
          52.32466509062254,
          52.27987421383648,
          52.15686274509804,
          52.03442879499217,
          51.99063231850118,
          51.94704049844237,
          52.136752136752136,
          50.69767441860465,
          50.5800464037123,
          50.5787037037037,
          50.46189376443418,
          50.46082949308756,
          50.45977011494253,
          50.3440366972477,
          50.34324942791763,
          50.22831050228311,
          50.34168564920274,
          50.34090909090909,
          50.22675736961451,
          50.22624434389141,
          50.22573363431151,
          50.22522522522523,
          50.2247191011236,
          50.33632286995516,
          50.335570469798654,
          50.223214285714285,
          50.334075723830736,
          50.22222222222223,
          50.110864745011085,
          50.22123893805309,
          50.44150110375276,
          50.33039647577093,
          50.21978021978022,
          50.219298245614034,
          50.328227571115974,
          50.43668122270742,
          50.43572984749456,
          50.326086956521735,
          50.32537960954447,
          50.32467532467532,
          50.323974082073434,
          50.75431034482759,
          50.75268817204301,
          50.751072961373396,
          50.856531049250535,
          50.85470085470085,
          50.85287846481876,
          50.744680851063826,
          50.74309978768578,
          50.847457627118644,
          50.739957716701895,
          50.73839662447257,
          50.631578947368425,
          50.52521008403362,
          50.733752620545076,
          50.62761506276151,
          50.521920668058456,
          50.93749999999999,
          50.935550935550935,
          50.93360995850622,
          50.931677018633536,
          50.9297520661157,
          51.03092783505154,
          51.028806584362144,
          51.02669404517455,
          51.02459016393442,
          51.124744376278116,
          51.12244897959184,
          51.12016293279022,
          51.016260162601625,
          51.01419878296146,
          50.91093117408907,
          50.90909090909092,
          50.90725806451613,
          50.80482897384306,
          50.70281124497993,
          50.80160320641282,
          50.7,
          50.598802395209574,
          50.49800796812749,
          50.3976143141153,
          50.69444444444444,
          50.693069306930695,
          50.69169960474308,
          50.69033530571992,
          50.688976377952756,
          51.080550098231825,
          50.98039215686274,
          50.88062622309198,
          50.87890625,
          50.77972709551656,
          50.778210116731515,
          50.873786407766985,
          50.775193798449614,
          50.870406189555126,
          50.772200772200776,
          50.77071290944123,
          50.67307692307692,
          50.95969289827255,
          50.86206896551724,
          50.76481835564053,
          51.145038167938935,
          51.04761904761905,
          51.33079847908745,
          51.32827324478178,
          51.32575757575758,
          52.74102079395085,
          53.0188679245283,
          52.91902071563088,
          52.819548872180455,
          52.908067542213885,
          52.80898876404494,
          52.89719626168225,
          52.98507462686567,
          53.63128491620112,
          53.90334572490706,
          53.98886827458256,
          53.888888888888886,
          53.789279112754166,
          53.874538745387454,
          53.77532228360957,
          53.67647058823529,
          53.76146788990825,
          53.84615384615385,
          53.74771480804388
         ],
         "yaxis": "y"
        },
        {
         "hovertemplate": "batsman=CA Pujara<br>increasing_delivery=%{x}<br>run_rate=%{y}<extra></extra>",
         "legendgroup": "CA Pujara",
         "line": {
          "color": "#EF553B",
          "dash": "solid"
         },
         "marker": {
          "symbol": "circle"
         },
         "mode": "lines",
         "name": "CA Pujara",
         "showlegend": true,
         "type": "scattergl",
         "x": [
          1,
          2,
          3,
          4,
          5,
          6,
          7,
          8,
          9,
          10,
          11,
          12,
          13,
          14,
          15,
          16,
          17,
          18,
          19,
          20,
          21,
          22,
          23,
          24,
          25,
          26,
          27,
          28,
          29,
          30,
          31,
          32,
          33,
          34,
          35,
          36,
          37,
          38,
          39,
          40,
          41,
          42,
          43,
          44,
          45,
          46,
          47,
          48,
          49,
          50,
          51,
          52,
          53,
          54,
          55,
          56,
          57,
          58,
          59,
          60,
          61,
          62,
          63,
          64,
          65,
          66,
          67,
          68,
          69,
          70,
          71,
          72,
          73,
          74,
          75,
          76,
          77,
          78,
          79,
          80,
          81,
          82,
          83,
          84,
          85,
          86,
          87,
          88,
          89,
          90,
          91,
          92,
          93,
          94,
          95,
          96,
          97,
          98,
          99,
          100,
          101,
          102,
          103,
          104,
          105,
          106,
          107,
          108,
          109,
          110,
          111,
          112,
          113,
          114,
          115,
          116,
          117,
          118,
          119,
          120,
          121,
          122,
          123,
          124,
          125,
          126,
          127,
          128,
          129,
          130,
          131,
          132,
          133,
          134,
          135,
          136,
          137,
          138,
          139,
          140,
          141,
          142,
          143,
          144,
          145,
          146,
          147,
          148,
          149,
          150,
          151,
          152,
          153,
          154,
          155,
          156,
          157,
          158,
          159,
          160,
          161,
          162,
          163,
          164,
          165,
          166,
          167,
          168,
          169,
          170,
          171,
          172,
          173,
          174,
          175,
          176,
          177,
          178,
          179,
          180,
          181,
          182,
          183,
          184,
          185,
          186,
          187,
          188,
          189,
          190,
          191,
          192,
          193,
          194,
          195,
          196,
          197,
          198,
          199,
          200,
          201,
          202,
          203,
          204,
          205,
          206,
          207,
          208,
          209,
          210,
          211,
          212,
          213,
          214,
          215,
          216,
          217,
          218,
          219,
          220,
          221,
          222,
          223,
          224,
          225,
          226,
          227,
          228,
          229,
          230,
          231,
          232,
          233,
          234,
          235,
          236,
          237,
          238,
          239,
          240,
          241,
          242,
          243,
          244,
          245,
          246,
          247,
          248,
          249,
          250,
          251,
          252,
          253,
          254,
          255,
          256,
          257,
          258,
          259,
          260,
          261,
          262,
          263,
          264,
          265,
          266,
          267,
          268,
          269,
          270,
          271,
          272,
          273,
          274,
          275,
          276,
          277,
          278,
          279,
          280,
          281,
          282,
          283,
          284,
          285,
          286,
          287,
          288,
          289,
          290,
          291,
          292,
          293,
          294,
          295,
          296,
          297,
          298,
          299,
          300,
          301,
          302,
          303,
          304,
          305,
          306,
          307,
          308,
          309,
          310,
          311,
          312,
          313,
          314,
          315,
          316,
          317,
          318,
          319,
          320,
          321,
          322,
          323,
          324,
          325,
          326,
          327,
          328,
          329,
          330,
          331,
          332,
          333,
          334,
          335,
          336,
          337,
          338,
          339,
          340,
          341,
          342,
          343,
          344,
          345,
          346,
          347,
          348,
          349,
          350,
          351,
          352,
          353,
          354,
          355,
          356,
          357,
          358,
          359,
          360,
          361,
          362,
          363,
          364,
          365,
          366,
          367,
          368,
          369,
          370,
          371,
          372,
          373,
          374,
          375,
          376,
          377,
          378,
          379,
          380,
          381,
          382,
          383,
          384,
          385,
          386,
          387,
          388,
          389,
          390,
          391,
          392,
          393,
          394,
          395,
          396,
          397,
          398,
          399,
          400,
          401,
          402,
          403,
          404,
          405,
          406,
          407,
          408,
          409,
          410,
          411,
          412,
          413,
          414,
          415,
          416,
          417,
          418,
          419,
          420,
          421,
          422,
          423,
          424,
          425,
          426,
          427,
          428,
          429,
          430,
          431,
          432,
          433,
          434,
          435,
          436,
          437,
          438,
          439,
          440,
          441,
          442,
          443,
          444,
          445,
          446,
          447,
          448,
          449,
          450,
          451,
          452,
          453,
          454,
          455,
          456,
          457,
          458,
          459,
          460,
          461,
          462,
          463,
          464,
          465,
          466,
          467,
          468,
          469,
          470,
          471,
          472,
          473,
          474,
          475,
          476,
          477,
          478,
          479,
          480,
          481,
          482,
          483,
          484,
          485,
          486,
          487,
          488,
          489,
          490,
          491,
          492,
          493,
          494,
          495,
          496,
          497,
          498,
          499,
          500,
          501,
          502,
          503,
          504,
          505,
          506,
          507,
          508,
          509,
          510,
          511,
          512,
          513,
          514,
          515,
          516,
          517,
          518,
          519,
          520,
          521,
          522,
          523,
          524,
          525
         ],
         "xaxis": "x",
         "y": [
          30.864197530864196,
          38.75,
          37.76371308016877,
          35.32258064516129,
          34.60526315789474,
          33.66890380313199,
          35.08260447035957,
          35.53082191780822,
          35.78544061302682,
          36.08391608391609,
          37.57151938970121,
          38.47517730496454,
          39.98908892525914,
          39.958592132505174,
          41.1764705882353,
          40.30330882352941,
          39.651416122004356,
          39.640768588137014,
          40.36406806489909,
          39.58015267175573,
          40.02181025081788,
          40.978487161693266,
          40.5685618729097,
          40.94488188976378,
          41.088,
          40.963101938711695,
          41.282746160794936,
          41.14401858304297,
          41.15503223997758,
          40.81967213114754,
          41.036488630354306,
          41.25,
          40.85858585858586,
          41.17647058823529,
          41.724137931034484,
          41.64251207729468,
          41.401578569720165,
          41.47086466165414,
          41.44907080686897,
          41.898148148148145,
          41.91508581752484,
          41.83355585224744,
          41.882404563405004,
          41.861471861471856,
          41.82010582010582,
          41.874208526804566,
          41.99545548440405,
          42.13643790849674,
          42.27116589209941,
          42.01980198019802,
          41.770647653000594,
          41.145833333333336,
          40.74668807707748,
          40.601354042214254,
          40.8102766798419,
          40.683229813664596,
          40.90389016018307,
          40.64842578710645,
          40.0231124807396,
          40.421455938697314,
          40.38062935745242,
          40.063032999629215,
          40.04743659916074,
          39.97844827586207,
          40.4343891402715,
          40.588235294117645,
          40.503731343283576,
          40.50632911392405,
          40.74481746468538,
          40.8058608058608,
          41.104521868050405,
          41.03703703703704,
          40.772450532724505,
          40.91591591591592,
          40.95774647887324,
          40.84507042253521,
          40.37105751391466,
          40.37532515793386,
          40.37791230966795,
          40.625,
          41.0171365395246,
          40.7717510010921,
          41.292442497261774,
          41.501831501831504,
          41.68325791855204,
          41.48479427549195,
          41.41522988505747,
          41.68470418470418,
          41.86299383834722,
          42.00364298724954,
          41.11721611721612,
          41.15942028985508,
          40.971449758991476,
          40.66815976110489,
          41.05263157894736,
          41.294642857142854,
          41.40279823269514,
          41.42857142857142,
          41.71343060231949,
          41.7037037037037,
          41.73360732299645,
          41.753171856978085,
          42.07119741100324,
          42.38461538461538,
          42.12765957446808,
          42.10418375717801,
          41.995123933360425,
          41.928341384863124,
          42.079510703363916,
          41.77685950413223,
          41.85094185094185,
          41.923701298701296,
          41.757563284626464,
          41.778865769073846,
          41.658240647118305,
          41.57979149959904,
          41.7213277678394,
          42.16618437370814,
          42.20127075220332,
          42.235772357723576,
          42.350332594235034,
          42.46301479408237,
          42.37557009716439,
          42.191188040912664,
          42.165853658536584,
          42.082849399922566,
          42.05876704436336,
          41.8359375,
          41.74418604651163,
          41.80769230769231,
          41.456253669994126,
          41.60839160839161,
          41.41274238227147,
          41.57501963864886,
          41.40350877192982,
          41.13672496025437,
          41.112645492207534,
          41.186839012925965,
          41.259965000972194,
          41.640926640926644,
          41.88337273443656,
          41.84272300469483,
          41.64724164724165,
          41.40873015873016,
          41.55665024630542,
          41.83953033268102,
          41.80758017492711,
          42.06563706563706,
          41.808132649032764,
          41.25252525252525,
          41.380694360826816,
          41.735197368421055,
          41.49272612270715,
          41.38528138528138,
          41.677419354838705,
          41.666666666666664,
          41.740976645435246,
          41.835443037974684,
          41.84486373165618,
          42.327586206896555,
          42.9902395740905,
          42.98941798941799,
          43.03242769500439,
          42.96602787456446,
          42.81385281385281,
          43.1368330464716,
          42.98545765611634,
          42.129629629629626,
          42.20907297830375,
          42.52723311546841,
          42.646740307559014,
          42.61412575366063,
          42.66752301434382,
          42.76287782034909,
          42.79365079365079,
          42.84511784511784,
          43.37244676227727,
          43.30337078651685,
          43.21787709497207,
          44.074074074074076,
          44.17587476979742,
          44.13919413919414,
          44.10291438979963,
          44.15760869565218,
          44.234234234234236,
          44.28763440860215,
          44.20677361853833,
          44.104609929078016,
          44.24603174603175,
          44.385964912280706,
          44.43432733894833,
          44.36141304347826,
          44.31178193286776,
          44.24025100851636,
          44.25863991081383,
          44.65394853593612,
          44.5376296623262,
          44.53227931488801,
          44.832859951933585,
          44.82608695652174,
          44.884274280770065,
          44.76969436074042,
          44.956093381880486,
          44.906223358908775,
          45.01742160278746,
          45.07628294036061,
          45.893719806763286,
          46.047008547008545,
          46.80551646495919,
          46.66666666666667,
          46.668525229997215,
          48.08372641509434,
          47.975352112676056,
          47.92640186915887,
          47.877906976744185,
          47.77199074074074,
          47.66705069124424,
          47.84977064220183,
          47.85958904109589,
          48.24242424242424,
          48.50678733031675,
          48.52852852852853,
          48.91095451633568,
          49.07525510204082,
          49.11111111111111,
          49.115044247787615,
          49.244808055380744,
          49.248120300751886,
          49.34497816593886,
          49.56521739130435,
          49.81447124304267,
          49.75369458128079,
          49.059095411026746,
          48.94806048652203,
          49.03436988543372,
          48.95697522816167,
          48.88023369036027,
          48.86877828054298,
          48.95397489539749,
          49.13461538461539,
          49.186083625917654,
          49.141767323585505,
          49.256093700538145,
          49.306431273644385,
          49.38775510204081,
          49.499687304565356,
          49.46018893387315,
          49.428763440860216,
          49.29718875502008,
          49.4,
          49.43559096945551,
          49.53703703703704,
          49.37417654808959,
          49.24540682414698,
          49.248366013071895,
          49.348958333333336,
          49.31906614785992,
          49.35400516795866,
          49.32432432432432,
          49.455128205128204,
          49.181469871125046,
          49.23664122137404,
          49.08399585205669,
          48.96694214876033,
          49.262435677530014,
          49.14559125085441,
          49.06367041198502,
          48.2089552238806,
          48.10408921933086,
          48.18518518518518,
          48.08118081180812,
          48.125,
          48.13186813186813,
          47.12084347120843,
          46.94949494949495,
          47.02093397745571,
          46.851183313277176,
          46.882494004796165,
          46.95340501792115,
          47.182539682539684,
          47.014630288651645,
          47.084318360914104,
          46.996466431095406,
          46.948356807511736,
          46.861598440545805,
          46.96969696969697,
          46.99961285327139,
          46.952160493827165,
          46.98193002691273,
          46.85823754789272,
          46.773577701412755,
          46.84170471841705,
          46.33105802047782,
          46.51360544217687,
          46.39830508474576,
          46.4527027027027,
          46.54882154882155,
          46.602348993288594,
          46.65551839464883,
          46.70833333333333,
          46.71926910299003,
          46.647350993377486,
          46.6996699669967,
          46.71052631578947,
          46.557377049180324,
          46.568627450980394,
          46.66123778501629,
          46.672077922077925,
          45.954692556634306,
          45.806451612903224,
          45.79696830500689,
          45.69597069597069,
          45.59561843906892,
          45.58689717925387,
          45.442176870748305,
          45.61482820976492,
          45.5610635421361,
          45.46271338724169,
          45.49932825794895,
          45.49107142857143,
          47.455867082035304,
          47.360248447204974,
          47.31682146542827,
          47.22222222222223,
          47.38461538461539,
          47.392638036809814,
          47.349643221202854,
          47.459349593495936,
          47.41641337386019,
          47.323232323232325,
          47.2809667673716,
          47.33935742971888,
          47.2972972972973,
          47.20558882235529,
          47.06467661691542,
          47.02380952380952,
          46.933728981206734,
          47.14003944773176,
          47.00098328416913,
          47.107843137254896,
          47.06744868035191,
          44.50292397660819,
          44.373177842565596,
          44.418604651162795,
          44.46376811594203,
          44.39306358381502,
          44.26512968299712,
          44.195402298850574,
          44.183381088825215,
          44.17142857142857,
          45.86894586894587,
          45.80965909090909,
          45.8215297450425,
          45.90395480225989,
          46.05633802816901,
          46.067415730337075,
          46.07843137254902,
          46.36871508379888,
          46.239554317548745,
          46.18055555555556,
          46.32963988919668,
          46.33977900552486,
          46.34986225895317,
          48.53479853479854,
          48.67579908675799,
          48.54280510018216,
          48.41053587647593,
          48.46014492753623,
          48.32881662149955,
          48.19819819819819,
          48.33782569631626,
          48.2078853046595,
          48.078641644325295,
          46.25668449197861,
          46.13333333333333,
          46.27659574468085,
          46.286472148541115,
          46.296296296296305,
          46.174142480211074,
          46.05263157894737,
          46.06299212598425,
          45.94240837696336,
          46.08355091383812,
          45.963541666666664,
          45.84415584415585,
          45.725388601036265,
          45.736434108527135,
          45.618556701030926,
          45.62982005141389,
          38.20512820512821,
          38.36317135549872,
          38.265306122448976,
          38.16793893129771,
          38.07106598984771,
          37.9746835443038,
          37.87878787878788,
          38.0352644836272,
          38.19095477386934,
          38.095238095238095,
          38.25,
          38.15461346633416,
          38.059701492537314,
          37.96526054590571,
          38.366336633663366,
          38.2716049382716,
          38.17733990147783,
          38.08353808353808,
          37.99019607843137,
          37.89731051344744,
          38.04878048780488,
          38.19951338199513,
          38.10679611650485,
          38.01452784503632,
          37.92270531400966,
          37.83132530120482,
          37.74038461538461,
          37.88968824940048,
          38.03827751196173,
          38.18615751789976,
          38.333333333333336,
          38.242280285035626,
          38.15165876777251,
          38.061465721040186,
          37.971698113207545,
          37.88235294117647,
          38.0281690140845,
          37.93911007025761,
          37.85046728971962,
          37.76223776223776,
          37.67441860465116,
          37.58700696055685,
          37.73148148148148,
          37.644341801385686,
          37.78801843317972,
          37.93103448275862,
          37.84403669724771,
          37.75743707093822,
          37.67123287671233,
          38.496583143507976,
          38.40909090909091,
          38.32199546485261,
          38.23529411764706,
          38.1489841986456,
          38.288288288288285,
          38.20224719101123,
          38.11659192825112,
          38.25503355704698,
          38.16964285714285,
          38.084632516703785,
          38.22222222222222,
          38.35920177383592,
          38.27433628318584,
          38.18984547461369,
          38.1057268722467,
          38.02197802197802,
          37.93859649122807,
          37.85557986870897,
          37.99126637554585,
          37.908496732026144,
          38.04347826086957,
          37.96095444685466,
          37.87878787878788,
          38.01295896328294,
          37.93103448275862,
          37.8494623655914,
          37.98283261802575,
          37.901498929336185,
          38.67521367521368,
          38.59275053304904,
          38.51063829787234,
          38.42887473460722,
          38.34745762711864,
          38.47780126849894,
          38.39662447257383,
          38.315789473684205,
          38.23529411764706,
          38.15513626834382,
          38.07531380753138,
          37.995824634655534,
          37.91666666666666,
          37.83783783783784,
          37.96680497925311,
          37.88819875776397,
          37.8099173553719,
          37.7319587628866,
          37.65432098765432,
          37.782340862423,
          37.90983606557377,
          37.83231083844581,
          37.755102040816325,
          37.67820773930753,
          37.60162601626016,
          37.52535496957404,
          37.449392712550605,
          37.57575757575757,
          37.5,
          37.62575452716298,
          37.75100401606426,
          37.675350701402806,
          37.6,
          37.72455089820359,
          37.84860557768924,
          37.77335984095427,
          37.698412698412696,
          37.62376237623762,
          37.54940711462451,
          37.47534516765286,
          37.40157480314961,
          37.32809430255403,
          37.45098039215687,
          37.37769080234833,
          37.3046875,
          38.01169590643275,
          37.93774319066148,
          38.05825242718446,
          38.17829457364341,
          38.297872340425535,
          38.41698841698842,
          38.34296724470135,
          38.26923076923077,
          38.38771593090211,
          38.31417624521073,
          38.24091778202677,
          38.54961832061068,
          38.47619047619048
         ],
         "yaxis": "y"
        },
        {
         "hovertemplate": "batsman=DP Sibley<br>increasing_delivery=%{x}<br>run_rate=%{y}<extra></extra>",
         "legendgroup": "DP Sibley",
         "line": {
          "color": "#00cc96",
          "dash": "solid"
         },
         "marker": {
          "symbol": "circle"
         },
         "mode": "lines",
         "name": "DP Sibley",
         "showlegend": true,
         "type": "scattergl",
         "x": [
          1,
          2,
          3,
          4,
          5,
          6,
          7,
          8,
          9,
          10,
          11,
          12,
          13,
          14,
          15,
          16,
          17,
          18,
          19,
          20,
          21,
          22,
          23,
          24,
          25,
          26,
          27,
          28,
          29,
          30,
          31,
          32,
          33,
          34,
          35,
          36,
          37,
          38,
          39,
          40,
          41,
          42,
          43,
          44,
          45,
          46,
          47,
          48,
          49,
          50,
          51,
          52,
          53,
          54,
          55,
          56,
          57,
          58,
          59,
          60,
          61,
          62,
          63,
          64,
          65,
          66,
          67,
          68,
          69,
          70,
          71,
          72,
          73,
          74,
          75,
          76,
          77,
          78,
          79,
          80,
          81,
          82,
          83,
          84,
          85,
          86,
          87,
          88,
          89,
          90,
          91,
          92,
          93,
          94,
          95,
          96,
          97,
          98,
          99,
          100,
          101,
          102,
          103,
          104,
          105,
          106,
          107,
          108,
          109,
          110,
          111,
          112,
          113,
          114,
          115,
          116,
          117,
          118,
          119,
          120,
          121,
          122,
          123,
          124,
          125,
          126,
          127,
          128,
          129,
          130,
          131,
          132,
          133,
          134,
          135,
          136,
          137,
          138,
          139,
          140,
          141,
          142,
          143,
          144,
          145,
          146,
          147,
          148,
          149,
          150,
          151,
          152,
          153,
          154,
          155,
          156,
          157,
          158,
          159,
          160,
          161,
          162,
          163,
          164,
          165,
          166,
          167,
          168,
          169,
          170,
          171,
          172,
          173,
          174,
          175,
          176,
          177,
          178,
          179,
          180,
          181,
          182,
          183,
          184,
          185,
          186,
          187,
          188,
          189,
          190,
          191,
          192,
          193,
          194,
          195,
          196,
          197,
          198,
          199,
          200,
          201,
          202,
          203,
          204,
          205,
          206,
          207,
          208,
          209,
          210,
          211,
          212,
          213,
          214,
          215,
          216,
          217,
          218,
          219,
          220,
          221,
          222,
          223,
          224,
          225,
          226,
          227,
          228,
          229,
          230,
          231,
          232,
          233,
          234,
          235,
          236,
          237,
          238,
          239,
          240,
          241,
          242,
          243,
          244,
          245,
          246,
          247,
          248,
          249,
          250,
          251,
          252,
          253,
          254,
          255,
          256,
          257,
          258,
          259,
          260,
          261,
          262,
          263,
          264,
          265,
          266,
          267,
          268,
          269,
          270,
          271,
          272,
          273,
          274,
          275,
          276,
          277,
          278,
          279,
          280,
          281,
          282,
          283,
          284,
          285,
          286,
          287,
          288,
          289,
          290,
          291,
          292,
          293,
          294,
          295,
          296,
          297,
          298,
          299,
          300,
          301,
          302,
          303,
          304,
          305,
          306,
          307,
          308,
          309,
          310,
          311,
          312,
          313,
          314,
          315,
          316,
          317,
          318,
          319,
          320,
          321,
          322,
          323,
          324,
          325,
          326,
          327,
          328,
          329,
          330,
          331,
          332,
          333,
          334,
          335,
          336,
          337,
          338,
          339,
          340,
          341,
          342,
          343,
          344,
          345,
          346,
          347,
          348,
          349,
          350,
          351,
          352,
          353,
          354,
          355,
          356,
          357,
          358,
          359,
          360,
          361,
          362,
          363,
          364,
          365,
          366,
          367,
          368,
          369,
          370,
          371,
          372,
          373,
          374
         ],
         "xaxis": "x",
         "y": [
          20.512820512820515,
          24.358974358974358,
          20.51282051282051,
          21.794871794871796,
          24.864864864864863,
          26.190476190476186,
          27.755102040816325,
          30.681818181818183,
          26.881720430107524,
          26.129032258064516,
          26.68621700879765,
          26.881720430107524,
          28.974358974358974,
          28.333333333333332,
          29.047619047619047,
          29.62962962962963,
          29.193899782135077,
          28.806584362139915,
          28.265107212475634,
          28.51851851851852,
          28.57142857142857,
          28,
          28.17391304347826,
          28,
          28.48,
          28.321678321678323,
          28.787878787878785,
          28.08441558441558,
          28.52664576802508,
          28.484848484848484,
          28.592375366568913,
          28.40909090909091,
          28.37465564738292,
          28.609625668449198,
          28.44155844155844,
          28.661616161616163,
          29.115479115479115,
          28.696741854636592,
          28.083028083028083,
          28.214285714285715,
          28.9198606271777,
          30.045351473922903,
          30.121816168327797,
          30.41125541125541,
          32,
          32.391304347826086,
          32.4468085106383,
          31.688596491228072,
          31.149301825993557,
          30.842105263157894,
          30.856553147574825,
          30.465587044534413,
          30.983118172790466,
          31.28654970760234,
          31.770334928229666,
          31.954887218045112,
          31.578947368421048,
          31.397459165154267,
          31.57894736842105,
          31.403508771929822,
          32.01035375323554,
          32.34295415959253,
          32.716049382716044,
          32.35294117647059,
          32.76018099547511,
          32.44206773618538,
          32.4846356453029,
          32.78546712802768,
          33.07757885763001,
          33.529411764705884,
          34.683098591549296,
          34.635416666666664,
          34.58904109589041,
          34.96621621621622,
          35,
          34.86842105263158,
          33.76623376623377,
          33.58974358974359,
          33.755274261603375,
          33.666666666666664,
          33.49794238683128,
          33.333333333333336,
          33.4136546184739,
          33.492063492063494,
          33.88235294117647,
          33.30564784053156,
          32.92282430213465,
          33.116883116883116,
          33.22632423756019,
          33.25396825396825,
          32.967032967032964,
          32.69230769230769,
          33.49875930521092,
          33.46972176759411,
          32.36842105263158,
          32.10227272727273,
          31.340206185567013,
          31.428571428571427,
          31.111111111111107,
          31.5,
          31.287128712871286,
          31.862745098039216,
          31.74757281553398,
          31.44230769230769,
          32,
          32.16981132075472,
          32.429906542056074,
          31.378600823045264,
          31.090723751274215,
          30.90909090909091,
          30.63063063063063,
          30.65476190476191,
          30.87512291052114,
          30.896686159844055,
          31.086956521739133,
          31.142241379310345,
          31.08974358974359,
          30.826271186440678,
          30.567226890756302,
          30.3125,
          30.475206611570247,
          30.225409836065573,
          30.08130081300813,
          30.443548387096776,
          30.7,
          30.753968253968253,
          31.200787401574804,
          31.34765625,
          31.104651162790695,
          30.961538461538463,
          31.01145038167939,
          30.87121212121212,
          29.10848549946294,
          29.31769722814499,
          30.740740740740744,
          31.250000000000004,
          31.143552311435524,
          30.917874396135264,
          31.05515587529976,
          31.666666666666668,
          31.796690307328603,
          32.04225352112676,
          32.05128205128205,
          31.944444444444446,
          30.620689655172413,
          31.506849315068497,
          31.836734693877553,
          31.621621621621625,
          32.080536912751676,
          32,
          32.31788079470199,
          32.10526315789474,
          32.02614379084967,
          31.81818181818182,
          32,
          31.923076923076923,
          31.847133757961785,
          32.15189873417721,
          32.20125786163522,
          32.25,
          32.422360248447205,
          32.22222222222222,
          32.26993865030675,
          32.31707317073171,
          32.57575757575758,
          32.53012048192771,
          32.93413173652694,
          32.73809523809524,
          32.544378698224854,
          32.35294117647059,
          32.16374269005848,
          32.122093023255815,
          31.9364161849711,
          32.47126436781609,
          32.42857142857143,
          32.24431818181818,
          32.20338983050848,
          32.58426966292135,
          32.68156424581006,
          32.63888888888889,
          32.4585635359116,
          32.28021978021978,
          32.10382513661202,
          31.92934782608696,
          31.75675675675676,
          31.85483870967742,
          32.35294117647059,
          32.31382978723404,
          32.27513227513227,
          32.23684210526316,
          32.068062827225134,
          31.901041666666668,
          32.25388601036269,
          32.08762886597938,
          32.05128205128205,
          31.887755102040813,
          31.725888324873097,
          31.691919191919194,
          31.532663316582916,
          31.5,
          31.716417910447763,
          31.93069306930693,
          31.773399014778327,
          31.740196078431374,
          31.829268292682926,
          31.79611650485437,
          31.884057971014492,
          33.01282051282051,
          32.854864433811805,
          32.6984126984127,
          33.175355450236964,
          33.64779874213837,
          33.64632237871675,
          33.48909657320872,
          33.333333333333336,
          33.179012345679006,
          33.17972350230415,
          33.027522935779814,
          33.637747336377466,
          33.63636363636363,
          33.484162895927604,
          33.333333333333336,
          33.63228699551569,
          33.482142857142854,
          33.333333333333336,
          33.18584070796461,
          33.333333333333336,
          33.187134502923975,
          33.18777292576419,
          33.188405797101446,
          33.04473304473304,
          33.47701149425287,
          33.333333333333336,
          33.33333333333333,
          33.19148936170213,
          33.898305084745765,
          33.75527426160338,
          33.613445378151255,
          33.47280334728034,
          33.47222222222222,
          33.333333333333336,
          33.7465564738292,
          33.60768175582991,
          33.46994535519126,
          33.333333333333336,
          33.19783197831978,
          33.063427800269906,
          33.333333333333336,
          33.86880856760374,
          34,
          33.864541832669325,
          33.86243386243387,
          33.72859025032938,
          33.85826771653543,
          33.8562091503268,
          33.723958333333336,
          34.11154345006485,
          33.979328165374675,
          34.105534105534105,
          34.102564102564095,
          33.971902937420175,
          33.96946564885496,
          33.840304182509506,
          33.71212121212121,
          33.58490566037736,
          33.95989974937344,
          33.83270911360799,
          33.70646766169154,
          34.07682775712516,
          33.95061728395061,
          33.82533825338253,
          33.70098039215686,
          33.6996336996337,
          33.69829683698297,
          33.57575757575757,
          33.69565217391304,
          33.57400722021661,
          33.69304556354916,
          33.69175627240144,
          33.69047619047619,
          33.68920521945433,
          33.687943262411345,
          33.6866902237927,
          33.56807511737089,
          33.45029239766082,
          34.032634032634036,
          35.71428571428571,
          36.28472222222222,
          36.15916955017301,
          36.03448275862069,
          35.91065292096219,
          35.78767123287671,
          35.665529010238906,
          36.224489795918366,
          36.101694915254235,
          35.979729729729726,
          36.195286195286194,
          36.744966442953015,
          36.95652173913044,
          36.833333333333336,
          36.7109634551495,
          36.754966887417226,
          36.633663366336634,
          36.51315789473684,
          36.39344262295082,
          36.60130718954248,
          36.48208469055375,
          36.52597402597402,
          37.055016181229774,
          37.096774193548384,
          36.97749196141479,
          37.01923076923076,
          31.309904153354637,
          32.1656050955414,
          32.06349206349206,
          31.96202531645569,
          31.861198738170348,
          31.76100628930817,
          31.661442006269592,
          31.5625,
          31.464174454828655,
          31.366459627329192,
          31.26934984520124,
          31.17283950617284,
          31.692307692307693,
          31.59509202453988,
          32.11009174311927,
          32.01219512195122,
          31.91489361702128,
          32.121212121212125,
          32.02416918429003,
          31.92771084337349,
          32.732732732732735,
          32.63473053892216,
          32.537313432835816,
          32.44047619047619,
          32.93768545994065,
          32.84023668639053,
          32.743362831858406,
          33.82352941176471,
          33.724340175953074,
          33.62573099415205,
          33.52769679300292,
          33.43023255813954,
          33.6231884057971,
          33.52601156069364,
          33.429394812680115,
          33.62068965517241,
          33.5243553008596,
          33.42857142857143,
          33.33333333333333,
          33.23863636363637,
          33.14447592067989,
          33.05084745762712,
          32.95774647887324,
          32.86516853932584,
          32.77310924369748,
          32.68156424581006,
          32.590529247910865,
          32.77777777777778,
          32.686980609418285,
          32.59668508287293,
          33.057851239669425,
          32.967032967032964,
          32.87671232876712,
          32.78688524590164,
          32.69754768392371,
          32.608695652173914,
          32.52032520325203,
          32.432432432432435,
          32.34501347708895,
          32.25806451612903,
          32.171581769437,
          32.0855614973262
         ],
         "yaxis": "y"
        },
        {
         "hovertemplate": "batsman=IR Bell<br>increasing_delivery=%{x}<br>run_rate=%{y}<extra></extra>",
         "legendgroup": "IR Bell",
         "line": {
          "color": "#ab63fa",
          "dash": "solid"
         },
         "marker": {
          "symbol": "circle"
         },
         "mode": "lines",
         "name": "IR Bell",
         "showlegend": true,
         "type": "scattergl",
         "x": [
          1,
          2,
          3,
          4,
          5,
          6,
          7,
          8,
          9,
          10,
          11,
          12,
          13,
          14,
          15,
          16,
          17,
          18,
          19,
          20,
          21,
          22,
          23,
          24,
          25,
          26,
          27,
          28,
          29,
          30,
          31,
          32,
          33,
          34,
          35,
          36,
          37,
          38,
          39,
          40,
          41,
          42,
          43,
          44,
          45,
          46,
          47,
          48,
          49,
          50,
          51,
          52,
          53,
          54,
          55,
          56,
          57,
          58,
          59,
          60,
          61,
          62,
          63,
          64,
          65,
          66,
          67,
          68,
          69,
          70,
          71,
          72,
          73,
          74,
          75,
          76,
          77,
          78,
          79,
          80,
          81,
          82,
          83,
          84,
          85,
          86,
          87,
          88,
          89,
          90,
          91,
          92,
          93,
          94,
          95,
          96,
          97,
          98,
          99,
          100,
          101,
          102,
          103,
          104,
          105,
          106,
          107,
          108,
          109,
          110,
          111,
          112,
          113,
          114,
          115,
          116,
          117,
          118,
          119,
          120,
          121,
          122,
          123,
          124,
          125,
          126,
          127,
          128,
          129,
          130,
          131,
          132,
          133,
          134,
          135,
          136,
          137,
          138,
          139,
          140,
          141,
          142,
          143,
          144,
          145,
          146,
          147,
          148,
          149,
          150,
          151,
          152,
          153,
          154,
          155,
          156,
          157,
          158,
          159,
          160,
          161,
          162,
          163,
          164,
          165,
          166,
          167,
          168,
          169,
          170,
          171,
          172,
          173,
          174,
          175,
          176,
          177,
          178,
          179,
          180,
          181,
          182,
          183,
          184,
          185,
          186,
          187,
          188,
          189,
          190,
          191,
          192,
          193,
          194,
          195,
          196,
          197,
          198,
          199,
          200,
          201,
          202,
          203,
          204,
          205,
          206,
          207,
          208,
          209,
          210,
          211,
          212,
          213,
          214,
          215,
          216,
          217,
          218,
          219,
          220,
          221,
          222,
          223,
          224,
          225,
          226,
          227,
          228,
          229,
          230,
          231,
          232,
          233,
          234,
          235,
          236,
          237,
          238,
          239,
          240,
          241,
          242,
          243,
          244,
          245,
          246,
          247,
          248,
          249,
          250,
          251,
          252,
          253,
          254,
          255,
          256,
          257,
          258,
          259,
          260,
          261,
          262,
          263,
          264,
          265,
          266,
          267,
          268,
          269,
          270,
          271,
          272,
          273,
          274,
          275,
          276,
          277,
          278,
          279,
          280,
          281,
          282,
          283,
          284,
          285,
          286,
          287,
          288,
          289,
          290,
          291,
          292,
          293,
          294,
          295,
          296,
          297,
          298,
          299,
          300,
          301,
          302,
          303,
          304,
          305,
          306,
          307,
          308,
          309,
          310,
          311,
          312,
          313,
          314,
          315,
          316,
          317,
          318,
          319,
          320,
          321,
          322,
          323,
          324,
          325,
          326,
          327,
          328,
          329,
          330,
          331,
          332,
          333,
          334,
          335,
          336,
          337,
          338,
          339,
          340,
          341,
          342,
          343,
          344,
          345,
          346,
          347,
          348,
          349,
          350,
          351,
          352,
          353,
          354,
          355,
          356,
          357,
          358,
          359,
          360,
          361,
          362,
          363,
          364,
          365,
          366
         ],
         "xaxis": "x",
         "y": [
          33.68421052631579,
          40.106951871657756,
          37.70491803278688,
          41.340782122905026,
          45.87570621468927,
          45.88122605363984,
          47.81512605042017,
          46.10778443113772,
          46.205962059620596,
          45.74074074074074,
          45.96912521440823,
          47.50530785562633,
          48.83374689826303,
          49.34640522875817,
          49.42982456140351,
          49.083333333333336,
          48.97959183673469,
          48.6013986013986,
          48.288553551711445,
          47.92857142857143,
          47.38095238095238,
          46.56638325703074,
          46.81789540012602,
          46.94444444444444,
          46.74626865671642,
          46.469575200918484,
          46.922862712336396,
          46.40151515151515,
          46.82539682539682,
          47.2,
          47.85827604442095,
          48.002049180327866,
          48.15927873779113,
          48.21078431372549,
          48.93462469733656,
          49.22705314009662,
          49.024676850763804,
          48.778195488721806,
          49.137529137529135,
          49.09090909090909,
          49.228015215931975,
          49.08767245215843,
          48.85957066189624,
          47.504456327985736,
          47.712418300653596,
          47.890658631080505,
          47.91489361702128,
          47.77083333333333,
          47.816326530612244,
          47.64,
          47.73222420281243,
          47.97676282051282,
          47.77908805031447,
          47.91423001949318,
          47.75628626692456,
          47.31182795698925,
          47.50487329434698,
          47.41379310344828,
          47.3433631689202,
          48.00766283524904,
          48.11284788410217,
          47.893738140417454,
          48.204837490551775,
          47.42093373493976,
          47.67354596622889,
          47.671840354767184,
          47.706589006188565,
          47.67610748002905,
          47.608695652173914,
          47.71428571428571,
          48.104008667388946,
          48.71933621933622,
          49.098774333093004,
          49.34258582907231,
          49.49549549549549,
          49.09877433309301,
          48.73737373737374,
          48.75356125356125,
          48.903547869495455,
          49.24295774647887,
          49.034950443401144,
          49.05923344947735,
          48.75152785053256,
          48.91456582633053,
          49.341527655838455,
          49.44463727872267,
          49.65168930686172,
          49.3006993006993,
          49.54521134296415,
          49.64726631393298,
          49.0362096919474,
          48.822463768115945,
          48.3688718789867,
          48.20249449743214,
          48.384754990925586,
          48.32974137931034,
          48.09811589050835,
          47.54008746355685,
          47.76859504132232,
          48.24074074074074,
          48.203153648698205,
          48.42047930283224,
          48.34591873426825,
          47.92899408284024,
          47.78388278388278,
          47.68775434702183,
          47.00934579439252,
          47.22222222222223,
          46.788990825688074,
          46.79924242424243,
          46.95945945945946,
          46.707589285714285,
          46.39427603087931,
          46.32325494587533,
          46.27197039777983,
          46.19565217391305,
          46.228167967298404,
          46.46278555637436,
          46.34636463280964,
          46.52173913043478,
          46.65828242903341,
          46.79258731290093,
          47.30229120473023,
          47.104105571847505,
          47.09090909090909,
          46.78848283499446,
          46.78630287493133,
          46.67514534883721,
          46.691905534523165,
          46.8515205724508,
          46.837513631406765,
          46.78932178932179,
          46.88506981740064,
          46.943852167732764,
          47.351851851851855,
          47.463235294117645,
          47.46350364963504,
          47.08237986270023,
          46.28297362110312,
          46.54761904761905,
          46.57210401891253,
          46.576682316118934,
          46.54234654234654,
          46.92460317460317,
          47.11330049261084,
          47.37769080234833,
          47.482993197278915,
          47.54826254826255,
          47.57204895380971,
          47.8235294117647,
          47.83794312426958,
          48.165869218500795,
          48.088730441671615,
          47.992916174734354,
          47.983870967741936,
          48.09695512820513,
          48.14888535031847,
          48.46876276031033,
          49.664570230607964,
          49.116379310344826,
          49.303919468837016,
          49.36067019400353,
          49.342681858019276,
          49.346689895470384,
          50.02331002331002,
          50.18535681186283,
          50.43758636573008,
          49.66666666666667,
          47.65779092702169,
          47.28900255754476,
          46.438064859117496,
          46.723044397463006,
          46.66316342616921,
          46.682340647857885,
          46.80519480519481,
          46.875,
          46.866974833076526,
          46.75689479060266,
          46.97816150330117,
          47.09595959595959,
          47.46358613761929,
          47.55244755244755,
          47.51614505712866,
          47.80138339920949,
          47.98525798525798,
          47.898338220918866,
          48.055420515313564,
          47.92069632495165,
          47.907647907647906,
          47.89473684210527,
          47.31987035651957,
          47.22222222222222,
          47.05156674068591,
          47.02994599901816,
          47.00854700854701,
          47.11734693877551,
          47.28426395939086,
          47.0959595959596,
          47.03517587939699,
          47.175,
          47.08955223880597,
          47.81136008337676,
          47.99066632097485,
          47.961816305469554,
          47.93324775353017,
          47.80275932549821,
          47.23564143853999,
          45.5316742081448,
          45.426400225161835,
          46.101190476190474,
          45.624012638230646,
          45.5188679245283,
          45.33869885982562,
          45.39385847797063,
          46.04651162790697,
          46.01139601139601,
          46.26019142148174,
          46.18913196894849,
          46.22409553916403,
          46.53846153846154,
          46.46710755308041,
          48.348348348348345,
          48.355754857997006,
          48.251488095238095,
          48.25925925925926,
          48.15634218289085,
          48.458149779735685,
          48.42836257309941,
          47.32036522429535,
          47.4703557312253,
          47.540338449429356,
          47.72727272727273,
          47.75653531018338,
          47.43589743589744,
          47.27659574468085,
          47.5,
          47.426160337552744,
          47.64705882352941,
          47.57322175732217,
          47.5,
          47.67634854771784,
          47.93388429752066,
          47.86008230452675,
          47.90983606557377,
          48,
          48.21138211382114,
          48.05668016194332,
          47.983870967741936,
          48.0722891566265,
          48.32,
          48.286852589641434,
          48.45238095238095,
          48.41897233201581,
          48.582677165354326,
          48.470588235294116,
          48.28125,
          45.8171206225681,
          44.57364341085271,
          44.67733039161611,
          44.72527472527473,
          44.60864805692392,
          44.92911668484187,
          45.08419337316676,
          43.686868686868685,
          43.58490566037736,
          43.54636591478697,
          43.445692883895134,
          43.88059701492537,
          44.014869888475836,
          44,
          43.837638376383765,
          48.161764705882355,
          48.35164835164835,
          50.24330900243309,
          50.18181818181819,
          50.12077294685991,
          49.93983152827918,
          50,
          49.940262843488654,
          50.11904761904762,
          50.65243179122183,
          51.182033096926716,
          51.3545347467609,
          51.29107981220657,
          51.345029239766085,
          51.39860139860141,
          51.45180023228804,
          51.504629629629626,
          51.32641291810842,
          51.37931034482759,
          51.43184421534937,
          51.36986301369863,
          51.53583617747441,
          51.36054421768707,
          51.29943502824858,
          51.23873873873873,
          51.290684624017956,
          51.67785234899329,
          51.95094760312153,
          51.77777777777778,
          52.048726467331115,
          51.87637969094923,
          52.14521452145215,
          52.19298245614035,
          52.1311475409836,
          51.96078431372549,
          58.79478827361564,
          59.41558441558441,
          59.385113268608414,
          59.516129032258064,
          59.64630225080386,
          59.455128205128204,
          59.42492012779553,
          59.23566878980891,
          59.36507936507937,
          59.335443037974684,
          59.305993690851736,
          59.74842767295597,
          59.561128526645774,
          59.375,
          59.190031152647975,
          59.006211180124225,
          58.82352941176471,
          59.10493827160494,
          59.53846153846154,
          59.50920245398773,
          59.48012232415903,
          59.756097560975604,
          59.878419452887535,
          60,
          59.818731117824775,
          59.638554216867476,
          60.06006006006006,
          60.029940119760475,
          60.59701492537314,
          60.41666666666667,
          60.53412462908011,
          63.01775147928994,
          62.83185840707964,
          63.23529411764706,
          63.34310850439883,
          63.74269005847953,
          63.55685131195335,
          63.66279069767442,
          63.76811594202898,
          64.16184971098265,
          63.97694524495677,
          64.08045977011494,
          64.18338108882521,
          64.28571428571429,
          64.1025641025641,
          63.92045454545454,
          63.73937677053825,
          63.559322033898304,
          63.66197183098592,
          63.76404494382022,
          63.86554621848739,
          63.68715083798882,
          63.50974930362116,
          63.33333333333333,
          64.26592797783933,
          64.3646408839779,
          64.18732782369146,
          64.56043956043956,
          64.38356164383562,
          64.20765027322405
         ],
         "yaxis": "y"
        },
        {
         "hovertemplate": "batsman=JE Root<br>increasing_delivery=%{x}<br>run_rate=%{y}<extra></extra>",
         "legendgroup": "JE Root",
         "line": {
          "color": "#FFA15A",
          "dash": "solid"
         },
         "marker": {
          "symbol": "circle"
         },
         "mode": "lines",
         "name": "JE Root",
         "showlegend": true,
         "type": "scattergl",
         "x": [
          1,
          2,
          3,
          4,
          5,
          6,
          7,
          8,
          9,
          10,
          11,
          12,
          13,
          14,
          15,
          16,
          17,
          18,
          19,
          20,
          21,
          22,
          23,
          24,
          25,
          26,
          27,
          28,
          29,
          30,
          31,
          32,
          33,
          34,
          35,
          36,
          37,
          38,
          39,
          40,
          41,
          42,
          43,
          44,
          45,
          46,
          47,
          48,
          49,
          50,
          51,
          52,
          53,
          54,
          55,
          56,
          57,
          58,
          59,
          60,
          61,
          62,
          63,
          64,
          65,
          66,
          67,
          68,
          69,
          70,
          71,
          72,
          73,
          74,
          75,
          76,
          77,
          78,
          79,
          80,
          81,
          82,
          83,
          84,
          85,
          86,
          87,
          88,
          89,
          90,
          91,
          92,
          93,
          94,
          95,
          96,
          97,
          98,
          99,
          100,
          101,
          102,
          103,
          104,
          105,
          106,
          107,
          108,
          109,
          110,
          111,
          112,
          113,
          114,
          115,
          116,
          117,
          118,
          119,
          120,
          121,
          122,
          123,
          124,
          125,
          126,
          127,
          128,
          129,
          130,
          131,
          132,
          133,
          134,
          135,
          136,
          137,
          138,
          139,
          140,
          141,
          142,
          143,
          144,
          145,
          146,
          147,
          148,
          149,
          150,
          151,
          152,
          153,
          154,
          155,
          156,
          157,
          158,
          159,
          160,
          161,
          162,
          163,
          164,
          165,
          166,
          167,
          168,
          169,
          170,
          171,
          172,
          173,
          174,
          175,
          176,
          177,
          178,
          179,
          180,
          181,
          182,
          183,
          184,
          185,
          186,
          187,
          188,
          189,
          190,
          191,
          192,
          193,
          194,
          195,
          196,
          197,
          198,
          199,
          200,
          201,
          202,
          203,
          204,
          205,
          206,
          207,
          208,
          209,
          210,
          211,
          212,
          213,
          214,
          215,
          216,
          217,
          218,
          219,
          220,
          221,
          222,
          223,
          224,
          225,
          226,
          227,
          228,
          229,
          230,
          231,
          232,
          233,
          234,
          235,
          236,
          237,
          238,
          239,
          240,
          241,
          242,
          243,
          244,
          245,
          246,
          247,
          248,
          249,
          250,
          251,
          252,
          253,
          254,
          255,
          256,
          257,
          258,
          259,
          260,
          261,
          262,
          263,
          264,
          265,
          266,
          267,
          268,
          269,
          270,
          271,
          272,
          273,
          274,
          275,
          276,
          277,
          278,
          279,
          280,
          281,
          282,
          283,
          284,
          285,
          286,
          287,
          288,
          289,
          290,
          291,
          292,
          293,
          294,
          295,
          296,
          297,
          298,
          299,
          300,
          301,
          302,
          303,
          304,
          305,
          306,
          307,
          308,
          309,
          310,
          311,
          312,
          313,
          314,
          315,
          316,
          317,
          318,
          319,
          320,
          321,
          322,
          323,
          324,
          325,
          326,
          327,
          328,
          329,
          330,
          331,
          332,
          333,
          334,
          335,
          336,
          337,
          338,
          339,
          340,
          341,
          342,
          343,
          344,
          345,
          346,
          347,
          348,
          349,
          350,
          351,
          352,
          353,
          354,
          355,
          356,
          357,
          358,
          359,
          360,
          361,
          362,
          363,
          364,
          365,
          366,
          367,
          368,
          369,
          370,
          371,
          372,
          373,
          374,
          375,
          376,
          377,
          378,
          379,
          380,
          381,
          382,
          383,
          384,
          385,
          386,
          387,
          388,
          389,
          390,
          391,
          392,
          393,
          394,
          395,
          396,
          397,
          398,
          399,
          400,
          401,
          402,
          403,
          404,
          405,
          406,
          407,
          408,
          409,
          410,
          411,
          412,
          413,
          414,
          415,
          416,
          417,
          418,
          419,
          420,
          421,
          422,
          423,
          424,
          425,
          426,
          427,
          428,
          429,
          430,
          431,
          432,
          433,
          434,
          435,
          436,
          437,
          438,
          439,
          440,
          441,
          442
         ],
         "xaxis": "x",
         "y": [
          37.15596330275229,
          34.02777777777778,
          36.49289099526066,
          40.19138755980861,
          42.89855072463768,
          45.261437908496724,
          45.61527581329561,
          45.431472081218274,
          48.956570783981945,
          49.635416666666664,
          49.569377990430624,
          49.86772486772487,
          49.44467297408474,
          48.35164835164835,
          48.51224105461393,
          49.36079545454545,
          48.58012170385395,
          48.96640826873385,
          49.09202831640505,
          50.14792899408284,
          50.303030303030305,
          50.33057851239669,
          50.295222758990874,
          50.31055900621118,
          50.0125786163522,
          50.171484566389026,
          50.21367521367521,
          50.046082949308754,
          49.988876529477196,
          49.51434878587196,
          49.90257631521975,
          49.851190476190474,
          49.73876698014629,
          49.63235294117647,
          49.30555555555556,
          49.09377462568952,
          49.54954954954955,
          49.37523665278304,
          49.34513927319683,
          49.650735294117645,
          49.629629629629626,
          49.23021840315074,
          49.44920440636475,
          49.52153110047847,
          49.66329966329966,
          49.419183538001995,
          48.93617021276596,
          48.85170603674541,
          48.08875931324911,
          47.622950819672134,
          47.87581699346405,
          47.85067873303168,
          48.12919731371922,
          48.448876226654,
          48.82445141065831,
          48.94409937888199,
          48.632843369685474,
          49.21775223499362,
          49.64359258672581,
          49.74603174603174,
          49.84237074401009,
          50.203570310053244,
          50.43920480813685,
          50.09282178217822,
          50.054390054390055,
          50.52035506580962,
          50.55027890848786,
          50.61524609843937,
          50.82815734989648,
          50.75801749271137,
          51.00603621730382,
          51.04524627720504,
          51.04542177361211,
          50.73317998849914,
          51.02127659574468,
          51.147816349384094,
          50.69124423963133,
          50.48773690078038,
          50.47989984698845,
          50.33045977011494,
          50.703416594889454,
          50.69483834373228,
          50.97532989099254,
          50.96371882086167,
          51.02763997165131,
          51.233692569483836,
          51.55385270327799,
          51.5993265993266,
          51.68539325842696,
          52.03938115330521,
          52.1978021978022,
          52.29933110367893,
          52.71610110319788,
          52.63885051119094,
          52.686980609418285,
          52.50822368421053,
          52.274914089347085,
          52.59863945578231,
          52.580600525806005,
          52.708333333333336,
          52.65401540154015,
          52.62358464512566,
          52.552011095700415,
          52.51373626373626,
          52.71221532091098,
          52.72080940661745,
          52.8587135788895,
          53.27529021558872,
          53.33803810868031,
          53.84943181818182,
          53.8429054054054,
          53.794642857142854,
          53.74350330102543,
          53.954558527466205,
          54.21739130434783,
          54.281609195402304,
          54.17934231493554,
          54.1367423154266,
          54.20880216493377,
          54.1812865497076,
          54.01953418482344,
          54.172876304023845,
          54.44143330322192,
          54.473524041387705,
          54.646153846153844,
          54.77716727716727,
          54.76983646274985,
          54.65745192307692,
          54.5827633378933,
          54.91365777080063,
          55.00856831282132,
          55.224116161616166,
          55.278822055137844,
          55.36678310574786,
          55.10466988727858,
          55.21099744245525,
          55.28403681370994,
          55.32451165721487,
          55.4426024397873,
          54.756493506493506,
          54.90006447453256,
          55.0637156270959,
          54.86952072317926,
          54.67013888888889,
          54.60654288240495,
          54.618897084650506,
          53.998896856039714,
          53.92622352081811,
          53.90894249954653,
          53.927927927927925,
          53.892965813495614,
          54.12517780938833,
          54.33668963080728,
          54.492804492804495,
          54.71665213600697,
          54.799029799029796,
          54.86553432413305,
          54.69409282700422,
          54.73445143256464,
          54.91319444444444,
          54.9344375431332,
          54.74426807760141,
          54.74145486415425,
          54.68641114982578,
          54.884135472370765,
          53.40069957248348,
          52.69461077844311,
          52.976190476190474,
          53.40784571553803,
          53.74727668845316,
          53.306342780026995,
          53.674418604651166,
          53.13102119460501,
          53.35249042145594,
          53.333333333333336,
          53.290719696969695,
          53.389830508474574,
          53.677221654749744,
          53.63128491620112,
          54.285714285714285,
          53.784530386740336,
          53.708791208791204,
          53.715846994535525,
          53.586956521739125,
          54.45234708392603,
          54.69722693831353,
          54.62989023360541,
          54.64725643896977,
          54.72013366750208,
          53.68421052631579,
          53.06436710809978,
          53.61519607843137,
          53.520268210911304,
          53.75985445724682,
          53.60482654600302,
          54.08163265306123,
          53.99746192893401,
          54.16666666666667,
          54.1143216080402,
          53.96875,
          53.917910447761194,
          54.084158415841586,
          54.0948275862069,
          54.07475490196079,
          54.02439024390244,
          55.201109570041616,
          55.24499654934437,
          55.357142857142854,
          55.26315789473684,
          55.34013605442177,
          55.382532159783345,
          55.59299191374663,
          55.60026827632462,
          55.640854472630174,
          55.81395348837209,
          55.78703703703703,
          55.72745227123107,
          55.57011795543906,
          55.64253098499673,
          55.74675324675325,
          55.88235294117647,
          55.85585585585586,
          55.82959641255605,
          55.80357142857143,
          55.74603174603175,
          55.815423514538566,
          56.18434429007117,
          56.20782726045884,
          56.26469600268727,
          56.6798418972332,
          56.63124754033845,
          56.70062695924765,
          56.691377292235664,
          56.64335664335665,
          54.127659574468076,
          54.06779661016949,
          53.924050632911396,
          53.865546218487395,
          54.05857740585774,
          53.95833333333333,
          53.77593360995851,
          53.7603305785124,
          53.580246913580254,
          53.44262295081967,
          53.469387755102034,
          53.4959349593496,
          53.56275303643724,
          53.34677419354839,
          53.53413654618473,
          53.48,
          53.386454183266935,
          53.45238095238095,
          53.2806324110672,
          53.22834645669292,
          53.09803921568628,
          53.0859375,
          53.30739299610896,
          53.33333333333333,
          53.28185328185329,
          53.46153846153847,
          53.60153256704981,
          53.54961832061069,
          53.68821292775665,
          53.56060606060606,
          53.660377358490564,
          53.796992481203006,
          53.78277153558052,
          53.69402985074627,
          53.680297397769515,
          53.70370370370371,
          53.690036900369,
          53.786764705882355,
          53.992673992673986,
          54.01459854014598,
          53.92727272727272,
          53.8768115942029,
          54.007220216606505,
          53.884892086330936,
          53.83512544802867,
          53.857142857142854,
          54.056939501779354,
          54.18439716312057,
          54.34628975265018,
          54.40140845070423,
          54.3859649122807,
          54.51048951048951,
          54.66898954703832,
          54.86111111111111,
          54.94809688581315,
          54.862068965517246,
          54.91408934707904,
          55.06849315068492,
          55.22184300341297,
          55.17006802721088,
          55.08474576271186,
          55.20270270270271,
          55.85484474373363,
          55.85384041759881,
          54.347826086956516,
          54.29166666666667,
          54.40199335548173,
          54.47019867549669,
          54.537953795379536,
          54.64638157894737,
          54.67213114754098,
          54.575163398692816,
          54.682410423452765,
          54.66720779220779,
          54.61165048543689,
          53.87096774193548,
          54.01929260450161,
          54.029304029304036,
          54.26745778183477,
          54.41310282074613,
          54.64852607709751,
          54.56600361663653,
          55.5205047318612,
          55.45073375262054,
          55.538140020898645,
          55.46875,
          55.45171339563863,
          51.31987577639752,
          51.47058823529412,
          51.388888888888886,
          51.61538461538461,
          51.61042944785276,
          51.52905198776759,
          51.676829268292686,
          51.67173252279635,
          52.121212121212125,
          52.26586102719033,
          52.786144578313255,
          52.77777777777778,
          52.8443113772455,
          52.83582089552239,
          52.82738095238095,
          52.89317507418398,
          52.81065088757397,
          52.60570304818092,
          52.54901960784314,
          52.98142717497556,
          53.31384015594542,
          53.35276967930029,
          53.39147286821705,
          53.42995169082125,
          53.275529865125236,
          53.314121037463984,
          53.256704980842905,
          53.19961795606495,
          53.14285714285714,
          53.27635327635327,
          53.31439393939394,
          53.25779036827195,
          53.20150659133711,
          53.145539906103295,
          53.27715355805244,
          53.12791783380019,
          53.7243947858473,
          53.57474466109563,
          53.51851851851851,
          53.64727608494922,
          53.86740331491712,
          53.81083562901745,
          53.75457875457875,
          53.881278538812786,
          53.82513661202186,
          53.76930063578565,
          53.71376811594203,
          53.839205058717255,
          53.96396396396397,
          53.908355795148246,
          53.76344086021505,
          53.61930294906167,
          53.5650623885918,
          53.6,
          53.63475177304965,
          53.669319186560564,
          51.455026455026456,
          51.58311345646439,
          51.44736842105263,
          51.44356955380577,
          51.439790575916234,
          51.43603133159269,
          51.43229166666667,
          51.42857142857142,
          51.554404145077726,
          51.93798449612403,
          52.061855670103085,
          52.18508997429306,
          52.30769230769231,
          52.30179028132993,
          52.29591836734694,
          52.162849872773535,
          52.15736040609137,
          52.40506329113924,
          52.398989898989896,
          52.26700251889169,
          52.38693467336684,
          53.00751879699248,
          53.375,
          53.740648379052374,
          53.85572139303483,
          54.09429280397023,
          54.7029702970297,
          54.938271604938265,
          54.926108374384235,
          54.791154791154796,
          55.024509803921575,
          55.37897310513448,
          55.24390243902438,
          48.41849148418492,
          48.54368932038835,
          48.91041162227603,
          48.792270531400966,
          48.67469879518072,
          48.55769230769231,
          48.6810551558753,
          48.5645933014354,
          48.44868735083532,
          49.76190476190476,
          49.6437054631829,
          49.763033175355446,
          49.881796690307326,
          49.764150943396224,
          49.64705882352941,
          49.76525821596244,
          50.11709601873536,
          50,
          50.11655011655012,
          50,
          49.88399071925754,
          50,
          50.34642032332564,
          50.23041474654379,
          50.57471264367817,
          50.68807339449541,
          51.02974828375287,
          50.91324200913242,
          51.025056947608206,
          51.36363636363637,
          51.24716553287983,
          51.13122171945701
         ],
         "yaxis": "y"
        },
        {
         "hovertemplate": "batsman=KP Pietersen<br>increasing_delivery=%{x}<br>run_rate=%{y}<extra></extra>",
         "legendgroup": "KP Pietersen",
         "line": {
          "color": "#19d3f3",
          "dash": "solid"
         },
         "marker": {
          "symbol": "circle"
         },
         "mode": "lines",
         "name": "KP Pietersen",
         "showlegend": true,
         "type": "scattergl",
         "x": [
          1,
          2,
          3,
          4,
          5,
          6,
          7,
          8,
          9,
          10,
          11,
          12,
          13,
          14,
          15,
          16,
          17,
          18,
          19,
          20,
          21,
          22,
          23,
          24,
          25,
          26,
          27,
          28,
          29,
          30,
          31,
          32,
          33,
          34,
          35,
          36,
          37,
          38,
          39,
          40,
          41,
          42,
          43,
          44,
          45,
          46,
          47,
          48,
          49,
          50,
          51,
          52,
          53,
          54,
          55,
          56,
          57,
          58,
          59,
          60,
          61,
          62,
          63,
          64,
          65,
          66,
          67,
          68,
          69,
          70,
          71,
          72,
          73,
          74,
          75,
          76,
          77,
          78,
          79,
          80,
          81,
          82,
          83,
          84,
          85,
          86,
          87,
          88,
          89,
          90,
          91,
          92,
          93,
          94,
          95,
          96,
          97,
          98,
          99,
          100,
          101,
          102,
          103,
          104,
          105,
          106,
          107,
          108,
          109,
          110,
          111,
          112,
          113,
          114,
          115,
          116,
          117,
          118,
          119,
          120,
          121,
          122,
          123,
          124,
          125,
          126,
          127,
          128,
          129,
          130,
          131,
          132,
          133,
          134,
          135,
          136,
          137,
          138,
          139,
          140,
          141,
          142,
          143,
          144,
          145,
          146,
          147,
          148,
          149,
          150,
          151,
          152,
          153,
          154,
          155,
          156,
          157,
          158,
          159,
          160,
          161,
          162,
          163,
          164,
          165,
          166,
          167,
          168,
          169,
          170,
          171,
          172,
          173,
          174,
          175,
          176,
          177,
          178,
          179,
          180,
          181,
          182,
          183,
          184,
          185,
          186,
          187,
          188,
          189,
          190,
          191,
          192,
          193,
          194,
          195,
          196,
          197,
          198,
          199,
          200,
          201,
          202,
          203,
          204,
          205,
          206,
          207,
          208,
          209,
          210,
          211,
          212,
          213,
          214,
          215,
          216,
          217,
          218,
          219,
          220,
          221,
          222,
          223,
          224,
          225,
          226,
          227,
          228,
          229,
          230,
          231,
          232,
          233,
          234,
          235,
          236,
          237,
          238,
          239,
          240,
          241,
          242,
          243,
          244,
          245,
          246,
          247,
          248,
          249,
          250,
          251,
          252,
          253,
          254,
          255,
          256,
          257,
          258,
          259,
          260,
          261,
          262,
          263,
          264,
          265,
          266,
          267,
          268,
          269,
          270,
          271,
          272,
          273,
          274,
          275,
          276,
          277,
          278,
          279,
          280,
          281,
          282,
          283,
          284,
          285,
          286,
          287,
          288,
          289,
          290,
          291,
          292,
          293,
          294,
          295,
          296,
          297,
          298,
          299,
          300,
          301,
          302,
          303,
          304,
          305,
          306,
          307,
          308,
          309,
          310,
          311,
          312,
          313,
          314,
          315,
          316,
          317,
          318,
          319,
          320,
          321,
          322,
          323,
          324,
          325,
          326,
          327
         ],
         "xaxis": "x",
         "y": [
          35.92814371257485,
          42.02453987730061,
          44.444444444444436,
          48.899371069182386,
          50.88607594936709,
          51.31578947368421,
          52.60170293282876,
          51.416666666666664,
          51.264367816091955,
          52.5,
          53.18181818181818,
          53.3816425120773,
          53.17237507018529,
          52.96296296296296,
          52.93532338308457,
          53.1484962406015,
          52.71665918275707,
          52.30034722222222,
          52.63157894736842,
          52.65873015873016,
          52.22978080120937,
          52.4,
          52.951572993990816,
          52.65151515151515,
          52.53781512605042,
          52.281616688396355,
          52.96934865900383,
          53.16770186335403,
          52.17785843920145,
          51.951951951951955,
          52.85587451908849,
          52.5462962962963,
          52.525252525252526,
          53.193277310924366,
          53.523809523809526,
          53.26321467098166,
          53.45053791655734,
          53.50025549310168,
          53.51612084285352,
          53.93939393939394,
          54.07735895540774,
          54.30495430495431,
          54.53003875968992,
          54.87689393939394,
          55.00597371565114,
          54.80172001911132,
          54.099928281137935,
          54.61142322097378,
          55.12497133684934,
          55.41573033707865,
          55.39215686274509,
          55.79133510167993,
          55.548068283917345,
          55.781391147244804,
          56.23059866962306,
          55.77601410934744,
          56.118691791206416,
          55.592396109637484,
          55.822143957737175,
          56.11842105263158,
          56.29853321829163,
          56.218166383701195,
          56.35978835978836,
          56.375,
          56.43076923076923,
          56.142506142506136,
          56.19201290843082,
          56.26510878323932,
          56.50161030595813,
          56.785714285714285,
          57.35294117647059,
          56.96486928104576,
          57.01047542304593,
          56.837434449374754,
          56.97512437810945,
          57.12882953652789,
          57.35607675906183,
          57.847707847707845,
          57.75316455696203,
          57.39754098360656,
          57.983539094650205,
          57.11037618850765,
          57.021188201080186,
          56.95812807881773,
          57.399380804953566,
          57.142857142857146,
          57.019704433497544,
          57.70661157024794,
          57.87538304392237,
          57.94238683127572,
          58.1588223097657,
          58.28547990155866,
          58.145668492594844,
          57.160392798690665,
          57.46963562753036,
          57.39182692307692,
          58.15645845967252,
          57.98319327731093,
          57.97187561893444,
          58.06,
          58.19357445948677,
          58.45588235294118,
          58.596278317152105,
          58.493589743589745,
          58.63095238095238,
          58.97230028101164,
          59.284843559528646,
          59.48067632850242,
          59.75535168195719,
          59.83838383838384,
          60.790335790335796,
          60.97808441558441,
          60.773821774027574,
          60.709914320685435,
          60.724637681159415,
          60.386879730866276,
          60.57692307692308,
          60.34332898739678,
          60.54729584141349,
          60.811965811965806,
          60.961287516311444,
          60.76358930112165,
          60.61189559264013,
          60.483870967741936,
          60.84444444444445,
          60.802469135802475,
          60.870516185476816,
          60.85069444444444,
          61.00344530577089,
          61.13247863247864,
          61.00508905852418,
          61.709956709956714,
          62.38390092879256,
          63.048394391677974,
          63.00785634118967,
          63.005514705882355,
          62.91058394160584,
          62.14975845410628,
          61.20246659815005,
          61.30102040816327,
          61.19554204660587,
          61.684924360980695,
          61.64206164206165,
          62.04594017094017,
          62.20159151193634,
          62.24973656480506,
          62.29722658294087,
          62.78378378378378,
          62.899328859060404,
          62.82666666666667,
          64.15202994529226,
          65.40071770334929,
          65.47831253713606,
          65.4663518299882,
          65.77712609970673,
          66.36141636141636,
          66.57567485592963,
          65.44303797468355,
          65.44025157232704,
          65.59375,
          65.87119973847662,
          66.94101508916324,
          66.76891615541922,
          66.70054200542005,
          66.80134680134681,
          65.3082919914954,
          65.65692145121523,
          65.72128851540617,
          65.64566655064392,
          64.88970588235294,
          64.8391812865497,
          64.75290697674419,
          65.81888246628131,
          65.59386973180077,
          65.86666666666666,
          65.68181818181819,
          65.53672316384181,
          65.50561797752809,
          65.54934823091247,
          65.37037037037037,
          65.23020257826887,
          65.05494505494507,
          65.13661202185793,
          63.703416149068325,
          63.62934362934363,
          63.70967741935484,
          63.52177234530176,
          63.48784194528876,
          65.32356532356532,
          65.22267206477733,
          64.96173983084978,
          64.86378205128204,
          64.8864089278597,
          64.82950039651071,
          64.7731755424063,
          64.71742543171115,
          64.85747754783289,
          64.72416472416472,
          64.74681097796676,
          64.6923076923077,
          65.097588978186,
          65.38461538461539,
          64.86042692939245,
          64.86928104575163,
          64.95934959349593,
          64.64401294498381,
          64.20289855072464,
          64.23076923076923,
          64.16267942583733,
          64.55026455026456,
          64.66561348077936,
          64.67505241090147,
          64.99739175795514,
          65.10903426791278,
          65.5232558139535,
          65.01322751322752,
          65.10862409479921,
          64.80996068152032,
          64.90541422048271,
          64.93506493506493,
          64.83516483516483,
          64.8005148005148,
          65.02242152466367,
          67.48511904761905,
          67.4074074074074,
          67.62536873156343,
          67.69456681350955,
          67.76315789473684,
          67.61280931586609,
          68.18840579710145,
          68.3982683982684,
          68.60632183908046,
          68.59799713876967,
          67.17948717948718,
          63.829787234042556,
          63.771186440677965,
          63.71308016877637,
          63.445378151260506,
          63.38912133891213,
          63.85416666666667,
          63.796680497925315,
          64.04958677685951,
          63.9917695473251,
          64.03688524590164,
          64.08163265306122,
          63.82113821138211,
          64.47368421052632,
          64.71774193548387,
          64.75903614457832,
          64.9,
          65.13944223107569,
          65.07936507936508,
          65.21739130434783,
          65.74803149606299,
          65.88235294117648,
          65.91796875,
          66.24513618677042,
          66.18217054263566,
          66.21621621621622,
          68.07692307692308,
          67.81609195402298,
          68.32061068702289,
          68.69455006337135,
          69.06565656565657,
          68.93081761006289,
          60.71428571428571,
          61.235955056179776,
          61.007462686567166,
          60.7806691449814,
          60.55555555555555,
          60.33210332103321,
          60.294117647058826,
          60.25641025641026,
          60.03649635036496,
          59.81818181818181,
          59.78260869565217,
          60.46931407942238,
          60.25179856115108,
          60.21505376344086,
          60,
          59.7864768683274,
          59.57446808510638,
          59.71731448763251,
          60.03521126760563,
          59.99999999999999,
          59.96503496503497,
          59.75609756097562,
          59.89583333333333,
          59.688581314878896,
          59.6551724137931,
          59.62199312714777,
          59.41780821917808,
          59.21501706484642,
          59.183673469387756,
          59.66101694915254,
          60.13513513513513,
          60.26936026936027,
          60.23489932885906,
          60.20066889632107,
          60.66666666666667,
          60.797342192691026,
          61.258278145695364,
          61.88118811881188,
          62.006578947368425,
          61.9672131147541,
          61.76470588235294,
          61.56351791530945,
          61.52597402597402,
          62.13592233009709,
          62.096774193548384,
          52.09003215434084,
          52.56410256410257,
          53.6741214057508,
          53.82165605095541,
          54.920634920634924,
          55.06329113924051,
          55.20504731861199,
          55.66037735849056,
          56.112852664576806,
          57.1875,
          57.00934579439252,
          57.453416149068325,
          57.585139318885446,
          58.64197530864198,
          60.30769230769231,
          60.73619631901841,
          61.7737003058104
         ],
         "yaxis": "y"
        },
        {
         "hovertemplate": "batsman=R Dravid<br>increasing_delivery=%{x}<br>run_rate=%{y}<extra></extra>",
         "legendgroup": "R Dravid",
         "line": {
          "color": "#FF6692",
          "dash": "solid"
         },
         "marker": {
          "symbol": "circle"
         },
         "mode": "lines",
         "name": "R Dravid",
         "showlegend": true,
         "type": "scattergl",
         "x": [
          1,
          2,
          3,
          4,
          5,
          6,
          7,
          8,
          9,
          10,
          11,
          12,
          13,
          14,
          15,
          16,
          17,
          18,
          19,
          20,
          21,
          22,
          23,
          24,
          25,
          26,
          27,
          28,
          29,
          30,
          31,
          32,
          33,
          34,
          35,
          36,
          37,
          38,
          39,
          40,
          41,
          42,
          43,
          44,
          45,
          46,
          47,
          48,
          49,
          50,
          51,
          52,
          53,
          54,
          55,
          56,
          57,
          58,
          59,
          60,
          61,
          62,
          63,
          64,
          65,
          66,
          67,
          68,
          69,
          70,
          71,
          72,
          73,
          74,
          75,
          76,
          77,
          78,
          79,
          80,
          81,
          82,
          83,
          84,
          85,
          86,
          87,
          88,
          89,
          90,
          91,
          92,
          93,
          94,
          95,
          96,
          97,
          98,
          99,
          100,
          101,
          102,
          103,
          104,
          105,
          106,
          107,
          108,
          109,
          110,
          111,
          112,
          113,
          114,
          115,
          116,
          117,
          118,
          119,
          120,
          121,
          122,
          123,
          124,
          125,
          126,
          127,
          128,
          129,
          130,
          131,
          132,
          133,
          134,
          135,
          136,
          137,
          138,
          139,
          140,
          141,
          142,
          143,
          144,
          145,
          146,
          147,
          148,
          149,
          150,
          151,
          152,
          153,
          154,
          155,
          156,
          157,
          158,
          159,
          160,
          161,
          162,
          163,
          164,
          165,
          166,
          167,
          168,
          169,
          170,
          171,
          172,
          173,
          174,
          175,
          176,
          177,
          178,
          179,
          180,
          181,
          182,
          183,
          184,
          185,
          186,
          187,
          188,
          189,
          190,
          191,
          192,
          193,
          194,
          195,
          196,
          197,
          198,
          199,
          200,
          201,
          202,
          203,
          204,
          205,
          206,
          207,
          208,
          209,
          210,
          211,
          212,
          213,
          214,
          215,
          216,
          217,
          218,
          219,
          220,
          221,
          222,
          223,
          224,
          225,
          226,
          227,
          228,
          229,
          230,
          231,
          232,
          233,
          234,
          235,
          236,
          237,
          238,
          239,
          240,
          241,
          242,
          243,
          244,
          245,
          246,
          247,
          248,
          249,
          250,
          251,
          252,
          253,
          254,
          255,
          256,
          257,
          258,
          259,
          260,
          261,
          262,
          263,
          264,
          265,
          266,
          267,
          268,
          269,
          270,
          271,
          272,
          273,
          274,
          275,
          276,
          277,
          278,
          279,
          280,
          281,
          282,
          283,
          284,
          285,
          286,
          287,
          288,
          289,
          290,
          291,
          292,
          293,
          294,
          295,
          296,
          297,
          298,
          299,
          300,
          301,
          302,
          303,
          304,
          305,
          306,
          307,
          308,
          309,
          310,
          311,
          312,
          313,
          314,
          315,
          316,
          317,
          318,
          319,
          320,
          321,
          322,
          323,
          324,
          325,
          326,
          327,
          328,
          329,
          330,
          331,
          332,
          333,
          334,
          335,
          336,
          337,
          338,
          339,
          340,
          341,
          342,
          343,
          344,
          345,
          346,
          347,
          348,
          349,
          350,
          351,
          352,
          353,
          354,
          355,
          356,
          357,
          358,
          359,
          360,
          361,
          362,
          363,
          364,
          365,
          366,
          367,
          368,
          369,
          370,
          371,
          372,
          373,
          374,
          375,
          376,
          377,
          378,
          379,
          380,
          381,
          382,
          383,
          384,
          385,
          386,
          387,
          388,
          389,
          390,
          391,
          392,
          393,
          394,
          395,
          396,
          397,
          398,
          399,
          400,
          401,
          402,
          403,
          404,
          405,
          406,
          407,
          408,
          409,
          410,
          411,
          412,
          413,
          414,
          415,
          416,
          417,
          418,
          419,
          420,
          421,
          422,
          423,
          424,
          425,
          426,
          427,
          428,
          429,
          430,
          431,
          432,
          433,
          434,
          435,
          436,
          437,
          438,
          439,
          440,
          441,
          442,
          443,
          444,
          445,
          446,
          447,
          448,
          449,
          450,
          451,
          452,
          453,
          454,
          455,
          456,
          457,
          458,
          459,
          460,
          461,
          462,
          463,
          464,
          465,
          466,
          467,
          468,
          469,
          470,
          471,
          472,
          473,
          474,
          475,
          476,
          477,
          478,
          479,
          480,
          481,
          482,
          483,
          484,
          485,
          486,
          487,
          488,
          489,
          490,
          491,
          492,
          493,
          494,
          495,
          496
         ],
         "xaxis": "x",
         "y": [
          29.41176470588235,
          28.676470588235293,
          33.58024691358025,
          34.25925925925926,
          33.88059701492537,
          34.71177944862155,
          35.87786259541985,
          35.3515625,
          37.06597222222222,
          37.22222222222222,
          36.8,
          36.72086720867208,
          36.7808661926309,
          37.11843711843712,
          38.275862068965516,
          39.224137931034484,
          40.041279669762645,
          41.101278269419865,
          41.2593984962406,
          42.45454545454545,
          42.12121212121212,
          42.74395329441201,
          42.47181964573269,
          41.54984423676012,
          41.471698113207545,
          41.46520146520147,
          41.2037037037037,
          41.44917582417582,
          41.20689655172414,
          41.23711340206186,
          41.36424731182796,
          41.151315789473685,
          41.805148256761164,
          41.208439897698206,
          40.74534161490683,
          41.4481897627965,
          41.20862435469177,
          41.02870813397129,
          41.14219114219114,
          41.52298850574713,
          41.43537987104009,
          41.44518272425249,
          41.25854993160054,
          40.6951871657754,
          41.12418300653595,
          41.0230179028133,
          40.98277608915907,
          41.269841269841265,
          41.52089407191448,
          41.13253012048193,
          40.93735054997609,
          40.64258911819887,
          40.45098941555453,
          40.44352994970279,
          40.31425364758698,
          40.13392857142857,
          39.95614035087719,
          39.827586206896555,
          39.66959879854108,
          39.620253164556964,
          39.6762813861797,
          39.19967333605553,
          39.30078360458107,
          39.339398734177216,
          39.743589743589745,
          39.86013986013986,
          40.023566378633156,
          39.92156862745098,
          40.056360708534626,
          40.29761904761905,
          40.170601071216026,
          40.11904761904762,
          39.88258317025441,
          39.62639109697933,
          39.66169154228856,
          39.63079340141399,
          39.50377980228726,
          39.121989121989124,
          39.355581127733025,
          39.375,
          39.46876169098391,
          39.689578713968956,
          39.75903614457832,
          39.86291486291486,
          39.83710407239819,
          39.87477638640429,
          39.92926613616269,
          40.26223776223776,
          40.29386343993086,
          40.329861111111114,
          40.43612637362637,
          40.57404891304348,
          40.331114524662915,
          40.32258064516129,
          40.5176876617774,
          40.81597222222222,
          41.21933878421614,
          41.238564391273755,
          41.27481713688611,
          40.91228070175438,
          40.85461177696717,
          40.64171122994653,
          40.75904677846426,
          40.68732193732194,
          40.59757236227824,
          40.32556418793932,
          40.747663551401864,
          40.851851851851855,
          40.73394495412844,
          40.76066790352505,
          40.650854936569225,
          40.476190476190474,
          40.6326492186029,
          40.817469204927214,
          41.17874396135266,
          41.7319749216301,
          41.62781662781663,
          41.03271580607016,
          40.89635854341737,
          40.873015873015866,
          40.79102715466352,
          41.183526589364256,
          41.30081300813008,
          41.391129032258064,
          41.32,
          41.42857142857143,
          41.417322834645674,
          41.46484375,
          41.56976744186046,
          41.42307692307692,
          41.58396946564885,
          41.45299145299145,
          41.64256795835743,
          41.58055874473785,
          41.3013013013013,
          41.21621621621622,
          41.07318997829947,
          41.049745397571485,
          40.90727418065548,
          41.051587301587304,
          41.075650118203306,
          40.923317683881066,
          41.045066045066044,
          41.08796296296296,
          41.320197044334975,
          41.19661563255439,
          41.076430572228894,
          40.847665847665844,
          40.83790929428514,
          40.229166666666664,
          40.438741721854306,
          40.46052631578947,
          40.584150326797385,
          41.118558860494346,
          41.06139438085328,
          41.10835401157982,
          41.380727347441955,
          41.42507145773786,
          41.32684114424833,
          41.12903225806452,
          41.214185533961135,
          41.666666666666664,
          41.77914110429448,
          41.82926829268293,
          42.060606060606055,
          42.028112449799195,
          42.06586826347306,
          42.17687074829932,
          42.328825021132715,
          42.35294117647059,
          42.39766081871345,
          42.93712316968131,
          42.79597516591736,
          43.56763925729443,
          43.75824175824176,
          43.81555944055944,
          43.76358105171664,
          42.53932584269663,
          42.65921787709497,
          43.671497584541065,
          43.69445111698295,
          43.66937410415671,
          43.88215728201473,
          43.92722117202268,
          43.58722358722359,
          43.6217008797654,
          43.5342732134176,
          43.81965552178318,
          44.39153439153439,
          43.601108033241,
          43.59327638467897,
          43.53070175438596,
          43.68693755113171,
          43.841562669560496,
          44.10256410256411,
          44.19978517722879,
          44.29601923590703,
          44.417862838915475,
          44.40624173499074,
          44.578947368421055,
          44.61901021209741,
          44.65867639395518,
          44.72387866217267,
          44.6594427244582,
          44.64698331193838,
          44.58354624425141,
          44.84702093397746,
          44.17420814479638,
          44.04904306220096,
          44.375,
          44.34241706161137,
          44.19221698113208,
          44.571596244131456,
          44.88901869158878,
          45.05813953488372,
          45.52469135802469,
          45.43778801843318,
          45.32110091743119,
          45.4490106544901,
          45.45454545454546,
          46.87028657616893,
          46.809309309309306,
          47.04783258594918,
          47.098214285714285,
          47.111111111111114,
          47.08702064896755,
          45.61473768522227,
          45.614035087719294,
          45.851528384279476,
          46,
          45.887445887445885,
          46.25,
          46.22317596566524,
          46.19658119658119,
          46,
          43.37923728813559,
          43.407172995780584,
          43.38235294117647,
          43.30543933054393,
          43.28125,
          43.15352697095436,
          43.078512396694215,
          42.95267489711934,
          43.0327868852459,
          43.11224489795919,
          43.1910569105691,
          43.16801619433198,
          43.09475806451613,
          44.80780263912794,
          44.74285714285714,
          44.735344336937956,
          44.72789115646258,
          44.72049689440994,
          44.99437570303712,
          44.929971988795515,
          45.145089285714285,
          45.080600333518625,
          44.96124031007752,
          44.787644787644794,
          44.89010989010989,
          44.772851669403394,
          44.87459105779716,
          40.93789607097592,
          41.035353535353536,
          40.943396226415096,
          41.16541353383459,
          41.19850187265918,
          39.17910447761194,
          39.182156133829,
          39.25925925925926,
          39.11439114391144,
          38.970588235294116,
          39.120879120879124,
          39.12408759124088,
          38.90909090909091,
          38.85869565217391,
          38.808664259927795,
          38.669064748201436,
          38.62007168458781,
          38.57142857142857,
          38.70106761565836,
          39.00709219858155,
          38.86925795053004,
          38.99647887323944,
          39.03508771929825,
          39.33566433566434,
          39.198606271777,
          39.236111111111114,
          39.61937716262976,
          39.48275862068966,
          39.69072164948454,
          39.554794520547944,
          40.15927189988624,
          40.02267573696145,
          40.11299435028249,
          40.427927927927925,
          40.51627384960718,
          40.60402684563758,
          40.468227424749166,
          41.22222222222222,
          41.19601328903654,
          41.05960264900663,
          41.36413641364137,
          42.10526315789473,
          41.96721311475411,
          42.26579520697168,
          42.12812160694897,
          42.424242424242415,
          42.28694714131607,
          42.1505376344086,
          42.01500535905681,
          41.98717948717948,
          41.95953141640043,
          41.93205944798302,
          41.904761904761905,
          41.77215189873419,
          41.85068349106204,
          42.138364779874216,
          42.42424242424243,
          42.291666666666664,
          42.26375908618899,
          42.546583850931675,
          42.51805985552116,
          42.901234567901234,
          42.769230769230774,
          42.74028629856851,
          42.60958205912334,
          42.479674796747965,
          42.85714285714286,
          42.878787878787875,
          42.74924471299093,
          42.7710843373494,
          42.792792792792795,
          42.96407185628743,
          42.83582089552239,
          42.85714285714286,
          43.02670623145401,
          43.49112426035503,
          43.657817109144545,
          43.529411764705884,
          43.401759530791786,
          43.567251461988306,
          43.440233236151606,
          43.31395348837209,
          43.18840579710145,
          43.063583815028906,
          43.0835734870317,
          43.24712643678161,
          43.26647564469914,
          43.42857142857143,
          43.87464387464388,
          44.03409090909091,
          43.90934844192635,
          43.78531073446328,
          43.943661971830984,
          43.82022471910113,
          43.8375350140056,
          43.71508379888268,
          44.15041782729804,
          44.02777777777778,
          44.04432132963989,
          43.92265193370166,
          43.80165289256198,
          43.956043956043956,
          44.38356164383562,
          44.39890710382514,
          44.55040871934605,
          44.56521739130435,
          44.44444444444444,
          44.45945945945946,
          44.474393530997304,
          44.48924731182795,
          44.50402144772118,
          44.518716577540104,
          44.400000000000006,
          44.41489361702128,
          44.42970822281167,
          44.44444444444444,
          44.327176781002635,
          44.73684210526315,
          44.750656167979,
          44.63350785340314,
          45.16971279373369,
          45.052083333333336,
          45.58441558441558,
          45.466321243523325,
          45.34883720930233,
          45.360824742268036,
          45.37275064267352,
          45.38461538461539,
          45.9079283887468,
          45.91836734693878,
          45.92875318066158,
          45.81218274111675,
          45.82278481012658,
          45.707070707070706,
          43.32493702770781,
          43.46733668341709,
          43.35839598997494,
          43.5,
          44.38902743142145,
          44.27860696517413,
          44.168734491315135,
          44.05940594059406,
          44.19753086419753,
          45.073891625615765,
          45.20884520884521,
          45.34313725490196,
          45.2322738386308,
          45.1219512195122,
          45.98540145985402,
          45.87378640776699,
          45.76271186440678,
          45.65217391304348,
          45.78313253012048,
          45.91346153846153,
          45.80335731414868,
          46.17224880382776,
          46.30071599045346,
          46.19047619047619,
          46.31828978622328,
          47.1563981042654,
          47.04491725768322,
          47.16981132075472,
          47.05882352941176,
          46.948356807511736,
          46.8384074941452,
          47.66355140186916,
          47.55244755244755,
          47.44186046511628,
          47.33178654292343,
          47.22222222222222,
          47.34411085450346,
          47.235023041474655,
          47.58620689655172,
          47.70642201834863,
          47.59725400457666,
          48.401826484018265,
          48.29157175398633,
          48.18181818181818,
          48.29931972789115,
          48.19004524886878,
          48.30699774266365,
          48.42342342342342,
          48.31460674157304,
          48.20627802690583,
          48.99328859060403,
          49.77678571428572,
          49.88864142538976,
          50,
          49.88913525498892,
          50,
          49.88962472406181,
          49.77973568281938,
          49.67032967032967,
          49.56140350877193,
          49.671772428884026,
          49.78165938864629,
          49.89106753812636,
          50,
          50.32537960954448,
          50.43290043290043,
          50.53995680345572,
          50.43103448275862,
          50.53763440860215,
          50.42918454935622,
          50.32119914346895,
          50.427350427350426,
          50.53304904051173,
          51.06382978723404,
          50.955414012738856,
          51.69491525423729,
          52.00845665961945,
          51.89873417721519,
          52,
          51.89075630252101,
          51.99161425576519,
          51.88284518828452,
          51.98329853862212,
          52.708333333333336,
          52.80665280665281,
          52.69709543568465,
          52.79503105590062,
          52.68595041322314,
          52.57731958762887,
          53.70370370370371,
          53.798767967145785,
          53.893442622950815,
          53.78323108384458,
          54.48979591836734,
          54.37881873727088,
          54.67479674796748,
          54.563894523326574,
          54.655870445344135,
          54.54545454545454,
          54.43548387096774
         ],
         "yaxis": "y"
        },
        {
         "hovertemplate": "batsman=S Chanderpaul<br>increasing_delivery=%{x}<br>run_rate=%{y}<extra></extra>",
         "legendgroup": "S Chanderpaul",
         "line": {
          "color": "#B6E880",
          "dash": "solid"
         },
         "marker": {
          "symbol": "circle"
         },
         "mode": "lines",
         "name": "S Chanderpaul",
         "showlegend": true,
         "type": "scattergl",
         "x": [
          1,
          2,
          3,
          4,
          5,
          6,
          7,
          8,
          9,
          10,
          11,
          12,
          13,
          14,
          15,
          16,
          17,
          18,
          19,
          20,
          21,
          22,
          23,
          24,
          25,
          26,
          27,
          28,
          29,
          30,
          31,
          32,
          33,
          34,
          35,
          36,
          37,
          38,
          39,
          40,
          41,
          42,
          43,
          44,
          45,
          46,
          47,
          48,
          49,
          50,
          51,
          52,
          53,
          54,
          55,
          56,
          57,
          58,
          59,
          60,
          61,
          62,
          63,
          64,
          65,
          66,
          67,
          68,
          69,
          70,
          71,
          72,
          73,
          74,
          75,
          76,
          77,
          78,
          79,
          80,
          81,
          82,
          83,
          84,
          85,
          86,
          87,
          88,
          89,
          90,
          91,
          92,
          93,
          94,
          95,
          96,
          97,
          98,
          99,
          100,
          101,
          102,
          103,
          104,
          105,
          106,
          107,
          108,
          109,
          110,
          111,
          112,
          113,
          114,
          115,
          116,
          117,
          118,
          119,
          120,
          121,
          122,
          123,
          124,
          125,
          126,
          127,
          128,
          129,
          130,
          131,
          132,
          133,
          134,
          135,
          136,
          137,
          138,
          139,
          140,
          141,
          142,
          143,
          144,
          145,
          146,
          147,
          148,
          149,
          150,
          151,
          152,
          153,
          154,
          155,
          156,
          157,
          158,
          159,
          160,
          161,
          162,
          163,
          164,
          165,
          166,
          167,
          168,
          169,
          170,
          171,
          172,
          173,
          174,
          175,
          176,
          177,
          178,
          179,
          180,
          181,
          182,
          183,
          184,
          185,
          186,
          187,
          188,
          189,
          190,
          191,
          192,
          193,
          194,
          195,
          196,
          197,
          198,
          199,
          200,
          201,
          202,
          203,
          204,
          205,
          206,
          207,
          208,
          209,
          210,
          211,
          212,
          213,
          214,
          215,
          216,
          217,
          218,
          219,
          220,
          221,
          222,
          223,
          224,
          225,
          226,
          227,
          228,
          229,
          230,
          231,
          232,
          233,
          234,
          235,
          236,
          237,
          238,
          239,
          240,
          241,
          242,
          243,
          244,
          245,
          246,
          247,
          248,
          249,
          250,
          251,
          252,
          253,
          254,
          255,
          256,
          257,
          258,
          259,
          260,
          261,
          262,
          263,
          264,
          265,
          266,
          267,
          268,
          269,
          270,
          271,
          272,
          273,
          274,
          275,
          276,
          277,
          278,
          279,
          280,
          281,
          282,
          283,
          284,
          285,
          286,
          287,
          288,
          289,
          290,
          291,
          292,
          293,
          294,
          295,
          296,
          297,
          298,
          299,
          300,
          301,
          302,
          303,
          304,
          305,
          306,
          307,
          308,
          309,
          310,
          311,
          312,
          313,
          314,
          315,
          316,
          317,
          318,
          319,
          320,
          321,
          322,
          323,
          324,
          325,
          326,
          327,
          328,
          329,
          330,
          331,
          332,
          333,
          334,
          335,
          336,
          337,
          338,
          339,
          340,
          341,
          342,
          343,
          344,
          345,
          346,
          347,
          348,
          349,
          350,
          351,
          352,
          353,
          354,
          355,
          356,
          357,
          358,
          359,
          360,
          361,
          362,
          363,
          364,
          365,
          366,
          367,
          368,
          369,
          370,
          371,
          372
         ],
         "xaxis": "x",
         "y": [
          45.23809523809524,
          47.17741935483871,
          45.43010752688172,
          45.52845528455285,
          43.60655737704918,
          42.69972451790634,
          43.69747899159664,
          42.3728813559322,
          42.35517568850902,
          43.47826086956522,
          43.794466403162055,
          42.909356725146196,
          41.964285714285715,
          42.14285714285714,
          42.629969418960236,
          40.88785046728972,
          40.896358543417364,
          41.53439153439154,
          41.8546365914787,
          41.49038461538461,
          41.47018030513176,
          40.909090909090914,
          40.62233589087809,
          40.59405940594059,
          40.07920792079208,
          39.80769230769231,
          39.24429479985036,
          39.21282798833819,
          39.23293455313159,
          39.553264604811,
          38.81048387096774,
          38.509114583333336,
          38.60479797979798,
          39.185049019607845,
          39.24812030075188,
          39.59810874704492,
          38.97122929380994,
          39.016018306636155,
          38.82385730211817,
          39.266304347826086,
          39.728997289972895,
          40.079365079365076,
          40.0516795865633,
          39.77272727272727,
          39.95061728395062,
          40.02415458937198,
          39.83451536643026,
          39.81481481481482,
          39.760731878958474,
          40.23255813953488,
          40.55363321799308,
          40.88827838827839,
          40.79065588499551,
          40.49531459170014,
          40.72289156626506,
          41.200516351118765,
          41.44201968335472,
          41.27288207747978,
          40.91396695987986,
          41.15384615384615,
          41.132637853949326,
          41.05571847507331,
          40.99470899470899,
          41.23733108108108,
          41.351351351351354,
          41.2981162981163,
          41.361684727049685,
          41.37792103142627,
          41.29442128250943,
          41.48727984344423,
          41.61682423306965,
          41.2754303599374,
          40.821917808219176,
          41.088915001958476,
          41.23529411764706,
          41.19582043343653,
          41.36460554371001,
          41.35093761959434,
          40.985807441503646,
          40.524193548387096,
          40.262843488649935,
          40.51927616050354,
          40.65293431791683,
          40.90554254488681,
          40.86788813886211,
          40.89475758770201,
          40.70197044334975,
          41.01239669421487,
          40.51303794784821,
          40.75471698113208,
          40.45200082935932,
          40.50451189499589,
          40.555893690403735,
          40.54828150572832,
          40.12383900928793,
          40.09395424836602,
          40.12532848190823,
          40.15606242496999,
          40.30501089324619,
          40.27450980392157,
          40.380508639099205,
          40.542099192618224,
          40.53893402021003,
          40.96554487179487,
          41.276595744680854,
          41.48936170212766,
          41.797574070391725,
          41.80457052797478,
          41.77239898496975,
          41.54150197628458,
          41.73521347434391,
          42.1031746031746,
          42.08456243854474,
          42.00326397388821,
          42.082912032355914,
          42.04089815557337,
          41.97972570065593,
          42.31234866828087,
          42.196878751500606,
          42.42063492063492,
          42.52262888626525,
          42.466822794691645,
          42.2169343644656,
          42.13217938630999,
          42.12682926829268,
          42.102206736353075,
          42.1163817937392,
          42.63671875,
          42.5,
          42.53846153846154,
          42.67175572519084,
          43.02641802641803,
          42.857142857142854,
          42.86261002678913,
          41.74174174174174,
          41.991255961844196,
          42.020122312093115,
          42.107324716020365,
          42.38609112709832,
          42.247899159663866,
          42.30287859824781,
          42.191383595691796,
          41.8732782369146,
          41.919191919191924,
          42.13166144200627,
          42.38013698630137,
          42.04520517884573,
          42.15344376634699,
          42.26022948690193,
          42.25806451612903,
          42.36274300363171,
          42.5,
          42.549019607843135,
          42.66233766233766,
          42.70967741935484,
          42.67094017094017,
          42.632696390658175,
          42.890295358649794,
          42.99790356394131,
          42.9375,
          43.02277432712216,
          43.02469135802469,
          43.06748466257669,
          43.06139613120269,
          43.116883116883116,
          43.663543061133424,
          43.712574850299404,
          43.58465608465609,
          43.50208196362043,
          43.41628959276018,
          43.43229869545659,
          43.71645796064401,
          43.886171631836376,
          43.921308576480996,
          43.978021978021985,
          43.75,
          43.63841807909605,
          43.70786516853933,
          43.76163873370577,
          43.96135265700483,
          44.09844299347062,
          44.08091908091908,
          44.01390958768008,
          43.873517786561266,
          44.02948402948403,
          43.89051808406647,
          43.825960136120564,
          43.81044487427466,
          44.01154401154401,
          44.01913875598086,
          44.002855782960495,
          43.915719696969695,
          43.78238341968912,
          43.931583880037486,
          43.86946386946387,
          44.33916423712342,
          43.55329949238579,
          43.43434343434343,
          43.31658291457286,
          43.525,
          43.597800471327574,
          43.77279833246482,
          43.84236453201971,
          43.83384932920537,
          43.77406931964057,
          43.81706693919264,
          43.85964912280702,
          43.92712550607287,
          43.86804331402669,
          43.909774436090224,
          43.80144674482415,
          43.76861966236346,
          43.711391153941186,
          43.99901623216921,
          44.063647490820074,
          44.05458089668616,
          44.06041986687148,
          44.00971397733405,
          43.96991673381681,
          43.850267379679146,
          43.78493478839499,
          43.74668786433492,
          43.81429701925613,
          44.7265625,
          44.72222222222222,
          44.63495575221239,
          45.13950073421439,
          45.05847953216374,
          45.09461426491995,
          44.927536231884055,
          44.24860853432282,
          44.18103448275862,
          44.1140404659718,
          44.10866910866911,
          44.16413373860183,
          44.55205811138014,
          44.595910418695226,
          44.440853264382675,
          44.51239137431606,
          44.455128205128204,
          44.27066709224386,
          44.65988556897648,
          44.53941120607787,
          44.51450189155108,
          44.61538461538461,
          44.52782989368355,
          44.44098411709748,
          44.29280397022332,
          44.74564926372155,
          44.666666666666664,
          45.418326693227094,
          45.526695526695526,
          45.45454545454545,
          45.705082319255546,
          46.23529411764706,
          46.171875,
          46.10894941634241,
          45.30038759689923,
          45.318532818532816,
          45.28846153846154,
          45.114942528735625,
          45.27671755725191,
          45.43726235741445,
          45.50189393939394,
          45.424528301886795,
          45.347744360902254,
          45.4119850187266,
          45.33582089552239,
          45.353159851301115,
          45.23148148148148,
          45.2029520295203,
          45.3125,
          45.19230769230769,
          45.07299270072993,
          44.90909090909091,
          44.79166666666667,
          44.90072202166065,
          44.739208633093526,
          45.11008704557092,
          45,
          44.89069649211998,
          44.83282674772037,
          43.46289752650176,
          43.48591549295774,
          43.450292397660824,
          44.54545454545455,
          44.45993031358885,
          44.51388888888889,
          44.463667820069205,
          44.655172413793096,
          44.75945017182131,
          45.20547945205479,
          45.136518771331055,
          45.06802721088435,
          45.08474576271187,
          45.18581081081081,
          45.033670033670035,
          45.0503355704698,
          45.31772575250836,
          45.24999999999999,
          45.182724252491695,
          45.61258278145695,
          45.462046204620464,
          45.39473684210527,
          45.24590163934427,
          45.34313725490196,
          45.195439739413686,
          45.0487012987013,
          44.983818770226534,
          44.83870967741936,
          44.85530546623794,
          44.95192307692308,
          44.88817891373802,
          44.98407643312102,
          44.84126984126984,
          44.857594936708864,
          44.873817034700316,
          44.81132075471698,
          44.67084639498432,
          44.609375,
          44.626168224299064,
          44.565217391304344,
          44.73684210526316,
          44.75308641975309,
          44.61538461538461,
          44.6319018404908,
          44.4954128440367,
          44.4359756097561,
          44.452887537993924,
          44.3939393939394,
          44.41087613293051,
          44.277108433734945,
          44.21921921921923,
          44.08682634730539,
          43.95522388059702,
          43.89880952380952,
          43.84272997032641,
          44.00887573964497,
          43.95280235988201,
          43.970588235294116,
          43.914956011730204,
          44.078947368421055,
          43.95043731778425,
          43.8953488372093,
          47.24637681159421,
          47.20616570327553,
          47.358309317963496,
          47.31800766283525,
          47.18242597898759,
          47.23809523809524,
          47.198480531813864,
          47.06439393939394,
          47.403210576015105,
          47.269303201506595,
          47.32394366197183,
          47.19101123595505,
          47.05882352941177,
          47.02048417132216,
          47.168059424326835,
          47.5,
          47.50692520775624,
          47.37569060773481,
          47.38292011019284,
          54.12087912087912,
          54.24657534246575,
          54.09836065573771,
          54.49591280653952,
          54.34782608695652,
          54.47154471544715,
          54.59459459459459,
          54.71698113207547,
          54.56989247311827
         ],
         "yaxis": "y"
        },
        {
         "hovertemplate": "batsman=SR Tendulkar<br>increasing_delivery=%{x}<br>run_rate=%{y}<extra></extra>",
         "legendgroup": "SR Tendulkar",
         "line": {
          "color": "#FF97FF",
          "dash": "solid"
         },
         "marker": {
          "symbol": "circle"
         },
         "mode": "lines",
         "name": "SR Tendulkar",
         "showlegend": true,
         "type": "scattergl",
         "x": [
          1,
          2,
          3,
          4,
          5,
          6,
          7,
          8,
          9,
          10,
          11,
          12,
          13,
          14,
          15,
          16,
          17,
          18,
          19,
          20,
          21,
          22,
          23,
          24,
          25,
          26,
          27,
          28,
          29,
          30,
          31,
          32,
          33,
          34,
          35,
          36,
          37,
          38,
          39,
          40,
          41,
          42,
          43,
          44,
          45,
          46,
          47,
          48,
          49,
          50,
          51,
          52,
          53,
          54,
          55,
          56,
          57,
          58,
          59,
          60,
          61,
          62,
          63,
          64,
          65,
          66,
          67,
          68,
          69,
          70,
          71,
          72,
          73,
          74,
          75,
          76,
          77,
          78,
          79,
          80,
          81,
          82,
          83,
          84,
          85,
          86,
          87,
          88,
          89,
          90,
          91,
          92,
          93,
          94,
          95,
          96,
          97,
          98,
          99,
          100,
          101,
          102,
          103,
          104,
          105,
          106,
          107,
          108,
          109,
          110,
          111,
          112,
          113,
          114,
          115,
          116,
          117,
          118,
          119,
          120,
          121,
          122,
          123,
          124,
          125,
          126,
          127,
          128,
          129,
          130,
          131,
          132,
          133,
          134,
          135,
          136,
          137,
          138,
          139,
          140,
          141,
          142,
          143,
          144,
          145,
          146,
          147,
          148,
          149,
          150,
          151,
          152,
          153,
          154,
          155,
          156,
          157,
          158,
          159,
          160,
          161,
          162,
          163,
          164,
          165,
          166,
          167,
          168,
          169,
          170,
          171,
          172,
          173,
          174,
          175,
          176,
          177,
          178,
          179,
          180,
          181,
          182,
          183,
          184,
          185,
          186,
          187,
          188,
          189,
          190,
          191,
          192,
          193,
          194,
          195,
          196,
          197,
          198,
          199,
          200,
          201,
          202,
          203,
          204,
          205,
          206,
          207,
          208,
          209,
          210,
          211,
          212,
          213,
          214,
          215,
          216,
          217,
          218,
          219,
          220,
          221,
          222,
          223,
          224,
          225,
          226,
          227,
          228,
          229,
          230,
          231,
          232,
          233,
          234,
          235,
          236,
          237,
          238,
          239,
          240,
          241,
          242,
          243,
          244,
          245,
          246,
          247,
          248,
          249,
          250,
          251,
          252,
          253,
          254,
          255,
          256,
          257,
          258,
          259,
          260,
          261,
          262,
          263,
          264,
          265,
          266,
          267,
          268,
          269,
          270,
          271,
          272,
          273,
          274,
          275,
          276,
          277,
          278,
          279,
          280,
          281,
          282,
          283,
          284,
          285,
          286,
          287,
          288,
          289,
          290,
          291,
          292,
          293,
          294,
          295,
          296,
          297,
          298,
          299,
          300,
          301,
          302,
          303,
          304,
          305,
          306,
          307,
          308,
          309,
          310,
          311,
          312,
          313,
          314,
          315,
          316,
          317,
          318,
          319,
          320,
          321,
          322,
          323,
          324,
          325,
          326,
          327,
          328,
          329,
          330,
          331,
          332,
          333,
          334,
          335,
          336,
          337,
          338,
          339,
          340,
          341,
          342,
          343,
          344,
          345,
          346,
          347,
          348,
          349,
          350,
          351,
          352,
          353,
          354,
          355,
          356,
          357,
          358,
          359,
          360,
          361,
          362,
          363,
          364,
          365,
          366,
          367,
          368,
          369,
          370,
          371,
          372,
          373,
          374,
          375,
          376,
          377,
          378,
          379
         ],
         "xaxis": "x",
         "y": [
          46.61654135338346,
          40.90909090909091,
          43.18181818181818,
          42.82945736434109,
          45.116279069767444,
          45.669291338582674,
          45.011337868480716,
          45.060483870967744,
          46.612466124661246,
          48.78048780487805,
          48.68519909842224,
          48.88888888888889,
          48.4354628422425,
          49.9384236453202,
          51.609195402298845,
          51.58991228070175,
          51.22994652406417,
          50.95959595959596,
          51.73783515392254,
          50.09615384615385,
          50.16181229773462,
          50.58505850585058,
          50.78440161362617,
          49.045138888888886,
          49.473684210526315,
          49.46236559139785,
          50.08230452674896,
          50.27777777777778,
          50.406819062378915,
          49.57854406130268,
          50.15003750937735,
          50.07267441860465,
          50.56377730796335,
          50.588235294117645,
          49.607142857142854,
          50.035612535612536,
          50.33345033345034,
          50.30758714969242,
          50.04995004995005,
          49.87012987012987,
          50.142540386442825,
          49.87631416202844,
          49.87760097919217,
          50.08971291866029,
          49.7953216374269,
          49.594202898550726,
          48.99446225590207,
          49.11529680365297,
          48.74964070135096,
          49.098591549295776,
          49.10364145658263,
          49.49832775919732,
          49.876948318293685,
          50,
          50.3663500678426,
          50.91991341991342,
          51.196172248803826,
          51.410658307210035,
          51.29074315514993,
          51.358974358974365,
          51.306352459016395,
          51.512096774193544,
          52.30414746543779,
          52.41935483870968,
          52.1025641025641,
          51.61787365177196,
          52.03293875450335,
          51.850912778904664,
          52.0976353928299,
          52.60204081632653,
          52.41448692152917,
          52.42424242424243,
          52.63825469304921,
          52.27727727727728,
          52.123456790123456,
          52.29044834307992,
          52.212602212602214,
          51.983551040154815,
          52.06913339824733,
          51.69117647058823,
          51.51295085935608,
          51.78048780487805,
          51.54216867469879,
          51.33624878522838,
          51.380552220888354,
          50.82364341085272,
          50.4035216434336,
          50.45938104448742,
          50.753048051637585,
          50.79012345679013,
          50.62271062271063,
          51.66835187057634,
          51.68792198049512,
          51.85551707075705,
          51.823745410036715,
          51.88953488372093,
          52.121793334931674,
          52.1594684385382,
          51.68350168350168,
          52,
          52.239509665252235,
          52.26423902894491,
          52.404068423485896,
          52.4390243902439,
          52.47386759581882,
          52.4390243902439,
          52.701162525643944,
          52.73261065943993,
          52.71872902215261,
          52.36363636363636,
          52.413952413952416,
          51.76221804511278,
          51.90964136003726,
          51.89289012003694,
          52.036613272311214,
          52.283317800559175,
          52.66805266805267,
          52.679798442510304,
          52.35760971055089,
          52.33796296296296,
          52.22681359044995,
          52.78688524590164,
          53.03682448589192,
          53.083491461100564,
          53.15294117647059,
          53.01120448179272,
          53.76476377952756,
          53.6376953125,
          53.5125968992248,
          53.44913151364764,
          53.206106870229014,
          53.35497835497836,
          53.35660580021482,
          54.090657822001106,
          53.964334705075444,
          53.92156862745099,
          53.79832387131657,
          53.73054213633924,
          53.87689848121503,
          53.86243386243386,
          53.926976622012084,
          53.87323943661972,
          53.76223776223777,
          53.80555555555556,
          54.01379310344828,
          54.19178082191781,
          54.176870748299315,
          54.027027027027025,
          54.25055928411633,
          54.666666666666664,
          54.74613686534216,
          54.71491228070175,
          54.76579520697168,
          54.432523997741384,
          54.72650771388499,
          54.836829836829835,
          54.60335842501447,
          54.890678941311855,
          55.00285877644369,
          55.14204545454545,
          55.397811298432416,
          55.32039976484421,
          55.302366345311135,
          55.60394889663183,
          55.55555555555556,
          55.536431440045895,
          55.449101796407184,
          55.416666666666664,
          55.414201183431956,
          55.01547987616099,
          54.97076023391812,
          55.201958384332926,
          55.138086062941554,
          54.980842911877396,
          54.92063492063492,
          54.95580808080808,
          55.116133082234775,
          55.21223470661673,
          55.46244568590937,
          55.52287581699346,
          55.76860578485538,
          55.91467356173239,
          54.576502732240435,
          54.82336956521739,
          54.86486486486486,
          55.174731182795696,
          55.24732620320856,
          55.086436170212764,
          54.74426807760141,
          54.70175438596492,
          54.93642483171279,
          54.836309523809526,
          55.48027102431248,
          55.82870737509913,
          55.81854043392505,
          55.69073783359498,
          56.0067681895093,
          56.1026936026936,
          57.10370031978072,
          57.18181818181818,
          57.30438715513342,
          57.33573357335734,
          57.501119570085095,
          57.39750445632799,
          57.20620842572062,
          57.23742277140336,
          57.00483091787439,
          56.90559440559441,
          55.11961722488038,
          55.095238095238095,
          54.88151658767772,
          55.66037735849057,
          56.220657276995304,
          56.48364485981308,
          56.74418604651163,
          56.59722222222222,
          56.73963133640553,
          56.5940366972477,
          56.84931506849315,
          56.875,
          56.787330316742086,
          56.86936936936937,
          56.78251121076233,
          56.808035714285715,
          56.666666666666664,
          56.63716814159292,
          56.77312775330397,
          57.142857142857146,
          57.080474111041795,
          57.01863354037267,
          56.957328385899814,
          56.83497536945813,
          56.897608828939305,
          57.02075702075702,
          57.082066869300924,
          56.96125907990315,
          57.142857142857146,
          57.262905162064826,
          57.262402869097436,
          57.202380952380956,
          57.379964433906345,
          57.43801652892562,
          59.25925925925926,
          59.08469945355191,
          58.97959183673469,
          58.87533875338753,
          58.21862348178138,
          57.983870967741936,
          57.991967871485954,
          57.760000000000005,
          57.92828685258964,
          57.93650793650794,
          57.86561264822134,
          57.795275590551185,
          57.5686274509804,
          57.65625,
          57.50972762645914,
          57.5968992248062,
          57.45173745173745,
          57.46153846153847,
          56.80076628352491,
          56.77480916030534,
          56.653992395437264,
          56.534090909090914,
          56.509433962264154,
          56.484962406015036,
          56.27340823970037,
          56.0634328358209,
          55.8550185873606,
          55.83333333333333,
          55.81180811808119,
          55.88235294117647,
          56.13553113553114,
          56.02189781021898,
          56.18181818181819,
          56.06884057971014,
          56.04693140794224,
          56.384892086330936,
          56.36200716845878,
          56.16071428571429,
          55.960854092526695,
          55.851063829787236,
          56.18374558303887,
          55.985915492957744,
          55.96491228070175,
          55.76923076923077,
          55.57491289198606,
          55.38194444444444,
          55.27681660899654,
          55.08620689655172,
          54.98281786941581,
          54.965753424657535,
          54.94880546075085,
          55.18707482993197,
          55.42372881355932,
          55.65878378378378,
          55.976430976430976,
          56.04026845637584,
          56.10367892976589,
          56.25,
          56.14617940199335,
          56.04304635761589,
          56.18811881188119,
          56.25,
          56.721311475409834,
          57.02614379084967,
          57.32899022801303,
          57.38636363636363,
          57.28155339805825,
          57.41935483870968,
          57.39549839228296,
          57.371794871794876,
          57.26837060702876,
          57.32484076433121,
          57.460317460317455,
          61.075949367088604,
          61.09358569926393,
          60.90146750524108,
          60.81504702194357,
          60.833333333333336,
          61.05919003115264,
          61.07660455486542,
          60.99071207430341,
          61.21399176954733,
          61.53846153846154,
          61.34969325153374,
          61.569826707441386,
          61.48373983739837,
          61.29685916919959,
          61.111111111111114,
          61.02719033232628,
          61.04417670682731,
          60.86086086086086,
          60.77844311377246,
          60.69651741293532,
          60.71428571428572,
          60.731948565776456,
          60.84812623274161,
          60.86529006882989,
          61.568627450980394,
          61.681329423264906,
          61.79337231968811,
          61.80758017492712,
          61.72480620155039,
          61.54589371980677,
          61.65703275529865,
          61.671469740634,
          63.2183908045977,
          63.03724928366762,
          63,
          62.82051282051282,
          62.64204545454545,
          63.03116147308782,
          62.99435028248588,
          62.95774647887324,
          62.78089887640449,
          62.745098039215684,
          62.569832402234645,
          62.39554317548746,
          62.361111111111114,
          62.32686980609419,
          62.29281767955801,
          62.396694214876035,
          62.362637362637365,
          62.1917808219178,
          65.84699453551912,
          65.9400544959128,
          65.76086956521739,
          65.58265582655827,
          65.4054054054054,
          65.49865229110512,
          66.39784946236558,
          66.21983914209115,
          66.0427807486631,
          65.86666666666666,
          65.69148936170212,
          65.51724137931035,
          65.34391534391534,
          65.4353562005277
         ],
         "yaxis": "y"
        }
       ],
       "layout": {
        "legend": {
         "title": {
          "text": "batsman"
         },
         "tracegroupgap": 0
        },
        "margin": {
         "t": 60
        },
        "template": {
         "data": {
          "bar": [
           {
            "error_x": {
             "color": "#2a3f5f"
            },
            "error_y": {
             "color": "#2a3f5f"
            },
            "marker": {
             "line": {
              "color": "#E5ECF6",
              "width": 0.5
             },
             "pattern": {
              "fillmode": "overlay",
              "size": 10,
              "solidity": 0.2
             }
            },
            "type": "bar"
           }
          ],
          "barpolar": [
           {
            "marker": {
             "line": {
              "color": "#E5ECF6",
              "width": 0.5
             },
             "pattern": {
              "fillmode": "overlay",
              "size": 10,
              "solidity": 0.2
             }
            },
            "type": "barpolar"
           }
          ],
          "carpet": [
           {
            "aaxis": {
             "endlinecolor": "#2a3f5f",
             "gridcolor": "white",
             "linecolor": "white",
             "minorgridcolor": "white",
             "startlinecolor": "#2a3f5f"
            },
            "baxis": {
             "endlinecolor": "#2a3f5f",
             "gridcolor": "white",
             "linecolor": "white",
             "minorgridcolor": "white",
             "startlinecolor": "#2a3f5f"
            },
            "type": "carpet"
           }
          ],
          "choropleth": [
           {
            "colorbar": {
             "outlinewidth": 0,
             "ticks": ""
            },
            "type": "choropleth"
           }
          ],
          "contour": [
           {
            "colorbar": {
             "outlinewidth": 0,
             "ticks": ""
            },
            "colorscale": [
             [
              0,
              "#0d0887"
             ],
             [
              0.1111111111111111,
              "#46039f"
             ],
             [
              0.2222222222222222,
              "#7201a8"
             ],
             [
              0.3333333333333333,
              "#9c179e"
             ],
             [
              0.4444444444444444,
              "#bd3786"
             ],
             [
              0.5555555555555556,
              "#d8576b"
             ],
             [
              0.6666666666666666,
              "#ed7953"
             ],
             [
              0.7777777777777778,
              "#fb9f3a"
             ],
             [
              0.8888888888888888,
              "#fdca26"
             ],
             [
              1,
              "#f0f921"
             ]
            ],
            "type": "contour"
           }
          ],
          "contourcarpet": [
           {
            "colorbar": {
             "outlinewidth": 0,
             "ticks": ""
            },
            "type": "contourcarpet"
           }
          ],
          "heatmap": [
           {
            "colorbar": {
             "outlinewidth": 0,
             "ticks": ""
            },
            "colorscale": [
             [
              0,
              "#0d0887"
             ],
             [
              0.1111111111111111,
              "#46039f"
             ],
             [
              0.2222222222222222,
              "#7201a8"
             ],
             [
              0.3333333333333333,
              "#9c179e"
             ],
             [
              0.4444444444444444,
              "#bd3786"
             ],
             [
              0.5555555555555556,
              "#d8576b"
             ],
             [
              0.6666666666666666,
              "#ed7953"
             ],
             [
              0.7777777777777778,
              "#fb9f3a"
             ],
             [
              0.8888888888888888,
              "#fdca26"
             ],
             [
              1,
              "#f0f921"
             ]
            ],
            "type": "heatmap"
           }
          ],
          "heatmapgl": [
           {
            "colorbar": {
             "outlinewidth": 0,
             "ticks": ""
            },
            "colorscale": [
             [
              0,
              "#0d0887"
             ],
             [
              0.1111111111111111,
              "#46039f"
             ],
             [
              0.2222222222222222,
              "#7201a8"
             ],
             [
              0.3333333333333333,
              "#9c179e"
             ],
             [
              0.4444444444444444,
              "#bd3786"
             ],
             [
              0.5555555555555556,
              "#d8576b"
             ],
             [
              0.6666666666666666,
              "#ed7953"
             ],
             [
              0.7777777777777778,
              "#fb9f3a"
             ],
             [
              0.8888888888888888,
              "#fdca26"
             ],
             [
              1,
              "#f0f921"
             ]
            ],
            "type": "heatmapgl"
           }
          ],
          "histogram": [
           {
            "marker": {
             "pattern": {
              "fillmode": "overlay",
              "size": 10,
              "solidity": 0.2
             }
            },
            "type": "histogram"
           }
          ],
          "histogram2d": [
           {
            "colorbar": {
             "outlinewidth": 0,
             "ticks": ""
            },
            "colorscale": [
             [
              0,
              "#0d0887"
             ],
             [
              0.1111111111111111,
              "#46039f"
             ],
             [
              0.2222222222222222,
              "#7201a8"
             ],
             [
              0.3333333333333333,
              "#9c179e"
             ],
             [
              0.4444444444444444,
              "#bd3786"
             ],
             [
              0.5555555555555556,
              "#d8576b"
             ],
             [
              0.6666666666666666,
              "#ed7953"
             ],
             [
              0.7777777777777778,
              "#fb9f3a"
             ],
             [
              0.8888888888888888,
              "#fdca26"
             ],
             [
              1,
              "#f0f921"
             ]
            ],
            "type": "histogram2d"
           }
          ],
          "histogram2dcontour": [
           {
            "colorbar": {
             "outlinewidth": 0,
             "ticks": ""
            },
            "colorscale": [
             [
              0,
              "#0d0887"
             ],
             [
              0.1111111111111111,
              "#46039f"
             ],
             [
              0.2222222222222222,
              "#7201a8"
             ],
             [
              0.3333333333333333,
              "#9c179e"
             ],
             [
              0.4444444444444444,
              "#bd3786"
             ],
             [
              0.5555555555555556,
              "#d8576b"
             ],
             [
              0.6666666666666666,
              "#ed7953"
             ],
             [
              0.7777777777777778,
              "#fb9f3a"
             ],
             [
              0.8888888888888888,
              "#fdca26"
             ],
             [
              1,
              "#f0f921"
             ]
            ],
            "type": "histogram2dcontour"
           }
          ],
          "mesh3d": [
           {
            "colorbar": {
             "outlinewidth": 0,
             "ticks": ""
            },
            "type": "mesh3d"
           }
          ],
          "parcoords": [
           {
            "line": {
             "colorbar": {
              "outlinewidth": 0,
              "ticks": ""
             }
            },
            "type": "parcoords"
           }
          ],
          "pie": [
           {
            "automargin": true,
            "type": "pie"
           }
          ],
          "scatter": [
           {
            "fillpattern": {
             "fillmode": "overlay",
             "size": 10,
             "solidity": 0.2
            },
            "type": "scatter"
           }
          ],
          "scatter3d": [
           {
            "line": {
             "colorbar": {
              "outlinewidth": 0,
              "ticks": ""
             }
            },
            "marker": {
             "colorbar": {
              "outlinewidth": 0,
              "ticks": ""
             }
            },
            "type": "scatter3d"
           }
          ],
          "scattercarpet": [
           {
            "marker": {
             "colorbar": {
              "outlinewidth": 0,
              "ticks": ""
             }
            },
            "type": "scattercarpet"
           }
          ],
          "scattergeo": [
           {
            "marker": {
             "colorbar": {
              "outlinewidth": 0,
              "ticks": ""
             }
            },
            "type": "scattergeo"
           }
          ],
          "scattergl": [
           {
            "marker": {
             "colorbar": {
              "outlinewidth": 0,
              "ticks": ""
             }
            },
            "type": "scattergl"
           }
          ],
          "scattermapbox": [
           {
            "marker": {
             "colorbar": {
              "outlinewidth": 0,
              "ticks": ""
             }
            },
            "type": "scattermapbox"
           }
          ],
          "scatterpolar": [
           {
            "marker": {
             "colorbar": {
              "outlinewidth": 0,
              "ticks": ""
             }
            },
            "type": "scatterpolar"
           }
          ],
          "scatterpolargl": [
           {
            "marker": {
             "colorbar": {
              "outlinewidth": 0,
              "ticks": ""
             }
            },
            "type": "scatterpolargl"
           }
          ],
          "scatterternary": [
           {
            "marker": {
             "colorbar": {
              "outlinewidth": 0,
              "ticks": ""
             }
            },
            "type": "scatterternary"
           }
          ],
          "surface": [
           {
            "colorbar": {
             "outlinewidth": 0,
             "ticks": ""
            },
            "colorscale": [
             [
              0,
              "#0d0887"
             ],
             [
              0.1111111111111111,
              "#46039f"
             ],
             [
              0.2222222222222222,
              "#7201a8"
             ],
             [
              0.3333333333333333,
              "#9c179e"
             ],
             [
              0.4444444444444444,
              "#bd3786"
             ],
             [
              0.5555555555555556,
              "#d8576b"
             ],
             [
              0.6666666666666666,
              "#ed7953"
             ],
             [
              0.7777777777777778,
              "#fb9f3a"
             ],
             [
              0.8888888888888888,
              "#fdca26"
             ],
             [
              1,
              "#f0f921"
             ]
            ],
            "type": "surface"
           }
          ],
          "table": [
           {
            "cells": {
             "fill": {
              "color": "#EBF0F8"
             },
             "line": {
              "color": "white"
             }
            },
            "header": {
             "fill": {
              "color": "#C8D4E3"
             },
             "line": {
              "color": "white"
             }
            },
            "type": "table"
           }
          ]
         },
         "layout": {
          "annotationdefaults": {
           "arrowcolor": "#2a3f5f",
           "arrowhead": 0,
           "arrowwidth": 1
          },
          "autotypenumbers": "strict",
          "coloraxis": {
           "colorbar": {
            "outlinewidth": 0,
            "ticks": ""
           }
          },
          "colorscale": {
           "diverging": [
            [
             0,
             "#8e0152"
            ],
            [
             0.1,
             "#c51b7d"
            ],
            [
             0.2,
             "#de77ae"
            ],
            [
             0.3,
             "#f1b6da"
            ],
            [
             0.4,
             "#fde0ef"
            ],
            [
             0.5,
             "#f7f7f7"
            ],
            [
             0.6,
             "#e6f5d0"
            ],
            [
             0.7,
             "#b8e186"
            ],
            [
             0.8,
             "#7fbc41"
            ],
            [
             0.9,
             "#4d9221"
            ],
            [
             1,
             "#276419"
            ]
           ],
           "sequential": [
            [
             0,
             "#0d0887"
            ],
            [
             0.1111111111111111,
             "#46039f"
            ],
            [
             0.2222222222222222,
             "#7201a8"
            ],
            [
             0.3333333333333333,
             "#9c179e"
            ],
            [
             0.4444444444444444,
             "#bd3786"
            ],
            [
             0.5555555555555556,
             "#d8576b"
            ],
            [
             0.6666666666666666,
             "#ed7953"
            ],
            [
             0.7777777777777778,
             "#fb9f3a"
            ],
            [
             0.8888888888888888,
             "#fdca26"
            ],
            [
             1,
             "#f0f921"
            ]
           ],
           "sequentialminus": [
            [
             0,
             "#0d0887"
            ],
            [
             0.1111111111111111,
             "#46039f"
            ],
            [
             0.2222222222222222,
             "#7201a8"
            ],
            [
             0.3333333333333333,
             "#9c179e"
            ],
            [
             0.4444444444444444,
             "#bd3786"
            ],
            [
             0.5555555555555556,
             "#d8576b"
            ],
            [
             0.6666666666666666,
             "#ed7953"
            ],
            [
             0.7777777777777778,
             "#fb9f3a"
            ],
            [
             0.8888888888888888,
             "#fdca26"
            ],
            [
             1,
             "#f0f921"
            ]
           ]
          },
          "colorway": [
           "#636efa",
           "#EF553B",
           "#00cc96",
           "#ab63fa",
           "#FFA15A",
           "#19d3f3",
           "#FF6692",
           "#B6E880",
           "#FF97FF",
           "#FECB52"
          ],
          "font": {
           "color": "#2a3f5f"
          },
          "geo": {
           "bgcolor": "white",
           "lakecolor": "white",
           "landcolor": "#E5ECF6",
           "showlakes": true,
           "showland": true,
           "subunitcolor": "white"
          },
          "hoverlabel": {
           "align": "left"
          },
          "hovermode": "closest",
          "mapbox": {
           "style": "light"
          },
          "paper_bgcolor": "white",
          "plot_bgcolor": "#E5ECF6",
          "polar": {
           "angularaxis": {
            "gridcolor": "white",
            "linecolor": "white",
            "ticks": ""
           },
           "bgcolor": "#E5ECF6",
           "radialaxis": {
            "gridcolor": "white",
            "linecolor": "white",
            "ticks": ""
           }
          },
          "scene": {
           "xaxis": {
            "backgroundcolor": "#E5ECF6",
            "gridcolor": "white",
            "gridwidth": 2,
            "linecolor": "white",
            "showbackground": true,
            "ticks": "",
            "zerolinecolor": "white"
           },
           "yaxis": {
            "backgroundcolor": "#E5ECF6",
            "gridcolor": "white",
            "gridwidth": 2,
            "linecolor": "white",
            "showbackground": true,
            "ticks": "",
            "zerolinecolor": "white"
           },
           "zaxis": {
            "backgroundcolor": "#E5ECF6",
            "gridcolor": "white",
            "gridwidth": 2,
            "linecolor": "white",
            "showbackground": true,
            "ticks": "",
            "zerolinecolor": "white"
           }
          },
          "shapedefaults": {
           "line": {
            "color": "#2a3f5f"
           }
          },
          "ternary": {
           "aaxis": {
            "gridcolor": "white",
            "linecolor": "white",
            "ticks": ""
           },
           "baxis": {
            "gridcolor": "white",
            "linecolor": "white",
            "ticks": ""
           },
           "bgcolor": "#E5ECF6",
           "caxis": {
            "gridcolor": "white",
            "linecolor": "white",
            "ticks": ""
           }
          },
          "title": {
           "x": 0.05
          },
          "xaxis": {
           "automargin": true,
           "gridcolor": "white",
           "linecolor": "white",
           "ticks": "",
           "title": {
            "standoff": 15
           },
           "zerolinecolor": "white",
           "zerolinewidth": 2
          },
          "yaxis": {
           "automargin": true,
           "gridcolor": "white",
           "linecolor": "white",
           "ticks": "",
           "title": {
            "standoff": 15
           },
           "zerolinecolor": "white",
           "zerolinewidth": 2
          }
         }
        },
        "xaxis": {
         "anchor": "y",
         "domain": [
          0,
          1
         ],
         "title": {
          "text": "increasing_delivery"
         }
        },
        "yaxis": {
         "anchor": "x",
         "domain": [
          0,
          1
         ],
         "title": {
          "text": "run_rate"
         }
        }
       }
      }
     },
     "metadata": {},
     "output_type": "display_data"
    }
   ],
   "source": [
    "px.line(\n",
    "    rooty.groupby([\"batsman\", \"increasing_delivery\"], as_index=False).mean(),\n",
    "    y=\"run_rate\",\n",
    "    x=\"increasing_delivery\",\n",
    "    color=\"batsman\",\n",
    ")"
   ]
  },
  {
   "cell_type": "code",
   "execution_count": 40,
   "metadata": {},
   "outputs": [
    {
     "ename": "TypeError",
     "evalue": "'function' object is not iterable",
     "output_type": "error",
     "traceback": [
      "\u001b[0;31m---------------------------------------------------------------------------\u001b[0m",
      "\u001b[0;31mTypeError\u001b[0m                                 Traceback (most recent call last)",
      "\u001b[1;32m/Volumes/GoogleDrive-114672731332146657526/My Drive/cricket-analysis/polars-test.ipynb Cell 10\u001b[0m in \u001b[0;36m<cell line: 1>\u001b[0;34m()\u001b[0m\n\u001b[1;32m      <a href='vscode-notebook-cell:/Volumes/GoogleDrive-114672731332146657526/My%20Drive/cricket-analysis/polars-test.ipynb#W3sZmlsZQ%3D%3D?line=0'>1</a>\u001b[0m px\u001b[39m.\u001b[39mscatter(\n\u001b[0;32m----> <a href='vscode-notebook-cell:/Volumes/GoogleDrive-114672731332146657526/My%20Drive/cricket-analysis/polars-test.ipynb#W3sZmlsZQ%3D%3D?line=1'>2</a>\u001b[0m     rooty\u001b[39m.\u001b[39;49mgroupby([\u001b[39m\"\u001b[39;49m\u001b[39mdate\u001b[39;49m\u001b[39m\"\u001b[39;49m, \u001b[39m\"\u001b[39;49m\u001b[39minnings\u001b[39;49m\u001b[39m\"\u001b[39;49m])\u001b[39m.\u001b[39;49mmean()\u001b[39m.\u001b[39;49mfilter(\n\u001b[1;32m      <a href='vscode-notebook-cell:/Volumes/GoogleDrive-114672731332146657526/My%20Drive/cricket-analysis/polars-test.ipynb#W3sZmlsZQ%3D%3D?line=2'>3</a>\u001b[0m         \u001b[39mlambda\u001b[39;49;00m x: x[\u001b[39m\"\u001b[39;49m\u001b[39mincreasing_delivery\u001b[39;49m\u001b[39m\"\u001b[39;49m]\u001b[39m.\u001b[39;49mmax() \u001b[39m>\u001b[39;49m\u001b[39m=\u001b[39;49m \u001b[39m150\u001b[39;49m\n\u001b[1;32m      <a href='vscode-notebook-cell:/Volumes/GoogleDrive-114672731332146657526/My%20Drive/cricket-analysis/polars-test.ipynb#W3sZmlsZQ%3D%3D?line=3'>4</a>\u001b[0m     ),\n\u001b[1;32m      <a href='vscode-notebook-cell:/Volumes/GoogleDrive-114672731332146657526/My%20Drive/cricket-analysis/polars-test.ipynb#W3sZmlsZQ%3D%3D?line=4'>5</a>\u001b[0m     x\u001b[39m=\u001b[39m\u001b[39m\"\u001b[39m\u001b[39mincreasing_delivery\u001b[39m\u001b[39m\"\u001b[39m,\n\u001b[1;32m      <a href='vscode-notebook-cell:/Volumes/GoogleDrive-114672731332146657526/My%20Drive/cricket-analysis/polars-test.ipynb#W3sZmlsZQ%3D%3D?line=5'>6</a>\u001b[0m     y\u001b[39m=\u001b[39m\u001b[39m\"\u001b[39m\u001b[39mspot_run_rate\u001b[39m\u001b[39m\"\u001b[39m,\n\u001b[1;32m      <a href='vscode-notebook-cell:/Volumes/GoogleDrive-114672731332146657526/My%20Drive/cricket-analysis/polars-test.ipynb#W3sZmlsZQ%3D%3D?line=6'>7</a>\u001b[0m     color\u001b[39m=\u001b[39m\u001b[39m\"\u001b[39m\u001b[39minnings\u001b[39m\u001b[39m\"\u001b[39m,\n\u001b[1;32m      <a href='vscode-notebook-cell:/Volumes/GoogleDrive-114672731332146657526/My%20Drive/cricket-analysis/polars-test.ipynb#W3sZmlsZQ%3D%3D?line=7'>8</a>\u001b[0m )\n",
      "File \u001b[0;32m~/anaconda3/envs/cricket-analysis/lib/python3.10/site-packages/pandas/core/generic.py:5131\u001b[0m, in \u001b[0;36mNDFrame.filter\u001b[0;34m(self, items, like, regex, axis)\u001b[0m\n\u001b[1;32m   5129\u001b[0m \u001b[39mif\u001b[39;00m items \u001b[39mis\u001b[39;00m \u001b[39mnot\u001b[39;00m \u001b[39mNone\u001b[39;00m:\n\u001b[1;32m   5130\u001b[0m     name \u001b[39m=\u001b[39m \u001b[39mself\u001b[39m\u001b[39m.\u001b[39m_get_axis_name(axis)\n\u001b[0;32m-> 5131\u001b[0m     \u001b[39mreturn\u001b[39;00m \u001b[39mself\u001b[39m\u001b[39m.\u001b[39mreindex(\u001b[39m*\u001b[39m\u001b[39m*\u001b[39m{name: [r \u001b[39mfor\u001b[39;00m r \u001b[39min\u001b[39;00m items \u001b[39mif\u001b[39;00m r \u001b[39min\u001b[39;00m labels]})\n\u001b[1;32m   5132\u001b[0m \u001b[39melif\u001b[39;00m like:\n\u001b[1;32m   5134\u001b[0m     \u001b[39mdef\u001b[39;00m \u001b[39mf\u001b[39m(x) \u001b[39m-\u001b[39m\u001b[39m>\u001b[39m bool_t:\n",
      "\u001b[0;31mTypeError\u001b[0m: 'function' object is not iterable"
     ]
    }
   ],
   "source": [
    "px.scatter(\n",
    "    rooty.groupby([\"date\", \"innings\"]).filter(\n",
    "        lambda x: x[\"increasing_delivery\"].max() >= 150\n",
    "    ),\n",
    "    x=\"increasing_delivery\",\n",
    "    y=\"spot_run_rate\",\n",
    "    color=\"innings\",\n",
    ")"
   ]
  },
  {
   "cell_type": "code",
   "execution_count": 40,
   "metadata": {},
   "outputs": [
    {
     "name": "stderr",
     "output_type": "stream",
     "text": [
      "/var/folders/4x/175nq_n55595j9gh09sn5zkr0000gn/T/ipykernel_36696/3364590638.py:2: DtypeWarning:\n",
      "\n",
      "Columns (2,18,20,21,22,27) have mixed types. Specify dtype option on import or set low_memory=False.\n",
      "\n"
     ]
    }
   ],
   "source": [
    "men_21C = pd.read_csv('./data/Men Test Player Innings Stats - 21st Century.csv')\n",
    "men_20C = pd.read_csv('./data/Men Test Player Innings Stats - 20th Century.csv')"
   ]
  },
  {
   "cell_type": "code",
   "execution_count": 41,
   "metadata": {},
   "outputs": [
    {
     "data": {
      "text/plain": [
       "Index(['Innings Player', 'Innings Runs Scored', 'Innings Runs Scored Num',\n",
       "       'Innings Minutes Batted', 'Innings Batted Flag', 'Innings Not Out Flag',\n",
       "       'Innings Balls Faced', 'Innings Boundary Fours',\n",
       "       'Innings Boundary Sixes', 'Innings Batting Strike Rate',\n",
       "       'Innings Number', 'Opposition', 'Ground', 'Innings Date', 'Country',\n",
       "       '50's', '100's', 'Innings Runs Scored Buckets', 'Innings Overs Bowled',\n",
       "       'Innings Bowled Flag', 'Innings Maidens Bowled',\n",
       "       'Innings Runs Conceded', 'Innings Wickets Taken', '4 Wickets',\n",
       "       '5 Wickets', '10 Wickets', 'Innings Wickets Taken Buckets',\n",
       "       'Innings Economy Rate'],\n",
       "      dtype='object')"
      ]
     },
     "execution_count": 41,
     "metadata": {},
     "output_type": "execute_result"
    }
   ],
   "source": [
    "men_21C.columns"
   ]
  },
  {
   "cell_type": "code",
   "execution_count": 90,
   "metadata": {},
   "outputs": [],
   "source": [
    "batted_20C = men_20C.dropna(subset='Innings Runs Scored')\n",
    "batted_20C = batted_20C[batted_20C['Innings Runs Scored'] != 'DNB']\n",
    "batted_20C['Innings Runs Scored Stripped'] = batted_20C['Innings Runs Scored'].map(lambda x: x.replace('*', ''))\n",
    "batted_20C['Innings Runs Scored Stripped'] = pd.to_numeric(batted_20C['Innings Runs Scored Stripped'], errors='coerce')\n",
    "batted_20C = batted_20C.dropna(subset='Innings Runs Scored Stripped')\n"
   ]
  },
  {
   "cell_type": "code",
   "execution_count": 172,
   "metadata": {},
   "outputs": [],
   "source": [
    "men_20C.loc[men_20C['Innings Player'] == 'AN Cook']['Innings Batted Flag'].value_counts()\n",
    "men_21C['Innings Runs Scored Num'] = pd.to_numeric(men_21C['Innings Runs Scored Num'], errors='coerce')j"
   ]
  },
  {
   "cell_type": "code",
   "execution_count": 186,
   "metadata": {},
   "outputs": [
    {
     "name": "stderr",
     "output_type": "stream",
     "text": [
      "/var/folders/4x/175nq_n55595j9gh09sn5zkr0000gn/T/ipykernel_20140/3352071575.py:3: FutureWarning:\n",
      "\n",
      "Dropping of nuisance columns in DataFrame reductions (with 'numeric_only=None') is deprecated; in a future version this will raise TypeError.  Select only valid columns before calling the reduction.\n",
      "\n"
     ]
    },
    {
     "data": {
      "text/plain": [
       "Innings Player             AN CookAN CookAN CookAN CookAN CookAN CookAN C...\n",
       "Innings Runs Scored Num                                              12472.0\n",
       "Innings Batted Flag                                                    291.0\n",
       "Innings Not Out Flag                                                    16.0\n",
       "Innings Number             2221322313123323322324313433111131211122113132...\n",
       "Opposition                 v Indiav Pakistanv Australiav West Indiesv Aus...\n",
       "Ground                     BirminghamAbu DhabiMelbourneBirminghamBrisbane...\n",
       "Innings Date               2011/08/102015/10/132017/12/262017/08/172010/1...\n",
       "Country                    EnglandEnglandEnglandEnglandEnglandEnglandEngl...\n",
       "50's                                                                    57.0\n",
       "100's                                                                   33.0\n",
       "Innings Bowled Flag                                                      2.0\n",
       "4 Wickets                                                              301.0\n",
       "5 Wickets                                                                0.0\n",
       "10 Wickets                                                               0.0\n",
       "dtype: object"
      ]
     },
     "execution_count": 186,
     "metadata": {},
     "output_type": "execute_result"
    }
   ],
   "source": [
    "cook = men_21C.loc[men_21C['Innings Player'] == 'AN Cook']\n",
    "cook.loc[cook['Innings Runs Scored Num'] > 200][['Innings Runs Scored', 'Ground', 'Innings Date']]\n",
    "cook.drop_duplicates().sum()"
   ]
  },
  {
   "cell_type": "code",
   "execution_count": 173,
   "metadata": {},
   "outputs": [
    {
     "data": {
      "application/vnd.plotly.v1+json": {
       "config": {
        "plotlyServerURL": "https://plot.ly"
       },
       "data": [
        {
         "alignmentgroup": "True",
         "bingroup": "x",
         "hovertemplate": "Innings Runs Scored Num=%{x}<br>count=%{y}<extra></extra>",
         "legendgroup": "",
         "marker": {
          "color": "#636efa",
          "pattern": {
           "shape": ""
          }
         },
         "name": "",
         "offsetgroup": "",
         "orientation": "v",
         "showlegend": false,
         "type": "histogram",
         "x": [
          294,
          263,
          244,
          243,
          235,
          190,
          189,
          176,
          173,
          162,
          160,
          148,
          147,
          139,
          133,
          130,
          130,
          127,
          122,
          118,
          118,
          116,
          116,
          115,
          110,
          109,
          106,
          106,
          105,
          105,
          105,
          105,
          104,
          96,
          96,
          95,
          95,
          94,
          94,
          94,
          89,
          88,
          85,
          85,
          83,
          82,
          81,
          81,
          79,
          79,
          76,
          76,
          76,
          76,
          75,
          72,
          71,
          70,
          70,
          69,
          67,
          67,
          66,
          65,
          65,
          65,
          65,
          63,
          62,
          62,
          61,
          61,
          60,
          60,
          60,
          60,
          60,
          59,
          59,
          58,
          56,
          55,
          55,
          54,
          52,
          52,
          51,
          51,
          50,
          50,
          49,
          49,
          49,
          49,
          49,
          47,
          46,
          46,
          46,
          46,
          45,
          44,
          43,
          43,
          43,
          43,
          43,
          43,
          43,
          42,
          42,
          41,
          40,
          39,
          39,
          39,
          38,
          37,
          37,
          36,
          35,
          35,
          34,
          34,
          34,
          34,
          34,
          32,
          32,
          32,
          30,
          30,
          29,
          29,
          28,
          28,
          27,
          27,
          27,
          27,
          26,
          25,
          24,
          24,
          24,
          24,
          23,
          23,
          23,
          23,
          23,
          22,
          22,
          22,
          21,
          21,
          21,
          21,
          21,
          21,
          20,
          20,
          20,
          19,
          18,
          18,
          18,
          18,
          17,
          17,
          17,
          17,
          17,
          17,
          17,
          17,
          17,
          17,
          16,
          16,
          16,
          16,
          15,
          15,
          15,
          14,
          14,
          14,
          14,
          14,
          13,
          13,
          13,
          13,
          13,
          13,
          13,
          13,
          13,
          12,
          12,
          12,
          12,
          12,
          12,
          12,
          12,
          12,
          11,
          11,
          11,
          11,
          11,
          10,
          10,
          10,
          10,
          10,
          10,
          10,
          10,
          10,
          10,
          10,
          9,
          9,
          9,
          9,
          8,
          8,
          8,
          8,
          7,
          7,
          7,
          7,
          7,
          7,
          7,
          7,
          7,
          7,
          7,
          7,
          6,
          6,
          6,
          5,
          5,
          5,
          5,
          5,
          5,
          4,
          4,
          4,
          4,
          4,
          4,
          4,
          4,
          4,
          3,
          3,
          3,
          3,
          3,
          2,
          2,
          2,
          2,
          2,
          2,
          2,
          1,
          1,
          1,
          1,
          1,
          1,
          1,
          1,
          0,
          0,
          0,
          0,
          0,
          0,
          0,
          0,
          0,
          null,
          null,
          null,
          null,
          null,
          null,
          null,
          null,
          null,
          null,
          null,
          null,
          null,
          null,
          null,
          null,
          null,
          null,
          null,
          null,
          null,
          null,
          null,
          null,
          null,
          null,
          null,
          null,
          null,
          null,
          null,
          null,
          null,
          null,
          null,
          null,
          null,
          null,
          null,
          null,
          null,
          null,
          null,
          null,
          null,
          null,
          null,
          null,
          null,
          null,
          null,
          null,
          null,
          null,
          null,
          null,
          null,
          null,
          null,
          null,
          null,
          null,
          null,
          null,
          null,
          null,
          null,
          null,
          null,
          null,
          null,
          null,
          null,
          null,
          null,
          null,
          null,
          null,
          null,
          null,
          null,
          null,
          null,
          null,
          null,
          null,
          null,
          null,
          null,
          null,
          null,
          null,
          null,
          null,
          null,
          null,
          null,
          null,
          null,
          null,
          null,
          null,
          null,
          null,
          null,
          null,
          null,
          null,
          null,
          null,
          null,
          null,
          null,
          null,
          null,
          null,
          null,
          null,
          null,
          null,
          null,
          null,
          null,
          null,
          null,
          null,
          null,
          null,
          null,
          null,
          null,
          null,
          null,
          null,
          null,
          null,
          null,
          null,
          null,
          null,
          null,
          null,
          null,
          null,
          null,
          null,
          null,
          null,
          null,
          null,
          null,
          null,
          null,
          null,
          null,
          null,
          null,
          null,
          null,
          null,
          null,
          null,
          null,
          null,
          null,
          null,
          null,
          null,
          null,
          null,
          null,
          null,
          null,
          null,
          null,
          null,
          null,
          null,
          null,
          null,
          null,
          null,
          null,
          null,
          null,
          null,
          null,
          null,
          null,
          null,
          null,
          null,
          null,
          null,
          null,
          null,
          null,
          null,
          null,
          null,
          null,
          null,
          null,
          null,
          null,
          null,
          null,
          null,
          null,
          null,
          null,
          null,
          null,
          null,
          null,
          null,
          null,
          null,
          null,
          null,
          null,
          null,
          null,
          null,
          null,
          null,
          null,
          null,
          null,
          null,
          null,
          null,
          null,
          null,
          null,
          null,
          null,
          null,
          null,
          null,
          null,
          null,
          null,
          null,
          null,
          null,
          null,
          null,
          null,
          null,
          null,
          null,
          null,
          null,
          null,
          null,
          null,
          null,
          null,
          null,
          null,
          null,
          null,
          null,
          null,
          null,
          null,
          null,
          null,
          null,
          null,
          null,
          null,
          null,
          null,
          null,
          null,
          null,
          null,
          null,
          null,
          null,
          null,
          null,
          null,
          null,
          null,
          null,
          null,
          null,
          null,
          null,
          null,
          null,
          null,
          null,
          null,
          null,
          null,
          null,
          null,
          294,
          263,
          244,
          243,
          235,
          190,
          189,
          176,
          173,
          162,
          160,
          148,
          147,
          139,
          133,
          130,
          130,
          127,
          122,
          118,
          118,
          116,
          116,
          115,
          110,
          109,
          106,
          106,
          105,
          105,
          105,
          105,
          104,
          96,
          96,
          95,
          95,
          94,
          94,
          94,
          89,
          88,
          85,
          85,
          83,
          82,
          81,
          81,
          79,
          79,
          76,
          76,
          76,
          76,
          75,
          72,
          71,
          70,
          70,
          69,
          67,
          67,
          66,
          65,
          65,
          65,
          65,
          63,
          62,
          62,
          61,
          61,
          60,
          60,
          60,
          60,
          60,
          59,
          59,
          58,
          56,
          55,
          55,
          54,
          52,
          52,
          51,
          51,
          50,
          50,
          49,
          49,
          49,
          49,
          49,
          47,
          46,
          46,
          46,
          46,
          45,
          44,
          43,
          43,
          43,
          43,
          43,
          43,
          43,
          42,
          42,
          41,
          40,
          39,
          39,
          39,
          38,
          37,
          37,
          36,
          35,
          35,
          34,
          34,
          34,
          34,
          34,
          32,
          32,
          32,
          30,
          30,
          29,
          29,
          28,
          28,
          27,
          27,
          27,
          27,
          26,
          25,
          24,
          24,
          24,
          24,
          23,
          23,
          23,
          23,
          23,
          22,
          22,
          22,
          21,
          21,
          21,
          21,
          21,
          21,
          20,
          20,
          20,
          19,
          18,
          18,
          18,
          18,
          17,
          17,
          17,
          17,
          17,
          17,
          17,
          17,
          17,
          17,
          16,
          16,
          16,
          16,
          15,
          15,
          15,
          14,
          14,
          14,
          14,
          14,
          13,
          13,
          13,
          13,
          13,
          13,
          13,
          13,
          13,
          12,
          12,
          12,
          12,
          12,
          12,
          12,
          12,
          12,
          11,
          11,
          11,
          11,
          11,
          10,
          10,
          10,
          10,
          10,
          10,
          10,
          10,
          10,
          10,
          10,
          9,
          9,
          9,
          9,
          8,
          8,
          8,
          8,
          7,
          7,
          7,
          7,
          7,
          7,
          7,
          7,
          7,
          7,
          7,
          7,
          6,
          6,
          6,
          5,
          5,
          5,
          5,
          5,
          5,
          4,
          4,
          4,
          4,
          4,
          4,
          4,
          4,
          4,
          3,
          3,
          3,
          3,
          3,
          2,
          2,
          2,
          2,
          2,
          2,
          2,
          1,
          1,
          1,
          1,
          1,
          1,
          1,
          1,
          0,
          0,
          0,
          0,
          0,
          0,
          0,
          0,
          0,
          null,
          null,
          null,
          null,
          null,
          null,
          null,
          null,
          null,
          null,
          null,
          null,
          null,
          null,
          null,
          null,
          null,
          null,
          null,
          null,
          null,
          null,
          null,
          null,
          null,
          null,
          null,
          null,
          null,
          null,
          null,
          null,
          null,
          null,
          null,
          null,
          null,
          null,
          null,
          null,
          null,
          null,
          null,
          null,
          null,
          null,
          null,
          null,
          null,
          null,
          null,
          null,
          null,
          null,
          null,
          null,
          null,
          null,
          null,
          null,
          null,
          null,
          null,
          null,
          null,
          null,
          null,
          null,
          null,
          null,
          null,
          null,
          null,
          null,
          null,
          null,
          null,
          null,
          null,
          null,
          null,
          null,
          null,
          null,
          null,
          null,
          null,
          null,
          null,
          null,
          null,
          null,
          null,
          null,
          null,
          null,
          null,
          null,
          null,
          null,
          null,
          null,
          null,
          null,
          null,
          null,
          null,
          null,
          null,
          null,
          null,
          null,
          null,
          null,
          null,
          null,
          null,
          null,
          null,
          null,
          null,
          null,
          null,
          null,
          null,
          null,
          null,
          null,
          null,
          null,
          null,
          null,
          null,
          null,
          null,
          null,
          null,
          null,
          null,
          null,
          null,
          null,
          null,
          null,
          null,
          null,
          null,
          null,
          null,
          null,
          null,
          null,
          null,
          null,
          null,
          null,
          null,
          null,
          null,
          null,
          null,
          null,
          null,
          null,
          null,
          null,
          null,
          null,
          null,
          null,
          null,
          null,
          null,
          null,
          null,
          null,
          null,
          null,
          null,
          null,
          null,
          null,
          null,
          null,
          null,
          null,
          null,
          null,
          null,
          null,
          null,
          null,
          null,
          null,
          null,
          null,
          null,
          null,
          null,
          null,
          null,
          null,
          null,
          null,
          null,
          null,
          null,
          null,
          null,
          null,
          null,
          null,
          null,
          null,
          null,
          null,
          null,
          null,
          null,
          null,
          null,
          null,
          null,
          null,
          null,
          null,
          null,
          null,
          null,
          null,
          null,
          null,
          null,
          null,
          null,
          null,
          null,
          null,
          null,
          null,
          null,
          null,
          null,
          null,
          null,
          null,
          null,
          null,
          null,
          null,
          null,
          null,
          null,
          null,
          null,
          null,
          null,
          null,
          null,
          null,
          null,
          null,
          null,
          null,
          null,
          null,
          null,
          null,
          null,
          null,
          null,
          null,
          null,
          null,
          null,
          null,
          null,
          null,
          null,
          null,
          null,
          null,
          null,
          null,
          null,
          null,
          null,
          null,
          null,
          null,
          null,
          null,
          null,
          null,
          null,
          null,
          null,
          null,
          null,
          null,
          null,
          294,
          263,
          244,
          243,
          235,
          190,
          189,
          176,
          173,
          162,
          160,
          148,
          147,
          139,
          133,
          130,
          130,
          127,
          122,
          118,
          118,
          116,
          116,
          115,
          110,
          109,
          106,
          106,
          105,
          105,
          105,
          105,
          104,
          96,
          96,
          95,
          95,
          94,
          94,
          94,
          89,
          88,
          85,
          85,
          83,
          82,
          81,
          81,
          79,
          79,
          76,
          76,
          76,
          76,
          75,
          72,
          71,
          70,
          70,
          69,
          67,
          67,
          66,
          65,
          65,
          65,
          65,
          63,
          62,
          62,
          61,
          61,
          60,
          60,
          60,
          60,
          60,
          59,
          59,
          58,
          56,
          55,
          55,
          54,
          52,
          52,
          51,
          51,
          50,
          50,
          49,
          49,
          49,
          49,
          49,
          47,
          46,
          46,
          46,
          46,
          45,
          44,
          43,
          43,
          43,
          43,
          43,
          43,
          43,
          42,
          42,
          41,
          40,
          39,
          39,
          39,
          38,
          37,
          37,
          36,
          35,
          35,
          34,
          34,
          34,
          34,
          34,
          32,
          32,
          32,
          30,
          30,
          29,
          29,
          28,
          28,
          27,
          27,
          27,
          27,
          26,
          25,
          24,
          24,
          24,
          24,
          23,
          23,
          23,
          23,
          23,
          22,
          22,
          22,
          21,
          21,
          21,
          21,
          21,
          21,
          20,
          20,
          20,
          19,
          18,
          18,
          18,
          18,
          17,
          17,
          17,
          17,
          17,
          17,
          17,
          17,
          17,
          17,
          16,
          16,
          16,
          16,
          15,
          15,
          15,
          14,
          14,
          14,
          14,
          14,
          13,
          13,
          13,
          13,
          13,
          13,
          13,
          13,
          13,
          12,
          12,
          12,
          12,
          12,
          12,
          12,
          12,
          12,
          11,
          11,
          11,
          11,
          11,
          10,
          10,
          10,
          10,
          10,
          10,
          10,
          10,
          10,
          10,
          10,
          9,
          9,
          9,
          9,
          8,
          8,
          8,
          8,
          7,
          7,
          7,
          7,
          7,
          7,
          7,
          7,
          7,
          7,
          7,
          7,
          6,
          6,
          6,
          5,
          5,
          5,
          5,
          5,
          5,
          4,
          4,
          4,
          4,
          4,
          4,
          4,
          4,
          4,
          3,
          3,
          3,
          3,
          3,
          2,
          2,
          2,
          2,
          2,
          2,
          2,
          1,
          1,
          1,
          1,
          1,
          1,
          1,
          1,
          0,
          0,
          0,
          0,
          0,
          0,
          0,
          0,
          0,
          null,
          null,
          null,
          null,
          null,
          null,
          null,
          null,
          null,
          null,
          null,
          null,
          null,
          null,
          null,
          null,
          null,
          null,
          null,
          null,
          null,
          null,
          null,
          null,
          null,
          null,
          null,
          null,
          null,
          null,
          null,
          null,
          null,
          null,
          null,
          null,
          null,
          null,
          null,
          null,
          null,
          null,
          null,
          null,
          null,
          null,
          null,
          null,
          null,
          null,
          null,
          null,
          null,
          null,
          null,
          null,
          null,
          null,
          null,
          null,
          null,
          null,
          null,
          null,
          null,
          null,
          null,
          null,
          null,
          null,
          null,
          null,
          null,
          null,
          null,
          null,
          null,
          null,
          null,
          null,
          null,
          null,
          null,
          null,
          null,
          null,
          null,
          null,
          null,
          null,
          null,
          null,
          null,
          null,
          null,
          null,
          null,
          null,
          null,
          null,
          null,
          null,
          null,
          null,
          null,
          null,
          null,
          null,
          null,
          null,
          null,
          null,
          null,
          null,
          null,
          null,
          null,
          null,
          null,
          null,
          null,
          null,
          null,
          null,
          null,
          null,
          null,
          null,
          null,
          null,
          null,
          null,
          null,
          null,
          null,
          null,
          null,
          null,
          null,
          null,
          null,
          null,
          null,
          null,
          null,
          null,
          null,
          null,
          null,
          null,
          null,
          null,
          null,
          null,
          null,
          null,
          null,
          null,
          null,
          null,
          null,
          null,
          null,
          null,
          null,
          null,
          null,
          null,
          null,
          null,
          null,
          null,
          null,
          null,
          null,
          null,
          null,
          null,
          null,
          null,
          null,
          null,
          null,
          null,
          null,
          null,
          null,
          null,
          null,
          null,
          null,
          null,
          null,
          null,
          null,
          null,
          null,
          null,
          null,
          null,
          null,
          null,
          null,
          null,
          null,
          null,
          null,
          null,
          null,
          null,
          null,
          null,
          null,
          null,
          null,
          null,
          null,
          null,
          null,
          null,
          null,
          null,
          null,
          null,
          null,
          null,
          null,
          null,
          null,
          null,
          null,
          null,
          null,
          null,
          null,
          null,
          null,
          null,
          null,
          null,
          null,
          null,
          null,
          null,
          null,
          null,
          null,
          null,
          null,
          null,
          null,
          null,
          null,
          null,
          null,
          null,
          null,
          null,
          null,
          null,
          null,
          null,
          null,
          null,
          null,
          null,
          null,
          null,
          null,
          null,
          null,
          null,
          null,
          null,
          null,
          null,
          null,
          null,
          null,
          null,
          null,
          null,
          null,
          null,
          null,
          null,
          null,
          null,
          null,
          null,
          null,
          null,
          null,
          null,
          null,
          null,
          null,
          null,
          null,
          null,
          null,
          null,
          null,
          null,
          null,
          null
         ],
         "xaxis": "x",
         "yaxis": "y"
        }
       ],
       "layout": {
        "barmode": "relative",
        "legend": {
         "tracegroupgap": 0
        },
        "margin": {
         "t": 60
        },
        "template": {
         "data": {
          "bar": [
           {
            "error_x": {
             "color": "#2a3f5f"
            },
            "error_y": {
             "color": "#2a3f5f"
            },
            "marker": {
             "line": {
              "color": "#E5ECF6",
              "width": 0.5
             },
             "pattern": {
              "fillmode": "overlay",
              "size": 10,
              "solidity": 0.2
             }
            },
            "type": "bar"
           }
          ],
          "barpolar": [
           {
            "marker": {
             "line": {
              "color": "#E5ECF6",
              "width": 0.5
             },
             "pattern": {
              "fillmode": "overlay",
              "size": 10,
              "solidity": 0.2
             }
            },
            "type": "barpolar"
           }
          ],
          "carpet": [
           {
            "aaxis": {
             "endlinecolor": "#2a3f5f",
             "gridcolor": "white",
             "linecolor": "white",
             "minorgridcolor": "white",
             "startlinecolor": "#2a3f5f"
            },
            "baxis": {
             "endlinecolor": "#2a3f5f",
             "gridcolor": "white",
             "linecolor": "white",
             "minorgridcolor": "white",
             "startlinecolor": "#2a3f5f"
            },
            "type": "carpet"
           }
          ],
          "choropleth": [
           {
            "colorbar": {
             "outlinewidth": 0,
             "ticks": ""
            },
            "type": "choropleth"
           }
          ],
          "contour": [
           {
            "colorbar": {
             "outlinewidth": 0,
             "ticks": ""
            },
            "colorscale": [
             [
              0,
              "#0d0887"
             ],
             [
              0.1111111111111111,
              "#46039f"
             ],
             [
              0.2222222222222222,
              "#7201a8"
             ],
             [
              0.3333333333333333,
              "#9c179e"
             ],
             [
              0.4444444444444444,
              "#bd3786"
             ],
             [
              0.5555555555555556,
              "#d8576b"
             ],
             [
              0.6666666666666666,
              "#ed7953"
             ],
             [
              0.7777777777777778,
              "#fb9f3a"
             ],
             [
              0.8888888888888888,
              "#fdca26"
             ],
             [
              1,
              "#f0f921"
             ]
            ],
            "type": "contour"
           }
          ],
          "contourcarpet": [
           {
            "colorbar": {
             "outlinewidth": 0,
             "ticks": ""
            },
            "type": "contourcarpet"
           }
          ],
          "heatmap": [
           {
            "colorbar": {
             "outlinewidth": 0,
             "ticks": ""
            },
            "colorscale": [
             [
              0,
              "#0d0887"
             ],
             [
              0.1111111111111111,
              "#46039f"
             ],
             [
              0.2222222222222222,
              "#7201a8"
             ],
             [
              0.3333333333333333,
              "#9c179e"
             ],
             [
              0.4444444444444444,
              "#bd3786"
             ],
             [
              0.5555555555555556,
              "#d8576b"
             ],
             [
              0.6666666666666666,
              "#ed7953"
             ],
             [
              0.7777777777777778,
              "#fb9f3a"
             ],
             [
              0.8888888888888888,
              "#fdca26"
             ],
             [
              1,
              "#f0f921"
             ]
            ],
            "type": "heatmap"
           }
          ],
          "heatmapgl": [
           {
            "colorbar": {
             "outlinewidth": 0,
             "ticks": ""
            },
            "colorscale": [
             [
              0,
              "#0d0887"
             ],
             [
              0.1111111111111111,
              "#46039f"
             ],
             [
              0.2222222222222222,
              "#7201a8"
             ],
             [
              0.3333333333333333,
              "#9c179e"
             ],
             [
              0.4444444444444444,
              "#bd3786"
             ],
             [
              0.5555555555555556,
              "#d8576b"
             ],
             [
              0.6666666666666666,
              "#ed7953"
             ],
             [
              0.7777777777777778,
              "#fb9f3a"
             ],
             [
              0.8888888888888888,
              "#fdca26"
             ],
             [
              1,
              "#f0f921"
             ]
            ],
            "type": "heatmapgl"
           }
          ],
          "histogram": [
           {
            "marker": {
             "pattern": {
              "fillmode": "overlay",
              "size": 10,
              "solidity": 0.2
             }
            },
            "type": "histogram"
           }
          ],
          "histogram2d": [
           {
            "colorbar": {
             "outlinewidth": 0,
             "ticks": ""
            },
            "colorscale": [
             [
              0,
              "#0d0887"
             ],
             [
              0.1111111111111111,
              "#46039f"
             ],
             [
              0.2222222222222222,
              "#7201a8"
             ],
             [
              0.3333333333333333,
              "#9c179e"
             ],
             [
              0.4444444444444444,
              "#bd3786"
             ],
             [
              0.5555555555555556,
              "#d8576b"
             ],
             [
              0.6666666666666666,
              "#ed7953"
             ],
             [
              0.7777777777777778,
              "#fb9f3a"
             ],
             [
              0.8888888888888888,
              "#fdca26"
             ],
             [
              1,
              "#f0f921"
             ]
            ],
            "type": "histogram2d"
           }
          ],
          "histogram2dcontour": [
           {
            "colorbar": {
             "outlinewidth": 0,
             "ticks": ""
            },
            "colorscale": [
             [
              0,
              "#0d0887"
             ],
             [
              0.1111111111111111,
              "#46039f"
             ],
             [
              0.2222222222222222,
              "#7201a8"
             ],
             [
              0.3333333333333333,
              "#9c179e"
             ],
             [
              0.4444444444444444,
              "#bd3786"
             ],
             [
              0.5555555555555556,
              "#d8576b"
             ],
             [
              0.6666666666666666,
              "#ed7953"
             ],
             [
              0.7777777777777778,
              "#fb9f3a"
             ],
             [
              0.8888888888888888,
              "#fdca26"
             ],
             [
              1,
              "#f0f921"
             ]
            ],
            "type": "histogram2dcontour"
           }
          ],
          "mesh3d": [
           {
            "colorbar": {
             "outlinewidth": 0,
             "ticks": ""
            },
            "type": "mesh3d"
           }
          ],
          "parcoords": [
           {
            "line": {
             "colorbar": {
              "outlinewidth": 0,
              "ticks": ""
             }
            },
            "type": "parcoords"
           }
          ],
          "pie": [
           {
            "automargin": true,
            "type": "pie"
           }
          ],
          "scatter": [
           {
            "fillpattern": {
             "fillmode": "overlay",
             "size": 10,
             "solidity": 0.2
            },
            "type": "scatter"
           }
          ],
          "scatter3d": [
           {
            "line": {
             "colorbar": {
              "outlinewidth": 0,
              "ticks": ""
             }
            },
            "marker": {
             "colorbar": {
              "outlinewidth": 0,
              "ticks": ""
             }
            },
            "type": "scatter3d"
           }
          ],
          "scattercarpet": [
           {
            "marker": {
             "colorbar": {
              "outlinewidth": 0,
              "ticks": ""
             }
            },
            "type": "scattercarpet"
           }
          ],
          "scattergeo": [
           {
            "marker": {
             "colorbar": {
              "outlinewidth": 0,
              "ticks": ""
             }
            },
            "type": "scattergeo"
           }
          ],
          "scattergl": [
           {
            "marker": {
             "colorbar": {
              "outlinewidth": 0,
              "ticks": ""
             }
            },
            "type": "scattergl"
           }
          ],
          "scattermapbox": [
           {
            "marker": {
             "colorbar": {
              "outlinewidth": 0,
              "ticks": ""
             }
            },
            "type": "scattermapbox"
           }
          ],
          "scatterpolar": [
           {
            "marker": {
             "colorbar": {
              "outlinewidth": 0,
              "ticks": ""
             }
            },
            "type": "scatterpolar"
           }
          ],
          "scatterpolargl": [
           {
            "marker": {
             "colorbar": {
              "outlinewidth": 0,
              "ticks": ""
             }
            },
            "type": "scatterpolargl"
           }
          ],
          "scatterternary": [
           {
            "marker": {
             "colorbar": {
              "outlinewidth": 0,
              "ticks": ""
             }
            },
            "type": "scatterternary"
           }
          ],
          "surface": [
           {
            "colorbar": {
             "outlinewidth": 0,
             "ticks": ""
            },
            "colorscale": [
             [
              0,
              "#0d0887"
             ],
             [
              0.1111111111111111,
              "#46039f"
             ],
             [
              0.2222222222222222,
              "#7201a8"
             ],
             [
              0.3333333333333333,
              "#9c179e"
             ],
             [
              0.4444444444444444,
              "#bd3786"
             ],
             [
              0.5555555555555556,
              "#d8576b"
             ],
             [
              0.6666666666666666,
              "#ed7953"
             ],
             [
              0.7777777777777778,
              "#fb9f3a"
             ],
             [
              0.8888888888888888,
              "#fdca26"
             ],
             [
              1,
              "#f0f921"
             ]
            ],
            "type": "surface"
           }
          ],
          "table": [
           {
            "cells": {
             "fill": {
              "color": "#EBF0F8"
             },
             "line": {
              "color": "white"
             }
            },
            "header": {
             "fill": {
              "color": "#C8D4E3"
             },
             "line": {
              "color": "white"
             }
            },
            "type": "table"
           }
          ]
         },
         "layout": {
          "annotationdefaults": {
           "arrowcolor": "#2a3f5f",
           "arrowhead": 0,
           "arrowwidth": 1
          },
          "autotypenumbers": "strict",
          "coloraxis": {
           "colorbar": {
            "outlinewidth": 0,
            "ticks": ""
           }
          },
          "colorscale": {
           "diverging": [
            [
             0,
             "#8e0152"
            ],
            [
             0.1,
             "#c51b7d"
            ],
            [
             0.2,
             "#de77ae"
            ],
            [
             0.3,
             "#f1b6da"
            ],
            [
             0.4,
             "#fde0ef"
            ],
            [
             0.5,
             "#f7f7f7"
            ],
            [
             0.6,
             "#e6f5d0"
            ],
            [
             0.7,
             "#b8e186"
            ],
            [
             0.8,
             "#7fbc41"
            ],
            [
             0.9,
             "#4d9221"
            ],
            [
             1,
             "#276419"
            ]
           ],
           "sequential": [
            [
             0,
             "#0d0887"
            ],
            [
             0.1111111111111111,
             "#46039f"
            ],
            [
             0.2222222222222222,
             "#7201a8"
            ],
            [
             0.3333333333333333,
             "#9c179e"
            ],
            [
             0.4444444444444444,
             "#bd3786"
            ],
            [
             0.5555555555555556,
             "#d8576b"
            ],
            [
             0.6666666666666666,
             "#ed7953"
            ],
            [
             0.7777777777777778,
             "#fb9f3a"
            ],
            [
             0.8888888888888888,
             "#fdca26"
            ],
            [
             1,
             "#f0f921"
            ]
           ],
           "sequentialminus": [
            [
             0,
             "#0d0887"
            ],
            [
             0.1111111111111111,
             "#46039f"
            ],
            [
             0.2222222222222222,
             "#7201a8"
            ],
            [
             0.3333333333333333,
             "#9c179e"
            ],
            [
             0.4444444444444444,
             "#bd3786"
            ],
            [
             0.5555555555555556,
             "#d8576b"
            ],
            [
             0.6666666666666666,
             "#ed7953"
            ],
            [
             0.7777777777777778,
             "#fb9f3a"
            ],
            [
             0.8888888888888888,
             "#fdca26"
            ],
            [
             1,
             "#f0f921"
            ]
           ]
          },
          "colorway": [
           "#636efa",
           "#EF553B",
           "#00cc96",
           "#ab63fa",
           "#FFA15A",
           "#19d3f3",
           "#FF6692",
           "#B6E880",
           "#FF97FF",
           "#FECB52"
          ],
          "font": {
           "color": "#2a3f5f"
          },
          "geo": {
           "bgcolor": "white",
           "lakecolor": "white",
           "landcolor": "#E5ECF6",
           "showlakes": true,
           "showland": true,
           "subunitcolor": "white"
          },
          "hoverlabel": {
           "align": "left"
          },
          "hovermode": "closest",
          "mapbox": {
           "style": "light"
          },
          "paper_bgcolor": "white",
          "plot_bgcolor": "#E5ECF6",
          "polar": {
           "angularaxis": {
            "gridcolor": "white",
            "linecolor": "white",
            "ticks": ""
           },
           "bgcolor": "#E5ECF6",
           "radialaxis": {
            "gridcolor": "white",
            "linecolor": "white",
            "ticks": ""
           }
          },
          "scene": {
           "xaxis": {
            "backgroundcolor": "#E5ECF6",
            "gridcolor": "white",
            "gridwidth": 2,
            "linecolor": "white",
            "showbackground": true,
            "ticks": "",
            "zerolinecolor": "white"
           },
           "yaxis": {
            "backgroundcolor": "#E5ECF6",
            "gridcolor": "white",
            "gridwidth": 2,
            "linecolor": "white",
            "showbackground": true,
            "ticks": "",
            "zerolinecolor": "white"
           },
           "zaxis": {
            "backgroundcolor": "#E5ECF6",
            "gridcolor": "white",
            "gridwidth": 2,
            "linecolor": "white",
            "showbackground": true,
            "ticks": "",
            "zerolinecolor": "white"
           }
          },
          "shapedefaults": {
           "line": {
            "color": "#2a3f5f"
           }
          },
          "ternary": {
           "aaxis": {
            "gridcolor": "white",
            "linecolor": "white",
            "ticks": ""
           },
           "baxis": {
            "gridcolor": "white",
            "linecolor": "white",
            "ticks": ""
           },
           "bgcolor": "#E5ECF6",
           "caxis": {
            "gridcolor": "white",
            "linecolor": "white",
            "ticks": ""
           }
          },
          "title": {
           "x": 0.05
          },
          "xaxis": {
           "automargin": true,
           "gridcolor": "white",
           "linecolor": "white",
           "ticks": "",
           "title": {
            "standoff": 15
           },
           "zerolinecolor": "white",
           "zerolinewidth": 2
          },
          "yaxis": {
           "automargin": true,
           "gridcolor": "white",
           "linecolor": "white",
           "ticks": "",
           "title": {
            "standoff": 15
           },
           "zerolinecolor": "white",
           "zerolinewidth": 2
          }
         }
        },
        "xaxis": {
         "anchor": "y",
         "domain": [
          0,
          1
         ],
         "title": {
          "text": "Innings Runs Scored Num"
         }
        },
        "yaxis": {
         "anchor": "x",
         "domain": [
          0,
          1
         ],
         "title": {
          "text": "count"
         }
        }
       }
      }
     },
     "metadata": {},
     "output_type": "display_data"
    }
   ],
   "source": [
    "px.histogram(men_21C.loc[men_21C['Innings Player'] == 'AN Cook'], x='Innings Runs Scored Num')"
   ]
  },
  {
   "cell_type": "code",
   "execution_count": 105,
   "metadata": {},
   "outputs": [],
   "source": [
    "batting_average = batted_20C.groupby('Innings Player').sum().reset_index()\n",
    "batting_average['Total Outs'] = batting_average['Innings Batted Flag'] - batting_average['Innings Not Out Flag']\n",
    "batting_average['Average'] = batting_average['Innings Runs Scored Stripped'] / batting_average['Total Outs']"
   ]
  },
  {
   "cell_type": "code",
   "execution_count": 107,
   "metadata": {},
   "outputs": [
    {
     "data": {
      "text/html": [
       "<div>\n",
       "<style scoped>\n",
       "    .dataframe tbody tr th:only-of-type {\n",
       "        vertical-align: middle;\n",
       "    }\n",
       "\n",
       "    .dataframe tbody tr th {\n",
       "        vertical-align: top;\n",
       "    }\n",
       "\n",
       "    .dataframe thead th {\n",
       "        text-align: right;\n",
       "    }\n",
       "</style>\n",
       "<table border=\"1\" class=\"dataframe\">\n",
       "  <thead>\n",
       "    <tr style=\"text-align: right;\">\n",
       "      <th></th>\n",
       "      <th>Innings Player</th>\n",
       "      <th>Innings Batted Flag</th>\n",
       "      <th>Innings Not Out Flag</th>\n",
       "      <th>50's</th>\n",
       "      <th>100's</th>\n",
       "      <th>Innings Bowled Flag</th>\n",
       "      <th>4 Wickets</th>\n",
       "      <th>5 Wickets</th>\n",
       "      <th>10 Wickets</th>\n",
       "      <th>Innings Runs Scored Stripped</th>\n",
       "      <th>Total Outs</th>\n",
       "      <th>Average</th>\n",
       "    </tr>\n",
       "  </thead>\n",
       "  <tbody>\n",
       "    <tr>\n",
       "      <th>893</th>\n",
       "      <td>IVA Richards</td>\n",
       "      <td>182.0</td>\n",
       "      <td>12.0</td>\n",
       "      <td>45.0</td>\n",
       "      <td>24.0</td>\n",
       "      <td>0.0</td>\n",
       "      <td>0.0</td>\n",
       "      <td>0.0</td>\n",
       "      <td>0.0</td>\n",
       "      <td>8540.0</td>\n",
       "      <td>170.0</td>\n",
       "      <td>50.235294</td>\n",
       "    </tr>\n",
       "  </tbody>\n",
       "</table>\n",
       "</div>"
      ],
      "text/plain": [
       "    Innings Player  Innings Batted Flag  Innings Not Out Flag  50's  100's  \\\n",
       "893   IVA Richards                182.0                  12.0  45.0   24.0   \n",
       "\n",
       "     Innings Bowled Flag  4 Wickets  5 Wickets  10 Wickets  \\\n",
       "893                  0.0        0.0        0.0         0.0   \n",
       "\n",
       "     Innings Runs Scored Stripped  Total Outs    Average  \n",
       "893                        8540.0       170.0  50.235294  "
      ]
     },
     "execution_count": 107,
     "metadata": {},
     "output_type": "execute_result"
    }
   ],
   "source": [
    "batting_average.loc[batting_average['Innings Player'] == 'IVA Richards']"
   ]
  },
  {
   "cell_type": "code",
   "execution_count": 295,
   "metadata": {},
   "outputs": [
    {
     "data": {
      "application/javascript": "\n            setTimeout(function() {\n                var nbb_cell_id = 295;\n                var nbb_unformatted_code = \"def process_batting_data(df):\\n    # Load the data\\n    df = df.drop_duplicates()\\n\\n    # Remove non-numeric Innings Runs Scored\\n    batted_df = df.dropna(subset='Innings Runs Scored')\\n    batted_df = batted_df[batted_df['Innings Runs Scored'] != 'DNB']\\n    batted_df['Innings Runs Scored Stripped'] = batted_df['Innings Runs Scored'].map(lambda x: x.replace('*', ''))\\n    batted_df['Innings Runs Scored Stripped'] = pd.to_numeric(batted_df['Innings Runs Scored Stripped'], errors='coerce')\\n    batted_df = batted_df.dropna(subset='Innings Runs Scored Stripped')\\n\\n    # Calculate batting average\\n    batting_average = batted_df.groupby('Innings Player').sum().reset_index()\\n    batting_average['Total Outs'] = batting_average['Innings Batted Flag'] - batting_average['Innings Not Out Flag']\\n    batting_average['Batting Average'] = batting_average['Innings Runs Scored Stripped'] / batting_average['Total Outs']\\n\\n    return batting_average\\n\\ndef process_bowling_data(df):\\n    # Load the data\\n    df = df.drop_duplicates()\\n\\n    bowled_df = df.loc[df['Innings Bowled Flag'] == 1.0]\\n    bowled_df['Innings Runs Conceded'] = pd.to_numeric(bowled_df['Innings Runs Conceded'], errors='coerce')\\n    bowled_df['Innings Wickets Taken'] = pd.to_numeric(bowled_df['Innings Wickets Taken'], errors='coerce')\\n    bowled_average = bowled_df.groupby('Innings Player').sum().reset_index()\\n    bowled_average['Bowling Average'] = bowled_average['Innings Runs Conceded'] / bowled_average['Innings Wickets Taken']\\n\\n\\n    return bowled_average\\n\\ndef load_and_concat():\\n    men_19C = pd.read_csv('./data/Men Test Player Innings Stats - 19th Century.csv')\\n    men_20C = pd.read_csv('./data/Men Test Player Innings Stats - 20th Century.csv')\\n    men_21C = pd.read_csv('./data/Men Test Player Innings Stats - 21st Century.csv')\\n\\n    all_men = pd.concat([men_19C, men_20C, men_21C])\\n    \\n    return all_men\\n\\ndef load_and_merge():\\n    all_men = load_and_concat()\\n    all_men_batting = process_batting_data(all_men)\\n    all_men_bowling = process_bowling_data(all_men)\\n    all_men=pd.merge(left=all_men_batting, right=all_men_bowling, on='Innings Player')\\n\\ndef clean_df(all_men):\\n    max = all_men.loc[all_men['Bowling Average'] != np.inf]['Bowling Average'].max()\\n    all_men['Bowling Average'] = all_men['Bowling Average'].replace(np.inf, max)\\n    all_men[\\\"Bowling Average\\\"] = all_men[\\\"Bowling Average\\\"].replace(np.nan, max)\\n    return all_men\\n\\ndef load_merge_clean():\\n    all_men = load_and_merge()\\n    all_men_clean = clean_df(all_men)\\n    return all_men\\n    \\n    \";\n                var nbb_formatted_code = \"def process_batting_data(df):\\n    # Load the data\\n    df = df.drop_duplicates()\\n\\n    # Remove non-numeric Innings Runs Scored\\n    batted_df = df.dropna(subset=\\\"Innings Runs Scored\\\")\\n    batted_df = batted_df[batted_df[\\\"Innings Runs Scored\\\"] != \\\"DNB\\\"]\\n    batted_df[\\\"Innings Runs Scored Stripped\\\"] = batted_df[\\\"Innings Runs Scored\\\"].map(\\n        lambda x: x.replace(\\\"*\\\", \\\"\\\")\\n    )\\n    batted_df[\\\"Innings Runs Scored Stripped\\\"] = pd.to_numeric(\\n        batted_df[\\\"Innings Runs Scored Stripped\\\"], errors=\\\"coerce\\\"\\n    )\\n    batted_df = batted_df.dropna(subset=\\\"Innings Runs Scored Stripped\\\")\\n\\n    # Calculate batting average\\n    batting_average = batted_df.groupby(\\\"Innings Player\\\").sum().reset_index()\\n    batting_average[\\\"Total Outs\\\"] = (\\n        batting_average[\\\"Innings Batted Flag\\\"] - batting_average[\\\"Innings Not Out Flag\\\"]\\n    )\\n    batting_average[\\\"Batting Average\\\"] = (\\n        batting_average[\\\"Innings Runs Scored Stripped\\\"] / batting_average[\\\"Total Outs\\\"]\\n    )\\n\\n    return batting_average\\n\\n\\ndef process_bowling_data(df):\\n    # Load the data\\n    df = df.drop_duplicates()\\n\\n    bowled_df = df.loc[df[\\\"Innings Bowled Flag\\\"] == 1.0]\\n    bowled_df[\\\"Innings Runs Conceded\\\"] = pd.to_numeric(\\n        bowled_df[\\\"Innings Runs Conceded\\\"], errors=\\\"coerce\\\"\\n    )\\n    bowled_df[\\\"Innings Wickets Taken\\\"] = pd.to_numeric(\\n        bowled_df[\\\"Innings Wickets Taken\\\"], errors=\\\"coerce\\\"\\n    )\\n    bowled_average = bowled_df.groupby(\\\"Innings Player\\\").sum().reset_index()\\n    bowled_average[\\\"Bowling Average\\\"] = (\\n        bowled_average[\\\"Innings Runs Conceded\\\"]\\n        / bowled_average[\\\"Innings Wickets Taken\\\"]\\n    )\\n\\n    return bowled_average\\n\\n\\ndef load_and_concat():\\n    men_19C = pd.read_csv(\\\"./data/Men Test Player Innings Stats - 19th Century.csv\\\")\\n    men_20C = pd.read_csv(\\\"./data/Men Test Player Innings Stats - 20th Century.csv\\\")\\n    men_21C = pd.read_csv(\\\"./data/Men Test Player Innings Stats - 21st Century.csv\\\")\\n\\n    all_men = pd.concat([men_19C, men_20C, men_21C])\\n\\n    return all_men\\n\\n\\ndef load_and_merge():\\n    all_men = load_and_concat()\\n    all_men_batting = process_batting_data(all_men)\\n    all_men_bowling = process_bowling_data(all_men)\\n    all_men = pd.merge(left=all_men_batting, right=all_men_bowling, on=\\\"Innings Player\\\")\\n\\n\\ndef clean_df(all_men):\\n    max = all_men.loc[all_men[\\\"Bowling Average\\\"] != np.inf][\\\"Bowling Average\\\"].max()\\n    all_men[\\\"Bowling Average\\\"] = all_men[\\\"Bowling Average\\\"].replace(np.inf, max)\\n    all_men[\\\"Bowling Average\\\"] = all_men[\\\"Bowling Average\\\"].replace(np.nan, max)\\n    return all_men\\n\\n\\ndef load_merge_clean():\\n    all_men = load_and_merge()\\n    all_men_clean = clean_df(all_men)\\n    return all_men\";\n                var nbb_cells = Jupyter.notebook.get_cells();\n                for (var i = 0; i < nbb_cells.length; ++i) {\n                    if (nbb_cells[i].input_prompt_number == nbb_cell_id) {\n                        if (nbb_cells[i].get_text() == nbb_unformatted_code) {\n                             nbb_cells[i].set_text(nbb_formatted_code);\n                        }\n                        break;\n                    }\n                }\n            }, 500);\n            ",
      "text/plain": [
       "<IPython.core.display.Javascript object>"
      ]
     },
     "metadata": {},
     "output_type": "display_data"
    }
   ],
   "source": [
    "def process_batting_data(df):\n",
    "    # Load the data\n",
    "    df = df.drop_duplicates()\n",
    "\n",
    "    # Remove non-numeric Innings Runs Scored\n",
    "    batted_df = df.dropna(subset=\"Innings Runs Scored\")\n",
    "    batted_df = batted_df[batted_df[\"Innings Runs Scored\"] != \"DNB\"]\n",
    "    batted_df[\"Innings Runs Scored Stripped\"] = batted_df[\"Innings Runs Scored\"].map(\n",
    "        lambda x: x.replace(\"*\", \"\")\n",
    "    )\n",
    "    batted_df[\"Innings Runs Scored Stripped\"] = pd.to_numeric(\n",
    "        batted_df[\"Innings Runs Scored Stripped\"], errors=\"coerce\"\n",
    "    )\n",
    "    batted_df = batted_df.dropna(subset=\"Innings Runs Scored Stripped\")\n",
    "\n",
    "    # Calculate batting average\n",
    "    batting_average = batted_df.groupby(\"Innings Player\").sum().reset_index()\n",
    "    batting_average[\"Total Outs\"] = (\n",
    "        batting_average[\"Innings Batted Flag\"] - batting_average[\"Innings Not Out Flag\"]\n",
    "    )\n",
    "    batting_average[\"Batting Average\"] = (\n",
    "        batting_average[\"Innings Runs Scored Stripped\"] / batting_average[\"Total Outs\"]\n",
    "    )\n",
    "\n",
    "    return batting_average\n",
    "\n",
    "\n",
    "def process_bowling_data(df):\n",
    "    # Load the data\n",
    "    df = df.drop_duplicates()\n",
    "\n",
    "    bowled_df = df.loc[df[\"Innings Bowled Flag\"] == 1.0]\n",
    "    bowled_df[\"Innings Runs Conceded\"] = pd.to_numeric(\n",
    "        bowled_df[\"Innings Runs Conceded\"], errors=\"coerce\"\n",
    "    )\n",
    "    bowled_df[\"Innings Wickets Taken\"] = pd.to_numeric(\n",
    "        bowled_df[\"Innings Wickets Taken\"], errors=\"coerce\"\n",
    "    )\n",
    "    bowled_average = bowled_df.groupby(\"Innings Player\").sum().reset_index()\n",
    "    bowled_average[\"Bowling Average\"] = (\n",
    "        bowled_average[\"Innings Runs Conceded\"]\n",
    "        / bowled_average[\"Innings Wickets Taken\"]\n",
    "    )\n",
    "\n",
    "    return bowled_average\n",
    "\n",
    "\n",
    "def load_and_concat():\n",
    "    men_19C = pd.read_csv(\"./data/Men Test Player Innings Stats - 19th Century.csv\")\n",
    "    men_20C = pd.read_csv(\"./data/Men Test Player Innings Stats - 20th Century.csv\")\n",
    "    men_21C = pd.read_csv(\"./data/Men Test Player Innings Stats - 21st Century.csv\")\n",
    "\n",
    "    all_men = pd.concat([men_19C, men_20C, men_21C])\n",
    "\n",
    "    return all_men\n",
    "\n",
    "\n",
    "def load_and_merge():\n",
    "    all_men = load_and_concat()\n",
    "    all_men_batting = process_batting_data(all_men)\n",
    "    all_men_bowling = process_bowling_data(all_men)\n",
    "    all_men = pd.merge(left=all_men_batting, right=all_men_bowling, on=\"Innings Player\")\n",
    "\n",
    "\n",
    "def clean_df(all_men):\n",
    "    max = all_men.loc[all_men[\"Bowling Average\"] != np.inf][\"Bowling Average\"].max()\n",
    "    all_men[\"Bowling Average\"] = all_men[\"Bowling Average\"].replace(np.inf, max)\n",
    "    all_men[\"Bowling Average\"] = all_men[\"Bowling Average\"].replace(np.nan, max)\n",
    "    return all_men\n",
    "\n",
    "\n",
    "def load_merge_clean():\n",
    "    all_men = load_and_merge()\n",
    "    all_men_clean = clean_df(all_men)\n",
    "    return all_men"
   ]
  },
  {
   "cell_type": "code",
   "execution_count": 85,
   "metadata": {},
   "outputs": [
    {
     "name": "stderr",
     "output_type": "stream",
     "text": [
      "/var/folders/4x/175nq_n55595j9gh09sn5zkr0000gn/T/ipykernel_36696/1174470394.py:22: DtypeWarning:\n",
      "\n",
      "Columns (2,18,20,21,22,27) have mixed types. Specify dtype option on import or set low_memory=False.\n",
      "\n",
      "/var/folders/4x/175nq_n55595j9gh09sn5zkr0000gn/T/ipykernel_36696/1174470394.py:26: SettingWithCopyWarning:\n",
      "\n",
      "\n",
      "A value is trying to be set on a copy of a slice from a DataFrame.\n",
      "Try using .loc[row_indexer,col_indexer] = value instead\n",
      "\n",
      "See the caveats in the documentation: https://pandas.pydata.org/pandas-docs/stable/user_guide/indexing.html#returning-a-view-versus-a-copy\n",
      "\n",
      "/var/folders/4x/175nq_n55595j9gh09sn5zkr0000gn/T/ipykernel_36696/1174470394.py:27: SettingWithCopyWarning:\n",
      "\n",
      "\n",
      "A value is trying to be set on a copy of a slice from a DataFrame.\n",
      "Try using .loc[row_indexer,col_indexer] = value instead\n",
      "\n",
      "See the caveats in the documentation: https://pandas.pydata.org/pandas-docs/stable/user_guide/indexing.html#returning-a-view-versus-a-copy\n",
      "\n"
     ]
    },
    {
     "data": {
      "text/html": [
       "<div>\n",
       "<style scoped>\n",
       "    .dataframe tbody tr th:only-of-type {\n",
       "        vertical-align: middle;\n",
       "    }\n",
       "\n",
       "    .dataframe tbody tr th {\n",
       "        vertical-align: top;\n",
       "    }\n",
       "\n",
       "    .dataframe thead th {\n",
       "        text-align: right;\n",
       "    }\n",
       "</style>\n",
       "<table border=\"1\" class=\"dataframe\">\n",
       "  <thead>\n",
       "    <tr style=\"text-align: right;\">\n",
       "      <th></th>\n",
       "      <th>Innings Player</th>\n",
       "      <th>Innings Batted Flag</th>\n",
       "      <th>Innings Not Out Flag</th>\n",
       "      <th>50's</th>\n",
       "      <th>100's</th>\n",
       "      <th>Innings Bowled Flag</th>\n",
       "      <th>Innings Runs Conceded</th>\n",
       "      <th>Innings Wickets Taken</th>\n",
       "      <th>4 Wickets</th>\n",
       "      <th>5 Wickets</th>\n",
       "      <th>10 Wickets</th>\n",
       "      <th>Bowling Average</th>\n",
       "    </tr>\n",
       "  </thead>\n",
       "  <tbody>\n",
       "    <tr>\n",
       "      <th>715</th>\n",
       "      <td>JC Laker</td>\n",
       "      <td>0.0</td>\n",
       "      <td>0.0</td>\n",
       "      <td>0.0</td>\n",
       "      <td>0.0</td>\n",
       "      <td>86.0</td>\n",
       "      <td>4101.0</td>\n",
       "      <td>193.0</td>\n",
       "      <td>77.0</td>\n",
       "      <td>8.0</td>\n",
       "      <td>1.0</td>\n",
       "      <td>21.248705</td>\n",
       "    </tr>\n",
       "  </tbody>\n",
       "</table>\n",
       "</div>"
      ],
      "text/plain": [
       "    Innings Player  Innings Batted Flag  Innings Not Out Flag  50's  100's  \\\n",
       "715       JC Laker                  0.0                   0.0   0.0    0.0   \n",
       "\n",
       "     Innings Bowled Flag  Innings Runs Conceded  Innings Wickets Taken  \\\n",
       "715                 86.0                 4101.0                  193.0   \n",
       "\n",
       "     4 Wickets  5 Wickets  10 Wickets  Bowling Average  \n",
       "715       77.0        8.0         1.0        21.248705  "
      ]
     },
     "execution_count": 85,
     "metadata": {},
     "output_type": "execute_result"
    }
   ],
   "source": [
    "men_20C_b = process_bowling_data('./data/Men Test Player Innings Stats - 20th Century.csv')\n",
    "men_20C_b.loc[men_20C_b['Innings Player'].str.contains('Laker')]"
   ]
  },
  {
   "cell_type": "code",
   "execution_count": 254,
   "metadata": {},
   "outputs": [
    {
     "name": "stderr",
     "output_type": "stream",
     "text": [
      "/var/folders/4x/175nq_n55595j9gh09sn5zkr0000gn/T/ipykernel_36696/666528705.py:2: DtypeWarning:\n",
      "\n",
      "Columns (2,18,20,21,22,27) have mixed types. Specify dtype option on import or set low_memory=False.\n",
      "\n",
      "/var/folders/4x/175nq_n55595j9gh09sn5zkr0000gn/T/ipykernel_36696/1174470394.py:26: SettingWithCopyWarning:\n",
      "\n",
      "\n",
      "A value is trying to be set on a copy of a slice from a DataFrame.\n",
      "Try using .loc[row_indexer,col_indexer] = value instead\n",
      "\n",
      "See the caveats in the documentation: https://pandas.pydata.org/pandas-docs/stable/user_guide/indexing.html#returning-a-view-versus-a-copy\n",
      "\n",
      "/var/folders/4x/175nq_n55595j9gh09sn5zkr0000gn/T/ipykernel_36696/1174470394.py:27: SettingWithCopyWarning:\n",
      "\n",
      "\n",
      "A value is trying to be set on a copy of a slice from a DataFrame.\n",
      "Try using .loc[row_indexer,col_indexer] = value instead\n",
      "\n",
      "See the caveats in the documentation: https://pandas.pydata.org/pandas-docs/stable/user_guide/indexing.html#returning-a-view-versus-a-copy\n",
      "\n",
      "/var/folders/4x/175nq_n55595j9gh09sn5zkr0000gn/T/ipykernel_36696/1174470394.py:22: DtypeWarning:\n",
      "\n",
      "Columns (2,18,20,21,22,27) have mixed types. Specify dtype option on import or set low_memory=False.\n",
      "\n",
      "/var/folders/4x/175nq_n55595j9gh09sn5zkr0000gn/T/ipykernel_36696/1174470394.py:26: SettingWithCopyWarning:\n",
      "\n",
      "\n",
      "A value is trying to be set on a copy of a slice from a DataFrame.\n",
      "Try using .loc[row_indexer,col_indexer] = value instead\n",
      "\n",
      "See the caveats in the documentation: https://pandas.pydata.org/pandas-docs/stable/user_guide/indexing.html#returning-a-view-versus-a-copy\n",
      "\n",
      "/var/folders/4x/175nq_n55595j9gh09sn5zkr0000gn/T/ipykernel_36696/1174470394.py:27: SettingWithCopyWarning:\n",
      "\n",
      "\n",
      "A value is trying to be set on a copy of a slice from a DataFrame.\n",
      "Try using .loc[row_indexer,col_indexer] = value instead\n",
      "\n",
      "See the caveats in the documentation: https://pandas.pydata.org/pandas-docs/stable/user_guide/indexing.html#returning-a-view-versus-a-copy\n",
      "\n",
      "/var/folders/4x/175nq_n55595j9gh09sn5zkr0000gn/T/ipykernel_36696/1174470394.py:26: SettingWithCopyWarning:\n",
      "\n",
      "\n",
      "A value is trying to be set on a copy of a slice from a DataFrame.\n",
      "Try using .loc[row_indexer,col_indexer] = value instead\n",
      "\n",
      "See the caveats in the documentation: https://pandas.pydata.org/pandas-docs/stable/user_guide/indexing.html#returning-a-view-versus-a-copy\n",
      "\n",
      "/var/folders/4x/175nq_n55595j9gh09sn5zkr0000gn/T/ipykernel_36696/1174470394.py:27: SettingWithCopyWarning:\n",
      "\n",
      "\n",
      "A value is trying to be set on a copy of a slice from a DataFrame.\n",
      "Try using .loc[row_indexer,col_indexer] = value instead\n",
      "\n",
      "See the caveats in the documentation: https://pandas.pydata.org/pandas-docs/stable/user_guide/indexing.html#returning-a-view-versus-a-copy\n",
      "\n"
     ]
    }
   ],
   "source": [
    "\n",
    "men_19C = pd.read_csv('./data/Men Test Player Innings Stats - 19th Century.csv')\n",
    "men_20C = pd.read_csv('./data/Men Test Player Innings Stats - 20th Century.csv')\n",
    "men_21C = pd.read_csv('./data/Men Test Player Innings Stats - 21st Century.csv')\n",
    "\n",
    "all_men = pd.concat([men_19C, men_20C, men_21C])\n",
    "\n",
    "\n",
    "men_19C_b = process_bowling_data('./data/Men Test Player Innings Stats - 19th Century.csv')\n",
    "men_20C_b = process_bowling_data('./data/Men Test Player Innings Stats - 20th Century.csv')\n",
    "men_21C_b = process_bowling_data('./data/Men Test Player Innings Stats - 21st Century.csv')\n",
    "\n",
    "all_men_bowling = pd.concat([men_19C_b, men_20C_b, men_21C_b])"
   ]
  },
  {
   "cell_type": "code",
   "execution_count": 256,
   "metadata": {},
   "outputs": [
    {
     "name": "stderr",
     "output_type": "stream",
     "text": [
      "/var/folders/4x/175nq_n55595j9gh09sn5zkr0000gn/T/ipykernel_36696/2702104856.py:24: SettingWithCopyWarning:\n",
      "\n",
      "\n",
      "A value is trying to be set on a copy of a slice from a DataFrame.\n",
      "Try using .loc[row_indexer,col_indexer] = value instead\n",
      "\n",
      "See the caveats in the documentation: https://pandas.pydata.org/pandas-docs/stable/user_guide/indexing.html#returning-a-view-versus-a-copy\n",
      "\n",
      "/var/folders/4x/175nq_n55595j9gh09sn5zkr0000gn/T/ipykernel_36696/2702104856.py:25: SettingWithCopyWarning:\n",
      "\n",
      "\n",
      "A value is trying to be set on a copy of a slice from a DataFrame.\n",
      "Try using .loc[row_indexer,col_indexer] = value instead\n",
      "\n",
      "See the caveats in the documentation: https://pandas.pydata.org/pandas-docs/stable/user_guide/indexing.html#returning-a-view-versus-a-copy\n",
      "\n"
     ]
    }
   ],
   "source": [
    "all_men_batting = process_batting_data(all_men)\n",
    "all_men_bowling = process_bowling_data(all_men)"
   ]
  },
  {
   "cell_type": "code",
   "execution_count": 156,
   "metadata": {},
   "outputs": [
    {
     "data": {
      "text/html": [
       "<div>\n",
       "<style scoped>\n",
       "    .dataframe tbody tr th:only-of-type {\n",
       "        vertical-align: middle;\n",
       "    }\n",
       "\n",
       "    .dataframe tbody tr th {\n",
       "        vertical-align: top;\n",
       "    }\n",
       "\n",
       "    .dataframe thead th {\n",
       "        text-align: right;\n",
       "    }\n",
       "</style>\n",
       "<table border=\"1\" class=\"dataframe\">\n",
       "  <thead>\n",
       "    <tr style=\"text-align: right;\">\n",
       "      <th></th>\n",
       "      <th>Innings Player</th>\n",
       "      <th>Innings Batted Flag</th>\n",
       "      <th>Innings Not Out Flag</th>\n",
       "      <th>Innings Number</th>\n",
       "      <th>50's</th>\n",
       "      <th>100's</th>\n",
       "      <th>Innings Bowled Flag</th>\n",
       "      <th>Innings Runs Conceded</th>\n",
       "      <th>Innings Wickets Taken</th>\n",
       "      <th>4 Wickets</th>\n",
       "      <th>5 Wickets</th>\n",
       "      <th>10 Wickets</th>\n",
       "      <th>Bowling Average</th>\n",
       "    </tr>\n",
       "  </thead>\n",
       "  <tbody>\n",
       "    <tr>\n",
       "      <th>44</th>\n",
       "      <td>AN Cook</td>\n",
       "      <td>0.0</td>\n",
       "      <td>0.0</td>\n",
       "      <td>NaN</td>\n",
       "      <td>0.0</td>\n",
       "      <td>0.0</td>\n",
       "      <td>2.0</td>\n",
       "      <td>7.0</td>\n",
       "      <td>1.0</td>\n",
       "      <td>2.0</td>\n",
       "      <td>0.0</td>\n",
       "      <td>0.0</td>\n",
       "      <td>7.0</td>\n",
       "    </tr>\n",
       "  </tbody>\n",
       "</table>\n",
       "</div>"
      ],
      "text/plain": [
       "   Innings Player  Innings Batted Flag  Innings Not Out Flag  Innings Number  \\\n",
       "44        AN Cook                  0.0                   0.0             NaN   \n",
       "\n",
       "    50's  100's  Innings Bowled Flag  Innings Runs Conceded  \\\n",
       "44   0.0    0.0                  2.0                    7.0   \n",
       "\n",
       "    Innings Wickets Taken  4 Wickets  5 Wickets  10 Wickets  Bowling Average  \n",
       "44                    1.0        2.0        0.0         0.0              7.0  "
      ]
     },
     "execution_count": 156,
     "metadata": {},
     "output_type": "execute_result"
    }
   ],
   "source": [
    "all_men_bowling.loc[all_men_bowling['Innings Player'] == 'AN Cook']"
   ]
  },
  {
   "cell_type": "code",
   "execution_count": 260,
   "metadata": {},
   "outputs": [
    {
     "data": {
      "text/html": [
       "<div>\n",
       "<style scoped>\n",
       "    .dataframe tbody tr th:only-of-type {\n",
       "        vertical-align: middle;\n",
       "    }\n",
       "\n",
       "    .dataframe tbody tr th {\n",
       "        vertical-align: top;\n",
       "    }\n",
       "\n",
       "    .dataframe thead th {\n",
       "        text-align: right;\n",
       "    }\n",
       "</style>\n",
       "<table border=\"1\" class=\"dataframe\">\n",
       "  <thead>\n",
       "    <tr style=\"text-align: right;\">\n",
       "      <th></th>\n",
       "      <th>Innings Player</th>\n",
       "      <th>Innings Batted Flag_x</th>\n",
       "      <th>Innings Not Out Flag_x</th>\n",
       "      <th>50's_x</th>\n",
       "      <th>100's_x</th>\n",
       "      <th>Innings Bowled Flag_x</th>\n",
       "      <th>4 Wickets_x</th>\n",
       "      <th>5 Wickets_x</th>\n",
       "      <th>10 Wickets_x</th>\n",
       "      <th>Innings Runs Scored Stripped</th>\n",
       "      <th>...</th>\n",
       "      <th>Innings Not Out Flag_y</th>\n",
       "      <th>50's_y</th>\n",
       "      <th>100's_y</th>\n",
       "      <th>Innings Bowled Flag_y</th>\n",
       "      <th>Innings Runs Conceded</th>\n",
       "      <th>Innings Wickets Taken</th>\n",
       "      <th>4 Wickets_y</th>\n",
       "      <th>5 Wickets_y</th>\n",
       "      <th>10 Wickets_y</th>\n",
       "      <th>Bowling Average</th>\n",
       "    </tr>\n",
       "  </thead>\n",
       "  <tbody>\n",
       "    <tr>\n",
       "      <th>1628</th>\n",
       "      <td>R Dravid</td>\n",
       "      <td>284.0</td>\n",
       "      <td>32.0</td>\n",
       "      <td>63.0</td>\n",
       "      <td>36.0</td>\n",
       "      <td>0.0</td>\n",
       "      <td>0.0</td>\n",
       "      <td>0.0</td>\n",
       "      <td>0.0</td>\n",
       "      <td>13265.0</td>\n",
       "      <td>...</td>\n",
       "      <td>0.0</td>\n",
       "      <td>0.0</td>\n",
       "      <td>0.0</td>\n",
       "      <td>5.0</td>\n",
       "      <td>39.0</td>\n",
       "      <td>1.0</td>\n",
       "      <td>5.0</td>\n",
       "      <td>0.0</td>\n",
       "      <td>0.0</td>\n",
       "      <td>39.0</td>\n",
       "    </tr>\n",
       "  </tbody>\n",
       "</table>\n",
       "<p>1 rows × 23 columns</p>\n",
       "</div>"
      ],
      "text/plain": [
       "     Innings Player  Innings Batted Flag_x  Innings Not Out Flag_x  50's_x  \\\n",
       "1628       R Dravid                  284.0                    32.0    63.0   \n",
       "\n",
       "      100's_x  Innings Bowled Flag_x  4 Wickets_x  5 Wickets_x  10 Wickets_x  \\\n",
       "1628     36.0                    0.0          0.0          0.0           0.0   \n",
       "\n",
       "      Innings Runs Scored Stripped  ...  Innings Not Out Flag_y  50's_y  \\\n",
       "1628                       13265.0  ...                     0.0     0.0   \n",
       "\n",
       "      100's_y  Innings Bowled Flag_y  Innings Runs Conceded  \\\n",
       "1628      0.0                    5.0                   39.0   \n",
       "\n",
       "      Innings Wickets Taken  4 Wickets_y  5 Wickets_y  10 Wickets_y  \\\n",
       "1628                    1.0          5.0          0.0           0.0   \n",
       "\n",
       "      Bowling Average  \n",
       "1628             39.0  \n",
       "\n",
       "[1 rows x 23 columns]"
      ]
     },
     "execution_count": 260,
     "metadata": {},
     "output_type": "execute_result"
    }
   ],
   "source": [
    "all_men=pd.merge(left=all_men_batting, right=all_men_bowling, on='Innings Player')\n",
    "all_men.loc[all_men['Innings Player'].str.contains('Dravid')]"
   ]
  },
  {
   "cell_type": "code",
   "execution_count": 287,
   "metadata": {},
   "outputs": [],
   "source": [
    "all_men.loc[all_men['Bowling Average'] == np.inf]\n",
    "max = all_men.loc[all_men['Bowling Average'] != np.inf]['Bowling Average'].max()\n",
    "all_men['Bowling Average'] = all_men['Bowling Average'].replace(np.inf, max)"
   ]
  },
  {
   "cell_type": "code",
   "execution_count": 262,
   "metadata": {},
   "outputs": [
    {
     "data": {
      "text/html": [
       "<div>\n",
       "<style scoped>\n",
       "    .dataframe tbody tr th:only-of-type {\n",
       "        vertical-align: middle;\n",
       "    }\n",
       "\n",
       "    .dataframe tbody tr th {\n",
       "        vertical-align: top;\n",
       "    }\n",
       "\n",
       "    .dataframe thead th {\n",
       "        text-align: right;\n",
       "    }\n",
       "</style>\n",
       "<table border=\"1\" class=\"dataframe\">\n",
       "  <thead>\n",
       "    <tr style=\"text-align: right;\">\n",
       "      <th></th>\n",
       "      <th>Innings Player</th>\n",
       "      <th>Innings Batted Flag_x</th>\n",
       "      <th>Innings Not Out Flag_x</th>\n",
       "      <th>50's_x</th>\n",
       "      <th>100's_x</th>\n",
       "      <th>Innings Bowled Flag_x</th>\n",
       "      <th>4 Wickets_x</th>\n",
       "      <th>5 Wickets_x</th>\n",
       "      <th>10 Wickets_x</th>\n",
       "      <th>Innings Runs Scored Stripped</th>\n",
       "      <th>...</th>\n",
       "      <th>Innings Not Out Flag_y</th>\n",
       "      <th>50's_y</th>\n",
       "      <th>100's_y</th>\n",
       "      <th>Innings Bowled Flag_y</th>\n",
       "      <th>Innings Runs Conceded</th>\n",
       "      <th>Innings Wickets Taken</th>\n",
       "      <th>4 Wickets_y</th>\n",
       "      <th>5 Wickets_y</th>\n",
       "      <th>10 Wickets_y</th>\n",
       "      <th>Bowling Average</th>\n",
       "    </tr>\n",
       "  </thead>\n",
       "  <tbody>\n",
       "    <tr>\n",
       "      <th>1553</th>\n",
       "      <td>PCR Tufnell</td>\n",
       "      <td>59.0</td>\n",
       "      <td>29.0</td>\n",
       "      <td>0.0</td>\n",
       "      <td>0.0</td>\n",
       "      <td>0.0</td>\n",
       "      <td>0.0</td>\n",
       "      <td>0.0</td>\n",
       "      <td>0.0</td>\n",
       "      <td>153.0</td>\n",
       "      <td>...</td>\n",
       "      <td>0.0</td>\n",
       "      <td>0.0</td>\n",
       "      <td>0.0</td>\n",
       "      <td>70.0</td>\n",
       "      <td>4560.0</td>\n",
       "      <td>121.0</td>\n",
       "      <td>65.0</td>\n",
       "      <td>5.0</td>\n",
       "      <td>0.0</td>\n",
       "      <td>37.68595</td>\n",
       "    </tr>\n",
       "  </tbody>\n",
       "</table>\n",
       "<p>1 rows × 23 columns</p>\n",
       "</div>"
      ],
      "text/plain": [
       "     Innings Player  Innings Batted Flag_x  Innings Not Out Flag_x  50's_x  \\\n",
       "1553    PCR Tufnell                   59.0                    29.0     0.0   \n",
       "\n",
       "      100's_x  Innings Bowled Flag_x  4 Wickets_x  5 Wickets_x  10 Wickets_x  \\\n",
       "1553      0.0                    0.0          0.0          0.0           0.0   \n",
       "\n",
       "      Innings Runs Scored Stripped  ...  Innings Not Out Flag_y  50's_y  \\\n",
       "1553                         153.0  ...                     0.0     0.0   \n",
       "\n",
       "      100's_y  Innings Bowled Flag_y  Innings Runs Conceded  \\\n",
       "1553      0.0                   70.0                 4560.0   \n",
       "\n",
       "      Innings Wickets Taken  4 Wickets_y  5 Wickets_y  10 Wickets_y  \\\n",
       "1553                  121.0         65.0          5.0           0.0   \n",
       "\n",
       "      Bowling Average  \n",
       "1553         37.68595  \n",
       "\n",
       "[1 rows x 23 columns]"
      ]
     },
     "execution_count": 262,
     "metadata": {},
     "output_type": "execute_result"
    }
   ],
   "source": [
    "all_men = all_men.loc[all_men['Innings Batted Flag_x'] >= 30]\n",
    "all_men.loc[all_men['Innings Player'].str.contains('Tufnell')]"
   ]
  },
  {
   "cell_type": "code",
   "execution_count": 263,
   "metadata": {},
   "outputs": [
    {
     "data": {
      "text/plain": [
       "AN Cook    1781\n",
       "SC Cook     117\n",
       "Name: Innings Player, dtype: int64"
      ]
     },
     "execution_count": 263,
     "metadata": {},
     "output_type": "execute_result"
    }
   ],
   "source": [
    "df_21C = men_21C\n",
    "df_21C.loc[df_21C['Innings Player'].str.contains('Cook')]['Innings Player'].value_counts()"
   ]
  },
  {
   "cell_type": "code",
   "execution_count": 103,
   "metadata": {},
   "outputs": [
    {
     "data": {
      "text/html": [
       "<div>\n",
       "<style scoped>\n",
       "    .dataframe tbody tr th:only-of-type {\n",
       "        vertical-align: middle;\n",
       "    }\n",
       "\n",
       "    .dataframe tbody tr th {\n",
       "        vertical-align: top;\n",
       "    }\n",
       "\n",
       "    .dataframe thead th {\n",
       "        text-align: right;\n",
       "    }\n",
       "</style>\n",
       "<table border=\"1\" class=\"dataframe\">\n",
       "  <thead>\n",
       "    <tr style=\"text-align: right;\">\n",
       "      <th></th>\n",
       "      <th>Innings Player</th>\n",
       "      <th>Innings Batted Flag_x</th>\n",
       "      <th>Innings Not Out Flag_x</th>\n",
       "      <th>Innings Number_x</th>\n",
       "      <th>50's_x</th>\n",
       "      <th>100's_x</th>\n",
       "      <th>Innings Bowled Flag_x</th>\n",
       "      <th>4 Wickets_x</th>\n",
       "      <th>5 Wickets_x</th>\n",
       "      <th>10 Wickets_x</th>\n",
       "      <th>...</th>\n",
       "      <th>Innings Number_y</th>\n",
       "      <th>50's_y</th>\n",
       "      <th>100's_y</th>\n",
       "      <th>Innings Bowled Flag_y</th>\n",
       "      <th>Innings Runs Conceded</th>\n",
       "      <th>Innings Wickets Taken</th>\n",
       "      <th>4 Wickets_y</th>\n",
       "      <th>5 Wickets_y</th>\n",
       "      <th>10 Wickets_y</th>\n",
       "      <th>Bowling Average</th>\n",
       "    </tr>\n",
       "  </thead>\n",
       "  <tbody>\n",
       "    <tr>\n",
       "      <th>7</th>\n",
       "      <td>AC Bannerman</td>\n",
       "      <td>50.0</td>\n",
       "      <td>2.0</td>\n",
       "      <td>118.0</td>\n",
       "      <td>8.0</td>\n",
       "      <td>0.0</td>\n",
       "      <td>0.0</td>\n",
       "      <td>0.0</td>\n",
       "      <td>0.0</td>\n",
       "      <td>0.0</td>\n",
       "      <td>...</td>\n",
       "      <td>6.0</td>\n",
       "      <td>0.0</td>\n",
       "      <td>0.0</td>\n",
       "      <td>4.0</td>\n",
       "      <td>163.0</td>\n",
       "      <td>4.0</td>\n",
       "      <td>4.0</td>\n",
       "      <td>0.0</td>\n",
       "      <td>0.0</td>\n",
       "      <td>40.750000</td>\n",
       "    </tr>\n",
       "    <tr>\n",
       "      <th>79</th>\n",
       "      <td>G Giffen</td>\n",
       "      <td>53.0</td>\n",
       "      <td>0.0</td>\n",
       "      <td>118.0</td>\n",
       "      <td>6.0</td>\n",
       "      <td>1.0</td>\n",
       "      <td>0.0</td>\n",
       "      <td>0.0</td>\n",
       "      <td>0.0</td>\n",
       "      <td>0.0</td>\n",
       "      <td>...</td>\n",
       "      <td>101.0</td>\n",
       "      <td>0.0</td>\n",
       "      <td>0.0</td>\n",
       "      <td>43.0</td>\n",
       "      <td>2791.0</td>\n",
       "      <td>103.0</td>\n",
       "      <td>36.0</td>\n",
       "      <td>7.0</td>\n",
       "      <td>0.0</td>\n",
       "      <td>27.097087</td>\n",
       "    </tr>\n",
       "    <tr>\n",
       "      <th>114</th>\n",
       "      <td>J Briggs</td>\n",
       "      <td>50.0</td>\n",
       "      <td>5.0</td>\n",
       "      <td>110.0</td>\n",
       "      <td>2.0</td>\n",
       "      <td>1.0</td>\n",
       "      <td>0.0</td>\n",
       "      <td>0.0</td>\n",
       "      <td>0.0</td>\n",
       "      <td>0.0</td>\n",
       "      <td>...</td>\n",
       "      <td>113.0</td>\n",
       "      <td>0.0</td>\n",
       "      <td>0.0</td>\n",
       "      <td>49.0</td>\n",
       "      <td>2095.0</td>\n",
       "      <td>118.0</td>\n",
       "      <td>40.0</td>\n",
       "      <td>9.0</td>\n",
       "      <td>0.0</td>\n",
       "      <td>17.754237</td>\n",
       "    </tr>\n",
       "  </tbody>\n",
       "</table>\n",
       "<p>3 rows × 25 columns</p>\n",
       "</div>"
      ],
      "text/plain": [
       "    Innings Player  Innings Batted Flag_x  Innings Not Out Flag_x  \\\n",
       "7     AC Bannerman                   50.0                     2.0   \n",
       "79        G Giffen                   53.0                     0.0   \n",
       "114       J Briggs                   50.0                     5.0   \n",
       "\n",
       "     Innings Number_x  50's_x  100's_x  Innings Bowled Flag_x  4 Wickets_x  \\\n",
       "7               118.0     8.0      0.0                    0.0          0.0   \n",
       "79              118.0     6.0      1.0                    0.0          0.0   \n",
       "114             110.0     2.0      1.0                    0.0          0.0   \n",
       "\n",
       "     5 Wickets_x  10 Wickets_x  ...  Innings Number_y  50's_y  100's_y  \\\n",
       "7            0.0           0.0  ...               6.0     0.0      0.0   \n",
       "79           0.0           0.0  ...             101.0     0.0      0.0   \n",
       "114          0.0           0.0  ...             113.0     0.0      0.0   \n",
       "\n",
       "     Innings Bowled Flag_y  Innings Runs Conceded  Innings Wickets Taken  \\\n",
       "7                      4.0                  163.0                    4.0   \n",
       "79                    43.0                 2791.0                  103.0   \n",
       "114                   49.0                 2095.0                  118.0   \n",
       "\n",
       "     4 Wickets_y  5 Wickets_y  10 Wickets_y  Bowling Average  \n",
       "7            4.0          0.0           0.0        40.750000  \n",
       "79          36.0          7.0           0.0        27.097087  \n",
       "114         40.0          9.0           0.0        17.754237  \n",
       "\n",
       "[3 rows x 25 columns]"
      ]
     },
     "execution_count": 103,
     "metadata": {},
     "output_type": "execute_result"
    }
   ],
   "source": [
    "\n",
    "all_men.loc[all_men['Innings Player'].str.contains('Smith')]\n",
    "all_men = all_men.loc[all_men['Innings Batted Flag_x'] >= 50]\n",
    "all_men"
   ]
  },
  {
   "cell_type": "code",
   "execution_count": 44,
   "metadata": {},
   "outputs": [
    {
     "data": {
      "text/plain": [
       "0.0     51\n",
       "12.0    27\n",
       "8.0     25\n",
       "11.0    23\n",
       "2.0     22\n",
       "5.0     22\n",
       "10.0    21\n",
       "14.0    20\n",
       "1.0     20\n",
       "15.0    20\n",
       "13.0    19\n",
       "4.0     19\n",
       "18.0    18\n",
       "6.0     18\n",
       "9.0     17\n",
       "7.0     16\n",
       "16.0    15\n",
       "21.0    14\n",
       "3.0     13\n",
       "22.0    12\n",
       "19.0    12\n",
       "27.0    11\n",
       "17.0     9\n",
       "23.0     8\n",
       "24.0     8\n",
       "29.0     6\n",
       "35.0     6\n",
       "26.0     5\n",
       "20.0     5\n",
       "28.0     5\n",
       "30.0     5\n",
       "31.0     5\n",
       "45.0     4\n",
       "33.0     4\n",
       "39.0     4\n",
       "46.0     4\n",
       "42.0     3\n",
       "32.0     3\n",
       "38.0     3\n",
       "51.0     3\n",
       "25.0     3\n",
       "43.0     2\n",
       "40.0     2\n",
       "41.0     1\n",
       "48.0     1\n",
       "34.0     1\n",
       "37.0     1\n",
       "57.0     1\n",
       "63.0     1\n",
       "44.0     1\n",
       "Name: 50's, dtype: int64"
      ]
     },
     "execution_count": 44,
     "metadata": {},
     "output_type": "execute_result"
    }
   ],
   "source": [
    "all_men[\"50's\"].value_counts()"
   ]
  },
  {
   "cell_type": "code",
   "execution_count": 264,
   "metadata": {},
   "outputs": [
    {
     "data": {
      "application/vnd.plotly.v1+json": {
       "config": {
        "plotlyServerURL": "https://plot.ly"
       },
       "data": [
        {
         "customdata": [
          [
           "A Cotter"
          ],
          [
           "A Flintoff"
          ],
          [
           "A Flower"
          ],
          [
           "A Kumble"
          ],
          [
           "A Mishra"
          ],
          [
           "A Nel"
          ],
          [
           "A Ranatunga"
          ],
          [
           "A Shrewsbury snr"
          ],
          [
           "A Symonds"
          ],
          [
           "AA Donald"
          ],
          [
           "AA Mallett"
          ],
          [
           "AB Agarkar"
          ],
          [
           "AB de Villiers"
          ],
          [
           "AC Bannerman"
          ],
          [
           "AC Voges"
          ],
          [
           "AD Gaekwad"
          ],
          [
           "AD Mathews"
          ],
          [
           "AD Nourse"
          ],
          [
           "ADR Campbell"
          ],
          [
           "AE Stoddart"
          ],
          [
           "AF Giles"
          ],
          [
           "AF Kippax"
          ],
          [
           "AFA Lilley"
          ],
          [
           "AG Cremer"
          ],
          [
           "AG Prince"
          ],
          [
           "AH Jones"
          ],
          [
           "AH Kardar"
          ],
          [
           "AI Kallicharran"
          ],
          [
           "AJ Hall"
          ],
          [
           "AJ Lamb"
          ],
          [
           "AJ Stewart"
          ],
          [
           "AJY Hopkins"
          ],
          [
           "AK Davidson"
          ],
          [
           "AK Markram"
          ],
          [
           "AL Hassett"
          ],
          [
           "AL Logie"
          ],
          [
           "AL Valentine"
          ],
          [
           "AL Wadekar"
          ],
          [
           "AM Bacher"
          ],
          [
           "AM Blignaut"
          ],
          [
           "AM Moir"
          ],
          [
           "AME Roberts"
          ],
          [
           "AN Connolly"
          ],
          [
           "AN Cook"
          ],
          [
           "AN Petersen"
          ],
          [
           "AP Gurusinha"
          ],
          [
           "APF Chapman"
          ],
          [
           "AR Border"
          ],
          [
           "AR Caddick"
          ],
          [
           "AR MacGibbon"
          ],
          [
           "AR Morris"
          ],
          [
           "ARC Fraser"
          ],
          [
           "AU Rashid"
          ],
          [
           "AV Bedser"
          ],
          [
           "AV Mankad"
          ],
          [
           "AW Greig"
          ],
          [
           "AW Nourse"
          ],
          [
           "Aamer Sohail"
          ],
          [
           "Abdul Qadir"
          ],
          [
           "Abdul Razzaq"
          ],
          [
           "Abdur Rehman"
          ],
          [
           "Aftab Ahmed"
          ],
          [
           "Alimuddin"
          ],
          [
           "Alok Kapali"
          ],
          [
           "Asad Shafiq"
          ],
          [
           "Asif Iqbal"
          ],
          [
           "Asif Mujtaba"
          ],
          [
           "Azhar Ali"
          ],
          [
           "Azhar Mahmood"
          ],
          [
           "B Lee"
          ],
          [
           "B Mitchell"
          ],
          [
           "B Sutcliffe"
          ],
          [
           "B Yardley"
          ],
          [
           "BA Edgar"
          ],
          [
           "BA Reid"
          ],
          [
           "BA Stokes"
          ],
          [
           "BB McCullum"
          ],
          [
           "BC Booth"
          ],
          [
           "BC Broad"
          ],
          [
           "BC Lara"
          ],
          [
           "BC Strang"
          ],
          [
           "BD Julien"
          ],
          [
           "BE Congdon"
          ],
          [
           "BF Butcher"
          ],
          [
           "BF Hastings"
          ],
          [
           "BK Kunderan"
          ],
          [
           "BKG Mendis"
          ],
          [
           "BKV Prasad"
          ],
          [
           "BL Cairns"
          ],
          [
           "BL D'Oliveira"
          ],
          [
           "BM Laird"
          ],
          [
           "BM McMillan"
          ],
          [
           "BP Nash"
          ],
          [
           "BP Patterson"
          ],
          [
           "BR Knight"
          ],
          [
           "BR Taylor"
          ],
          [
           "BRM Taylor"
          ],
          [
           "BS Bedi"
          ],
          [
           "BS Chandrasekhar"
          ],
          [
           "BW Hilfenhaus"
          ],
          [
           "BW Luckhurst"
          ],
          [
           "BW Sinclair"
          ],
          [
           "BW Yuile"
          ],
          [
           "Basit Ali"
          ],
          [
           "C Blythe"
          ],
          [
           "C Kelleway"
          ],
          [
           "C Washbrook"
          ],
          [
           "C White"
          ],
          [
           "C de Grandhomme"
          ],
          [
           "CA Pujara"
          ],
          [
           "CA Roach"
          ],
          [
           "CA Walsh"
          ],
          [
           "CB Fry"
          ],
          [
           "CB van Ryneveld"
          ],
          [
           "CC Griffith"
          ],
          [
           "CC Hunte"
          ],
          [
           "CC Lewis"
          ],
          [
           "CC McDonald"
          ],
          [
           "CD Collymore"
          ],
          [
           "CD McMillan"
          ],
          [
           "CEH Croft"
          ],
          [
           "CEL Ambrose"
          ],
          [
           "CG Borde"
          ],
          [
           "CG Greenidge"
          ],
          [
           "CG Macartney"
          ],
          [
           "CH Gayle"
          ],
          [
           "CH Lloyd"
          ],
          [
           "CJ Barnett"
          ],
          [
           "CJ McDermott"
          ],
          [
           "CJ Tavare"
          ],
          [
           "CL Cairns"
          ],
          [
           "CL Hooper"
          ],
          [
           "CL Vincent"
          ],
          [
           "CL Walcott"
          ],
          [
           "CM Old"
          ],
          [
           "CPS Chauhan"
          ],
          [
           "CR Woakes"
          ],
          [
           "CRD Fernando"
          ],
          [
           "CS Martin"
          ],
          [
           "CTB Turner"
          ],
          [
           "CV Grimmett"
          ],
          [
           "CZ Harris"
          ],
          [
           "D Bishoo"
          ],
          [
           "D Elgar"
          ],
          [
           "D Ganga"
          ],
          [
           "D Gough"
          ],
          [
           "DA Allen"
          ],
          [
           "DA Warner"
          ],
          [
           "DAJ Bracewell"
          ],
          [
           "DAJ Holford"
          ],
          [
           "DB Close"
          ],
          [
           "DB Vengsarkar"
          ],
          [
           "DBL Powell"
          ],
          [
           "DC Boon"
          ],
          [
           "DCS Compton"
          ],
          [
           "DE Malcolm"
          ],
          [
           "DG Bradman"
          ],
          [
           "DG Cork"
          ],
          [
           "DG Phadkar"
          ],
          [
           "DI Gower"
          ],
          [
           "DJ Bravo"
          ],
          [
           "DJ Brown"
          ],
          [
           "DJ Cullinan"
          ],
          [
           "DJ McGlew"
          ],
          [
           "DJ Nash"
          ],
          [
           "DJG Sammy"
          ],
          [
           "DK Lillee"
          ],
          [
           "DK Morrison"
          ],
          [
           "DL Haynes"
          ],
          [
           "DL Houghton"
          ],
          [
           "DL Underwood"
          ],
          [
           "DL Vettori"
          ],
          [
           "DM Bravo"
          ],
          [
           "DM Jones"
          ],
          [
           "DM de Silva"
          ],
          [
           "DN Patel"
          ],
          [
           "DN Sardesai"
          ],
          [
           "DNT Zoysa"
          ],
          [
           "DPMD Jayawardene"
          ],
          [
           "DR Doshi"
          ],
          [
           "DR Flynn"
          ],
          [
           "DR Hadlee"
          ],
          [
           "DR Jardine"
          ],
          [
           "DR Martyn"
          ],
          [
           "DR Pringle"
          ],
          [
           "DR Tuffey"
          ],
          [
           "DS Atkinson"
          ],
          [
           "DS Lehmann"
          ],
          [
           "DS Smith"
          ],
          [
           "DVP Wright"
          ],
          [
           "DW Hookes"
          ],
          [
           "DW Randall"
          ],
          [
           "DW Steyn"
          ],
          [
           "Danish Kaneria"
          ],
          [
           "EAB Rowan"
          ],
          [
           "EAS Prasanna"
          ],
          [
           "ED Solkar"
          ],
          [
           "ED Weekes"
          ],
          [
           "EH Hendren"
          ],
          [
           "EJ Barlow"
          ],
          [
           "EJ Chatfield"
          ],
          [
           "EP Nupen"
          ],
          [
           "ER Dexter"
          ],
          [
           "F du Plessis"
          ],
          [
           "FDM Karunaratne"
          ],
          [
           "FE Woolley"
          ],
          [
           "FH Edwards"
          ],
          [
           "FJ Cameron"
          ],
          [
           "FJ Titmus"
          ],
          [
           "FMM Worrell"
          ],
          [
           "FR Brown"
          ],
          [
           "FS Trueman"
          ],
          [
           "Faisal Iqbal"
          ],
          [
           "Fazal Mahmood"
          ],
          [
           "G Boycott"
          ],
          [
           "G Dymock"
          ],
          [
           "G Fowler"
          ],
          [
           "G Gambhir"
          ],
          [
           "G Giffen"
          ],
          [
           "G Kirsten"
          ],
          [
           "G Miller"
          ],
          [
           "G Pullar"
          ],
          [
           "G Ulyett"
          ],
          [
           "GA Faulkner"
          ],
          [
           "GA Gooch"
          ],
          [
           "GA Headley"
          ],
          [
           "GA Hick"
          ],
          [
           "GAR Lock"
          ],
          [
           "GB Hole"
          ],
          [
           "GC Smith"
          ],
          [
           "GC White"
          ],
          [
           "GD McGrath"
          ],
          [
           "GD McKenzie"
          ],
          [
           "GE Gomez"
          ],
          [
           "GF Lawson"
          ],
          [
           "GG Arnold"
          ],
          [
           "GH Hirst"
          ],
          [
           "GHS Trott"
          ],
          [
           "GJ Bonnor"
          ],
          [
           "GJ Cosier"
          ],
          [
           "GJ Rennie"
          ],
          [
           "GJ Whittall"
          ],
          [
           "GM Ritchie"
          ],
          [
           "GM Turner"
          ],
          [
           "GN Yallop"
          ],
          [
           "GOB Allen"
          ],
          [
           "GP Howarth"
          ],
          [
           "GP Swann"
          ],
          [
           "GP Thorpe"
          ],
          [
           "GP Wickramasinghe"
          ],
          [
           "GR Dilley"
          ],
          [
           "GR Viswanath"
          ],
          [
           "GRJ Matthews"
          ],
          [
           "GRJ Roope"
          ],
          [
           "GS Ballance"
          ],
          [
           "GS Blewett"
          ],
          [
           "GS Chappell"
          ],
          [
           "GS Ramchand"
          ],
          [
           "GS Sobers"
          ],
          [
           "GT Dowling"
          ],
          [
           "GW Flower"
          ],
          [
           "Ghulam Ahmed"
          ],
          [
           "H Masakadza"
          ],
          [
           "H Trumble"
          ],
          [
           "H Verity"
          ],
          [
           "HA Gomes"
          ],
          [
           "HB Cave"
          ],
          [
           "HDPK Dharmasena"
          ],
          [
           "HDRL Thirimanne"
          ],
          [
           "HH Dippenaar"
          ],
          [
           "HH Gibbs"
          ],
          [
           "HH Streak"
          ],
          [
           "HJ Howarth"
          ],
          [
           "HJ Tayfield"
          ],
          [
           "HK Olonga"
          ],
          [
           "HL Collins"
          ],
          [
           "HM Amla"
          ],
          [
           "HMRKB Herath"
          ],
          [
           "HP Tillakaratne"
          ],
          [
           "HR Adhikari"
          ],
          [
           "HW Taylor"
          ],
          [
           "Habibul Bashar"
          ],
          [
           "Hanif Mohammad"
          ],
          [
           "Harbhajan Singh"
          ],
          [
           "Haroon Rasheed"
          ],
          [
           "Hon.FS Jackson"
          ],
          [
           "I Sharma"
          ],
          [
           "IDS Smith"
          ],
          [
           "IE O'Brien"
          ],
          [
           "IJ Siedle"
          ],
          [
           "IJL Trott"
          ],
          [
           "IK Pathan"
          ],
          [
           "IM Chappell"
          ],
          [
           "IR Bell"
          ],
          [
           "IR Bishop"
          ],
          [
           "IR Redpath"
          ],
          [
           "IT Botham"
          ],
          [
           "IVA Richards"
          ],
          [
           "IWG Johnson"
          ],
          [
           "Ijaz Ahmed"
          ],
          [
           "Imran Farhat"
          ],
          [
           "Imran Khan"
          ],
          [
           "Imrul Kayes"
          ],
          [
           "Imtiaz Ahmed"
          ],
          [
           "Intikhab Alam"
          ],
          [
           "Inzamam-ul-Haq"
          ],
          [
           "Iqbal Qasim"
          ],
          [
           "J Blackwood"
          ],
          [
           "J Briggs"
          ],
          [
           "J Garner"
          ],
          [
           "J Ryder"
          ],
          [
           "J Srinath"
          ],
          [
           "JA Raval"
          ],
          [
           "JA Rudolph"
          ],
          [
           "JA Snow"
          ],
          [
           "JB Hobbs"
          ],
          [
           "JB Statham"
          ],
          [
           "JB Stollmeyer"
          ],
          [
           "JC Adams"
          ],
          [
           "JC Alabaster"
          ],
          [
           "JC Laker"
          ],
          [
           "JD Higgs"
          ],
          [
           "JD Ryder"
          ],
          [
           "JDC Goddard"
          ],
          [
           "JDP Oram"
          ],
          [
           "JE Cheetham"
          ],
          [
           "JE Emburey"
          ],
          [
           "JE Root"
          ],
          [
           "JE Taylor"
          ],
          [
           "JEC Franklin"
          ],
          [
           "JF Reid"
          ],
          [
           "JG Bracewell"
          ],
          [
           "JG Wright"
          ],
          [
           "JH Edrich"
          ],
          [
           "JH Kallis"
          ],
          [
           "JH Sinclair"
          ],
          [
           "JH Wardle"
          ],
          [
           "JJ Crowe"
          ],
          [
           "JK Lever"
          ],
          [
           "JKC Holt"
          ],
          [
           "JL Langer"
          ],
          [
           "JM Anderson"
          ],
          [
           "JM Blanckenberg"
          ],
          [
           "JM Gregory"
          ],
          [
           "JM How"
          ],
          [
           "JM Parker"
          ],
          [
           "JM Parks"
          ],
          [
           "JN Gillespie"
          ],
          [
           "JN Rhodes"
          ],
          [
           "JO Holder"
          ],
          [
           "JP Duminy"
          ],
          [
           "JR Hazlewood"
          ],
          [
           "JR Ratnayeke"
          ],
          [
           "JR Reid"
          ],
          [
           "JR Thomson"
          ],
          [
           "JS Patel"
          ],
          [
           "JS Solomon"
          ],
          [
           "JT Ikin"
          ],
          [
           "JV Coney"
          ],
          [
           "JW Burke"
          ],
          [
           "JW Gleeson"
          ],
          [
           "JW Hearne"
          ],
          [
           "JW Zulch"
          ],
          [
           "JWHT Douglas"
          ],
          [
           "Javed Burki"
          ],
          [
           "Javed Miandad"
          ],
          [
           "Javed Omar"
          ],
          [
           "Junaid Siddique"
          ],
          [
           "K Rabada"
          ],
          [
           "K Srikkanth"
          ],
          [
           "KA Edwards"
          ],
          [
           "KA Maharaj"
          ],
          [
           "KAJ Roach"
          ],
          [
           "KC Bland"
          ],
          [
           "KC Brathwaite"
          ],
          [
           "KC Sangakkara"
          ],
          [
           "KC Wessels"
          ],
          [
           "KCG Benjamin"
          ],
          [
           "KD Boyce"
          ],
          [
           "KD Ghavri"
          ],
          [
           "KD Mackay"
          ],
          [
           "KD Mills"
          ],
          [
           "KD Walters"
          ],
          [
           "KF Barrington"
          ],
          [
           "KG Viljoen"
          ],
          [
           "KJ Hughes"
          ],
          [
           "KJ O'Keeffe"
          ],
          [
           "KK Jennings"
          ],
          [
           "KLT Arthurton"
          ],
          [
           "KOA Powell"
          ],
          [
           "KP Pietersen"
          ],
          [
           "KR Miller"
          ],
          [
           "KR Pushpakumara"
          ],
          [
           "KR Rutherford"
          ],
          [
           "KR Stackpole"
          ],
          [
           "KS More"
          ],
          [
           "KS Williamson"
          ],
          [
           "KTGD Prasad"
          ],
          [
           "KWR Fletcher"
          ],
          [
           "L Amarnath"
          ],
          [
           "L Hutton"
          ],
          [
           "L Klusener"
          ],
          [
           "L Vincent"
          ],
          [
           "LC Braund"
          ],
          [
           "LG Rowe"
          ],
          [
           "LN Constantine"
          ],
          [
           "LR Gibbs"
          ],
          [
           "LRPL Taylor"
          ],
          [
           "M Amarnath"
          ],
          [
           "M Azharuddin"
          ],
          [
           "M Dillon"
          ],
          [
           "M Hendrick"
          ],
          [
           "M Leyland"
          ],
          [
           "M Morkel"
          ],
          [
           "M Muralitharan"
          ],
          [
           "M Ntini"
          ],
          [
           "M Prabhakar"
          ],
          [
           "M Vijay"
          ],
          [
           "MA Atherton"
          ],
          [
           "MA Butcher"
          ],
          [
           "MA Holding"
          ],
          [
           "MA Noble"
          ],
          [
           "MA Starc"
          ],
          [
           "MA Taylor"
          ],
          [
           "MAK Pataudi"
          ],
          [
           "MC Carew"
          ],
          [
           "MC Cowdrey"
          ],
          [
           "MC Snedden"
          ],
          [
           "MD Crowe"
          ],
          [
           "MD Marshall"
          ],
          [
           "MDK Perera"
          ],
          [
           "ME Trescothick"
          ],
          [
           "ME Waugh"
          ],
          [
           "MEK Hussey"
          ],
          [
           "MF Maharoof"
          ],
          [
           "MG Bevan"
          ],
          [
           "MG Burgess"
          ],
          [
           "MG Hughes"
          ],
          [
           "MG Johnson"
          ],
          [
           "MH Mankad"
          ],
          [
           "MH Richardson"
          ],
          [
           "MHN Walker"
          ],
          [
           "MJ Clarke"
          ],
          [
           "MJ Greatbatch"
          ],
          [
           "MJ Guptill"
          ],
          [
           "MJ Hoggard"
          ],
          [
           "MJ Horne"
          ],
          [
           "MJ North"
          ],
          [
           "MJ Slater"
          ],
          [
           "MJK Smith"
          ],
          [
           "ML Hayden"
          ],
          [
           "ML Jaisimha"
          ],
          [
           "MM Ali"
          ],
          [
           "MN Samuels"
          ],
          [
           "MP Vaughan"
          ],
          [
           "MR Marsh"
          ],
          [
           "MR Ramprakash"
          ],
          [
           "MS Atapattu"
          ],
          [
           "MS Dhoni"
          ],
          [
           "MS Kasprowicz"
          ],
          [
           "MS Panesar"
          ],
          [
           "MS Sinclair"
          ],
          [
           "MS Wade"
          ],
          [
           "MTG Elliott"
          ],
          [
           "MV Boucher"
          ],
          [
           "MW Gatting"
          ],
          [
           "MW Goodwin"
          ],
          [
           "MW Tate"
          ],
          [
           "Mahmood Hussain"
          ],
          [
           "Mahmudullah"
          ],
          [
           "Majid Khan"
          ],
          [
           "Maninder Singh"
          ],
          [
           "Manjural Islam"
          ],
          [
           "Mashrafe Mortaza"
          ],
          [
           "Mehidy Hasan Miraz"
          ],
          [
           "Mohammad Amir"
          ],
          [
           "Mohammad Ashraful"
          ],
          [
           "Mohammad Asif"
          ],
          [
           "Mohammad Hafeez"
          ],
          [
           "Mohammad Rafique"
          ],
          [
           "Mohammad Sami"
          ],
          [
           "Mohammad Yousuf"
          ],
          [
           "Mohammed Shami"
          ],
          [
           "Mohsin Khan"
          ],
          [
           "Mominul Haque"
          ],
          [
           "Mudassar Nazar"
          ],
          [
           "Mushtaq Ahmed"
          ],
          [
           "Mushtaq Mohammad"
          ],
          [
           "N Boje"
          ],
          [
           "N Deonarine"
          ],
          [
           "N Hussain"
          ],
          [
           "N Kapil Dev"
          ],
          [
           "N Pradeep"
          ],
          [
           "N Wagner"
          ],
          [
           "NA Foster"
          ],
          [
           "NAM McLean"
          ],
          [
           "NAT Adcock"
          ],
          [
           "NBF Mann"
          ],
          [
           "NCL O'Neill"
          ],
          [
           "ND McKenzie"
          ],
          [
           "NJ Astle"
          ],
          [
           "NJ Contractor"
          ],
          [
           "NJN Hawke"
          ],
          [
           "NM Lyon"
          ],
          [
           "NS Sidhu"
          ],
          [
           "NS Yadav"
          ],
          [
           "NT Paranavitana"
          ],
          [
           "NWD Yardley"
          ],
          [
           "Nasim-ul-Ghani"
          ],
          [
           "Nasir Hossain"
          ],
          [
           "OG Smith"
          ],
          [
           "P Roy"
          ],
          [
           "P Willey"
          ],
          [
           "PA Strang"
          ],
          [
           "PA de Silva"
          ],
          [
           "PAJ DeFreitas"
          ],
          [
           "PCR Tufnell"
          ],
          [
           "PD Collingwood"
          ],
          [
           "PE Richardson"
          ],
          [
           "PH Edmonds"
          ],
          [
           "PH Parfitt"
          ],
          [
           "PI Pocock"
          ],
          [
           "PJ Cummins"
          ],
          [
           "PJ Wiseman"
          ],
          [
           "PL Harris"
          ],
          [
           "PM Pollock"
          ],
          [
           "PM Siddle"
          ],
          [
           "PR Adams"
          ],
          [
           "PR Reiffel"
          ],
          [
           "PR Umrigar"
          ],
          [
           "PS McDonnell"
          ],
          [
           "PT Collins"
          ],
          [
           "PV Simmons"
          ],
          [
           "Qasim Umar"
          ],
          [
           "R Ashwin"
          ],
          [
           "R Benaud"
          ],
          [
           "R Dravid"
          ],
          [
           "R Edwards"
          ],
          [
           "R Illingworth"
          ],
          [
           "R Peel"
          ],
          [
           "R Rampaul"
          ],
          [
           "RA Duff"
          ],
          [
           "RA Harper"
          ],
          [
           "RA Jadeja"
          ],
          [
           "RA McLean"
          ],
          [
           "RA Smith"
          ],
          [
           "RA Woolmer"
          ],
          [
           "RAS Lakmal"
          ],
          [
           "RB Desai"
          ],
          [
           "RB Kanhai"
          ],
          [
           "RB Richardson"
          ],
          [
           "RB Simpson"
          ],
          [
           "RC Fredericks"
          ],
          [
           "RC Motz"
          ],
          [
           "RDB Croft"
          ],
          [
           "RES Wyatt"
          ],
          [
           "RF Surti"
          ],
          [
           "RG Archer"
          ],
          [
           "RG Barlow"
          ],
          [
           "RG Nadkarni"
          ],
          [
           "RG Pollock"
          ],
          [
           "RG Sharma"
          ],
          [
           "RGD Willis"
          ],
          [
           "RH Catterall"
          ],
          [
           "RJ Bright"
          ],
          [
           "RJ Christiani"
          ],
          [
           "RJ Harris"
          ],
          [
           "RJ Ratnayake"
          ],
          [
           "RJ Shastri"
          ],
          [
           "RJ Sidebottom"
          ],
          [
           "RL Chase"
          ],
          [
           "RL Dias"
          ],
          [
           "RM Cowper"
          ],
          [
           "RM Hogg"
          ],
          [
           "RMH Binny"
          ],
          [
           "RN Harvey"
          ],
          [
           "RO Collinge"
          ],
          [
           "RO Schwarz"
          ],
          [
           "RP Arnold"
          ],
          [
           "RR Lindwall"
          ],
          [
           "RR Sarwan"
          ],
          [
           "RS Cunis"
          ],
          [
           "RS Madugalle"
          ],
          [
           "RS Mahanama"
          ],
          [
           "RT Ponting"
          ],
          [
           "RT Robinson"
          ],
          [
           "RT Simpson"
          ],
          [
           "RW Barber"
          ],
          [
           "RW Blair"
          ],
          [
           "RW Marsh"
          ],
          [
           "RW Morgan"
          ],
          [
           "RW Price"
          ],
          [
           "RW Taylor"
          ],
          [
           "Rahat Ali"
          ],
          [
           "Rajin Saleh"
          ],
          [
           "Rashid Latif"
          ],
          [
           "Rubel Hossain"
          ],
          [
           "S Abid Ali"
          ],
          [
           "S Chanderpaul"
          ],
          [
           "S Dhawan"
          ],
          [
           "S Madan Lal"
          ],
          [
           "S Ramadhin"
          ],
          [
           "S Ramesh"
          ],
          [
           "S Sreesanth"
          ],
          [
           "S Venkataraghavan"
          ],
          [
           "S Wettimuny"
          ],
          [
           "SA Durani"
          ],
          [
           "SA Thomson"
          ],
          [
           "SB Doull"
          ],
          [
           "SB Styris"
          ],
          [
           "SC Ganguly"
          ],
          [
           "SC Williams"
          ],
          [
           "SCG MacGill"
          ],
          [
           "SCJ Broad"
          ],
          [
           "SE Gregory"
          ],
          [
           "SF Barnes"
          ],
          [
           "SFAF Bacchus"
          ],
          [
           "SJ Benn"
          ],
          [
           "SJ Harmison"
          ],
          [
           "SJ McCabe"
          ],
          [
           "SJ Snooke"
          ],
          [
           "SK Raina"
          ],
          [
           "SK Warne"
          ],
          [
           "SL Boock"
          ],
          [
           "SL Malinga"
          ],
          [
           "SLV Raju"
          ],
          [
           "SM Curran"
          ],
          [
           "SM Gavaskar"
          ],
          [
           "SM Katich"
          ],
          [
           "SM Nurse"
          ],
          [
           "SM Patil"
          ],
          [
           "SM Pollock"
          ],
          [
           "SMH Kirmani"
          ],
          [
           "SP Gupte"
          ],
          [
           "SP Jones"
          ],
          [
           "SPD Smith"
          ],
          [
           "SR Tendulkar"
          ],
          [
           "SR Watson"
          ],
          [
           "SR Waugh"
          ],
          [
           "SS Das"
          ],
          [
           "ST Finn"
          ],
          [
           "ST Gabriel"
          ],
          [
           "ST Jayasuriya"
          ],
          [
           "SV Manjrekar"
          ],
          [
           "Sadiq Mohammad"
          ],
          [
           "Saeed Ahmed"
          ],
          [
           "Saeed Ajmal"
          ],
          [
           "Saeed Anwar"
          ],
          [
           "Saleem Altaf"
          ],
          [
           "Saleem Malik"
          ],
          [
           "Salman Butt"
          ],
          [
           "Saqlain Mushtaq"
          ],
          [
           "Sarfraz Nawaz"
          ],
          [
           "Shahadat Hossain"
          ],
          [
           "Shahid Afridi"
          ],
          [
           "Shakib Al Hasan"
          ],
          [
           "Shan Masood"
          ],
          [
           "Shoaib Akhtar"
          ],
          [
           "Shoaib Malik"
          ],
          [
           "Shoaib Mohammad"
          ],
          [
           "Shujauddin"
          ],
          [
           "Sikandar Raza"
          ],
          [
           "Sikander Bakht"
          ],
          [
           "Sir RJ Hadlee"
          ],
          [
           "T Bavuma"
          ],
          [
           "T Taibu"
          ],
          [
           "TA Boult"
          ],
          [
           "TE Bailey"
          ],
          [
           "TG Southee"
          ],
          [
           "TL Best"
          ],
          [
           "TL Goddard"
          ],
          [
           "TM Alderman"
          ],
          [
           "TM Dilshan"
          ],
          [
           "TR Gripper"
          ],
          [
           "TR Veivers"
          ],
          [
           "TT Samaraweera"
          ],
          [
           "TW Garrett"
          ],
          [
           "TW Graveney"
          ],
          [
           "TW Hayward"
          ],
          [
           "Taijul Islam"
          ],
          [
           "Tamim Iqbal"
          ],
          [
           "Tapash Baisya"
          ],
          [
           "Taufeeq Umar"
          ],
          [
           "Tauseef Ahmed"
          ],
          [
           "UC Hathurusingha"
          ],
          [
           "UT Khawaja"
          ],
          [
           "UT Yadav"
          ],
          [
           "UWMBCA Welegedara"
          ],
          [
           "Umar Gul"
          ],
          [
           "V Kohli"
          ],
          [
           "V Pollard"
          ],
          [
           "V Sehwag"
          ],
          [
           "VA Holder"
          ],
          [
           "VD Philander"
          ],
          [
           "VL Manjrekar"
          ],
          [
           "VS Hazare"
          ],
          [
           "VS Ransford"
          ],
          [
           "VT Trumper"
          ],
          [
           "VVS Laxman"
          ],
          [
           "W Barnes"
          ],
          [
           "W Jaffer"
          ],
          [
           "W Mathias"
          ],
          [
           "W Rhodes"
          ],
          [
           "W Voce"
          ],
          [
           "W Watson"
          ],
          [
           "WA Johnston"
          ],
          [
           "WG Grace"
          ],
          [
           "WJ Cronje"
          ],
          [
           "WJ Edrich"
          ],
          [
           "WJ O'Reilly"
          ],
          [
           "WK Lees"
          ],
          [
           "WM Lawry"
          ],
          [
           "WPUJC Vaas"
          ],
          [
           "WR Hammond"
          ],
          [
           "WW Armstrong"
          ],
          [
           "WW Hall"
          ],
          [
           "WW Hinds"
          ],
          [
           "Wahab Riaz"
          ],
          [
           "Waqar Hasan"
          ],
          [
           "Waqar Younis"
          ],
          [
           "Wasim Akram"
          ],
          [
           "Wasim Bari"
          ],
          [
           "Wasim Raja"
          ],
          [
           "Wazir Mohammad"
          ],
          [
           "Yashpal Sharma"
          ],
          [
           "Yasir Hameed"
          ],
          [
           "Yasir Shah"
          ],
          [
           "Younis Khan"
          ],
          [
           "Yuvraj Singh"
          ],
          [
           "Z Khan"
          ],
          [
           "Zaheer Abbas"
          ]
         ],
         "hovertemplate": "Bowling Average=%{x}<br>Batting Average=%{y}<br>Innings Player=%{customdata[0]}<extra></extra>",
         "legendgroup": "",
         "marker": {
          "color": "#636efa",
          "symbol": "circle"
         },
         "mode": "markers",
         "name": "",
         "orientation": "v",
         "showlegend": false,
         "type": "scatter",
         "x": [
          28.640449438202246,
          33.34703196347032,
          45.22023247721663,
          29.652665589660742,
          35.723684210526315,
          31.86178861788618,
          65,
          45.22023247721663,
          37.333333333333336,
          22.254545454545454,
          29.848484848484848,
          47.327586206896555,
          52,
          40.75,
          45.22023247721663,
          93.5,
          52.878787878787875,
          45.22023247721663,
          45.22023247721663,
          47,
          40.6013986013986,
          45.22023247721663,
          23,
          45.68421052631579,
          47,
          194,
          45.42857142857143,
          39.5,
          35.93333333333333,
          23,
          45.22023247721663,
          26.76923076923077,
          20.532258064516128,
          45.22023247721663,
          45.22023247721663,
          45.22023247721663,
          30.323741007194243,
          45.22023247721663,
          45.22023247721663,
          37.056603773584904,
          50.642857142857146,
          25.613861386138613,
          29.225490196078432,
          7,
          62,
          34.05,
          45.22023247721663,
          39.1025641025641,
          29.91025641025641,
          30.857142857142858,
          25,
          27.322033898305083,
          39.833333333333336,
          24.89830508474576,
          45.22023247721663,
          32.205673758865245,
          37.8780487804878,
          41.96,
          32.80508474576271,
          36.94,
          29.393939393939394,
          47.4,
          75,
          118.16666666666667,
          86,
          28.339622641509433,
          75.75,
          76.375,
          35.94871794871795,
          30.81935483870968,
          51.111111111111114,
          86,
          31.634920634920636,
          45.22023247721663,
          24.63716814159292,
          32.68027210884354,
          88,
          48.666666666666664,
          45.22023247721663,
          45.22023247721663,
          39.339285714285715,
          37.36,
          36.50847457627118,
          18,
          45.22023247721663,
          45.22023247721663,
          69,
          35,
          32.92307692307692,
          39.5531914893617,
          45.22023247721663,
          33.82666666666667,
          123.5,
          30.903225806451612,
          31.757142857142856,
          26.603603603603602,
          45.22023247721663,
          28.710526315789473,
          29.74793388429752,
          28.505050505050505,
          32,
          16,
          35.6764705882353,
          45.22023247721663,
          18.63,
          32.36538461538461,
          33,
          37.6271186440678,
          31.638297872340427,
          45.22023247721663,
          51.5,
          24.447013487475914,
          45.22023247721663,
          39.470588235294116,
          28.54255319148936,
          55,
          37.526881720430104,
          45.22023247721663,
          32.30107526881721,
          44.892857142857146,
          23.304,
          20.990123456790123,
          46.48076923076923,
          45.22023247721663,
          27.555555555555557,
          42.73972602739726,
          62.2,
          45.22023247721663,
          28.632302405498283,
          45.22023247721663,
          29.40366972477064,
          49.42982456140351,
          31.321428571428573,
          37.09090909090909,
          28.111888111888113,
          53,
          30.88421052631579,
          37.84,
          33.81115879828326,
          16.534653465346533,
          24.21759259259259,
          73.125,
          37.17948717948718,
          43.93333333333333,
          106,
          28.397379912663755,
          30.975409836065573,
          67.25,
          38.833333333333336,
          39.3921568627451,
          29.555555555555557,
          45.22023247721663,
          47.858823529411765,
          45.22023247721663,
          56.4,
          37.09375,
          36,
          29.81679389312977,
          36.854838709677416,
          20,
          39.83720930232558,
          28.31645569620253,
          35.5,
          45.22023247721663,
          28.483870967741936,
          35.79761904761905,
          23.92394366197183,
          34.68125,
          8,
          null,
          25.838383838383837,
          34.15512465373961,
          45.22023247721663,
          64,
          51.95238095238095,
          42.053333333333335,
          45.22023247721663,
          33.703125,
          51.666666666666664,
          30.719298245614034,
          null,
          33.647887323943664,
          45.22023247721663,
          84,
          35.97142857142857,
          31.753246753246753,
          35.04255319148936,
          27.466666666666665,
          45.22023247721663,
          39.111111111111114,
          41,
          45.22023247721663,
          22.954441913439634,
          34.79693486590038,
          45.22023247721663,
          30.38095238095238,
          59.44444444444444,
          77,
          31,
          34.05,
          32.17886178861789,
          35.76,
          34.93939393939394,
          45.22023247721663,
          74.5,
          33.91566265060241,
          37.872727272727275,
          32.723076923076924,
          32.22875816993464,
          38.72463768115942,
          31.066666666666666,
          21.579804560260587,
          45.22023247721663,
          24.705035971223023,
          54.57142857142857,
          27.128205128205128,
          45.22023247721663,
          45.22023247721663,
          27.097087378640776,
          71,
          30.983333333333334,
          37,
          20.4,
          26.585365853658537,
          46.47826086956522,
          45.22023247721663,
          56.78260869565217,
          25.580459770114942,
          42,
          110.625,
          33.44444444444444,
          21.644760213143872,
          29.788617886178862,
          27.413793103448278,
          30.56111111111111,
          28.295652173913044,
          30,
          35.13793103448276,
          42,
          68.2,
          84,
          40.94117647058823,
          45.22023247721663,
          45.22023247721663,
          116,
          29.37037037037037,
          90.33333333333333,
          29.968627450980392,
          45.22023247721663,
          41.870588235294115,
          29.76086956521739,
          46,
          48.22950819672131,
          45.22023247721663,
          45.22023247721663,
          51.42857142857143,
          40.702127659574465,
          46.31707317073171,
          34.03829787234042,
          19,
          61.48,
          30.176470588235293,
          30.5625,
          21.78723404255319,
          24.375,
          62,
          43.14705882352941,
          42.31884057971015,
          45.22023247721663,
          45.22023247721663,
          45.22023247721663,
          28.14351851851852,
          36.95348837209303,
          25.91176470588235,
          38.529411764705884,
          63,
          45.22023247721663,
          28.07621247113164,
          45.22023247721663,
          27.333333333333332,
          31.2,
          45.22023247721663,
          95,
          32.462829736211035,
          45.22023247721663,
          33.291666666666664,
          32.39057239057239,
          45.22023247721663,
          33.273972602739725,
          7,
          80,
          32.26,
          65.8,
          76,
          24.279503105590063,
          45.22023247721663,
          28.402088772845953,
          61.375,
          29.192660550458715,
          38.5,
          94.66666666666667,
          23.465473145780052,
          45.22023247721663,
          null,
          35.952,
          45.22023247721663,
          28.11111111111111,
          97,
          17.75423728813559,
          20.976833976833976,
          43.705882352941174,
          30.491525423728813,
          34,
          108,
          26.668316831683168,
          165,
          24.845238095238095,
          39,
          49.48148148148148,
          38.02040816326531,
          21.248704663212436,
          31.166666666666668,
          56,
          31.818181818181817,
          33.05,
          45.22023247721663,
          38.40816326530612,
          50.07142857142857,
          34.46153846153846,
          33.97560975609756,
          45.22023247721663,
          35.81372549019608,
          45.22023247721663,
          45.22023247721663,
          32.63573883161512,
          31.682539682539684,
          20.392156862745097,
          45.22023247721663,
          26.726027397260275,
          20,
          45.22023247721663,
          26.83219178082192,
          30.283333333333335,
          31.152941176470588,
          45.22023247721663,
          24,
          51,
          26.138996138996138,
          45.22023247721663,
          26.37735849056604,
          38.13953488372093,
          26.2,
          35.214285714285715,
          33.35294117647059,
          28.005,
          47.353846153846156,
          67,
          118,
          35.77777777777778,
          28.75,
          36.204301075268816,
          48.733333333333334,
          45.22023247721663,
          33.022222222222226,
          45.22023247721663,
          40.11764705882353,
          45.22023247721663,
          45.22023247721663,
          22.95939086294416,
          45.22023247721663,
          45.22023247721663,
          33.19090909090909,
          27.139896373056995,
          62.5,
          56.94444444444444,
          45.22023247721663,
          45.22023247721663,
          30.27173913043478,
          30.016666666666666,
          33.54128440366973,
          34.42,
          33.02272727272727,
          29.081632653061224,
          44.827586206896555,
          45.22023247721663,
          45.22023247721663,
          38.075471698113205,
          45.22023247721663,
          183,
          null,
          88.6,
          22.976470588235294,
          38.6551724137931,
          161,
          66.73333333333333,
          45.22023247721663,
          40.62068965517241,
          35.973333333333336,
          96.5,
          32.91111111111111,
          77.33333333333333,
          37.9125,
          45.22023247721663,
          38.51063829787234,
          45.22023247721663,
          30.103448275862068,
          29.09061488673139,
          24,
          55.6875,
          45.22023247721663,
          33.57251908396947,
          25.839080459770116,
          97.5,
          27.66990291262136,
          22.670440251572327,
          28.825641025641026,
          37.302083333333336,
          198,
          151,
          36.06666666666667,
          23.686746987951807,
          25,
          26.979508196721312,
          26,
          88,
          54.625,
          45.22023247721663,
          37.91379310344828,
          48.285714285714285,
          20.9468085106383,
          35.333333333333336,
          155,
          41.16949152542373,
          43.714285714285715,
          65.24,
          24.24137931034483,
          35.333333333333336,
          28.382075471698112,
          28.405750798722046,
          32.32098765432099,
          21,
          27.47826086956522,
          38.193548387096776,
          null,
          37.25,
          30.5,
          45.22023247721663,
          42.214285714285715,
          10,
          128,
          45.22023247721663,
          92.11111111111111,
          36.59668508287293,
          59.63414634146341,
          93.5,
          38.642857142857146,
          119.25,
          24,
          45.22023247721663,
          32.88495575221239,
          34.712574850299404,
          45.22023247721663,
          45.22023247721663,
          45.22023247721663,
          6,
          79.25,
          45.22023247721663,
          26.161290322580644,
          38.64705882352941,
          45.325581395348834,
          53.925925925925924,
          37.36363636363637,
          57.32142857142857,
          41.52564102564103,
          33.12222222222222,
          30.478991596638654,
          60.523809523809526,
          24.367924528301888,
          34.113207547169814,
          40.76,
          52.741176470588236,
          45.22023247721663,
          27.36111111111111,
          45.22023247721663,
          94,
          38.36363636363637,
          32.972972972972975,
          29.227848101265824,
          42.65,
          29.708333333333332,
          45.22023247721663,
          29.647465437788018,
          42.9,
          26.601941747572816,
          32.85227272727273,
          42.56818181818182,
          21.10576923076923,
          33.10344827586207,
          39.23529411764706,
          45.22023247721663,
          42.01960784313726,
          80,
          29.417582417582416,
          31.58974358974359,
          45.22023247721663,
          35.09803921568628,
          86,
          33.666666666666664,
          37.67307692307692,
          55.25,
          33.854166666666664,
          66,
          65.14285714285714,
          36.02857142857143,
          41.6551724137931,
          33.57142857142857,
          37.68595041322314,
          59.88235294117647,
          16,
          34.184,
          47.833333333333336,
          44.417910447761194,
          21.825174825174827,
          47.59016393442623,
          37.87378640776699,
          24.189655172413794,
          30.665158371040725,
          32.87313432835821,
          26.96153846153846,
          42.08571428571429,
          45.22023247721663,
          34.632075471698116,
          64.25,
          null,
          25.43013698630137,
          27.032258064516128,
          39,
          45.22023247721663,
          31.204918032786885,
          16.980198019801982,
          34.795918367346935,
          21.25,
          28.065217391304348,
          24.629107981220656,
          45.22023247721663,
          45.22023247721663,
          74.75,
          37.42384105960265,
          37.310810810810814,
          45.22023247721663,
          45.22023247721663,
          42.267605633802816,
          78.28571428571429,
          31.48,
          37.244897959183675,
          35.666666666666664,
          46.714285714285715,
          27.458333333333332,
          22.558823529411764,
          29.079545454545453,
          51,
          108,
          25.2,
          23.142857142857142,
          41.132075471698116,
          36,
          23.52212389380531,
          35.10958904109589,
          40.96026490066225,
          28.240506329113924,
          42.3728813559322,
          45.22023247721663,
          31.63888888888889,
          28.479674796747968,
          32.638297872340424,
          40,
          29.25,
          25.763636363636362,
          54.36363636363637,
          23.030701754385966,
          50.56521739130435,
          37,
          45.22023247721663,
          45.22023247721663,
          55.2,
          null,
          11,
          43,
          35.23255813953488,
          45.22023247721663,
          121.8,
          36.0625,
          45.22023247721663,
          39.03448275862069,
          134,
          45.22023247721663,
          76.77777777777777,
          42.12765957446808,
          98.11111111111111,
          45.22023247721663,
          40.08450704225352,
          28.981012658227847,
          45.22023247721663,
          37.59770114942529,
          36.11538461538461,
          45.22023247721663,
          35.42666666666667,
          50.1578947368421,
          29.306122448979593,
          50.75,
          52.53125,
          49.68421052631579,
          29.028846153846153,
          28.509278350515466,
          45.22023247721663,
          16.433862433862434,
          45.22023247721663,
          39.10344827586207,
          31.94144144144144,
          42.861111111111114,
          20.057142857142857,
          46.38461538461539,
          25.416666666666668,
          34.648648648648646,
          33.15841584158416,
          30.72043010752688,
          31.7027027027027,
          206,
          30.238095238095237,
          45.22023247721663,
          26.666666666666668,
          23.1187648456057,
          13,
          29.550335570469798,
          27.353846153846153,
          56.470588235294116,
          54.17391304347826,
          33.68,
          37.44565217391305,
          45.22023247721663,
          30.4,
          30.639097744360903,
          34.3469387755102,
          45.22023247721663,
          45.22023247721663,
          36.45454545454545,
          28.10674157303371,
          45.22023247721663,
          37.17391304347826,
          82.8,
          106,
          29.83653846153846,
          32.75706214689266,
          51.81944444444444,
          35.604166666666664,
          31.12857142857143,
          22,
          25.696629213483146,
          47.46875,
          34,
          40.05,
          41.8125,
          36,
          22.299303944315547,
          61,
          27,
          27.655430711610485,
          29.21212121212121,
          29.003521126760564,
          40.19298245614035,
          26.227642276422763,
          27.152941176470588,
          43.87179487179487,
          84.83333333333333,
          41.666666666666664,
          45.93333333333333,
          26.944444444444443,
          167,
          36.714285714285715,
          33.175438596491226,
          45.22023247721663,
          59.361111111111114,
          45.22023247721663,
          31.72043010752688,
          46.411764705882355,
          45.22023247721663,
          30.47222222222222,
          41.32727272727273,
          34.06748466257669,
          45.22023247721663,
          46.325,
          47.35,
          33.27522935779817,
          22.321428571428573,
          44,
          61,
          28,
          39.625,
          63,
          15.549019607843137,
          9,
          45.22023247721663,
          26.968503937007874,
          27.887755102040817,
          34.675,
          23.9125,
          26.22222222222222,
          29.953488372093023,
          41.292682926829265,
          22.59722222222222,
          45.22023247721663,
          45.22023247721663,
          29.580281690140843,
          37.80722891566265,
          33.59770114942529,
          26.385416666666668,
          36.875,
          34.506024096385545,
          45.22023247721663,
          23.560321715817693,
          23.620772946859905,
          45.22023247721663,
          35.80392156862745,
          45.22023247721663,
          17,
          45.22023247721663,
          30.525821596244132,
          54.55555555555556,
          60.77777777777778,
          32.948553054662376,
          44
         ],
         "xaxis": "x",
         "y": [
          13.057142857142857,
          31.89075630252101,
          51.54838709677419,
          17.77304964539007,
          21.6,
          9.911764705882353,
          35.6993006993007,
          35.47222222222222,
          40.611111111111114,
          10.688524590163935,
          11.621621621621621,
          16.794117647058822,
          50.664739884393065,
          23.083333333333332,
          61.875,
          30.075757575757574,
          45.31060606060606,
          53.81818181818182,
          27.21904761904762,
          35.57142857142857,
          20.897058823529413,
          36.121212121212125,
          20.522727272727273,
          16.363636363636363,
          41.64772727272727,
          44.27272727272727,
          23.76923076923077,
          44.43434343434343,
          26.20689655172414,
          36.093023255813954,
          39.546728971962615,
          16.419354838709676,
          24.59259259259259,
          38.486486486486484,
          46.56060606060606,
          35.79710144927536,
          4.7,
          31.073529411764707,
          26.03125,
          26.848484848484848,
          14.863636363636363,
          14.941176470588236,
          10.4,
          45.35272727272727,
          34.88333333333333,
          38.92063492063492,
          28.90625,
          50.56108597285068,
          10.373493975903614,
          19.853658536585368,
          46.48684210526316,
          7.461538461538462,
          19.285714285714285,
          12.75,
          25.41025641025641,
          40.438202247191015,
          29.786666666666665,
          35.2875,
          15.590909090909092,
          28.61764705882353,
          14.107142857142858,
          20.785714285714285,
          25.372093023255815,
          17.696969696969695,
          39.256410256410255,
          38.858695652173914,
          24.42105263157895,
          42.58273381294964,
          30,
          20.15277777777778,
          48.88732394366197,
          40.10294117647059,
          19.56,
          30.59375,
          4.65,
          36.54054054054054,
          38.64071856287425,
          42.214285714285715,
          39.54761904761905,
          53.17857142857143,
          12.916666666666666,
          30.928571428571427,
          32.22429906542056,
          43.111111111111114,
          30.2,
          32.7,
          36.97530864197531,
          7.518518518518518,
          16.280701754385966,
          40.064516129032256,
          35.28947368421053,
          39.36,
          33.42424242424242,
          6.590909090909091,
          26.193548387096776,
          20.40909090909091,
          35.43103448275862,
          8.986301369863014,
          4.073170731707317,
          13.653846153846153,
          36.05555555555556,
          29.435897435897434,
          17.814814814814813,
          26.8125,
          9.631578947368421,
          37.421052631578945,
          42.81666666666667,
          24.46511627906977,
          37.03125,
          48.666666666666664,
          30.70967741935484,
          7.548387096774194,
          32.18421052631579,
          26.814814814814813,
          16.5625,
          45.06944444444444,
          23.020833333333332,
          39.32911392405063,
          7.88,
          38.46913580246913,
          10.533333333333333,
          12.405172413793103,
          35.593023255813954,
          44.72189349112426,
          41.78431372549019,
          42.187134502923975,
          46.67701863354037,
          35.41935483870968,
          12.207792207792208,
          32.5,
          33.535353535353536,
          36.46835443037975,
          20.23076923076923,
          56.6865671641791,
          14.824561403508772,
          31.575757575757574,
          26.75,
          8.3,
          2.3653846153846154,
          11.535714285714286,
          13.925,
          20.44736842105263,
          15.369565217391305,
          38.495049504950494,
          25.714285714285715,
          12.573529411764707,
          25.5,
          48.945945945945944,
          13.853658536585366,
          22.58823529411765,
          25.34285714285714,
          42.13496932515337,
          7.826923076923077,
          43.65882352941176,
          50.060344827586206,
          6.051282051282051,
          99.94285714285714,
          18,
          32.3421052631579,
          44.25268817204301,
          31.428571428571427,
          11.793103448275861,
          44.213592233009706,
          42.06896551724138,
          23.516129032258064,
          21.688524590163933,
          13.712121212121213,
          8.422222222222222,
          42.29943502824859,
          43.05882352941177,
          11.567901234567902,
          30.153333333333332,
          37.69892473118279,
          46.55128205128205,
          35.15094339622642,
          20.689655172413794,
          39.23529411764706,
          8.470588235294118,
          49.848101265822784,
          4.607142857142857,
          25.95,
          14.324324324324325,
          48,
          46.37894736842105,
          15.108695652173912,
          16.423076923076923,
          31.79310344827586,
          44.95,
          23.783783783783782,
          11.115384615384615,
          34.36842105263158,
          33.37837837837838,
          13.597826086956522,
          7.0588235294117645,
          43.666666666666664,
          11.484375,
          25.428571428571427,
          58.61842105263158,
          47.63513513513514,
          45.74545454545454,
          8.571428571428571,
          14.5,
          47.8936170212766,
          39.80612244897959,
          36.78048780487805,
          36.07692307692308,
          6.566666666666666,
          16.6875,
          22.29230769230769,
          49.48717948717949,
          25.310344827586206,
          13.816901408450704,
          26.761904761904763,
          14.090909090909092,
          47.72941176470588,
          9.44,
          35.32432432432432,
          41.95959595959596,
          23.358490566037737,
          45.27329192546584,
          25.80851063829787,
          43.86666666666667,
          24.333333333333332,
          40.7906976744186,
          42.58373205741627,
          60.833333333333336,
          31.324074074074073,
          13.74074074074074,
          25.451612903225808,
          48.7,
          30.06896551724138,
          7.367816091954023,
          12.272727272727273,
          30.317073170731707,
          15.964285714285714,
          12.028571428571428,
          22.571428571428573,
          21.928571428571427,
          17.066666666666666,
          28.93548387096774,
          22.733333333333334,
          29.426666666666666,
          35.208333333333336,
          44.64179104477612,
          41.134328358208954,
          24.193548387096776,
          32.44871794871795,
          22.096774193548388,
          44.66225165562914,
          9.40677966101695,
          13.35897435897436,
          41.93103448275862,
          41.08888888888889,
          30.714285714285715,
          37.45,
          34.026666666666664,
          53.86363636363637,
          24.583333333333332,
          57.78417266187051,
          31.16216216216216,
          29.54700854700855,
          8.727272727272727,
          30.04054054054054,
          19.790697674418606,
          20.90625,
          39.6375,
          8.807692307692308,
          19.727272727272727,
          22.64516129032258,
          30.140350877192983,
          41.95238095238095,
          22.359550561797754,
          12.125,
          16.901960784313726,
          5.411764705882353,
          45.06666666666667,
          46.64321608040201,
          14.64655172413793,
          42.87735849056604,
          31.142857142857142,
          40.77777777777778,
          30.877551020408163,
          43.98876404494382,
          18.229508196721312,
          34.77142857142857,
          48.793103448275865,
          8.372093023255815,
          25.56338028169014,
          7.551724137931035,
          28.735294117647058,
          44.08045977011494,
          31.571428571428573,
          42.42063492063492,
          42.69060773480663,
          12.153846153846153,
          43.45871559633027,
          33.54838709677419,
          50.23529411764706,
          18.51851851851852,
          37.67045454545455,
          32,
          35.398148148148145,
          24.283783783783782,
          29.281690140845072,
          22.28358208955224,
          50.16477272727273,
          13.071428571428571,
          30.266666666666666,
          18.11111111111111,
          12.444444444444445,
          51.629629629629626,
          14.211267605633802,
          30.07894736842105,
          35.432432432432435,
          13.543859649122806,
          56.94736842105263,
          11.440677966101696,
          42.333333333333336,
          41.26027397260274,
          9.714285714285714,
          14.083333333333334,
          5.55,
          40.935483870967744,
          30.678571428571427,
          36.326530612244895,
          23.864864864864863,
          22.539473684210527,
          48.40127388535032,
          12.969696969696969,
          20.71794871794872,
          46.285714285714285,
          20.428571428571427,
          37.829787234042556,
          43.54237288135593,
          55.25523012552301,
          23.23913043478261,
          19.78787878787879,
          26.24590163934426,
          11.76923076923077,
          36.758620689655174,
          45.27058823529412,
          9.634146341463415,
          19.782608695652176,
          36.96774193548387,
          22.705882352941178,
          24.557377049180328,
          32.16393442622951,
          18.73846153846154,
          35.66197183098591,
          32.724137931034484,
          30.47142857142857,
          12.181818181818182,
          25.21875,
          33.28155339805825,
          12.81132075471698,
          12.7,
          34,
          20.896551724137932,
          37.57746478873239,
          34.5945945945946,
          10.394736842105264,
          26,
          32.766666666666666,
          29.151515151515152,
          30.477272727272727,
          52.57142857142857,
          22.05128205128205,
          26.18918918918919,
          11.433962264150944,
          29.884057971014492,
          31.806451612903224,
          15.30952380952381,
          12.191780821917808,
          49.088235294117645,
          33.2952380952381,
          57.407407407407405,
          41,
          7.928571428571429,
          24.333333333333332,
          21.232558139534884,
          33.48888888888889,
          11.56,
          48.26126126126126,
          58.672413793103445,
          28.4375,
          37.41525423728814,
          25.76,
          25.193548387096776,
          30.711111111111112,
          26.813333333333333,
          47.28901734104046,
          36.975,
          8.736842105263158,
          27.087912087912088,
          37.42666666666667,
          25.7,
          50.99212598425197,
          12.864864864864865,
          39.90243902439025,
          24.38888888888889,
          56.67479674796748,
          32.86206896551724,
          34.15384615384615,
          25.973684210526315,
          43.5531914893617,
          19.242424242424242,
          6.9714285714285715,
          46.10191082802548,
          42.50485436893204,
          45.03623188405797,
          8.446153846153846,
          6.4,
          46.06666666666667,
          11.654320987654321,
          11.877358490566039,
          9.845070422535212,
          32.6530612244898,
          38.28846153846154,
          37.697560975609754,
          34.58064516129032,
          13.787878787878787,
          30.257575757575758,
          22.279411764705884,
          43.49710982658959,
          34.9125,
          34.15151515151515,
          44.06936416184971,
          14.863636363636363,
          45.36666666666667,
          18.854166666666668,
          18.584615384615386,
          43.796992481203006,
          41.817708333333336,
          51.52892561983471,
          18.533333333333335,
          29.074074074074073,
          31.209302325581394,
          16.64516129032258,
          22.204301075268816,
          31.47761194029851,
          44.774193548387096,
          19.533333333333335,
          49.10795454545455,
          30.62121212121212,
          29.386363636363637,
          7.276923076923077,
          28.38095238095238,
          35.484848484848484,
          42.83870967741935,
          31.63888888888889,
          50.73529411764706,
          30.686567164179106,
          28.979166666666668,
          32.641666666666666,
          41.44202898550725,
          25.2,
          27.325581395348838,
          39.02127659574468,
          38.09375,
          10.595238095238095,
          4.888888888888889,
          32.05882352941177,
          31.304347826086957,
          33.48571428571429,
          30.544444444444444,
          35.556451612903224,
          42.84848484848485,
          25.48936170212766,
          10.181818181818182,
          31.770114942528735,
          38.92079207920792,
          3.8076923076923075,
          3.6818181818181817,
          12.85483870967742,
          17.72222222222222,
          13.410714285714286,
          24.00877192982456,
          5.64,
          37.649484536082475,
          18.57894736842105,
          11.595238095238095,
          52.291666666666664,
          11.295454545454545,
          37.10958904109589,
          40.857142857142854,
          38.092592592592595,
          11.714285714285714,
          39.17204301075269,
          25.23076923076923,
          25.892857142857142,
          37.18709677419355,
          31.05325443786982,
          4,
          12.5,
          11.736842105263158,
          12.266666666666667,
          5.407407407407407,
          13.333333333333334,
          45.557377049180324,
          37.39080459770115,
          37.023622047244096,
          31.58823529411765,
          16.59090909090909,
          12.273809523809524,
          42.13157894736842,
          14.392857142857142,
          32.58181818181818,
          25.375,
          16.6,
          34.8,
          31.69047619047619,
          32.63636363636363,
          26.90909090909091,
          27.06451612903226,
          42.979729729729726,
          14.825396825396826,
          5.1,
          40.56190476190476,
          37.472727272727276,
          17.5,
          40.91304347826087,
          6.242424242424242,
          17.026315789473685,
          14.076923076923077,
          10.69767441860465,
          21.678571428571427,
          14.734177215189874,
          9,
          26.52777777777778,
          42.22093023255814,
          28.939393939393938,
          5.875,
          22.266666666666666,
          36.63414634146341,
          28.105882352941176,
          24.455555555555556,
          52.638888888888886,
          40.37931034482759,
          23.240506329113924,
          14.724137931034482,
          14.565217391304348,
          35.5945945945946,
          18.448275862068964,
          35.264150943396224,
          30.285714285714285,
          43.670103092783506,
          33.09375,
          11.61111111111111,
          13.483870967741936,
          47.534351145038165,
          44.3955223880597,
          46.81730769230769,
          42.490196078431374,
          11.547169811320755,
          16.192307692307693,
          31.70689655172414,
          28.704545454545453,
          24.586206896551722,
          22.73076923076923,
          25.70909090909091,
          60.972972972972975,
          46.54347826086956,
          11.506849315068493,
          37.926829268292686,
          14.35483870967742,
          26.352941176470587,
          21.535714285714285,
          14.433333333333334,
          35.794392523364486,
          15.65,
          31.38888888888889,
          36.714285714285715,
          46.84090909090909,
          9.755555555555556,
          23.055555555555557,
          48.41732283464567,
          14.405405405405405,
          13.851851851851851,
          28.015384615384615,
          21.154929577464788,
          40.013698630136986,
          12.826086956521738,
          29.4,
          29.272727272727273,
          51.85271317829457,
          36.38636363636363,
          33.357142857142854,
          35.595238095238095,
          6.75,
          26.51824817518248,
          22.242424242424242,
          8.7,
          16.281690140845072,
          7.555555555555555,
          25.931818181818183,
          28.770833333333332,
          9.464285714285714,
          20.36,
          51.37229437229437,
          40.6140350877193,
          22.652173913043477,
          8.204545454545455,
          37.97222222222222,
          10.407407407407407,
          11.6875,
          29.071428571428573,
          25.041666666666668,
          30.903225806451612,
          14.615384615384615,
          36.04545454545455,
          42.175438596491226,
          27.125,
          9.694444444444445,
          18.66860465116279,
          24.537634408602152,
          8.066666666666666,
          26.066666666666666,
          14.294117647058824,
          12.163934426229508,
          48.21052631578947,
          22.4,
          26.482758620689655,
          17.32967032967033,
          6.2727272727272725,
          11.458333333333334,
          10,
          27.346153846153847,
          51.121212121212125,
          45.03225806451613,
          47.60377358490566,
          36.93023255813954,
          32.31623931623932,
          27.04901960784314,
          6.310344827586207,
          19.181818181818183,
          62.84347826086957,
          53.78716216216216,
          35.198113207547166,
          51.0607476635514,
          34.89473684210526,
          11.16,
          4.761904761904762,
          40.07471264367816,
          37.14545454545455,
          35.81944444444444,
          40.41891891891892,
          11,
          45.52808988764045,
          14.526315789473685,
          43.696969696969695,
          30.467741935483872,
          14.484375,
          17.71186440677966,
          10.01923076923077,
          36.51063829787234,
          39.40816326530612,
          31.289473684210527,
          10.074074074074074,
          35.148148148148145,
          44.34426229508197,
          15.192307692307692,
          34.56666666666667,
          6.3478260869565215,
          27.16521739130435,
          30.75,
          30.313725490196077,
          15.209302325581396,
          29.74025974025974,
          17.375,
          12.53125,
          34.465753424657535,
          6.548387096774194,
          40.985074626865675,
          21.864864864864863,
          31.26923076923077,
          48.767857142857146,
          12.555555555555555,
          44.38181818181818,
          34.46551724137931,
          10.048780487804878,
          38.64035087719298,
          11.294117647058824,
          37.98717948717949,
          17.666666666666668,
          29.627906976744185,
          40.66197183098591,
          11.333333333333334,
          9.083333333333334,
          9.948275862068966,
          53.629629629629626,
          24.346153846153847,
          49.43604651162791,
          14.208333333333334,
          24.04054054054054,
          39.1219512195122,
          47.65217391304348,
          37.84375,
          39.04938271604938,
          45.973821989528794,
          23.387096774193548,
          34.10526315789474,
          23.727272727272727,
          30.194805194805195,
          13.391304347826088,
          20.41304347826087,
          11.375,
          32.294117647058826,
          36.411764705882355,
          40,
          12.8125,
          23.575757575757574,
          47.153153153153156,
          24.322834645669293,
          58.45967741935484,
          38.689189189189186,
          15.73076923076923,
          33.0126582278481,
          8.5,
          31.5,
          10.202020202020202,
          22.640625,
          15.883720930232558,
          36.166666666666664,
          27.620689655172413,
          33.458333333333336,
          32.41304347826087,
          13.596153846153847,
          52.05670103092783,
          33.92857142857143,
          11.951456310679612,
          44.796460176991154
         ],
         "yaxis": "y"
        }
       ],
       "layout": {
        "legend": {
         "tracegroupgap": 0
        },
        "margin": {
         "t": 60
        },
        "template": {
         "data": {
          "bar": [
           {
            "error_x": {
             "color": "#2a3f5f"
            },
            "error_y": {
             "color": "#2a3f5f"
            },
            "marker": {
             "line": {
              "color": "#E5ECF6",
              "width": 0.5
             },
             "pattern": {
              "fillmode": "overlay",
              "size": 10,
              "solidity": 0.2
             }
            },
            "type": "bar"
           }
          ],
          "barpolar": [
           {
            "marker": {
             "line": {
              "color": "#E5ECF6",
              "width": 0.5
             },
             "pattern": {
              "fillmode": "overlay",
              "size": 10,
              "solidity": 0.2
             }
            },
            "type": "barpolar"
           }
          ],
          "carpet": [
           {
            "aaxis": {
             "endlinecolor": "#2a3f5f",
             "gridcolor": "white",
             "linecolor": "white",
             "minorgridcolor": "white",
             "startlinecolor": "#2a3f5f"
            },
            "baxis": {
             "endlinecolor": "#2a3f5f",
             "gridcolor": "white",
             "linecolor": "white",
             "minorgridcolor": "white",
             "startlinecolor": "#2a3f5f"
            },
            "type": "carpet"
           }
          ],
          "choropleth": [
           {
            "colorbar": {
             "outlinewidth": 0,
             "ticks": ""
            },
            "type": "choropleth"
           }
          ],
          "contour": [
           {
            "colorbar": {
             "outlinewidth": 0,
             "ticks": ""
            },
            "colorscale": [
             [
              0,
              "#0d0887"
             ],
             [
              0.1111111111111111,
              "#46039f"
             ],
             [
              0.2222222222222222,
              "#7201a8"
             ],
             [
              0.3333333333333333,
              "#9c179e"
             ],
             [
              0.4444444444444444,
              "#bd3786"
             ],
             [
              0.5555555555555556,
              "#d8576b"
             ],
             [
              0.6666666666666666,
              "#ed7953"
             ],
             [
              0.7777777777777778,
              "#fb9f3a"
             ],
             [
              0.8888888888888888,
              "#fdca26"
             ],
             [
              1,
              "#f0f921"
             ]
            ],
            "type": "contour"
           }
          ],
          "contourcarpet": [
           {
            "colorbar": {
             "outlinewidth": 0,
             "ticks": ""
            },
            "type": "contourcarpet"
           }
          ],
          "heatmap": [
           {
            "colorbar": {
             "outlinewidth": 0,
             "ticks": ""
            },
            "colorscale": [
             [
              0,
              "#0d0887"
             ],
             [
              0.1111111111111111,
              "#46039f"
             ],
             [
              0.2222222222222222,
              "#7201a8"
             ],
             [
              0.3333333333333333,
              "#9c179e"
             ],
             [
              0.4444444444444444,
              "#bd3786"
             ],
             [
              0.5555555555555556,
              "#d8576b"
             ],
             [
              0.6666666666666666,
              "#ed7953"
             ],
             [
              0.7777777777777778,
              "#fb9f3a"
             ],
             [
              0.8888888888888888,
              "#fdca26"
             ],
             [
              1,
              "#f0f921"
             ]
            ],
            "type": "heatmap"
           }
          ],
          "heatmapgl": [
           {
            "colorbar": {
             "outlinewidth": 0,
             "ticks": ""
            },
            "colorscale": [
             [
              0,
              "#0d0887"
             ],
             [
              0.1111111111111111,
              "#46039f"
             ],
             [
              0.2222222222222222,
              "#7201a8"
             ],
             [
              0.3333333333333333,
              "#9c179e"
             ],
             [
              0.4444444444444444,
              "#bd3786"
             ],
             [
              0.5555555555555556,
              "#d8576b"
             ],
             [
              0.6666666666666666,
              "#ed7953"
             ],
             [
              0.7777777777777778,
              "#fb9f3a"
             ],
             [
              0.8888888888888888,
              "#fdca26"
             ],
             [
              1,
              "#f0f921"
             ]
            ],
            "type": "heatmapgl"
           }
          ],
          "histogram": [
           {
            "marker": {
             "pattern": {
              "fillmode": "overlay",
              "size": 10,
              "solidity": 0.2
             }
            },
            "type": "histogram"
           }
          ],
          "histogram2d": [
           {
            "colorbar": {
             "outlinewidth": 0,
             "ticks": ""
            },
            "colorscale": [
             [
              0,
              "#0d0887"
             ],
             [
              0.1111111111111111,
              "#46039f"
             ],
             [
              0.2222222222222222,
              "#7201a8"
             ],
             [
              0.3333333333333333,
              "#9c179e"
             ],
             [
              0.4444444444444444,
              "#bd3786"
             ],
             [
              0.5555555555555556,
              "#d8576b"
             ],
             [
              0.6666666666666666,
              "#ed7953"
             ],
             [
              0.7777777777777778,
              "#fb9f3a"
             ],
             [
              0.8888888888888888,
              "#fdca26"
             ],
             [
              1,
              "#f0f921"
             ]
            ],
            "type": "histogram2d"
           }
          ],
          "histogram2dcontour": [
           {
            "colorbar": {
             "outlinewidth": 0,
             "ticks": ""
            },
            "colorscale": [
             [
              0,
              "#0d0887"
             ],
             [
              0.1111111111111111,
              "#46039f"
             ],
             [
              0.2222222222222222,
              "#7201a8"
             ],
             [
              0.3333333333333333,
              "#9c179e"
             ],
             [
              0.4444444444444444,
              "#bd3786"
             ],
             [
              0.5555555555555556,
              "#d8576b"
             ],
             [
              0.6666666666666666,
              "#ed7953"
             ],
             [
              0.7777777777777778,
              "#fb9f3a"
             ],
             [
              0.8888888888888888,
              "#fdca26"
             ],
             [
              1,
              "#f0f921"
             ]
            ],
            "type": "histogram2dcontour"
           }
          ],
          "mesh3d": [
           {
            "colorbar": {
             "outlinewidth": 0,
             "ticks": ""
            },
            "type": "mesh3d"
           }
          ],
          "parcoords": [
           {
            "line": {
             "colorbar": {
              "outlinewidth": 0,
              "ticks": ""
             }
            },
            "type": "parcoords"
           }
          ],
          "pie": [
           {
            "automargin": true,
            "type": "pie"
           }
          ],
          "scatter": [
           {
            "fillpattern": {
             "fillmode": "overlay",
             "size": 10,
             "solidity": 0.2
            },
            "type": "scatter"
           }
          ],
          "scatter3d": [
           {
            "line": {
             "colorbar": {
              "outlinewidth": 0,
              "ticks": ""
             }
            },
            "marker": {
             "colorbar": {
              "outlinewidth": 0,
              "ticks": ""
             }
            },
            "type": "scatter3d"
           }
          ],
          "scattercarpet": [
           {
            "marker": {
             "colorbar": {
              "outlinewidth": 0,
              "ticks": ""
             }
            },
            "type": "scattercarpet"
           }
          ],
          "scattergeo": [
           {
            "marker": {
             "colorbar": {
              "outlinewidth": 0,
              "ticks": ""
             }
            },
            "type": "scattergeo"
           }
          ],
          "scattergl": [
           {
            "marker": {
             "colorbar": {
              "outlinewidth": 0,
              "ticks": ""
             }
            },
            "type": "scattergl"
           }
          ],
          "scattermapbox": [
           {
            "marker": {
             "colorbar": {
              "outlinewidth": 0,
              "ticks": ""
             }
            },
            "type": "scattermapbox"
           }
          ],
          "scatterpolar": [
           {
            "marker": {
             "colorbar": {
              "outlinewidth": 0,
              "ticks": ""
             }
            },
            "type": "scatterpolar"
           }
          ],
          "scatterpolargl": [
           {
            "marker": {
             "colorbar": {
              "outlinewidth": 0,
              "ticks": ""
             }
            },
            "type": "scatterpolargl"
           }
          ],
          "scatterternary": [
           {
            "marker": {
             "colorbar": {
              "outlinewidth": 0,
              "ticks": ""
             }
            },
            "type": "scatterternary"
           }
          ],
          "surface": [
           {
            "colorbar": {
             "outlinewidth": 0,
             "ticks": ""
            },
            "colorscale": [
             [
              0,
              "#0d0887"
             ],
             [
              0.1111111111111111,
              "#46039f"
             ],
             [
              0.2222222222222222,
              "#7201a8"
             ],
             [
              0.3333333333333333,
              "#9c179e"
             ],
             [
              0.4444444444444444,
              "#bd3786"
             ],
             [
              0.5555555555555556,
              "#d8576b"
             ],
             [
              0.6666666666666666,
              "#ed7953"
             ],
             [
              0.7777777777777778,
              "#fb9f3a"
             ],
             [
              0.8888888888888888,
              "#fdca26"
             ],
             [
              1,
              "#f0f921"
             ]
            ],
            "type": "surface"
           }
          ],
          "table": [
           {
            "cells": {
             "fill": {
              "color": "#EBF0F8"
             },
             "line": {
              "color": "white"
             }
            },
            "header": {
             "fill": {
              "color": "#C8D4E3"
             },
             "line": {
              "color": "white"
             }
            },
            "type": "table"
           }
          ]
         },
         "layout": {
          "annotationdefaults": {
           "arrowcolor": "#2a3f5f",
           "arrowhead": 0,
           "arrowwidth": 1
          },
          "autotypenumbers": "strict",
          "coloraxis": {
           "colorbar": {
            "outlinewidth": 0,
            "ticks": ""
           }
          },
          "colorscale": {
           "diverging": [
            [
             0,
             "#8e0152"
            ],
            [
             0.1,
             "#c51b7d"
            ],
            [
             0.2,
             "#de77ae"
            ],
            [
             0.3,
             "#f1b6da"
            ],
            [
             0.4,
             "#fde0ef"
            ],
            [
             0.5,
             "#f7f7f7"
            ],
            [
             0.6,
             "#e6f5d0"
            ],
            [
             0.7,
             "#b8e186"
            ],
            [
             0.8,
             "#7fbc41"
            ],
            [
             0.9,
             "#4d9221"
            ],
            [
             1,
             "#276419"
            ]
           ],
           "sequential": [
            [
             0,
             "#0d0887"
            ],
            [
             0.1111111111111111,
             "#46039f"
            ],
            [
             0.2222222222222222,
             "#7201a8"
            ],
            [
             0.3333333333333333,
             "#9c179e"
            ],
            [
             0.4444444444444444,
             "#bd3786"
            ],
            [
             0.5555555555555556,
             "#d8576b"
            ],
            [
             0.6666666666666666,
             "#ed7953"
            ],
            [
             0.7777777777777778,
             "#fb9f3a"
            ],
            [
             0.8888888888888888,
             "#fdca26"
            ],
            [
             1,
             "#f0f921"
            ]
           ],
           "sequentialminus": [
            [
             0,
             "#0d0887"
            ],
            [
             0.1111111111111111,
             "#46039f"
            ],
            [
             0.2222222222222222,
             "#7201a8"
            ],
            [
             0.3333333333333333,
             "#9c179e"
            ],
            [
             0.4444444444444444,
             "#bd3786"
            ],
            [
             0.5555555555555556,
             "#d8576b"
            ],
            [
             0.6666666666666666,
             "#ed7953"
            ],
            [
             0.7777777777777778,
             "#fb9f3a"
            ],
            [
             0.8888888888888888,
             "#fdca26"
            ],
            [
             1,
             "#f0f921"
            ]
           ]
          },
          "colorway": [
           "#636efa",
           "#EF553B",
           "#00cc96",
           "#ab63fa",
           "#FFA15A",
           "#19d3f3",
           "#FF6692",
           "#B6E880",
           "#FF97FF",
           "#FECB52"
          ],
          "font": {
           "color": "#2a3f5f"
          },
          "geo": {
           "bgcolor": "white",
           "lakecolor": "white",
           "landcolor": "#E5ECF6",
           "showlakes": true,
           "showland": true,
           "subunitcolor": "white"
          },
          "hoverlabel": {
           "align": "left"
          },
          "hovermode": "closest",
          "mapbox": {
           "style": "light"
          },
          "paper_bgcolor": "white",
          "plot_bgcolor": "#E5ECF6",
          "polar": {
           "angularaxis": {
            "gridcolor": "white",
            "linecolor": "white",
            "ticks": ""
           },
           "bgcolor": "#E5ECF6",
           "radialaxis": {
            "gridcolor": "white",
            "linecolor": "white",
            "ticks": ""
           }
          },
          "scene": {
           "xaxis": {
            "backgroundcolor": "#E5ECF6",
            "gridcolor": "white",
            "gridwidth": 2,
            "linecolor": "white",
            "showbackground": true,
            "ticks": "",
            "zerolinecolor": "white"
           },
           "yaxis": {
            "backgroundcolor": "#E5ECF6",
            "gridcolor": "white",
            "gridwidth": 2,
            "linecolor": "white",
            "showbackground": true,
            "ticks": "",
            "zerolinecolor": "white"
           },
           "zaxis": {
            "backgroundcolor": "#E5ECF6",
            "gridcolor": "white",
            "gridwidth": 2,
            "linecolor": "white",
            "showbackground": true,
            "ticks": "",
            "zerolinecolor": "white"
           }
          },
          "shapedefaults": {
           "line": {
            "color": "#2a3f5f"
           }
          },
          "ternary": {
           "aaxis": {
            "gridcolor": "white",
            "linecolor": "white",
            "ticks": ""
           },
           "baxis": {
            "gridcolor": "white",
            "linecolor": "white",
            "ticks": ""
           },
           "bgcolor": "#E5ECF6",
           "caxis": {
            "gridcolor": "white",
            "linecolor": "white",
            "ticks": ""
           }
          },
          "title": {
           "x": 0.05
          },
          "xaxis": {
           "automargin": true,
           "gridcolor": "white",
           "linecolor": "white",
           "ticks": "",
           "title": {
            "standoff": 15
           },
           "zerolinecolor": "white",
           "zerolinewidth": 2
          },
          "yaxis": {
           "automargin": true,
           "gridcolor": "white",
           "linecolor": "white",
           "ticks": "",
           "title": {
            "standoff": 15
           },
           "zerolinecolor": "white",
           "zerolinewidth": 2
          }
         }
        },
        "xaxis": {
         "anchor": "y",
         "domain": [
          0,
          1
         ],
         "title": {
          "text": "Bowling Average"
         }
        },
        "yaxis": {
         "anchor": "x",
         "domain": [
          0,
          1
         ],
         "title": {
          "text": "Batting Average"
         }
        }
       }
      }
     },
     "metadata": {},
     "output_type": "display_data"
    }
   ],
   "source": [
    "px.scatter(all_men, x='Bowling Average', y='Batting Average', hover_data=['Innings Player'])"
   ]
  },
  {
   "cell_type": "code",
   "execution_count": 199,
   "metadata": {},
   "outputs": [
    {
     "data": {
      "application/vnd.plotly.v1+json": {
       "config": {
        "plotlyServerURL": "https://plot.ly"
       },
       "data": [
        {
         "alignmentgroup": "True",
         "bingroup": "x",
         "hovertemplate": "Average=%{x}<br>count=%{y}<extra></extra>",
         "legendgroup": "",
         "marker": {
          "color": "#636efa",
          "pattern": {
           "shape": ""
          }
         },
         "name": "",
         "nbinsx": 100,
         "offsetgroup": "",
         "orientation": "v",
         "showlegend": false,
         "type": "histogram",
         "x": [
          35.47222222222222,
          23.083333333333332,
          34.55555555555556,
          35.57142857142857,
          11.535714285714286,
          23.358490566037737,
          24.333333333333332,
          21.928571428571427,
          17.066666666666666,
          23.52173913043478,
          18.11111111111111,
          35.59375,
          15.686274509803921,
          28.939393939393938,
          14.724137931034482,
          22.73076923076923,
          28.102564102564102,
          12.555555555555555,
          23.387096774193548,
          32.294117647058826,
          31.310344827586206,
          13.057142857142857,
          51.056338028169016,
          18.060606060606062,
          35.6993006993007,
          11.313725490196079,
          11.621621621621621,
          33.45,
          33.266666666666666,
          25.35,
          30.075757575757574,
          53.81818181818182,
          25.987951807228917,
          14.23076923076923,
          36.121212121212125,
          17.5,
          44.27272727272727,
          23.76923076923077,
          44.43434343434343,
          36.093023255813954,
          39.81142857142857,
          16.419354838709676,
          24.59259259259259,
          46.56060606060606,
          35.79710144927536,
          4.7,
          31.073529411764707,
          26.03125,
          14.863636363636363,
          14.941176470588236,
          31.558823529411764,
          10.4,
          38.92063492063492,
          33.91489361702128,
          32.75373134328358,
          28.90625,
          50.56108597285068,
          11.555555555555555,
          19.853658536585368,
          46.48684210526316,
          7.461538461538462,
          15.084745762711865,
          12.75,
          25.41025641025641,
          40.438202247191015,
          29.786666666666665,
          35.2875,
          15.590909090909092,
          25.372093023255815,
          38.858695652173914,
          24.42105263157895,
          31.192307692307693,
          48.88732394366197,
          40.10294117647059,
          19.56,
          30.59375,
          4.65,
          31.78125,
          42.214285714285715,
          39.54761904761905,
          48.56,
          12.878787878787879,
          30.928571428571427,
          32.22429906542056,
          43.111111111111114,
          30.2,
          32.7,
          6.44,
          16.280701754385966,
          40.064516129032256,
          35.28947368421053,
          39.36,
          14.814814814814815,
          29.454545454545453,
          6.590909090909091,
          26.193548387096776,
          20.40909090909091,
          8.986301369863014,
          4.073170731707317,
          36.05555555555556,
          29.435897435897434,
          17.814814814814813,
          26.8125,
          9.631578947368421,
          38.661764705882355,
          37.421052631578945,
          42.81666666666667,
          30.70967741935484,
          7.777777777777778,
          33.851851851851855,
          26.814814814814813,
          16.5625,
          45.06944444444444,
          23.020833333333332,
          39.32911392405063,
          41.88636363636363,
          10.533333333333333,
          12.405172413793103,
          35.593023255813954,
          44.72189349112426,
          41.78431372549019,
          46.67701863354037,
          35.41935483870968,
          12.207792207792208,
          32.5,
          32.55696202531646,
          33.764227642276424,
          20.23076923076923,
          56.6865671641791,
          14.824561403508772,
          26.34285714285714,
          31.575757575757574,
          13.925,
          22.975,
          19.4,
          12.444444444444445,
          25.5,
          21.464285714285715,
          22.58823529411765,
          25.34285714285714,
          42.13496932515337,
          43.65882352941176,
          50.060344827586206,
          6.051282051282051,
          99.94285714285714,
          18.1,
          32.3421052631579,
          44.25268817204301,
          11.793103448275861,
          42.77173913043478,
          42.06896551724138,
          22.70967741935484,
          24.267857142857142,
          13.712121212121213,
          8.422222222222222,
          46.30769230769231,
          42.29943502824859,
          43.05882352941177,
          22.908045977011493,
          11.567901234567902,
          18,
          46.55128205128205,
          20.689655172413794,
          39.23529411764706,
          44.026315789473685,
          4.607142857142857,
          14.324324324324325,
          48,
          15.108695652173912,
          31.79310344827586,
          37.666666666666664,
          11.115384615384615,
          34.36842105263158,
          33.37837837837838,
          59.23076923076923,
          43.666666666666664,
          11.484375,
          25.428571428571427,
          58.61842105263158,
          47.63513513513514,
          45.74545454545454,
          8.571428571428571,
          14.5,
          47.8936170212766,
          30.03125,
          36.07692307692308,
          16.6875,
          22.29230769230769,
          31.083333333333332,
          49.48717948717949,
          25.310344827586206,
          13.816901408450704,
          14.090909090909092,
          47.72941176470588,
          9.44,
          35.32432432432432,
          41.7037037037037,
          25.80851063829787,
          43.86666666666667,
          40.7906976744186,
          42.58373205741627,
          60.833333333333336,
          32.26923076923077,
          13.74074074074074,
          25.451612903225808,
          30.06896551724138,
          5.857142857142857,
          12.272727272727273,
          30.317073170731707,
          15.964285714285714,
          12.028571428571428,
          21.37037037037037,
          28.93548387096774,
          23.486486486486488,
          29.7,
          35.208333333333336,
          44.64179104477612,
          31.830188679245282,
          41.134328358208954,
          24.193548387096776,
          32.44871794871795,
          39.396039603960396,
          9.350877192982455,
          13.35897435897436,
          33.18604651162791,
          41.93103448275862,
          14.96,
          41.08888888888889,
          30.714285714285715,
          34.026666666666664,
          53.86363636363637,
          24.583333333333332,
          57.78417266187051,
          31.16216216216216,
          30.426829268292682,
          8.727272727272727,
          22.973684210526315,
          7.931034482758621,
          60.733333333333334,
          20.90625,
          39.6375,
          30.21951219512195,
          8.807692307692308,
          20.606060606060606,
          32.294117647058826,
          16.770833333333332,
          12.125,
          16.901960784313726,
          5.391304347826087,
          45.06666666666667,
          38.5974025974026,
          31.142857142857142,
          40.77777777777778,
          43.98876404494382,
          34.77142857142857,
          27.39622641509434,
          25.56338028169014,
          28.735294117647058,
          42.42063492063492,
          12.153846153846153,
          43.45871559633027,
          33.54838709677419,
          50.23529411764706,
          18.51851851851852,
          38.61176470588235,
          37.693069306930695,
          29.281690140845072,
          22.28358208955224,
          46.22115384615385,
          13.071428571428571,
          26.647058823529413,
          12.444444444444445,
          46.74285714285714,
          51.629629629629626,
          15.607843137254902,
          13.543859649122806,
          56.94736842105263,
          11.440677966101696,
          42.333333333333336,
          42.2112676056338,
          9.714285714285714,
          14.083333333333334,
          5.55,
          30.678571428571427,
          23.864864864864863,
          22.539473684210527,
          46.285714285714285,
          20.428571428571427,
          37.829787234042556,
          43.54237288135593,
          43.09836065573771,
          21.27777777777778,
          19.78787878787879,
          30.443037974683545,
          26.24590163934426,
          13.08,
          11.76923076923077,
          36.758620689655174,
          18.625,
          40.440677966101696,
          19.782608695652176,
          22.88888888888889,
          36.96774193548387,
          24.557377049180328,
          32.16393442622951,
          35.66197183098591,
          31.642857142857142,
          24.13157894736842,
          25.21875,
          33.28155339805825,
          12.81132075471698,
          34,
          20.896551724137932,
          31.565217391304348,
          37.57746478873239,
          34.5945945945946,
          10.394736842105264,
          26,
          32.766666666666666,
          29.151515151515152,
          30.477272727272727,
          52.57142857142857,
          29.884057971014492,
          49.088235294117645,
          41,
          7.928571428571429,
          24.333333333333332,
          21.232558139534884,
          33.48888888888889,
          48.26126126126126,
          58.672413793103445,
          28.4375,
          25.75,
          37.41525423728814,
          25.76,
          21.48936170212766,
          30.711111111111112,
          36.975,
          8.736842105263158,
          27.087912087912088,
          37.42666666666667,
          25.7,
          39.90243902439025,
          24.38888888888889,
          56.67479674796748,
          37.6,
          25.973684210526315,
          27.035714285714285,
          40.56666666666667,
          43.5531914893617,
          19.242424242424242,
          6.9714285714285715,
          31.642857142857142,
          42.50485436893204,
          45.03623188405797,
          6.4,
          46.06666666666667,
          12.8,
          32.6530612244898,
          39.13978494623656,
          25.06,
          13.787878787878787,
          27.70909090909091,
          43.49710982658959,
          34.9125,
          34.15151515151515,
          44.06936416184971,
          14.863636363636363,
          45.36666666666667,
          18.854166666666668,
          42.374233128834355,
          29.074074074074073,
          31.209302325581394,
          16.64516129032258,
          39.69047619047619,
          31.47761194029851,
          19.533333333333335,
          30.62121212121212,
          30.923076923076923,
          43.189189189189186,
          31.63888888888889,
          30.686567164179106,
          26.41176470588235,
          34.58730158730159,
          35.484848484848484,
          29.575,
          35.556451612903224,
          42.84848484848485,
          25.48936170212766,
          10.181818181818182,
          38.92079207920792,
          3.8076923076923075,
          40.372093023255815,
          37.10958904109589,
          28.11627906976744,
          38.092592592592595,
          11.425925925925926,
          39.17204301075269,
          35.48314606741573,
          31.05325443786982,
          11.736842105263158,
          5.407407407407407,
          13.333333333333334,
          45.557377049180324,
          36.7,
          31.58823529411765,
          16.59090909090909,
          24.24561403508772,
          42.13157894736842,
          14.392857142857142,
          25.375,
          16.6,
          31.69047619047619,
          32.63636363636363,
          26.90909090909091,
          25.838709677419356,
          42.42962962962963,
          14.825396825396826,
          46.77319587628866,
          5.0344827586206895,
          37.472727272727276,
          17.5,
          40.91304347826087,
          6.242424242424242,
          31.942307692307693,
          38.166666666666664,
          21.678571428571427,
          6.785714285714286,
          19.625,
          26.52777777777778,
          42.22093023255814,
          22.266666666666666,
          36.63414634146341,
          24.455555555555556,
          53.58064516129032,
          40.37931034482759,
          23.240506329113924,
          35.5945945945946,
          18.448275862068964,
          30.285714285714285,
          43.670103092783506,
          33.09375,
          13.483870967741936,
          47.534351145038165,
          39.5609756097561,
          44.3955223880597,
          46.81730769230769,
          42.490196078431374,
          11.547169811320755,
          27.1,
          24.07894736842105,
          31.70689655172414,
          28.704545454545453,
          24.586206896551722,
          25.70909090909091,
          60.972972972972975,
          11.506849315068493,
          37.926829268292686,
          14.35483870967742,
          26.352941176470587,
          14.433333333333334,
          35.794392523364486,
          36.714285714285715,
          46.84090909090909,
          9.755555555555556,
          23.055555555555557,
          48.41732283464567,
          14.405405405405405,
          13.851851851851851,
          30.848484848484848,
          21.154929577464788,
          12.826086956521738,
          27.362068965517242,
          29.4,
          29.272727272727273,
          46.34615384615385,
          36.38636363636363,
          33.357142857142854,
          35.595238095238095,
          6.75,
          26.51824817518248,
          22.242424242424242,
          16.281690140845072,
          31.831460674157302,
          22.724137931034484,
          37.806451612903224,
          20.36,
          40.63636363636363,
          22.652173913043477,
          8.204545454545455,
          11.6875,
          29.071428571428573,
          25.041666666666668,
          30.903225806451612,
          14.615384615384615,
          46.741379310344826,
          24.266666666666666,
          21.962962962962962,
          8.066666666666666,
          26.066666666666666,
          48.21052631578947,
          22.4,
          15.361904761904762,
          6.2727272727272725,
          32.03529411764706,
          10.26086956521739,
          51.121212121212125,
          47.60377358490566,
          36.93023255813954,
          27.152542372881356,
          27.04901960784314,
          19.822222222222223,
          36.40425531914894,
          6.310344827586207,
          57.285714285714285,
          50.77514792899408,
          41.8433734939759,
          37.14545454545455,
          35.81944444444444,
          40.41891891891892,
          46.30952380952381,
          14.526315789473685,
          43.696969696969695,
          27.05128205128205,
          14.868421052631579,
          17.71186440677966,
          44.34426229508197,
          15.192307692307692,
          6.3478260869565215,
          27.16521739130435,
          13.909090909090908,
          29.74025974025974,
          20.49579831932773,
          23,
          34.465753424657535,
          6.548387096774194,
          31.26923076923077,
          44.38181818181818,
          28.416666666666668,
          17.666666666666668,
          29.627906976744185,
          24.346153846153847,
          14.208333333333334,
          39.1219512195122,
          47.65217391304348,
          37.84375,
          39.49315068493151,
          27.8,
          23.533333333333335,
          40.47540983606557,
          23.727272727272727,
          31.175675675675677,
          13.391304347826088,
          20.41304347826087,
          46.8235294117647,
          11.375,
          22.650793650793652,
          32.28260869565217,
          48.22727272727273,
          36.411764705882355,
          40,
          12.8125,
          23.575757575757574,
          47.153153153153156,
          46,
          17.865384615384617,
          33.958333333333336,
          58.45967741935484,
          38.689189189189186,
          15.73076923076923,
          31.5,
          10.219178082191782,
          22.52,
          15.883720930232558,
          36.166666666666664,
          27.620689655172413,
          33.458333333333336,
          44.796460176991154,
          33.923809523809524,
          17.52,
          21.6,
          9.911764705882353,
          40.611111111111114,
          50.664739884393065,
          46.931372549019606,
          61.875,
          45.31060606060606,
          20.73846153846154,
          16.363636363636363,
          41.64772727272727,
          26.20689655172414,
          38.35897435897436,
          40.91279069767442,
          38.486486486486484,
          26.848484848484848,
          42.88775510204081,
          45.35272727272727,
          34.88333333333333,
          8.172413793103448,
          19.285714285714285,
          30.686274509803923,
          14.107142857142858,
          20.785714285714285,
          17.696969696969695,
          39.256410256410255,
          42.58273381294964,
          19.13235294117647,
          36.54054054054054,
          38.64071856287425,
          59.01010101010101,
          32.98989898989899,
          38.50526315789474,
          36.97530864197531,
          33.42424242424242,
          35.43103448275862,
          13.653846153846153,
          45.1219512195122,
          37.03125,
          48.666666666666664,
          7.5,
          34.4054054054054,
          43.102409638554214,
          42.87234042553192,
          45.97142857142857,
          35.529411764705884,
          26.75,
          8.241379310344827,
          17.941176470588236,
          2.22,
          15.369565217391305,
          38.495049504950494,
          28.257142857142856,
          25.875,
          48.945945945945944,
          13.853658536585366,
          7.826923076923077,
          22.685185185185187,
          31.428571428571427,
          21.688524590163933,
          34.42342342342342,
          37.69892473118279,
          35.15094339622642,
          50.959798994974875,
          25.95,
          47.1,
          18.59090909090909,
          49.0625,
          23.783783783783782,
          13.597826086956522,
          7.04,
          31.28125,
          39.80612244897959,
          36.78048780487805,
          6.566666666666666,
          26.761904761904763,
          41.95959595959596,
          52.54716981132076,
          48.7,
          10.096774193548388,
          23.918367346938776,
          22.096774193548388,
          55.3,
          37.45,
          27.485714285714284,
          30.04054054054054,
          29.5,
          22.64516129032258,
          30.625,
          44.85840707964602,
          28.902439024390244,
          46.64321608040201,
          39.70454545454545,
          15.008849557522124,
          54.241379310344826,
          30.46875,
          20.060606060606062,
          18.743589743589745,
          8.372093023255815,
          7.551724137931035,
          44.08045977011494,
          31.571428571428573,
          42.69060773480663,
          32,
          24.283783783783782,
          55.861111111111114,
          30.266666666666666,
          38.30555555555556,
          30.07894736842105,
          35.432432432432435,
          31.746268656716417,
          40.935483870967744,
          36.326530612244895,
          48.40127388535032,
          12.969696969696969,
          20.71794871794872,
          59.42134831460674,
          28.364864864864863,
          47.83783783783784,
          9.634146341463415,
          34.741379310344826,
          22.705882352941178,
          19.163265306122447,
          32.724137931034484,
          32.859375,
          12.181818181818182,
          12.7,
          22.05128205128205,
          26.18918918918919,
          11.433962264150944,
          31.806451612903224,
          15.30952380952381,
          12.191780821917808,
          33.2952380952381,
          58.49760765550239,
          25,
          11.56,
          25.193548387096776,
          34.58620689655172,
          26.813333333333333,
          47.28901734104046,
          50.99212598425197,
          12.864864864864865,
          30.790697674418606,
          18.575342465753426,
          28.17241379310345,
          34.15384615384615,
          40.810526315789474,
          46.10191082802548,
          26.03030303030303,
          8.71111111111111,
          11.654320987654321,
          11.19672131147541,
          10.059701492537313,
          38.28846153846154,
          41.013513513513516,
          22.279411764705884,
          18.584615384615386,
          31.133333333333333,
          44.60162601626016,
          38.689655172413794,
          51.52892561983471,
          18.533333333333335,
          22.204301075268816,
          36.903225806451616,
          44.35849056603774,
          49.10795454545455,
          29.386363636363637,
          7.092307692307692,
          35.484848484848484,
          40.18627450980392,
          53.98,
          28.979166666666668,
          32.24786324786325,
          42.768,
          25.2,
          42.6025641025641,
          38.09375,
          9.24,
          4.888888888888889,
          28.2,
          31.304347826086957,
          30.821428571428573,
          31.770114942528735,
          3.6818181818181817,
          12.85483870967742,
          17.72222222222222,
          46.625,
          13.410714285714286,
          24.00877192982456,
          5.64,
          37.649484536082475,
          18.78181818181818,
          11.595238095238095,
          57.366336633663366,
          11.295454545454545,
          40.857142857142854,
          36.775,
          23.325,
          25.892857142857142,
          30.983870967741936,
          39.484848484848484,
          4,
          12.5,
          38.72727272727273,
          37.421052631578945,
          12.273809523809524,
          28.703703703703702,
          32.58181818181818,
          34.8,
          31.133333333333333,
          40.56190476190476,
          25.44736842105263,
          17.026315789473685,
          32.659574468085104,
          10.69767441860465,
          14.734177215189874,
          6.314285714285714,
          39.12,
          28.105882352941176,
          52.33157894736842,
          14.565217391304348,
          35.264150943396224,
          11.61111111111111,
          31.358490566037737,
          46.54347826086956,
          21.535714285714285,
          15.65,
          31.38888888888889,
          25.09375,
          40.919117647058826,
          53.24271844660194,
          25.1875,
          9.107142857142858,
          7.555555555555555,
          25.931818181818183,
          9.464285714285714,
          55.666666666666664,
          40.6140350877193,
          10.407407407407407,
          36.04545454545455,
          39.83185840707964,
          18.66860465116279,
          27.236363636363638,
          34.31818181818182,
          14.294117647058824,
          12.163934426229508,
          26.482758620689655,
          20.01298701298701,
          11.458333333333334,
          27.346153846153847,
          45.03225806451613,
          37.56896551724138,
          30.083333333333332,
          27.933333333333334,
          44.11764705882353,
          62.84347826086957,
          51.65760869565217,
          35.198113207547166,
          52.13333333333333,
          32.44117647058823,
          11.16,
          4.761904761904762,
          38.46153846153846,
          28.94736842105263,
          11,
          30.467741935483872,
          36.397260273972606,
          10.01923076923077,
          26.395833333333332,
          39.40816326530612,
          31.289473684210527,
          11.256410256410257,
          35.148148148148145,
          34.56666666666667,
          30.75,
          30.313725490196077,
          15.209302325581396,
          31.666666666666668,
          27.548387096774192,
          17.375,
          12.53125,
          41.214285714285715,
          48.767857142857146,
          42.34090909090909,
          10.048780487804878,
          38.64035087719298,
          11.294117647058824,
          37.98717948717949,
          40.66197183098591,
          11.333333333333334,
          9.083333333333334,
          35.82142857142857,
          9.948275862068966,
          53.629629629629626,
          49.43604651162791,
          24.04054054054054,
          49.36024844720497,
          35.81132075471698,
          30.195121951219512,
          28.8,
          31.89090909090909,
          33.70175438596491,
          8.5,
          32.41304347826087,
          13.596153846153847,
          53.569060773480665,
          33.92857142857143,
          11.883495145631068
         ],
         "xaxis": "x",
         "yaxis": "y"
        }
       ],
       "layout": {
        "barmode": "relative",
        "legend": {
         "tracegroupgap": 0
        },
        "margin": {
         "t": 60
        },
        "template": {
         "data": {
          "bar": [
           {
            "error_x": {
             "color": "#2a3f5f"
            },
            "error_y": {
             "color": "#2a3f5f"
            },
            "marker": {
             "line": {
              "color": "#E5ECF6",
              "width": 0.5
             },
             "pattern": {
              "fillmode": "overlay",
              "size": 10,
              "solidity": 0.2
             }
            },
            "type": "bar"
           }
          ],
          "barpolar": [
           {
            "marker": {
             "line": {
              "color": "#E5ECF6",
              "width": 0.5
             },
             "pattern": {
              "fillmode": "overlay",
              "size": 10,
              "solidity": 0.2
             }
            },
            "type": "barpolar"
           }
          ],
          "carpet": [
           {
            "aaxis": {
             "endlinecolor": "#2a3f5f",
             "gridcolor": "white",
             "linecolor": "white",
             "minorgridcolor": "white",
             "startlinecolor": "#2a3f5f"
            },
            "baxis": {
             "endlinecolor": "#2a3f5f",
             "gridcolor": "white",
             "linecolor": "white",
             "minorgridcolor": "white",
             "startlinecolor": "#2a3f5f"
            },
            "type": "carpet"
           }
          ],
          "choropleth": [
           {
            "colorbar": {
             "outlinewidth": 0,
             "ticks": ""
            },
            "type": "choropleth"
           }
          ],
          "contour": [
           {
            "colorbar": {
             "outlinewidth": 0,
             "ticks": ""
            },
            "colorscale": [
             [
              0,
              "#0d0887"
             ],
             [
              0.1111111111111111,
              "#46039f"
             ],
             [
              0.2222222222222222,
              "#7201a8"
             ],
             [
              0.3333333333333333,
              "#9c179e"
             ],
             [
              0.4444444444444444,
              "#bd3786"
             ],
             [
              0.5555555555555556,
              "#d8576b"
             ],
             [
              0.6666666666666666,
              "#ed7953"
             ],
             [
              0.7777777777777778,
              "#fb9f3a"
             ],
             [
              0.8888888888888888,
              "#fdca26"
             ],
             [
              1,
              "#f0f921"
             ]
            ],
            "type": "contour"
           }
          ],
          "contourcarpet": [
           {
            "colorbar": {
             "outlinewidth": 0,
             "ticks": ""
            },
            "type": "contourcarpet"
           }
          ],
          "heatmap": [
           {
            "colorbar": {
             "outlinewidth": 0,
             "ticks": ""
            },
            "colorscale": [
             [
              0,
              "#0d0887"
             ],
             [
              0.1111111111111111,
              "#46039f"
             ],
             [
              0.2222222222222222,
              "#7201a8"
             ],
             [
              0.3333333333333333,
              "#9c179e"
             ],
             [
              0.4444444444444444,
              "#bd3786"
             ],
             [
              0.5555555555555556,
              "#d8576b"
             ],
             [
              0.6666666666666666,
              "#ed7953"
             ],
             [
              0.7777777777777778,
              "#fb9f3a"
             ],
             [
              0.8888888888888888,
              "#fdca26"
             ],
             [
              1,
              "#f0f921"
             ]
            ],
            "type": "heatmap"
           }
          ],
          "heatmapgl": [
           {
            "colorbar": {
             "outlinewidth": 0,
             "ticks": ""
            },
            "colorscale": [
             [
              0,
              "#0d0887"
             ],
             [
              0.1111111111111111,
              "#46039f"
             ],
             [
              0.2222222222222222,
              "#7201a8"
             ],
             [
              0.3333333333333333,
              "#9c179e"
             ],
             [
              0.4444444444444444,
              "#bd3786"
             ],
             [
              0.5555555555555556,
              "#d8576b"
             ],
             [
              0.6666666666666666,
              "#ed7953"
             ],
             [
              0.7777777777777778,
              "#fb9f3a"
             ],
             [
              0.8888888888888888,
              "#fdca26"
             ],
             [
              1,
              "#f0f921"
             ]
            ],
            "type": "heatmapgl"
           }
          ],
          "histogram": [
           {
            "marker": {
             "pattern": {
              "fillmode": "overlay",
              "size": 10,
              "solidity": 0.2
             }
            },
            "type": "histogram"
           }
          ],
          "histogram2d": [
           {
            "colorbar": {
             "outlinewidth": 0,
             "ticks": ""
            },
            "colorscale": [
             [
              0,
              "#0d0887"
             ],
             [
              0.1111111111111111,
              "#46039f"
             ],
             [
              0.2222222222222222,
              "#7201a8"
             ],
             [
              0.3333333333333333,
              "#9c179e"
             ],
             [
              0.4444444444444444,
              "#bd3786"
             ],
             [
              0.5555555555555556,
              "#d8576b"
             ],
             [
              0.6666666666666666,
              "#ed7953"
             ],
             [
              0.7777777777777778,
              "#fb9f3a"
             ],
             [
              0.8888888888888888,
              "#fdca26"
             ],
             [
              1,
              "#f0f921"
             ]
            ],
            "type": "histogram2d"
           }
          ],
          "histogram2dcontour": [
           {
            "colorbar": {
             "outlinewidth": 0,
             "ticks": ""
            },
            "colorscale": [
             [
              0,
              "#0d0887"
             ],
             [
              0.1111111111111111,
              "#46039f"
             ],
             [
              0.2222222222222222,
              "#7201a8"
             ],
             [
              0.3333333333333333,
              "#9c179e"
             ],
             [
              0.4444444444444444,
              "#bd3786"
             ],
             [
              0.5555555555555556,
              "#d8576b"
             ],
             [
              0.6666666666666666,
              "#ed7953"
             ],
             [
              0.7777777777777778,
              "#fb9f3a"
             ],
             [
              0.8888888888888888,
              "#fdca26"
             ],
             [
              1,
              "#f0f921"
             ]
            ],
            "type": "histogram2dcontour"
           }
          ],
          "mesh3d": [
           {
            "colorbar": {
             "outlinewidth": 0,
             "ticks": ""
            },
            "type": "mesh3d"
           }
          ],
          "parcoords": [
           {
            "line": {
             "colorbar": {
              "outlinewidth": 0,
              "ticks": ""
             }
            },
            "type": "parcoords"
           }
          ],
          "pie": [
           {
            "automargin": true,
            "type": "pie"
           }
          ],
          "scatter": [
           {
            "fillpattern": {
             "fillmode": "overlay",
             "size": 10,
             "solidity": 0.2
            },
            "type": "scatter"
           }
          ],
          "scatter3d": [
           {
            "line": {
             "colorbar": {
              "outlinewidth": 0,
              "ticks": ""
             }
            },
            "marker": {
             "colorbar": {
              "outlinewidth": 0,
              "ticks": ""
             }
            },
            "type": "scatter3d"
           }
          ],
          "scattercarpet": [
           {
            "marker": {
             "colorbar": {
              "outlinewidth": 0,
              "ticks": ""
             }
            },
            "type": "scattercarpet"
           }
          ],
          "scattergeo": [
           {
            "marker": {
             "colorbar": {
              "outlinewidth": 0,
              "ticks": ""
             }
            },
            "type": "scattergeo"
           }
          ],
          "scattergl": [
           {
            "marker": {
             "colorbar": {
              "outlinewidth": 0,
              "ticks": ""
             }
            },
            "type": "scattergl"
           }
          ],
          "scattermapbox": [
           {
            "marker": {
             "colorbar": {
              "outlinewidth": 0,
              "ticks": ""
             }
            },
            "type": "scattermapbox"
           }
          ],
          "scatterpolar": [
           {
            "marker": {
             "colorbar": {
              "outlinewidth": 0,
              "ticks": ""
             }
            },
            "type": "scatterpolar"
           }
          ],
          "scatterpolargl": [
           {
            "marker": {
             "colorbar": {
              "outlinewidth": 0,
              "ticks": ""
             }
            },
            "type": "scatterpolargl"
           }
          ],
          "scatterternary": [
           {
            "marker": {
             "colorbar": {
              "outlinewidth": 0,
              "ticks": ""
             }
            },
            "type": "scatterternary"
           }
          ],
          "surface": [
           {
            "colorbar": {
             "outlinewidth": 0,
             "ticks": ""
            },
            "colorscale": [
             [
              0,
              "#0d0887"
             ],
             [
              0.1111111111111111,
              "#46039f"
             ],
             [
              0.2222222222222222,
              "#7201a8"
             ],
             [
              0.3333333333333333,
              "#9c179e"
             ],
             [
              0.4444444444444444,
              "#bd3786"
             ],
             [
              0.5555555555555556,
              "#d8576b"
             ],
             [
              0.6666666666666666,
              "#ed7953"
             ],
             [
              0.7777777777777778,
              "#fb9f3a"
             ],
             [
              0.8888888888888888,
              "#fdca26"
             ],
             [
              1,
              "#f0f921"
             ]
            ],
            "type": "surface"
           }
          ],
          "table": [
           {
            "cells": {
             "fill": {
              "color": "#EBF0F8"
             },
             "line": {
              "color": "white"
             }
            },
            "header": {
             "fill": {
              "color": "#C8D4E3"
             },
             "line": {
              "color": "white"
             }
            },
            "type": "table"
           }
          ]
         },
         "layout": {
          "annotationdefaults": {
           "arrowcolor": "#2a3f5f",
           "arrowhead": 0,
           "arrowwidth": 1
          },
          "autotypenumbers": "strict",
          "coloraxis": {
           "colorbar": {
            "outlinewidth": 0,
            "ticks": ""
           }
          },
          "colorscale": {
           "diverging": [
            [
             0,
             "#8e0152"
            ],
            [
             0.1,
             "#c51b7d"
            ],
            [
             0.2,
             "#de77ae"
            ],
            [
             0.3,
             "#f1b6da"
            ],
            [
             0.4,
             "#fde0ef"
            ],
            [
             0.5,
             "#f7f7f7"
            ],
            [
             0.6,
             "#e6f5d0"
            ],
            [
             0.7,
             "#b8e186"
            ],
            [
             0.8,
             "#7fbc41"
            ],
            [
             0.9,
             "#4d9221"
            ],
            [
             1,
             "#276419"
            ]
           ],
           "sequential": [
            [
             0,
             "#0d0887"
            ],
            [
             0.1111111111111111,
             "#46039f"
            ],
            [
             0.2222222222222222,
             "#7201a8"
            ],
            [
             0.3333333333333333,
             "#9c179e"
            ],
            [
             0.4444444444444444,
             "#bd3786"
            ],
            [
             0.5555555555555556,
             "#d8576b"
            ],
            [
             0.6666666666666666,
             "#ed7953"
            ],
            [
             0.7777777777777778,
             "#fb9f3a"
            ],
            [
             0.8888888888888888,
             "#fdca26"
            ],
            [
             1,
             "#f0f921"
            ]
           ],
           "sequentialminus": [
            [
             0,
             "#0d0887"
            ],
            [
             0.1111111111111111,
             "#46039f"
            ],
            [
             0.2222222222222222,
             "#7201a8"
            ],
            [
             0.3333333333333333,
             "#9c179e"
            ],
            [
             0.4444444444444444,
             "#bd3786"
            ],
            [
             0.5555555555555556,
             "#d8576b"
            ],
            [
             0.6666666666666666,
             "#ed7953"
            ],
            [
             0.7777777777777778,
             "#fb9f3a"
            ],
            [
             0.8888888888888888,
             "#fdca26"
            ],
            [
             1,
             "#f0f921"
            ]
           ]
          },
          "colorway": [
           "#636efa",
           "#EF553B",
           "#00cc96",
           "#ab63fa",
           "#FFA15A",
           "#19d3f3",
           "#FF6692",
           "#B6E880",
           "#FF97FF",
           "#FECB52"
          ],
          "font": {
           "color": "#2a3f5f"
          },
          "geo": {
           "bgcolor": "white",
           "lakecolor": "white",
           "landcolor": "#E5ECF6",
           "showlakes": true,
           "showland": true,
           "subunitcolor": "white"
          },
          "hoverlabel": {
           "align": "left"
          },
          "hovermode": "closest",
          "mapbox": {
           "style": "light"
          },
          "paper_bgcolor": "white",
          "plot_bgcolor": "#E5ECF6",
          "polar": {
           "angularaxis": {
            "gridcolor": "white",
            "linecolor": "white",
            "ticks": ""
           },
           "bgcolor": "#E5ECF6",
           "radialaxis": {
            "gridcolor": "white",
            "linecolor": "white",
            "ticks": ""
           }
          },
          "scene": {
           "xaxis": {
            "backgroundcolor": "#E5ECF6",
            "gridcolor": "white",
            "gridwidth": 2,
            "linecolor": "white",
            "showbackground": true,
            "ticks": "",
            "zerolinecolor": "white"
           },
           "yaxis": {
            "backgroundcolor": "#E5ECF6",
            "gridcolor": "white",
            "gridwidth": 2,
            "linecolor": "white",
            "showbackground": true,
            "ticks": "",
            "zerolinecolor": "white"
           },
           "zaxis": {
            "backgroundcolor": "#E5ECF6",
            "gridcolor": "white",
            "gridwidth": 2,
            "linecolor": "white",
            "showbackground": true,
            "ticks": "",
            "zerolinecolor": "white"
           }
          },
          "shapedefaults": {
           "line": {
            "color": "#2a3f5f"
           }
          },
          "ternary": {
           "aaxis": {
            "gridcolor": "white",
            "linecolor": "white",
            "ticks": ""
           },
           "baxis": {
            "gridcolor": "white",
            "linecolor": "white",
            "ticks": ""
           },
           "bgcolor": "#E5ECF6",
           "caxis": {
            "gridcolor": "white",
            "linecolor": "white",
            "ticks": ""
           }
          },
          "title": {
           "x": 0.05
          },
          "xaxis": {
           "automargin": true,
           "gridcolor": "white",
           "linecolor": "white",
           "ticks": "",
           "title": {
            "standoff": 15
           },
           "zerolinecolor": "white",
           "zerolinewidth": 2
          },
          "yaxis": {
           "automargin": true,
           "gridcolor": "white",
           "linecolor": "white",
           "ticks": "",
           "title": {
            "standoff": 15
           },
           "zerolinecolor": "white",
           "zerolinewidth": 2
          }
         }
        },
        "xaxis": {
         "anchor": "y",
         "domain": [
          0,
          1
         ],
         "title": {
          "text": "Average"
         }
        },
        "yaxis": {
         "anchor": "x",
         "domain": [
          0,
          1
         ],
         "title": {
          "text": "count"
         }
        }
       }
      }
     },
     "metadata": {},
     "output_type": "display_data"
    }
   ],
   "source": [
    "px.histogram(all_men, x='Average', nbins=100)"
   ]
  },
  {
   "cell_type": "code",
   "execution_count": 6,
   "metadata": {},
   "outputs": [],
   "source": [
    "from sklearn.cluster import KMeans\n",
    "from sklearn.preprocessing import StandardScaler"
   ]
  },
  {
   "cell_type": "code",
   "execution_count": 32,
   "metadata": {},
   "outputs": [
    {
     "data": {
      "text/plain": [
       "0.0    539\n",
       "Name: 4 Wickets, dtype: int64"
      ]
     },
     "execution_count": 32,
     "metadata": {},
     "output_type": "execute_result"
    }
   ],
   "source": [
    "all_men['4 Wickets'].value_counts()"
   ]
  },
  {
   "cell_type": "code",
   "execution_count": 281,
   "metadata": {},
   "outputs": [
    {
     "name": "stderr",
     "output_type": "stream",
     "text": [
      "/var/folders/4x/175nq_n55595j9gh09sn5zkr0000gn/T/ipykernel_36696/574266454.py:4: SettingWithCopyWarning:\n",
      "\n",
      "\n",
      "A value is trying to be set on a copy of a slice from a DataFrame.\n",
      "Try using .loc[row_indexer,col_indexer] = value instead\n",
      "\n",
      "See the caveats in the documentation: https://pandas.pydata.org/pandas-docs/stable/user_guide/indexing.html#returning-a-view-versus-a-copy\n",
      "\n",
      "/var/folders/4x/175nq_n55595j9gh09sn5zkr0000gn/T/ipykernel_36696/574266454.py:6: SettingWithCopyWarning:\n",
      "\n",
      "\n",
      "A value is trying to be set on a copy of a slice from a DataFrame.\n",
      "Try using .loc[row_indexer,col_indexer] = value instead\n",
      "\n",
      "See the caveats in the documentation: https://pandas.pydata.org/pandas-docs/stable/user_guide/indexing.html#returning-a-view-versus-a-copy\n",
      "\n"
     ]
    }
   ],
   "source": [
    "feature_columns = ['Batting Average', \"Bowling Average\", \"Innings Runs Scored Stripped\", \"Innings Wickets Taken\"]\n",
    "\n",
    "X = all_men[feature_columns]\n",
    "X[\"Bowling Average\"] = X[\"Bowling Average\"].replace(np.nan, 100.0)\n",
    "# X['All Rounder'] = X['Innings Runs Scored Stripped'] * X['Innings Wickets Taken']\n",
    "X['All Rounder'] = X['Batting Average'] - X['Bowling Average']\n",
    "\n",
    "scaler = StandardScaler()\n",
    "X = scaler.fit_transform(X)\n",
    "X = pd.DataFrame(X, columns=feature_columns+['All Rounder'])\n",
    "# X.loc[X['Bowling Average'].isnull()]"
   ]
  },
  {
   "cell_type": "code",
   "execution_count": 282,
   "metadata": {},
   "outputs": [],
   "source": [
    "kmeans = KMeans(n_clusters=2, random_state=0)\n",
    "kmeans.fit(X)\n",
    "\n",
    "num_clusters = list(range(2, 8))\n",
    "inertias = []\n",
    "for num_cluster in num_clusters:\n",
    "    kmeans = KMeans(n_clusters=num_cluster, random_state=0)\n",
    "    kmeans.fit(X)\n",
    "    inertias.append(kmeans.inertia_)\n",
    "\n"
   ]
  },
  {
   "cell_type": "code",
   "execution_count": 283,
   "metadata": {},
   "outputs": [
    {
     "data": {
      "application/vnd.plotly.v1+json": {
       "config": {
        "plotlyServerURL": "https://plot.ly"
       },
       "data": [
        {
         "type": "scatter",
         "x": [
          2,
          3,
          4,
          5,
          6,
          7
         ],
         "y": [
          2579.6230541793057,
          1760.142867224279,
          1354.6037106730696,
          1087.325042844184,
          918.7135818242581,
          802.9136575710497
         ]
        }
       ],
       "layout": {
        "template": {
         "data": {
          "bar": [
           {
            "error_x": {
             "color": "#2a3f5f"
            },
            "error_y": {
             "color": "#2a3f5f"
            },
            "marker": {
             "line": {
              "color": "#E5ECF6",
              "width": 0.5
             },
             "pattern": {
              "fillmode": "overlay",
              "size": 10,
              "solidity": 0.2
             }
            },
            "type": "bar"
           }
          ],
          "barpolar": [
           {
            "marker": {
             "line": {
              "color": "#E5ECF6",
              "width": 0.5
             },
             "pattern": {
              "fillmode": "overlay",
              "size": 10,
              "solidity": 0.2
             }
            },
            "type": "barpolar"
           }
          ],
          "carpet": [
           {
            "aaxis": {
             "endlinecolor": "#2a3f5f",
             "gridcolor": "white",
             "linecolor": "white",
             "minorgridcolor": "white",
             "startlinecolor": "#2a3f5f"
            },
            "baxis": {
             "endlinecolor": "#2a3f5f",
             "gridcolor": "white",
             "linecolor": "white",
             "minorgridcolor": "white",
             "startlinecolor": "#2a3f5f"
            },
            "type": "carpet"
           }
          ],
          "choropleth": [
           {
            "colorbar": {
             "outlinewidth": 0,
             "ticks": ""
            },
            "type": "choropleth"
           }
          ],
          "contour": [
           {
            "colorbar": {
             "outlinewidth": 0,
             "ticks": ""
            },
            "colorscale": [
             [
              0,
              "#0d0887"
             ],
             [
              0.1111111111111111,
              "#46039f"
             ],
             [
              0.2222222222222222,
              "#7201a8"
             ],
             [
              0.3333333333333333,
              "#9c179e"
             ],
             [
              0.4444444444444444,
              "#bd3786"
             ],
             [
              0.5555555555555556,
              "#d8576b"
             ],
             [
              0.6666666666666666,
              "#ed7953"
             ],
             [
              0.7777777777777778,
              "#fb9f3a"
             ],
             [
              0.8888888888888888,
              "#fdca26"
             ],
             [
              1,
              "#f0f921"
             ]
            ],
            "type": "contour"
           }
          ],
          "contourcarpet": [
           {
            "colorbar": {
             "outlinewidth": 0,
             "ticks": ""
            },
            "type": "contourcarpet"
           }
          ],
          "heatmap": [
           {
            "colorbar": {
             "outlinewidth": 0,
             "ticks": ""
            },
            "colorscale": [
             [
              0,
              "#0d0887"
             ],
             [
              0.1111111111111111,
              "#46039f"
             ],
             [
              0.2222222222222222,
              "#7201a8"
             ],
             [
              0.3333333333333333,
              "#9c179e"
             ],
             [
              0.4444444444444444,
              "#bd3786"
             ],
             [
              0.5555555555555556,
              "#d8576b"
             ],
             [
              0.6666666666666666,
              "#ed7953"
             ],
             [
              0.7777777777777778,
              "#fb9f3a"
             ],
             [
              0.8888888888888888,
              "#fdca26"
             ],
             [
              1,
              "#f0f921"
             ]
            ],
            "type": "heatmap"
           }
          ],
          "heatmapgl": [
           {
            "colorbar": {
             "outlinewidth": 0,
             "ticks": ""
            },
            "colorscale": [
             [
              0,
              "#0d0887"
             ],
             [
              0.1111111111111111,
              "#46039f"
             ],
             [
              0.2222222222222222,
              "#7201a8"
             ],
             [
              0.3333333333333333,
              "#9c179e"
             ],
             [
              0.4444444444444444,
              "#bd3786"
             ],
             [
              0.5555555555555556,
              "#d8576b"
             ],
             [
              0.6666666666666666,
              "#ed7953"
             ],
             [
              0.7777777777777778,
              "#fb9f3a"
             ],
             [
              0.8888888888888888,
              "#fdca26"
             ],
             [
              1,
              "#f0f921"
             ]
            ],
            "type": "heatmapgl"
           }
          ],
          "histogram": [
           {
            "marker": {
             "pattern": {
              "fillmode": "overlay",
              "size": 10,
              "solidity": 0.2
             }
            },
            "type": "histogram"
           }
          ],
          "histogram2d": [
           {
            "colorbar": {
             "outlinewidth": 0,
             "ticks": ""
            },
            "colorscale": [
             [
              0,
              "#0d0887"
             ],
             [
              0.1111111111111111,
              "#46039f"
             ],
             [
              0.2222222222222222,
              "#7201a8"
             ],
             [
              0.3333333333333333,
              "#9c179e"
             ],
             [
              0.4444444444444444,
              "#bd3786"
             ],
             [
              0.5555555555555556,
              "#d8576b"
             ],
             [
              0.6666666666666666,
              "#ed7953"
             ],
             [
              0.7777777777777778,
              "#fb9f3a"
             ],
             [
              0.8888888888888888,
              "#fdca26"
             ],
             [
              1,
              "#f0f921"
             ]
            ],
            "type": "histogram2d"
           }
          ],
          "histogram2dcontour": [
           {
            "colorbar": {
             "outlinewidth": 0,
             "ticks": ""
            },
            "colorscale": [
             [
              0,
              "#0d0887"
             ],
             [
              0.1111111111111111,
              "#46039f"
             ],
             [
              0.2222222222222222,
              "#7201a8"
             ],
             [
              0.3333333333333333,
              "#9c179e"
             ],
             [
              0.4444444444444444,
              "#bd3786"
             ],
             [
              0.5555555555555556,
              "#d8576b"
             ],
             [
              0.6666666666666666,
              "#ed7953"
             ],
             [
              0.7777777777777778,
              "#fb9f3a"
             ],
             [
              0.8888888888888888,
              "#fdca26"
             ],
             [
              1,
              "#f0f921"
             ]
            ],
            "type": "histogram2dcontour"
           }
          ],
          "mesh3d": [
           {
            "colorbar": {
             "outlinewidth": 0,
             "ticks": ""
            },
            "type": "mesh3d"
           }
          ],
          "parcoords": [
           {
            "line": {
             "colorbar": {
              "outlinewidth": 0,
              "ticks": ""
             }
            },
            "type": "parcoords"
           }
          ],
          "pie": [
           {
            "automargin": true,
            "type": "pie"
           }
          ],
          "scatter": [
           {
            "fillpattern": {
             "fillmode": "overlay",
             "size": 10,
             "solidity": 0.2
            },
            "type": "scatter"
           }
          ],
          "scatter3d": [
           {
            "line": {
             "colorbar": {
              "outlinewidth": 0,
              "ticks": ""
             }
            },
            "marker": {
             "colorbar": {
              "outlinewidth": 0,
              "ticks": ""
             }
            },
            "type": "scatter3d"
           }
          ],
          "scattercarpet": [
           {
            "marker": {
             "colorbar": {
              "outlinewidth": 0,
              "ticks": ""
             }
            },
            "type": "scattercarpet"
           }
          ],
          "scattergeo": [
           {
            "marker": {
             "colorbar": {
              "outlinewidth": 0,
              "ticks": ""
             }
            },
            "type": "scattergeo"
           }
          ],
          "scattergl": [
           {
            "marker": {
             "colorbar": {
              "outlinewidth": 0,
              "ticks": ""
             }
            },
            "type": "scattergl"
           }
          ],
          "scattermapbox": [
           {
            "marker": {
             "colorbar": {
              "outlinewidth": 0,
              "ticks": ""
             }
            },
            "type": "scattermapbox"
           }
          ],
          "scatterpolar": [
           {
            "marker": {
             "colorbar": {
              "outlinewidth": 0,
              "ticks": ""
             }
            },
            "type": "scatterpolar"
           }
          ],
          "scatterpolargl": [
           {
            "marker": {
             "colorbar": {
              "outlinewidth": 0,
              "ticks": ""
             }
            },
            "type": "scatterpolargl"
           }
          ],
          "scatterternary": [
           {
            "marker": {
             "colorbar": {
              "outlinewidth": 0,
              "ticks": ""
             }
            },
            "type": "scatterternary"
           }
          ],
          "surface": [
           {
            "colorbar": {
             "outlinewidth": 0,
             "ticks": ""
            },
            "colorscale": [
             [
              0,
              "#0d0887"
             ],
             [
              0.1111111111111111,
              "#46039f"
             ],
             [
              0.2222222222222222,
              "#7201a8"
             ],
             [
              0.3333333333333333,
              "#9c179e"
             ],
             [
              0.4444444444444444,
              "#bd3786"
             ],
             [
              0.5555555555555556,
              "#d8576b"
             ],
             [
              0.6666666666666666,
              "#ed7953"
             ],
             [
              0.7777777777777778,
              "#fb9f3a"
             ],
             [
              0.8888888888888888,
              "#fdca26"
             ],
             [
              1,
              "#f0f921"
             ]
            ],
            "type": "surface"
           }
          ],
          "table": [
           {
            "cells": {
             "fill": {
              "color": "#EBF0F8"
             },
             "line": {
              "color": "white"
             }
            },
            "header": {
             "fill": {
              "color": "#C8D4E3"
             },
             "line": {
              "color": "white"
             }
            },
            "type": "table"
           }
          ]
         },
         "layout": {
          "annotationdefaults": {
           "arrowcolor": "#2a3f5f",
           "arrowhead": 0,
           "arrowwidth": 1
          },
          "autotypenumbers": "strict",
          "coloraxis": {
           "colorbar": {
            "outlinewidth": 0,
            "ticks": ""
           }
          },
          "colorscale": {
           "diverging": [
            [
             0,
             "#8e0152"
            ],
            [
             0.1,
             "#c51b7d"
            ],
            [
             0.2,
             "#de77ae"
            ],
            [
             0.3,
             "#f1b6da"
            ],
            [
             0.4,
             "#fde0ef"
            ],
            [
             0.5,
             "#f7f7f7"
            ],
            [
             0.6,
             "#e6f5d0"
            ],
            [
             0.7,
             "#b8e186"
            ],
            [
             0.8,
             "#7fbc41"
            ],
            [
             0.9,
             "#4d9221"
            ],
            [
             1,
             "#276419"
            ]
           ],
           "sequential": [
            [
             0,
             "#0d0887"
            ],
            [
             0.1111111111111111,
             "#46039f"
            ],
            [
             0.2222222222222222,
             "#7201a8"
            ],
            [
             0.3333333333333333,
             "#9c179e"
            ],
            [
             0.4444444444444444,
             "#bd3786"
            ],
            [
             0.5555555555555556,
             "#d8576b"
            ],
            [
             0.6666666666666666,
             "#ed7953"
            ],
            [
             0.7777777777777778,
             "#fb9f3a"
            ],
            [
             0.8888888888888888,
             "#fdca26"
            ],
            [
             1,
             "#f0f921"
            ]
           ],
           "sequentialminus": [
            [
             0,
             "#0d0887"
            ],
            [
             0.1111111111111111,
             "#46039f"
            ],
            [
             0.2222222222222222,
             "#7201a8"
            ],
            [
             0.3333333333333333,
             "#9c179e"
            ],
            [
             0.4444444444444444,
             "#bd3786"
            ],
            [
             0.5555555555555556,
             "#d8576b"
            ],
            [
             0.6666666666666666,
             "#ed7953"
            ],
            [
             0.7777777777777778,
             "#fb9f3a"
            ],
            [
             0.8888888888888888,
             "#fdca26"
            ],
            [
             1,
             "#f0f921"
            ]
           ]
          },
          "colorway": [
           "#636efa",
           "#EF553B",
           "#00cc96",
           "#ab63fa",
           "#FFA15A",
           "#19d3f3",
           "#FF6692",
           "#B6E880",
           "#FF97FF",
           "#FECB52"
          ],
          "font": {
           "color": "#2a3f5f"
          },
          "geo": {
           "bgcolor": "white",
           "lakecolor": "white",
           "landcolor": "#E5ECF6",
           "showlakes": true,
           "showland": true,
           "subunitcolor": "white"
          },
          "hoverlabel": {
           "align": "left"
          },
          "hovermode": "closest",
          "mapbox": {
           "style": "light"
          },
          "paper_bgcolor": "white",
          "plot_bgcolor": "#E5ECF6",
          "polar": {
           "angularaxis": {
            "gridcolor": "white",
            "linecolor": "white",
            "ticks": ""
           },
           "bgcolor": "#E5ECF6",
           "radialaxis": {
            "gridcolor": "white",
            "linecolor": "white",
            "ticks": ""
           }
          },
          "scene": {
           "xaxis": {
            "backgroundcolor": "#E5ECF6",
            "gridcolor": "white",
            "gridwidth": 2,
            "linecolor": "white",
            "showbackground": true,
            "ticks": "",
            "zerolinecolor": "white"
           },
           "yaxis": {
            "backgroundcolor": "#E5ECF6",
            "gridcolor": "white",
            "gridwidth": 2,
            "linecolor": "white",
            "showbackground": true,
            "ticks": "",
            "zerolinecolor": "white"
           },
           "zaxis": {
            "backgroundcolor": "#E5ECF6",
            "gridcolor": "white",
            "gridwidth": 2,
            "linecolor": "white",
            "showbackground": true,
            "ticks": "",
            "zerolinecolor": "white"
           }
          },
          "shapedefaults": {
           "line": {
            "color": "#2a3f5f"
           }
          },
          "ternary": {
           "aaxis": {
            "gridcolor": "white",
            "linecolor": "white",
            "ticks": ""
           },
           "baxis": {
            "gridcolor": "white",
            "linecolor": "white",
            "ticks": ""
           },
           "bgcolor": "#E5ECF6",
           "caxis": {
            "gridcolor": "white",
            "linecolor": "white",
            "ticks": ""
           }
          },
          "title": {
           "x": 0.05
          },
          "xaxis": {
           "automargin": true,
           "gridcolor": "white",
           "linecolor": "white",
           "ticks": "",
           "title": {
            "standoff": 15
           },
           "zerolinecolor": "white",
           "zerolinewidth": 2
          },
          "yaxis": {
           "automargin": true,
           "gridcolor": "white",
           "linecolor": "white",
           "ticks": "",
           "title": {
            "standoff": 15
           },
           "zerolinecolor": "white",
           "zerolinewidth": 2
          }
         }
        }
       }
      }
     },
     "metadata": {},
     "output_type": "display_data"
    }
   ],
   "source": [
    "fig = go.Figure()\n",
    "fig.add_scatter(x=num_clusters, y=inertias)"
   ]
  },
  {
   "cell_type": "code",
   "execution_count": 284,
   "metadata": {},
   "outputs": [
    {
     "data": {
      "text/html": [
       "<style>#sk-container-id-21 {color: black;background-color: white;}#sk-container-id-21 pre{padding: 0;}#sk-container-id-21 div.sk-toggleable {background-color: white;}#sk-container-id-21 label.sk-toggleable__label {cursor: pointer;display: block;width: 100%;margin-bottom: 0;padding: 0.3em;box-sizing: border-box;text-align: center;}#sk-container-id-21 label.sk-toggleable__label-arrow:before {content: \"▸\";float: left;margin-right: 0.25em;color: #696969;}#sk-container-id-21 label.sk-toggleable__label-arrow:hover:before {color: black;}#sk-container-id-21 div.sk-estimator:hover label.sk-toggleable__label-arrow:before {color: black;}#sk-container-id-21 div.sk-toggleable__content {max-height: 0;max-width: 0;overflow: hidden;text-align: left;background-color: #f0f8ff;}#sk-container-id-21 div.sk-toggleable__content pre {margin: 0.2em;color: black;border-radius: 0.25em;background-color: #f0f8ff;}#sk-container-id-21 input.sk-toggleable__control:checked~div.sk-toggleable__content {max-height: 200px;max-width: 100%;overflow: auto;}#sk-container-id-21 input.sk-toggleable__control:checked~label.sk-toggleable__label-arrow:before {content: \"▾\";}#sk-container-id-21 div.sk-estimator input.sk-toggleable__control:checked~label.sk-toggleable__label {background-color: #d4ebff;}#sk-container-id-21 div.sk-label input.sk-toggleable__control:checked~label.sk-toggleable__label {background-color: #d4ebff;}#sk-container-id-21 input.sk-hidden--visually {border: 0;clip: rect(1px 1px 1px 1px);clip: rect(1px, 1px, 1px, 1px);height: 1px;margin: -1px;overflow: hidden;padding: 0;position: absolute;width: 1px;}#sk-container-id-21 div.sk-estimator {font-family: monospace;background-color: #f0f8ff;border: 1px dotted black;border-radius: 0.25em;box-sizing: border-box;margin-bottom: 0.5em;}#sk-container-id-21 div.sk-estimator:hover {background-color: #d4ebff;}#sk-container-id-21 div.sk-parallel-item::after {content: \"\";width: 100%;border-bottom: 1px solid gray;flex-grow: 1;}#sk-container-id-21 div.sk-label:hover label.sk-toggleable__label {background-color: #d4ebff;}#sk-container-id-21 div.sk-serial::before {content: \"\";position: absolute;border-left: 1px solid gray;box-sizing: border-box;top: 0;bottom: 0;left: 50%;z-index: 0;}#sk-container-id-21 div.sk-serial {display: flex;flex-direction: column;align-items: center;background-color: white;padding-right: 0.2em;padding-left: 0.2em;position: relative;}#sk-container-id-21 div.sk-item {position: relative;z-index: 1;}#sk-container-id-21 div.sk-parallel {display: flex;align-items: stretch;justify-content: center;background-color: white;position: relative;}#sk-container-id-21 div.sk-item::before, #sk-container-id-21 div.sk-parallel-item::before {content: \"\";position: absolute;border-left: 1px solid gray;box-sizing: border-box;top: 0;bottom: 0;left: 50%;z-index: -1;}#sk-container-id-21 div.sk-parallel-item {display: flex;flex-direction: column;z-index: 1;position: relative;background-color: white;}#sk-container-id-21 div.sk-parallel-item:first-child::after {align-self: flex-end;width: 50%;}#sk-container-id-21 div.sk-parallel-item:last-child::after {align-self: flex-start;width: 50%;}#sk-container-id-21 div.sk-parallel-item:only-child::after {width: 0;}#sk-container-id-21 div.sk-dashed-wrapped {border: 1px dashed gray;margin: 0 0.4em 0.5em 0.4em;box-sizing: border-box;padding-bottom: 0.4em;background-color: white;}#sk-container-id-21 div.sk-label label {font-family: monospace;font-weight: bold;display: inline-block;line-height: 1.2em;}#sk-container-id-21 div.sk-label-container {text-align: center;}#sk-container-id-21 div.sk-container {/* jupyter's `normalize.less` sets `[hidden] { display: none; }` but bootstrap.min.css set `[hidden] { display: none !important; }` so we also need the `!important` here to be able to override the default hidden behavior on the sphinx rendered scikit-learn.org. See: https://github.com/scikit-learn/scikit-learn/issues/21755 */display: inline-block !important;position: relative;}#sk-container-id-21 div.sk-text-repr-fallback {display: none;}</style><div id=\"sk-container-id-21\" class=\"sk-top-container\"><div class=\"sk-text-repr-fallback\"><pre>KMeans(n_clusters=3, random_state=0)</pre><b>In a Jupyter environment, please rerun this cell to show the HTML representation or trust the notebook. <br />On GitHub, the HTML representation is unable to render, please try loading this page with nbviewer.org.</b></div><div class=\"sk-container\" hidden><div class=\"sk-item\"><div class=\"sk-estimator sk-toggleable\"><input class=\"sk-toggleable__control sk-hidden--visually\" id=\"sk-estimator-id-21\" type=\"checkbox\" checked><label for=\"sk-estimator-id-21\" class=\"sk-toggleable__label sk-toggleable__label-arrow\">KMeans</label><div class=\"sk-toggleable__content\"><pre>KMeans(n_clusters=3, random_state=0)</pre></div></div></div></div></div>"
      ],
      "text/plain": [
       "KMeans(n_clusters=3, random_state=0)"
      ]
     },
     "execution_count": 284,
     "metadata": {},
     "output_type": "execute_result"
    }
   ],
   "source": [
    "kmeans = KMeans(n_clusters=3, random_state=0)\n",
    "kmeans.fit(X)"
   ]
  },
  {
   "cell_type": "code",
   "execution_count": 285,
   "metadata": {},
   "outputs": [],
   "source": [
    "all_men['label'] = kmeans.labels_\n",
    "all_men['label'] = all_men['label'].astype(str)"
   ]
  },
  {
   "cell_type": "code",
   "execution_count": 286,
   "metadata": {},
   "outputs": [
    {
     "data": {
      "application/vnd.plotly.v1+json": {
       "config": {
        "plotlyServerURL": "https://plot.ly"
       },
       "data": [
        {
         "customdata": [
          [
           "A Cotter"
          ],
          [
           "A Flintoff"
          ],
          [
           "A Kumble"
          ],
          [
           "A Mishra"
          ],
          [
           "A Nel"
          ],
          [
           "AA Donald"
          ],
          [
           "AA Mallett"
          ],
          [
           "AB Agarkar"
          ],
          [
           "AC Bannerman"
          ],
          [
           "AF Giles"
          ],
          [
           "AFA Lilley"
          ],
          [
           "AG Cremer"
          ],
          [
           "AH Kardar"
          ],
          [
           "AJ Hall"
          ],
          [
           "AJY Hopkins"
          ],
          [
           "AK Davidson"
          ],
          [
           "AL Valentine"
          ],
          [
           "AM Bacher"
          ],
          [
           "AM Blignaut"
          ],
          [
           "AM Moir"
          ],
          [
           "AME Roberts"
          ],
          [
           "AN Connolly"
          ],
          [
           "AR Caddick"
          ],
          [
           "AR MacGibbon"
          ],
          [
           "ARC Fraser"
          ],
          [
           "AU Rashid"
          ],
          [
           "AV Bedser"
          ],
          [
           "AV Mankad"
          ],
          [
           "Abdul Qadir"
          ],
          [
           "Abdul Razzaq"
          ],
          [
           "Abdur Rehman"
          ],
          [
           "Aftab Ahmed"
          ],
          [
           "B Lee"
          ],
          [
           "B Yardley"
          ],
          [
           "BA Reid"
          ],
          [
           "BC Strang"
          ],
          [
           "BKV Prasad"
          ],
          [
           "BL Cairns"
          ],
          [
           "BP Patterson"
          ],
          [
           "BR Knight"
          ],
          [
           "BR Taylor"
          ],
          [
           "BS Bedi"
          ],
          [
           "BS Chandrasekhar"
          ],
          [
           "BW Hilfenhaus"
          ],
          [
           "BW Yuile"
          ],
          [
           "C Blythe"
          ],
          [
           "C White"
          ],
          [
           "CA Walsh"
          ],
          [
           "CB van Ryneveld"
          ],
          [
           "CC Griffith"
          ],
          [
           "CC Lewis"
          ],
          [
           "CD Collymore"
          ],
          [
           "CEH Croft"
          ],
          [
           "CEL Ambrose"
          ],
          [
           "CJ McDermott"
          ],
          [
           "CL Cairns"
          ],
          [
           "CL Vincent"
          ],
          [
           "CM Old"
          ],
          [
           "CR Woakes"
          ],
          [
           "CRD Fernando"
          ],
          [
           "CS Martin"
          ],
          [
           "CTB Turner"
          ],
          [
           "CV Grimmett"
          ],
          [
           "D Bishoo"
          ],
          [
           "D Gough"
          ],
          [
           "DA Allen"
          ],
          [
           "DAJ Bracewell"
          ],
          [
           "DAJ Holford"
          ],
          [
           "DB Close"
          ],
          [
           "DBL Powell"
          ],
          [
           "DE Malcolm"
          ],
          [
           "DG Cork"
          ],
          [
           "DJ Brown"
          ],
          [
           "DJ Nash"
          ],
          [
           "DJG Sammy"
          ],
          [
           "DK Lillee"
          ],
          [
           "DK Morrison"
          ],
          [
           "DL Underwood"
          ],
          [
           "DL Vettori"
          ],
          [
           "DN Patel"
          ],
          [
           "DNT Zoysa"
          ],
          [
           "DR Doshi"
          ],
          [
           "DR Hadlee"
          ],
          [
           "DR Pringle"
          ],
          [
           "DR Tuffey"
          ],
          [
           "DVP Wright"
          ],
          [
           "DW Steyn"
          ],
          [
           "Danish Kaneria"
          ],
          [
           "EAS Prasanna"
          ],
          [
           "ED Solkar"
          ],
          [
           "EJ Chatfield"
          ],
          [
           "EP Nupen"
          ],
          [
           "FH Edwards"
          ],
          [
           "FJ Cameron"
          ],
          [
           "FJ Titmus"
          ],
          [
           "FR Brown"
          ],
          [
           "FS Trueman"
          ],
          [
           "Fazal Mahmood"
          ],
          [
           "G Dymock"
          ],
          [
           "G Giffen"
          ],
          [
           "G Miller"
          ],
          [
           "G Ulyett"
          ],
          [
           "GAR Lock"
          ],
          [
           "GB Hole"
          ],
          [
           "GD McGrath"
          ],
          [
           "GD McKenzie"
          ],
          [
           "GF Lawson"
          ],
          [
           "GG Arnold"
          ],
          [
           "GH Hirst"
          ],
          [
           "GHS Trott"
          ],
          [
           "GJ Bonnor"
          ],
          [
           "GOB Allen"
          ],
          [
           "GP Swann"
          ],
          [
           "GP Wickramasinghe"
          ],
          [
           "GR Dilley"
          ],
          [
           "GS Ramchand"
          ],
          [
           "Ghulam Ahmed"
          ],
          [
           "H Trumble"
          ],
          [
           "H Verity"
          ],
          [
           "HB Cave"
          ],
          [
           "HDPK Dharmasena"
          ],
          [
           "HDRL Thirimanne"
          ],
          [
           "HH Streak"
          ],
          [
           "HJ Howarth"
          ],
          [
           "HJ Tayfield"
          ],
          [
           "HK Olonga"
          ],
          [
           "HMRKB Herath"
          ],
          [
           "Harbhajan Singh"
          ],
          [
           "I Sharma"
          ],
          [
           "IE O'Brien"
          ],
          [
           "IK Pathan"
          ],
          [
           "IR Bishop"
          ],
          [
           "IT Botham"
          ],
          [
           "IWG Johnson"
          ],
          [
           "Imran Khan"
          ],
          [
           "Intikhab Alam"
          ],
          [
           "Iqbal Qasim"
          ],
          [
           "J Briggs"
          ],
          [
           "J Garner"
          ],
          [
           "J Srinath"
          ],
          [
           "JA Snow"
          ],
          [
           "JB Statham"
          ],
          [
           "JC Alabaster"
          ],
          [
           "JC Laker"
          ],
          [
           "JD Higgs"
          ],
          [
           "JE Cheetham"
          ],
          [
           "JE Emburey"
          ],
          [
           "JE Taylor"
          ],
          [
           "JEC Franklin"
          ],
          [
           "JG Bracewell"
          ],
          [
           "JH Sinclair"
          ],
          [
           "JH Wardle"
          ],
          [
           "JK Lever"
          ],
          [
           "JM Anderson"
          ],
          [
           "JM Blanckenberg"
          ],
          [
           "JM How"
          ],
          [
           "JN Gillespie"
          ],
          [
           "JR Hazlewood"
          ],
          [
           "JR Ratnayeke"
          ],
          [
           "JR Thomson"
          ],
          [
           "JS Patel"
          ],
          [
           "JW Gleeson"
          ],
          [
           "JW Hearne"
          ],
          [
           "Javed Omar"
          ],
          [
           "K Rabada"
          ],
          [
           "KA Maharaj"
          ],
          [
           "KAJ Roach"
          ],
          [
           "KCG Benjamin"
          ],
          [
           "KD Boyce"
          ],
          [
           "KD Ghavri"
          ],
          [
           "KD Mills"
          ],
          [
           "KJ O'Keeffe"
          ],
          [
           "KK Jennings"
          ],
          [
           "KR Pushpakumara"
          ],
          [
           "KTGD Prasad"
          ],
          [
           "L Amarnath"
          ],
          [
           "LC Braund"
          ],
          [
           "LN Constantine"
          ],
          [
           "LR Gibbs"
          ],
          [
           "M Dillon"
          ],
          [
           "M Hendrick"
          ],
          [
           "M Morkel"
          ],
          [
           "M Muralitharan"
          ],
          [
           "M Ntini"
          ],
          [
           "MA Holding"
          ],
          [
           "MA Noble"
          ],
          [
           "MA Starc"
          ],
          [
           "MC Snedden"
          ],
          [
           "MD Marshall"
          ],
          [
           "MDK Perera"
          ],
          [
           "MF Maharoof"
          ],
          [
           "MG Hughes"
          ],
          [
           "MG Johnson"
          ],
          [
           "MH Mankad"
          ],
          [
           "MHN Walker"
          ],
          [
           "MJ Hoggard"
          ],
          [
           "MM Ali"
          ],
          [
           "MR Marsh"
          ],
          [
           "MS Kasprowicz"
          ],
          [
           "MS Panesar"
          ],
          [
           "MW Tate"
          ],
          [
           "Mahmood Hussain"
          ],
          [
           "Maninder Singh"
          ],
          [
           "Manjural Islam"
          ],
          [
           "Mashrafe Mortaza"
          ],
          [
           "Mehidy Hasan Miraz"
          ],
          [
           "Mohammad Amir"
          ],
          [
           "Mohammad Asif"
          ],
          [
           "Mohammad Rafique"
          ],
          [
           "Mohammad Sami"
          ],
          [
           "Mohammed Shami"
          ],
          [
           "Mushtaq Ahmed"
          ],
          [
           "N Boje"
          ],
          [
           "N Deonarine"
          ],
          [
           "N Kapil Dev"
          ],
          [
           "N Pradeep"
          ],
          [
           "N Wagner"
          ],
          [
           "NA Foster"
          ],
          [
           "NAM McLean"
          ],
          [
           "NAT Adcock"
          ],
          [
           "NBF Mann"
          ],
          [
           "NJN Hawke"
          ],
          [
           "NM Lyon"
          ],
          [
           "NS Yadav"
          ],
          [
           "NWD Yardley"
          ],
          [
           "Nasim-ul-Ghani"
          ],
          [
           "PA Strang"
          ],
          [
           "PAJ DeFreitas"
          ],
          [
           "PCR Tufnell"
          ],
          [
           "PH Edmonds"
          ],
          [
           "PI Pocock"
          ],
          [
           "PJ Cummins"
          ],
          [
           "PJ Wiseman"
          ],
          [
           "PL Harris"
          ],
          [
           "PM Pollock"
          ],
          [
           "PM Siddle"
          ],
          [
           "PR Adams"
          ],
          [
           "PR Reiffel"
          ],
          [
           "PT Collins"
          ],
          [
           "PV Simmons"
          ],
          [
           "R Ashwin"
          ],
          [
           "R Benaud"
          ],
          [
           "R Illingworth"
          ],
          [
           "R Peel"
          ],
          [
           "R Rampaul"
          ],
          [
           "RA Harper"
          ],
          [
           "RA Jadeja"
          ],
          [
           "RAS Lakmal"
          ],
          [
           "RB Desai"
          ],
          [
           "RC Motz"
          ],
          [
           "RDB Croft"
          ],
          [
           "RG Archer"
          ],
          [
           "RG Barlow"
          ],
          [
           "RG Nadkarni"
          ],
          [
           "RGD Willis"
          ],
          [
           "RJ Bright"
          ],
          [
           "RJ Harris"
          ],
          [
           "RJ Ratnayake"
          ],
          [
           "RJ Sidebottom"
          ],
          [
           "RM Hogg"
          ],
          [
           "RMH Binny"
          ],
          [
           "RO Collinge"
          ],
          [
           "RO Schwarz"
          ],
          [
           "RR Lindwall"
          ],
          [
           "RS Cunis"
          ],
          [
           "RW Blair"
          ],
          [
           "RW Price"
          ],
          [
           "RW Taylor"
          ],
          [
           "Rahat Ali"
          ],
          [
           "S Abid Ali"
          ],
          [
           "S Madan Lal"
          ],
          [
           "S Ramadhin"
          ],
          [
           "S Sreesanth"
          ],
          [
           "S Venkataraghavan"
          ],
          [
           "SA Durani"
          ],
          [
           "SB Doull"
          ],
          [
           "SCG MacGill"
          ],
          [
           "SCJ Broad"
          ],
          [
           "SF Barnes"
          ],
          [
           "SFAF Bacchus"
          ],
          [
           "SJ Benn"
          ],
          [
           "SJ Harmison"
          ],
          [
           "SJ Snooke"
          ],
          [
           "SK Raina"
          ],
          [
           "SK Warne"
          ],
          [
           "SL Boock"
          ],
          [
           "SL Malinga"
          ],
          [
           "SLV Raju"
          ],
          [
           "SM Curran"
          ],
          [
           "SM Pollock"
          ],
          [
           "SP Gupte"
          ],
          [
           "SP Jones"
          ],
          [
           "ST Finn"
          ],
          [
           "ST Gabriel"
          ],
          [
           "Saeed Ajmal"
          ],
          [
           "Saleem Altaf"
          ],
          [
           "Saqlain Mushtaq"
          ],
          [
           "Sarfraz Nawaz"
          ],
          [
           "Shahadat Hossain"
          ],
          [
           "Shoaib Akhtar"
          ],
          [
           "Shujauddin"
          ],
          [
           "Sikander Bakht"
          ],
          [
           "Sir RJ Hadlee"
          ],
          [
           "TA Boult"
          ],
          [
           "TE Bailey"
          ],
          [
           "TG Southee"
          ],
          [
           "TL Best"
          ],
          [
           "TM Alderman"
          ],
          [
           "TW Garrett"
          ],
          [
           "Taijul Islam"
          ],
          [
           "Tapash Baisya"
          ],
          [
           "Tauseef Ahmed"
          ],
          [
           "UT Yadav"
          ],
          [
           "UWMBCA Welegedara"
          ],
          [
           "Umar Gul"
          ],
          [
           "V Pollard"
          ],
          [
           "VA Holder"
          ],
          [
           "VD Philander"
          ],
          [
           "W Barnes"
          ],
          [
           "W Mathias"
          ],
          [
           "W Rhodes"
          ],
          [
           "W Voce"
          ],
          [
           "W Watson"
          ],
          [
           "WA Johnston"
          ],
          [
           "WJ O'Reilly"
          ],
          [
           "WK Lees"
          ],
          [
           "WPUJC Vaas"
          ],
          [
           "WW Hall"
          ],
          [
           "Wahab Riaz"
          ],
          [
           "Waqar Younis"
          ],
          [
           "Wasim Akram"
          ],
          [
           "Wasim Bari"
          ],
          [
           "Yasir Shah"
          ],
          [
           "Z Khan"
          ]
         ],
         "hovertemplate": "label=1<br>Batting Average=%{x}<br>Bowling Average=%{y}<br>Innings Player=%{customdata[0]}<extra></extra>",
         "legendgroup": "1",
         "marker": {
          "color": "#636efa",
          "symbol": "circle"
         },
         "mode": "markers",
         "name": "1",
         "orientation": "v",
         "showlegend": true,
         "type": "scatter",
         "x": [
          13.057142857142857,
          31.89075630252101,
          17.77304964539007,
          21.6,
          9.911764705882353,
          10.688524590163935,
          11.621621621621621,
          16.794117647058822,
          23.083333333333332,
          20.897058823529413,
          20.522727272727273,
          16.363636363636363,
          23.76923076923077,
          26.20689655172414,
          16.419354838709676,
          24.59259259259259,
          4.7,
          26.03125,
          26.848484848484848,
          14.863636363636363,
          14.941176470588236,
          10.4,
          10.373493975903614,
          19.853658536585368,
          7.461538461538462,
          19.285714285714285,
          12.75,
          25.41025641025641,
          15.590909090909092,
          28.61764705882353,
          14.107142857142858,
          20.785714285714285,
          20.15277777777778,
          19.56,
          4.65,
          12.916666666666666,
          7.518518518518518,
          16.280701754385966,
          6.590909090909091,
          26.193548387096776,
          20.40909090909091,
          8.986301369863014,
          4.073170731707317,
          13.653846153846153,
          17.814814814814813,
          9.631578947368421,
          24.46511627906977,
          7.548387096774194,
          26.814814814814813,
          16.5625,
          23.020833333333332,
          7.88,
          10.533333333333333,
          12.405172413793103,
          12.207792207792208,
          33.535353535353536,
          20.23076923076923,
          14.824561403508772,
          26.75,
          8.3,
          2.3653846153846154,
          11.535714285714286,
          13.925,
          15.369565217391305,
          12.573529411764707,
          25.5,
          13.853658536585366,
          22.58823529411765,
          25.34285714285714,
          7.826923076923077,
          6.051282051282051,
          18,
          11.793103448275861,
          23.516129032258064,
          21.688524590163933,
          13.712121212121213,
          8.422222222222222,
          11.567901234567902,
          30.153333333333332,
          20.689655172413794,
          8.470588235294118,
          4.607142857142857,
          14.324324324324325,
          15.108695652173912,
          16.423076923076923,
          11.115384615384615,
          13.597826086956522,
          7.0588235294117645,
          11.484375,
          25.428571428571427,
          8.571428571428571,
          14.5,
          6.566666666666666,
          16.6875,
          22.29230769230769,
          25.310344827586206,
          13.816901408450704,
          14.090909090909092,
          9.44,
          23.358490566037737,
          25.80851063829787,
          24.333333333333332,
          13.74074074074074,
          25.451612903225808,
          7.367816091954023,
          12.272727272727273,
          15.964285714285714,
          12.028571428571428,
          22.571428571428573,
          21.928571428571427,
          17.066666666666666,
          24.193548387096776,
          22.096774193548388,
          9.40677966101695,
          13.35897435897436,
          24.583333333333332,
          8.727272727272727,
          19.790697674418606,
          20.90625,
          8.807692307692308,
          19.727272727272727,
          22.64516129032258,
          22.359550561797754,
          12.125,
          16.901960784313726,
          5.411764705882353,
          14.64655172413793,
          18.229508196721312,
          8.372093023255815,
          7.551724137931035,
          31.571428571428573,
          12.153846153846153,
          33.54838709677419,
          18.51851851851852,
          35.398148148148145,
          22.28358208955224,
          13.071428571428571,
          18.11111111111111,
          12.444444444444445,
          14.211267605633802,
          13.543859649122806,
          11.440677966101696,
          9.714285714285714,
          14.083333333333334,
          5.55,
          23.864864864864863,
          22.539473684210527,
          12.969696969696969,
          20.71794871794872,
          20.428571428571427,
          23.23913043478261,
          19.78787878787879,
          11.76923076923077,
          9.634146341463415,
          19.782608695652176,
          22.705882352941178,
          18.73846153846154,
          12.181818181818182,
          25.21875,
          12.81132075471698,
          12.7,
          10.394736842105264,
          26,
          22.05128205128205,
          11.433962264150944,
          15.30952380952381,
          12.191780821917808,
          7.928571428571429,
          24.333333333333332,
          21.232558139534884,
          11.56,
          25.76,
          25.193548387096776,
          8.736842105263158,
          12.864864864864865,
          24.38888888888889,
          25.973684210526315,
          19.242424242424242,
          6.9714285714285715,
          8.446153846153846,
          6.4,
          11.654320987654321,
          11.877358490566039,
          9.845070422535212,
          13.787878787878787,
          30.257575757575758,
          22.279411764705884,
          14.863636363636363,
          18.854166666666668,
          18.584615384615386,
          18.533333333333335,
          16.64516129032258,
          22.204301075268816,
          31.47761194029851,
          19.533333333333335,
          7.276923076923077,
          28.979166666666668,
          25.2,
          10.595238095238095,
          4.888888888888889,
          25.48936170212766,
          10.181818181818182,
          3.8076923076923075,
          3.6818181818181817,
          12.85483870967742,
          17.72222222222222,
          13.410714285714286,
          5.64,
          18.57894736842105,
          11.595238095238095,
          11.295454545454545,
          11.714285714285714,
          25.23076923076923,
          25.892857142857142,
          31.05325443786982,
          4,
          12.5,
          11.736842105263158,
          12.266666666666667,
          5.407407407407407,
          13.333333333333334,
          16.59090909090909,
          12.273809523809524,
          14.392857142857142,
          25.375,
          16.6,
          27.06451612903226,
          14.825396825396826,
          5.1,
          17.5,
          6.242424242424242,
          17.026315789473685,
          14.076923076923077,
          10.69767441860465,
          21.678571428571427,
          14.734177215189874,
          9,
          26.52777777777778,
          5.875,
          22.266666666666666,
          28.105882352941176,
          24.455555555555556,
          23.240506329113924,
          14.724137931034482,
          14.565217391304348,
          18.448275862068964,
          35.264150943396224,
          11.61111111111111,
          13.483870967741936,
          11.547169811320755,
          16.192307692307693,
          24.586206896551722,
          22.73076923076923,
          25.70909090909091,
          11.506849315068493,
          14.35483870967742,
          21.535714285714285,
          14.433333333333334,
          15.65,
          9.755555555555556,
          23.055555555555557,
          14.405405405405405,
          13.851851851851851,
          21.154929577464788,
          12.826086956521738,
          6.75,
          8.7,
          16.281690140845072,
          7.555555555555555,
          20.36,
          22.652173913043477,
          8.204545454545455,
          10.407407407407407,
          11.6875,
          25.041666666666668,
          14.615384615384615,
          9.694444444444445,
          18.66860465116279,
          8.066666666666666,
          26.066666666666666,
          14.294117647058824,
          12.163934426229508,
          22.4,
          26.482758620689655,
          17.32967032967033,
          6.2727272727272725,
          11.458333333333334,
          10,
          27.346153846153847,
          32.31623931623932,
          6.310344827586207,
          19.181818181818183,
          11.16,
          4.761904761904762,
          11,
          14.526315789473685,
          14.484375,
          17.71186440677966,
          10.01923076923077,
          10.074074074074074,
          15.192307692307692,
          6.3478260869565215,
          27.16521739130435,
          15.209302325581396,
          29.74025974025974,
          17.375,
          12.53125,
          6.548387096774194,
          12.555555555555555,
          10.048780487804878,
          11.294117647058824,
          17.666666666666668,
          11.333333333333334,
          9.083333333333334,
          9.948275862068966,
          24.346153846153847,
          14.208333333333334,
          24.04054054054054,
          23.387096774193548,
          23.727272727272727,
          30.194805194805195,
          13.391304347826088,
          20.41304347826087,
          11.375,
          12.8125,
          23.575757575757574,
          24.322834645669293,
          15.73076923076923,
          8.5,
          10.202020202020202,
          22.640625,
          15.883720930232558,
          13.596153846153847,
          11.951456310679612
         ],
         "xaxis": "x",
         "y": [
          28.640449438202246,
          33.34703196347032,
          29.652665589660742,
          35.723684210526315,
          31.86178861788618,
          22.254545454545454,
          29.848484848484848,
          47.327586206896555,
          40.75,
          40.6013986013986,
          23,
          45.68421052631579,
          45.42857142857143,
          35.93333333333333,
          26.76923076923077,
          20.532258064516128,
          30.323741007194243,
          45.22023247721663,
          37.056603773584904,
          50.642857142857146,
          25.613861386138613,
          29.225490196078432,
          29.91025641025641,
          30.857142857142858,
          27.322033898305083,
          39.833333333333336,
          24.89830508474576,
          45.22023247721663,
          32.80508474576271,
          36.94,
          29.393939393939394,
          47.4,
          30.81935483870968,
          31.634920634920636,
          24.63716814159292,
          39.339285714285715,
          35,
          32.92307692307692,
          30.903225806451612,
          31.757142857142856,
          26.603603603603602,
          28.710526315789473,
          29.74793388429752,
          28.505050505050505,
          35.6764705882353,
          18.63,
          37.6271186440678,
          24.447013487475914,
          39.470588235294116,
          28.54255319148936,
          37.526881720430104,
          32.30107526881721,
          23.304,
          20.990123456790123,
          28.632302405498283,
          29.40366972477064,
          31.321428571428573,
          28.111888111888113,
          30.88421052631579,
          37.84,
          33.81115879828326,
          16.534653465346533,
          24.21759259259259,
          37.17948717948718,
          28.397379912663755,
          30.975409836065573,
          38.833333333333336,
          39.3921568627451,
          29.555555555555557,
          47.858823529411765,
          37.09375,
          29.81679389312977,
          28.31645569620253,
          28.483870967741936,
          35.79761904761905,
          23.92394366197183,
          34.68125,
          25.838383838383837,
          34.15512465373961,
          42.053333333333335,
          33.703125,
          30.719298245614034,
          33.647887323943664,
          35.97142857142857,
          31.753246753246753,
          39.111111111111114,
          22.954441913439634,
          34.79693486590038,
          30.38095238095238,
          59.44444444444444,
          32.17886178861789,
          35.76,
          37.872727272727275,
          32.723076923076924,
          32.22875816993464,
          31.066666666666666,
          21.579804560260587,
          24.705035971223023,
          27.128205128205128,
          27.097087378640776,
          30.983333333333334,
          20.4,
          25.580459770114942,
          42,
          21.644760213143872,
          29.788617886178862,
          30.56111111111111,
          28.295652173913044,
          30,
          35.13793103448276,
          42,
          29.37037037037037,
          29.968627450980392,
          41.870588235294115,
          29.76086956521739,
          46.31707317073171,
          30.176470588235293,
          21.78723404255319,
          24.375,
          43.14705882352941,
          42.31884057971015,
          45.22023247721663,
          28.14351851851852,
          36.95348837209303,
          25.91176470588235,
          38.529411764705884,
          28.07621247113164,
          32.462829736211035,
          32.39057239057239,
          33.273972602739725,
          32.26,
          24.279503105590063,
          28.402088772845953,
          29.192660550458715,
          23.465473145780052,
          35.952,
          28.11111111111111,
          17.75423728813559,
          20.976833976833976,
          30.491525423728813,
          26.668316831683168,
          24.845238095238095,
          38.02040816326531,
          21.248704663212436,
          31.166666666666668,
          45.22023247721663,
          38.40816326530612,
          34.46153846153846,
          33.97560975609756,
          35.81372549019608,
          31.682539682539684,
          20.392156862745097,
          26.726027397260275,
          26.83219178082192,
          30.283333333333335,
          45.22023247721663,
          26.138996138996138,
          26.2,
          35.214285714285715,
          28.005,
          47.353846153846156,
          36.204301075268816,
          48.733333333333334,
          45.22023247721663,
          22.95939086294416,
          33.19090909090909,
          27.139896373056995,
          30.27173913043478,
          30.016666666666666,
          33.54128440366973,
          33.02272727272727,
          38.075471698113205,
          45.22023247721663,
          38.6551724137931,
          35.973333333333336,
          32.91111111111111,
          38.51063829787234,
          30.103448275862068,
          29.09061488673139,
          33.57251908396947,
          25.839080459770116,
          27.66990291262136,
          22.670440251572327,
          28.825641025641026,
          23.686746987951807,
          25,
          26.979508196721312,
          37.91379310344828,
          20.9468085106383,
          35.333333333333336,
          65.24,
          28.382075471698112,
          28.405750798722046,
          32.32098765432099,
          27.47826086956522,
          30.5,
          36.59668508287293,
          38.642857142857146,
          32.88495575221239,
          34.712574850299404,
          26.161290322580644,
          38.64705882352941,
          37.36363636363637,
          57.32142857142857,
          41.52564102564103,
          33.12222222222222,
          30.478991596638654,
          24.367924528301888,
          40.76,
          52.741176470588236,
          27.36111111111111,
          32.972972972972975,
          42.65,
          29.708333333333332,
          29.647465437788018,
          42.9,
          26.601941747572816,
          32.85227272727273,
          42.56818181818182,
          21.10576923076923,
          33.10344827586207,
          29.417582417582416,
          31.58974358974359,
          35.09803921568628,
          33.666666666666664,
          37.67307692307692,
          36.02857142857143,
          33.57142857142857,
          37.68595041322314,
          34.184,
          44.417910447761194,
          21.825174825174827,
          47.59016393442623,
          37.87378640776699,
          24.189655172413794,
          30.665158371040725,
          32.87313432835821,
          26.96153846153846,
          34.632075471698116,
          64.25,
          25.43013698630137,
          27.032258064516128,
          31.204918032786885,
          16.980198019801982,
          34.795918367346935,
          28.065217391304348,
          24.629107981220656,
          37.42384105960265,
          37.310810810810814,
          31.48,
          37.244897959183675,
          27.458333333333332,
          22.558823529411764,
          29.079545454545453,
          25.2,
          41.132075471698116,
          23.52212389380531,
          35.10958904109589,
          28.240506329113924,
          28.479674796747968,
          32.638297872340424,
          29.25,
          25.763636363636362,
          23.030701754385966,
          37,
          35.23255813953488,
          36.0625,
          45.22023247721663,
          39.03448275862069,
          42.12765957446808,
          40.08450704225352,
          28.981012658227847,
          37.59770114942529,
          36.11538461538461,
          35.42666666666667,
          29.306122448979593,
          29.028846153846153,
          28.509278350515466,
          16.433862433862434,
          45.22023247721663,
          39.10344827586207,
          31.94144144144144,
          20.057142857142857,
          46.38461538461539,
          25.416666666666668,
          34.648648648648646,
          33.15841584158416,
          30.72043010752688,
          31.7027027027027,
          23.1187648456057,
          29.550335570469798,
          27.353846153846153,
          30.4,
          30.639097744360903,
          28.10674157303371,
          37.17391304347826,
          29.83653846153846,
          32.75706214689266,
          51.81944444444444,
          25.696629213483146,
          40.05,
          36,
          22.299303944315547,
          27.655430711610485,
          29.21212121212121,
          29.003521126760564,
          40.19298245614035,
          27.152941176470588,
          26.944444444444443,
          33.175438596491226,
          59.361111111111114,
          31.72043010752688,
          30.47222222222222,
          41.32727272727273,
          34.06748466257669,
          46.325,
          33.27522935779817,
          22.321428571428573,
          15.549019607843137,
          45.22023247721663,
          26.968503937007874,
          27.887755102040817,
          34.675,
          23.9125,
          22.59722222222222,
          45.22023247721663,
          29.580281690140843,
          26.385416666666668,
          34.506024096385545,
          23.560321715817693,
          23.620772946859905,
          45.22023247721663,
          30.525821596244132,
          32.948553054662376
         ],
         "yaxis": "y"
        },
        {
         "customdata": [
          [
           "A Flower"
          ],
          [
           "A Ranatunga"
          ],
          [
           "A Shrewsbury snr"
          ],
          [
           "A Symonds"
          ],
          [
           "AB de Villiers"
          ],
          [
           "AC Voges"
          ],
          [
           "AD Mathews"
          ],
          [
           "AD Nourse"
          ],
          [
           "ADR Campbell"
          ],
          [
           "AE Stoddart"
          ],
          [
           "AF Kippax"
          ],
          [
           "AG Prince"
          ],
          [
           "AI Kallicharran"
          ],
          [
           "AJ Lamb"
          ],
          [
           "AJ Stewart"
          ],
          [
           "AK Markram"
          ],
          [
           "AL Hassett"
          ],
          [
           "AL Logie"
          ],
          [
           "AL Wadekar"
          ],
          [
           "AN Cook"
          ],
          [
           "AN Petersen"
          ],
          [
           "AP Gurusinha"
          ],
          [
           "APF Chapman"
          ],
          [
           "AR Border"
          ],
          [
           "AR Morris"
          ],
          [
           "AW Greig"
          ],
          [
           "AW Nourse"
          ],
          [
           "Aamer Sohail"
          ],
          [
           "Asif Iqbal"
          ],
          [
           "Azhar Ali"
          ],
          [
           "Azhar Mahmood"
          ],
          [
           "B Mitchell"
          ],
          [
           "BA Edgar"
          ],
          [
           "BA Stokes"
          ],
          [
           "BC Booth"
          ],
          [
           "BC Broad"
          ],
          [
           "BC Lara"
          ],
          [
           "BD Julien"
          ],
          [
           "BE Congdon"
          ],
          [
           "BF Butcher"
          ],
          [
           "BF Hastings"
          ],
          [
           "BK Kunderan"
          ],
          [
           "BKG Mendis"
          ],
          [
           "BL D'Oliveira"
          ],
          [
           "BM Laird"
          ],
          [
           "BM McMillan"
          ],
          [
           "BRM Taylor"
          ],
          [
           "BW Luckhurst"
          ],
          [
           "BW Sinclair"
          ],
          [
           "Basit Ali"
          ],
          [
           "C Kelleway"
          ],
          [
           "C Washbrook"
          ],
          [
           "C de Grandhomme"
          ],
          [
           "CA Pujara"
          ],
          [
           "CA Roach"
          ],
          [
           "CB Fry"
          ],
          [
           "CC Hunte"
          ],
          [
           "CC McDonald"
          ],
          [
           "CD McMillan"
          ],
          [
           "CG Borde"
          ],
          [
           "CG Greenidge"
          ],
          [
           "CG Macartney"
          ],
          [
           "CH Gayle"
          ],
          [
           "CH Lloyd"
          ],
          [
           "CJ Barnett"
          ],
          [
           "CJ Tavare"
          ],
          [
           "CL Hooper"
          ],
          [
           "CL Walcott"
          ],
          [
           "CPS Chauhan"
          ],
          [
           "D Elgar"
          ],
          [
           "DA Warner"
          ],
          [
           "DB Vengsarkar"
          ],
          [
           "DC Boon"
          ],
          [
           "DCS Compton"
          ],
          [
           "DG Bradman"
          ],
          [
           "DG Phadkar"
          ],
          [
           "DI Gower"
          ],
          [
           "DJ Bravo"
          ],
          [
           "DJ Cullinan"
          ],
          [
           "DJ McGlew"
          ],
          [
           "DL Haynes"
          ],
          [
           "DM Bravo"
          ],
          [
           "DM Jones"
          ],
          [
           "DM de Silva"
          ],
          [
           "DN Sardesai"
          ],
          [
           "DPMD Jayawardene"
          ],
          [
           "DR Jardine"
          ],
          [
           "DS Atkinson"
          ],
          [
           "DS Lehmann"
          ],
          [
           "DS Smith"
          ],
          [
           "DW Hookes"
          ],
          [
           "DW Randall"
          ],
          [
           "EAB Rowan"
          ],
          [
           "ED Weekes"
          ],
          [
           "EH Hendren"
          ],
          [
           "EJ Barlow"
          ],
          [
           "ER Dexter"
          ],
          [
           "F du Plessis"
          ],
          [
           "FDM Karunaratne"
          ],
          [
           "FE Woolley"
          ],
          [
           "FMM Worrell"
          ],
          [
           "Faisal Iqbal"
          ],
          [
           "G Boycott"
          ],
          [
           "G Fowler"
          ],
          [
           "G Gambhir"
          ],
          [
           "G Kirsten"
          ],
          [
           "G Pullar"
          ],
          [
           "GA Faulkner"
          ],
          [
           "GA Gooch"
          ],
          [
           "GA Headley"
          ],
          [
           "GA Hick"
          ],
          [
           "GC White"
          ],
          [
           "GE Gomez"
          ],
          [
           "GJ Cosier"
          ],
          [
           "GJ Whittall"
          ],
          [
           "GM Ritchie"
          ],
          [
           "GM Turner"
          ],
          [
           "GP Thorpe"
          ],
          [
           "GR Viswanath"
          ],
          [
           "GRJ Matthews"
          ],
          [
           "GRJ Roope"
          ],
          [
           "GS Ballance"
          ],
          [
           "GS Blewett"
          ],
          [
           "GS Chappell"
          ],
          [
           "GS Sobers"
          ],
          [
           "GT Dowling"
          ],
          [
           "GW Flower"
          ],
          [
           "H Masakadza"
          ],
          [
           "HA Gomes"
          ],
          [
           "HH Dippenaar"
          ],
          [
           "HH Gibbs"
          ],
          [
           "HL Collins"
          ],
          [
           "HM Amla"
          ],
          [
           "HP Tillakaratne"
          ],
          [
           "HR Adhikari"
          ],
          [
           "HW Taylor"
          ],
          [
           "Habibul Bashar"
          ],
          [
           "Haroon Rasheed"
          ],
          [
           "Hon.FS Jackson"
          ],
          [
           "IDS Smith"
          ],
          [
           "IJ Siedle"
          ],
          [
           "IJL Trott"
          ],
          [
           "IM Chappell"
          ],
          [
           "IR Bell"
          ],
          [
           "IR Redpath"
          ],
          [
           "IVA Richards"
          ],
          [
           "Ijaz Ahmed"
          ],
          [
           "Imrul Kayes"
          ],
          [
           "Inzamam-ul-Haq"
          ],
          [
           "J Ryder"
          ],
          [
           "JA Raval"
          ],
          [
           "JB Stollmeyer"
          ],
          [
           "JC Adams"
          ],
          [
           "JD Ryder"
          ],
          [
           "JDC Goddard"
          ],
          [
           "JDP Oram"
          ],
          [
           "JE Root"
          ],
          [
           "JF Reid"
          ],
          [
           "JG Wright"
          ],
          [
           "JH Edrich"
          ],
          [
           "JH Kallis"
          ],
          [
           "JJ Crowe"
          ],
          [
           "JKC Holt"
          ],
          [
           "JL Langer"
          ],
          [
           "JM Gregory"
          ],
          [
           "JM Parker"
          ],
          [
           "JM Parks"
          ],
          [
           "JN Rhodes"
          ],
          [
           "JO Holder"
          ],
          [
           "JP Duminy"
          ],
          [
           "JR Reid"
          ],
          [
           "JS Solomon"
          ],
          [
           "JV Coney"
          ],
          [
           "JW Burke"
          ],
          [
           "JW Zulch"
          ],
          [
           "JWHT Douglas"
          ],
          [
           "Javed Burki"
          ],
          [
           "Javed Miandad"
          ],
          [
           "Junaid Siddique"
          ],
          [
           "K Srikkanth"
          ],
          [
           "KA Edwards"
          ],
          [
           "KC Bland"
          ],
          [
           "KC Brathwaite"
          ],
          [
           "KC Sangakkara"
          ],
          [
           "KC Wessels"
          ],
          [
           "KD Mackay"
          ],
          [
           "KD Walters"
          ],
          [
           "KF Barrington"
          ],
          [
           "KG Viljoen"
          ],
          [
           "KJ Hughes"
          ],
          [
           "KR Miller"
          ],
          [
           "KR Stackpole"
          ],
          [
           "KS More"
          ],
          [
           "KS Williamson"
          ],
          [
           "L Hutton"
          ],
          [
           "L Klusener"
          ],
          [
           "L Vincent"
          ],
          [
           "LG Rowe"
          ],
          [
           "LRPL Taylor"
          ],
          [
           "M Amarnath"
          ],
          [
           "M Azharuddin"
          ],
          [
           "M Prabhakar"
          ],
          [
           "MA Butcher"
          ],
          [
           "MA Taylor"
          ],
          [
           "MC Carew"
          ],
          [
           "MC Cowdrey"
          ],
          [
           "MD Crowe"
          ],
          [
           "ME Waugh"
          ],
          [
           "MEK Hussey"
          ],
          [
           "MG Bevan"
          ],
          [
           "MG Burgess"
          ],
          [
           "MH Richardson"
          ],
          [
           "MJ Clarke"
          ],
          [
           "MJ Guptill"
          ],
          [
           "MJ Horne"
          ],
          [
           "MJ North"
          ],
          [
           "MJ Slater"
          ],
          [
           "ML Hayden"
          ],
          [
           "MN Samuels"
          ],
          [
           "MS Atapattu"
          ],
          [
           "MS Dhoni"
          ],
          [
           "MS Sinclair"
          ],
          [
           "MS Wade"
          ],
          [
           "MTG Elliott"
          ],
          [
           "MV Boucher"
          ],
          [
           "MW Goodwin"
          ],
          [
           "Mahmudullah"
          ],
          [
           "Majid Khan"
          ],
          [
           "Mohammad Ashraful"
          ],
          [
           "Mohammad Hafeez"
          ],
          [
           "Mohammad Yousuf"
          ],
          [
           "Mohsin Khan"
          ],
          [
           "Mudassar Nazar"
          ],
          [
           "Mushtaq Mohammad"
          ],
          [
           "N Hussain"
          ],
          [
           "NCL O'Neill"
          ],
          [
           "ND McKenzie"
          ],
          [
           "NJ Astle"
          ],
          [
           "NS Sidhu"
          ],
          [
           "Nasir Hossain"
          ],
          [
           "OG Smith"
          ],
          [
           "P Roy"
          ],
          [
           "P Willey"
          ],
          [
           "PA de Silva"
          ],
          [
           "PD Collingwood"
          ],
          [
           "PE Richardson"
          ],
          [
           "PH Parfitt"
          ],
          [
           "PR Umrigar"
          ],
          [
           "PS McDonnell"
          ],
          [
           "R Dravid"
          ],
          [
           "R Edwards"
          ],
          [
           "RA Duff"
          ],
          [
           "RA McLean"
          ],
          [
           "RA Smith"
          ],
          [
           "RB Kanhai"
          ],
          [
           "RB Richardson"
          ],
          [
           "RB Simpson"
          ],
          [
           "RC Fredericks"
          ],
          [
           "RES Wyatt"
          ],
          [
           "RF Surti"
          ],
          [
           "RG Pollock"
          ],
          [
           "RH Catterall"
          ],
          [
           "RJ Christiani"
          ],
          [
           "RJ Shastri"
          ],
          [
           "RL Chase"
          ],
          [
           "RL Dias"
          ],
          [
           "RM Cowper"
          ],
          [
           "RN Harvey"
          ],
          [
           "RP Arnold"
          ],
          [
           "RR Sarwan"
          ],
          [
           "RS Madugalle"
          ],
          [
           "RS Mahanama"
          ],
          [
           "RT Ponting"
          ],
          [
           "RT Simpson"
          ],
          [
           "RW Barber"
          ],
          [
           "RW Marsh"
          ],
          [
           "Rashid Latif"
          ],
          [
           "S Dhawan"
          ],
          [
           "S Ramesh"
          ],
          [
           "S Wettimuny"
          ],
          [
           "SA Thomson"
          ],
          [
           "SB Styris"
          ],
          [
           "SC Ganguly"
          ],
          [
           "SC Williams"
          ],
          [
           "SE Gregory"
          ],
          [
           "SJ McCabe"
          ],
          [
           "SM Katich"
          ],
          [
           "SM Nurse"
          ],
          [
           "SM Patil"
          ],
          [
           "SMH Kirmani"
          ],
          [
           "SPD Smith"
          ],
          [
           "SR Tendulkar"
          ],
          [
           "SR Watson"
          ],
          [
           "SR Waugh"
          ],
          [
           "SS Das"
          ],
          [
           "ST Jayasuriya"
          ],
          [
           "SV Manjrekar"
          ],
          [
           "Sadiq Mohammad"
          ],
          [
           "Saeed Ahmed"
          ],
          [
           "Saeed Anwar"
          ],
          [
           "Shahid Afridi"
          ],
          [
           "Shakib Al Hasan"
          ],
          [
           "Shan Masood"
          ],
          [
           "Shoaib Malik"
          ],
          [
           "Shoaib Mohammad"
          ],
          [
           "Sikandar Raza"
          ],
          [
           "T Bavuma"
          ],
          [
           "T Taibu"
          ],
          [
           "TL Goddard"
          ],
          [
           "TM Dilshan"
          ],
          [
           "TR Veivers"
          ],
          [
           "TT Samaraweera"
          ],
          [
           "TW Hayward"
          ],
          [
           "Tamim Iqbal"
          ],
          [
           "Taufeeq Umar"
          ],
          [
           "UC Hathurusingha"
          ],
          [
           "UT Khawaja"
          ],
          [
           "V Kohli"
          ],
          [
           "V Sehwag"
          ],
          [
           "VL Manjrekar"
          ],
          [
           "VS Hazare"
          ],
          [
           "VS Ransford"
          ],
          [
           "VT Trumper"
          ],
          [
           "VVS Laxman"
          ],
          [
           "W Jaffer"
          ],
          [
           "WG Grace"
          ],
          [
           "WJ Cronje"
          ],
          [
           "WJ Edrich"
          ],
          [
           "WM Lawry"
          ],
          [
           "WR Hammond"
          ],
          [
           "WW Armstrong"
          ],
          [
           "WW Hinds"
          ],
          [
           "Waqar Hasan"
          ],
          [
           "Wasim Raja"
          ],
          [
           "Wazir Mohammad"
          ],
          [
           "Yashpal Sharma"
          ],
          [
           "Yasir Hameed"
          ],
          [
           "Younis Khan"
          ],
          [
           "Yuvraj Singh"
          ],
          [
           "Zaheer Abbas"
          ]
         ],
         "hovertemplate": "label=0<br>Batting Average=%{x}<br>Bowling Average=%{y}<br>Innings Player=%{customdata[0]}<extra></extra>",
         "legendgroup": "0",
         "marker": {
          "color": "#EF553B",
          "symbol": "circle"
         },
         "mode": "markers",
         "name": "0",
         "orientation": "v",
         "showlegend": true,
         "type": "scatter",
         "x": [
          51.54838709677419,
          35.6993006993007,
          35.47222222222222,
          40.611111111111114,
          50.664739884393065,
          61.875,
          45.31060606060606,
          53.81818181818182,
          27.21904761904762,
          35.57142857142857,
          36.121212121212125,
          41.64772727272727,
          44.43434343434343,
          36.093023255813954,
          39.546728971962615,
          38.486486486486484,
          46.56060606060606,
          35.79710144927536,
          31.073529411764707,
          45.35272727272727,
          34.88333333333333,
          38.92063492063492,
          28.90625,
          50.56108597285068,
          46.48684210526316,
          40.438202247191015,
          29.786666666666665,
          35.2875,
          38.858695652173914,
          42.58273381294964,
          30,
          48.88732394366197,
          30.59375,
          36.54054054054054,
          42.214285714285715,
          39.54761904761905,
          53.17857142857143,
          30.928571428571427,
          32.22429906542056,
          43.111111111111114,
          30.2,
          32.7,
          36.97530864197531,
          40.064516129032256,
          35.28947368421053,
          39.36,
          35.43103448275862,
          36.05555555555556,
          29.435897435897434,
          26.8125,
          37.421052631578945,
          42.81666666666667,
          37.03125,
          48.666666666666664,
          30.70967741935484,
          32.18421052631579,
          45.06944444444444,
          39.32911392405063,
          38.46913580246913,
          35.593023255813954,
          44.72189349112426,
          41.78431372549019,
          42.187134502923975,
          46.67701863354037,
          35.41935483870968,
          32.5,
          36.46835443037975,
          56.6865671641791,
          31.575757575757574,
          38.495049504950494,
          48.945945945945944,
          42.13496932515337,
          43.65882352941176,
          50.060344827586206,
          99.94285714285714,
          32.3421052631579,
          44.25268817204301,
          31.428571428571427,
          44.213592233009706,
          42.06896551724138,
          42.29943502824859,
          37.69892473118279,
          46.55128205128205,
          35.15094339622642,
          39.23529411764706,
          49.848101265822784,
          48,
          31.79310344827586,
          44.95,
          23.783783783783782,
          34.36842105263158,
          33.37837837837838,
          43.666666666666664,
          58.61842105263158,
          47.63513513513514,
          45.74545454545454,
          47.8936170212766,
          39.80612244897959,
          36.78048780487805,
          36.07692307692308,
          49.48717948717949,
          26.761904761904763,
          47.72941176470588,
          35.32432432432432,
          41.95959595959596,
          45.27329192546584,
          43.86666666666667,
          40.7906976744186,
          42.58373205741627,
          60.833333333333336,
          31.324074074074073,
          30.06896551724138,
          30.317073170731707,
          28.93548387096774,
          29.426666666666666,
          35.208333333333336,
          44.64179104477612,
          44.66225165562914,
          41.93103448275862,
          41.08888888888889,
          30.714285714285715,
          37.45,
          34.026666666666664,
          53.86363636363637,
          57.78417266187051,
          31.16216216216216,
          29.54700854700855,
          30.04054054054054,
          39.6375,
          30.140350877192983,
          41.95238095238095,
          45.06666666666667,
          46.64321608040201,
          42.87735849056604,
          31.142857142857142,
          40.77777777777778,
          30.877551020408163,
          34.77142857142857,
          48.793103448275865,
          25.56338028169014,
          28.735294117647058,
          44.08045977011494,
          42.42063492063492,
          42.69060773480663,
          43.45871559633027,
          50.23529411764706,
          37.67045454545455,
          24.283783783783782,
          50.16477272727273,
          51.629629629629626,
          30.07894736842105,
          42.333333333333336,
          41.26027397260274,
          40.935483870967744,
          30.678571428571427,
          36.326530612244895,
          48.40127388535032,
          46.285714285714285,
          37.829787234042556,
          43.54237288135593,
          55.25523012552301,
          26.24590163934426,
          36.758620689655174,
          45.27058823529412,
          36.96774193548387,
          24.557377049180328,
          32.16393442622951,
          35.66197183098591,
          32.724137931034484,
          30.47142857142857,
          33.28155339805825,
          34,
          37.57746478873239,
          34.5945945945946,
          32.766666666666666,
          29.151515151515152,
          30.477272727272727,
          52.57142857142857,
          26.18918918918919,
          29.884057971014492,
          31.806451612903224,
          49.088235294117645,
          33.2952380952381,
          57.407407407407405,
          41,
          33.48888888888889,
          48.26126126126126,
          58.672413793103445,
          28.4375,
          37.41525423728814,
          36.975,
          37.42666666666667,
          25.7,
          50.99212598425197,
          56.67479674796748,
          32.86206896551724,
          34.15384615384615,
          43.5531914893617,
          46.10191082802548,
          42.50485436893204,
          45.03623188405797,
          32.6530612244898,
          34.58064516129032,
          43.49710982658959,
          34.15151515151515,
          44.06936416184971,
          45.36666666666667,
          41.817708333333336,
          51.52892561983471,
          29.074074074074073,
          31.209302325581394,
          44.774193548387096,
          49.10795454545455,
          29.386363636363637,
          28.38095238095238,
          35.484848484848484,
          42.83870967741935,
          50.73529411764706,
          32.641666666666666,
          39.02127659574468,
          38.09375,
          32.05882352941177,
          31.304347826086957,
          33.48571428571429,
          30.544444444444444,
          42.84848484848485,
          31.770114942528735,
          38.92079207920792,
          24.00877192982456,
          37.649484536082475,
          52.291666666666664,
          37.10958904109589,
          38.092592592592595,
          39.17204301075269,
          37.18709677419355,
          45.557377049180324,
          37.39080459770115,
          37.023622047244096,
          42.13157894736842,
          34.8,
          31.69047619047619,
          32.63636363636363,
          26.90909090909091,
          42.979729729729726,
          40.56190476190476,
          37.472727272727276,
          40.91304347826087,
          42.22093023255814,
          28.939393939393938,
          52.638888888888886,
          40.37931034482759,
          35.5945945945946,
          30.285714285714285,
          43.670103092783506,
          47.534351145038165,
          44.3955223880597,
          46.81730769230769,
          42.490196078431374,
          31.70689655172414,
          28.704545454545453,
          60.972972972972975,
          37.926829268292686,
          26.352941176470587,
          35.794392523364486,
          31.38888888888889,
          36.714285714285715,
          46.84090909090909,
          48.41732283464567,
          28.015384615384615,
          40.013698630136986,
          29.4,
          29.272727272727273,
          51.85271317829457,
          33.357142857142854,
          35.595238095238095,
          26.51824817518248,
          28.770833333333332,
          40.6140350877193,
          37.97222222222222,
          29.071428571428573,
          30.903225806451612,
          36.04545454545455,
          42.175438596491226,
          27.125,
          24.537634408602152,
          48.21052631578947,
          45.03225806451613,
          47.60377358490566,
          36.93023255813954,
          27.04901960784314,
          62.84347826086957,
          53.78716216216216,
          35.198113207547166,
          51.0607476635514,
          34.89473684210526,
          40.07471264367816,
          37.14545454545455,
          35.81944444444444,
          40.41891891891892,
          45.52808988764045,
          36.51063829787234,
          39.40816326530612,
          31.289473684210527,
          35.148148148148145,
          44.34426229508197,
          34.56666666666667,
          30.75,
          30.313725490196077,
          34.465753424657535,
          40.985074626865675,
          31.26923076923077,
          48.767857142857146,
          34.46551724137931,
          38.64035087719298,
          37.98717948717949,
          29.627906976744185,
          40.66197183098591,
          53.629629629629626,
          49.43604651162791,
          39.1219512195122,
          47.65217391304348,
          37.84375,
          39.04938271604938,
          45.973821989528794,
          34.10526315789474,
          32.294117647058826,
          36.411764705882355,
          40,
          47.153153153153156,
          58.45967741935484,
          38.689189189189186,
          33.0126582278481,
          31.5,
          36.166666666666664,
          27.620689655172413,
          33.458333333333336,
          32.41304347826087,
          52.05670103092783,
          33.92857142857143,
          44.796460176991154
         ],
         "xaxis": "x",
         "y": [
          45.22023247721663,
          65,
          45.22023247721663,
          37.333333333333336,
          52,
          45.22023247721663,
          52.878787878787875,
          45.22023247721663,
          45.22023247721663,
          47,
          45.22023247721663,
          47,
          39.5,
          23,
          45.22023247721663,
          45.22023247721663,
          45.22023247721663,
          45.22023247721663,
          45.22023247721663,
          7,
          62,
          34.05,
          45.22023247721663,
          39.1025641025641,
          25,
          32.205673758865245,
          37.8780487804878,
          41.96,
          28.339622641509433,
          76.375,
          35.94871794871795,
          51.111111111111114,
          45.22023247721663,
          32.68027210884354,
          48.666666666666664,
          45.22023247721663,
          45.22023247721663,
          37.36,
          36.50847457627118,
          18,
          45.22023247721663,
          45.22023247721663,
          69,
          39.5531914893617,
          45.22023247721663,
          33.82666666666667,
          45.22023247721663,
          32,
          16,
          45.22023247721663,
          32.36538461538461,
          33,
          31.638297872340427,
          45.22023247721663,
          51.5,
          45.22023247721663,
          55,
          45.22023247721663,
          44.892857142857146,
          46.48076923076923,
          45.22023247721663,
          27.555555555555557,
          42.73972602739726,
          62.2,
          45.22023247721663,
          45.22023247721663,
          49.42982456140351,
          37.09090909090909,
          53,
          43.93333333333333,
          67.25,
          45.22023247721663,
          45.22023247721663,
          56.4,
          36,
          36.854838709677416,
          20,
          39.83720930232558,
          35.5,
          45.22023247721663,
          8,
          45.22023247721663,
          64,
          51.95238095238095,
          45.22023247721663,
          51.666666666666664,
          45.22023247721663,
          35.04255319148936,
          27.466666666666665,
          45.22023247721663,
          41,
          45.22023247721663,
          45.22023247721663,
          77,
          31,
          34.05,
          34.93939393939394,
          45.22023247721663,
          74.5,
          33.91566265060241,
          38.72463768115942,
          45.22023247721663,
          54.57142857142857,
          45.22023247721663,
          45.22023247721663,
          71,
          37,
          26.585365853658537,
          46.47826086956522,
          45.22023247721663,
          56.78260869565217,
          33.44444444444444,
          27.413793103448278,
          68.2,
          40.94117647058823,
          45.22023247721663,
          45.22023247721663,
          45.22023247721663,
          46,
          48.22950819672131,
          45.22023247721663,
          45.22023247721663,
          51.42857142857143,
          40.702127659574465,
          34.03829787234042,
          19,
          61.48,
          30.5625,
          62,
          45.22023247721663,
          45.22023247721663,
          63,
          45.22023247721663,
          45.22023247721663,
          27.333333333333332,
          31.2,
          45.22023247721663,
          45.22023247721663,
          33.291666666666664,
          45.22023247721663,
          7,
          80,
          65.8,
          76,
          45.22023247721663,
          61.375,
          38.5,
          45.22023247721663,
          45.22023247721663,
          43.705882352941174,
          34,
          39,
          49.48148148148148,
          56,
          31.818181818181817,
          33.05,
          50.07142857142857,
          45.22023247721663,
          45.22023247721663,
          45.22023247721663,
          32.63573883161512,
          45.22023247721663,
          20,
          45.22023247721663,
          31.152941176470588,
          24,
          51,
          45.22023247721663,
          26.37735849056604,
          38.13953488372093,
          33.35294117647059,
          67,
          35.77777777777778,
          28.75,
          45.22023247721663,
          33.022222222222226,
          45.22023247721663,
          40.11764705882353,
          45.22023247721663,
          45.22023247721663,
          45.22023247721663,
          62.5,
          56.94444444444444,
          45.22023247721663,
          45.22023247721663,
          34.42,
          29.081632653061224,
          44.827586206896555,
          45.22023247721663,
          45.22023247721663,
          22.976470588235294,
          66.73333333333333,
          45.22023247721663,
          40.62068965517241,
          77.33333333333333,
          37.9125,
          45.22023247721663,
          45.22023247721663,
          24,
          55.6875,
          45.22023247721663,
          37.302083333333336,
          36.06666666666667,
          26,
          54.625,
          45.22023247721663,
          48.285714285714285,
          41.16949152542373,
          43.714285714285715,
          24.24137931034483,
          35.333333333333336,
          21,
          38.193548387096776,
          37.25,
          45.22023247721663,
          42.214285714285715,
          10,
          45.22023247721663,
          59.63414634146341,
          24,
          45.22023247721663,
          45.22023247721663,
          45.22023247721663,
          45.22023247721663,
          6,
          45.22023247721663,
          45.325581395348834,
          53.925925925925924,
          60.523809523809526,
          34.113207547169814,
          45.22023247721663,
          45.22023247721663,
          38.36363636363637,
          29.227848101265824,
          45.22023247721663,
          39.23529411764706,
          45.22023247721663,
          42.01960784313726,
          45.22023247721663,
          55.25,
          33.854166666666664,
          66,
          65.14285714285714,
          41.6551724137931,
          59.88235294117647,
          16,
          47.833333333333336,
          42.08571428571429,
          45.22023247721663,
          39,
          45.22023247721663,
          21.25,
          45.22023247721663,
          45.22023247721663,
          45.22023247721663,
          45.22023247721663,
          42.267605633802816,
          78.28571428571429,
          35.666666666666664,
          46.714285714285715,
          51,
          23.142857142857142,
          36,
          40.96026490066225,
          42.3728813559322,
          45.22023247721663,
          31.63888888888889,
          40,
          54.36363636363637,
          50.56521739130435,
          45.22023247721663,
          45.22023247721663,
          55.2,
          11,
          43,
          45.22023247721663,
          45.22023247721663,
          45.22023247721663,
          45.22023247721663,
          45.22023247721663,
          50.1578947368421,
          50.75,
          52.53125,
          49.68421052631579,
          45.22023247721663,
          42.861111111111114,
          30.238095238095237,
          45.22023247721663,
          26.666666666666668,
          13,
          56.470588235294116,
          54.17391304347826,
          33.68,
          37.44565217391305,
          45.22023247721663,
          34.3469387755102,
          45.22023247721663,
          45.22023247721663,
          36.45454545454545,
          45.22023247721663,
          35.604166666666664,
          31.12857142857143,
          22,
          47.46875,
          34,
          41.8125,
          61,
          27,
          26.227642276422763,
          43.87179487179487,
          41.666666666666664,
          45.93333333333333,
          36.714285714285715,
          45.22023247721663,
          45.22023247721663,
          46.411764705882355,
          45.22023247721663,
          45.22023247721663,
          47.35,
          44,
          61,
          28,
          39.625,
          63,
          9,
          26.22222222222222,
          29.953488372093023,
          41.292682926829265,
          45.22023247721663,
          37.80722891566265,
          33.59770114942529,
          36.875,
          45.22023247721663,
          35.80392156862745,
          45.22023247721663,
          17,
          45.22023247721663,
          54.55555555555556,
          60.77777777777778,
          44
         ],
         "yaxis": "y"
        },
        {
         "customdata": [
          [
           "AD Gaekwad"
          ],
          [
           "AH Jones"
          ],
          [
           "Alimuddin"
          ],
          [
           "Alok Kapali"
          ],
          [
           "Asad Shafiq"
          ],
          [
           "Asif Mujtaba"
          ],
          [
           "B Sutcliffe"
          ],
          [
           "BB McCullum"
          ],
          [
           "BP Nash"
          ],
          [
           "CZ Harris"
          ],
          [
           "D Ganga"
          ],
          [
           "DL Houghton"
          ],
          [
           "DR Flynn"
          ],
          [
           "DR Martyn"
          ],
          [
           "GC Smith"
          ],
          [
           "GJ Rennie"
          ],
          [
           "GN Yallop"
          ],
          [
           "GP Howarth"
          ],
          [
           "Hanif Mohammad"
          ],
          [
           "Imran Farhat"
          ],
          [
           "Imtiaz Ahmed"
          ],
          [
           "J Blackwood"
          ],
          [
           "JA Rudolph"
          ],
          [
           "JB Hobbs"
          ],
          [
           "JT Ikin"
          ],
          [
           "KLT Arthurton"
          ],
          [
           "KOA Powell"
          ],
          [
           "KP Pietersen"
          ],
          [
           "KR Rutherford"
          ],
          [
           "KWR Fletcher"
          ],
          [
           "M Leyland"
          ],
          [
           "M Vijay"
          ],
          [
           "MA Atherton"
          ],
          [
           "MAK Pataudi"
          ],
          [
           "ME Trescothick"
          ],
          [
           "MJ Greatbatch"
          ],
          [
           "MJK Smith"
          ],
          [
           "ML Jaisimha"
          ],
          [
           "MP Vaughan"
          ],
          [
           "MR Ramprakash"
          ],
          [
           "MW Gatting"
          ],
          [
           "Mominul Haque"
          ],
          [
           "NJ Contractor"
          ],
          [
           "NT Paranavitana"
          ],
          [
           "Qasim Umar"
          ],
          [
           "RA Woolmer"
          ],
          [
           "RG Sharma"
          ],
          [
           "RT Robinson"
          ],
          [
           "RW Morgan"
          ],
          [
           "Rajin Saleh"
          ],
          [
           "Rubel Hossain"
          ],
          [
           "S Chanderpaul"
          ],
          [
           "SM Gavaskar"
          ],
          [
           "Saleem Malik"
          ],
          [
           "Salman Butt"
          ],
          [
           "TR Gripper"
          ],
          [
           "TW Graveney"
          ]
         ],
         "hovertemplate": "label=2<br>Batting Average=%{x}<br>Bowling Average=%{y}<br>Innings Player=%{customdata[0]}<extra></extra>",
         "legendgroup": "2",
         "marker": {
          "color": "#00cc96",
          "symbol": "circle"
         },
         "mode": "markers",
         "name": "2",
         "orientation": "v",
         "showlegend": true,
         "type": "scatter",
         "x": [
          30.075757575757574,
          44.27272727272727,
          25.372093023255815,
          17.696969696969695,
          39.256410256410255,
          24.42105263157895,
          40.10294117647059,
          38.64071856287425,
          33.42424242424242,
          20.44736842105263,
          25.714285714285715,
          43.05882352941177,
          25.95,
          46.37894736842105,
          48.7,
          22.733333333333334,
          41.134328358208954,
          32.44871794871795,
          43.98876404494382,
          32,
          29.281690140845072,
          30.266666666666666,
          35.432432432432435,
          56.94736842105263,
          20.896551724137932,
          30.711111111111112,
          26.813333333333333,
          47.28901734104046,
          27.087912087912088,
          39.90243902439025,
          46.06666666666667,
          38.28846153846154,
          37.697560975609754,
          34.9125,
          43.796992481203006,
          30.62121212121212,
          31.63888888888889,
          30.686567164179106,
          41.44202898550725,
          27.325581395348838,
          35.556451612903224,
          40.857142857142854,
          31.58823529411765,
          32.58181818181818,
          36.63414634146341,
          33.09375,
          46.54347826086956,
          36.38636363636363,
          22.242424242424242,
          25.931818181818183,
          9.464285714285714,
          51.37229437229437,
          51.121212121212125,
          43.696969696969695,
          30.467741935483872,
          21.864864864864863,
          44.38181818181818
         ],
         "xaxis": "x",
         "y": [
          93.5,
          194,
          75,
          118.16666666666667,
          86,
          75.75,
          86,
          88,
          123.5,
          73.125,
          106,
          null,
          null,
          84,
          110.625,
          84,
          116,
          90.33333333333333,
          95,
          94.66666666666667,
          null,
          97,
          108,
          165,
          118,
          183,
          null,
          88.6,
          161,
          96.5,
          97.5,
          198,
          151,
          88,
          155,
          null,
          128,
          92.11111111111111,
          93.5,
          119.25,
          79.25,
          94,
          80,
          86,
          null,
          74.75,
          108,
          null,
          121.8,
          134,
          76.77777777777777,
          98.11111111111111,
          206,
          82.8,
          106,
          84.83333333333333,
          167
         ],
         "yaxis": "y"
        }
       ],
       "layout": {
        "legend": {
         "title": {
          "text": "label"
         },
         "tracegroupgap": 0
        },
        "margin": {
         "t": 60
        },
        "template": {
         "data": {
          "bar": [
           {
            "error_x": {
             "color": "#2a3f5f"
            },
            "error_y": {
             "color": "#2a3f5f"
            },
            "marker": {
             "line": {
              "color": "#E5ECF6",
              "width": 0.5
             },
             "pattern": {
              "fillmode": "overlay",
              "size": 10,
              "solidity": 0.2
             }
            },
            "type": "bar"
           }
          ],
          "barpolar": [
           {
            "marker": {
             "line": {
              "color": "#E5ECF6",
              "width": 0.5
             },
             "pattern": {
              "fillmode": "overlay",
              "size": 10,
              "solidity": 0.2
             }
            },
            "type": "barpolar"
           }
          ],
          "carpet": [
           {
            "aaxis": {
             "endlinecolor": "#2a3f5f",
             "gridcolor": "white",
             "linecolor": "white",
             "minorgridcolor": "white",
             "startlinecolor": "#2a3f5f"
            },
            "baxis": {
             "endlinecolor": "#2a3f5f",
             "gridcolor": "white",
             "linecolor": "white",
             "minorgridcolor": "white",
             "startlinecolor": "#2a3f5f"
            },
            "type": "carpet"
           }
          ],
          "choropleth": [
           {
            "colorbar": {
             "outlinewidth": 0,
             "ticks": ""
            },
            "type": "choropleth"
           }
          ],
          "contour": [
           {
            "colorbar": {
             "outlinewidth": 0,
             "ticks": ""
            },
            "colorscale": [
             [
              0,
              "#0d0887"
             ],
             [
              0.1111111111111111,
              "#46039f"
             ],
             [
              0.2222222222222222,
              "#7201a8"
             ],
             [
              0.3333333333333333,
              "#9c179e"
             ],
             [
              0.4444444444444444,
              "#bd3786"
             ],
             [
              0.5555555555555556,
              "#d8576b"
             ],
             [
              0.6666666666666666,
              "#ed7953"
             ],
             [
              0.7777777777777778,
              "#fb9f3a"
             ],
             [
              0.8888888888888888,
              "#fdca26"
             ],
             [
              1,
              "#f0f921"
             ]
            ],
            "type": "contour"
           }
          ],
          "contourcarpet": [
           {
            "colorbar": {
             "outlinewidth": 0,
             "ticks": ""
            },
            "type": "contourcarpet"
           }
          ],
          "heatmap": [
           {
            "colorbar": {
             "outlinewidth": 0,
             "ticks": ""
            },
            "colorscale": [
             [
              0,
              "#0d0887"
             ],
             [
              0.1111111111111111,
              "#46039f"
             ],
             [
              0.2222222222222222,
              "#7201a8"
             ],
             [
              0.3333333333333333,
              "#9c179e"
             ],
             [
              0.4444444444444444,
              "#bd3786"
             ],
             [
              0.5555555555555556,
              "#d8576b"
             ],
             [
              0.6666666666666666,
              "#ed7953"
             ],
             [
              0.7777777777777778,
              "#fb9f3a"
             ],
             [
              0.8888888888888888,
              "#fdca26"
             ],
             [
              1,
              "#f0f921"
             ]
            ],
            "type": "heatmap"
           }
          ],
          "heatmapgl": [
           {
            "colorbar": {
             "outlinewidth": 0,
             "ticks": ""
            },
            "colorscale": [
             [
              0,
              "#0d0887"
             ],
             [
              0.1111111111111111,
              "#46039f"
             ],
             [
              0.2222222222222222,
              "#7201a8"
             ],
             [
              0.3333333333333333,
              "#9c179e"
             ],
             [
              0.4444444444444444,
              "#bd3786"
             ],
             [
              0.5555555555555556,
              "#d8576b"
             ],
             [
              0.6666666666666666,
              "#ed7953"
             ],
             [
              0.7777777777777778,
              "#fb9f3a"
             ],
             [
              0.8888888888888888,
              "#fdca26"
             ],
             [
              1,
              "#f0f921"
             ]
            ],
            "type": "heatmapgl"
           }
          ],
          "histogram": [
           {
            "marker": {
             "pattern": {
              "fillmode": "overlay",
              "size": 10,
              "solidity": 0.2
             }
            },
            "type": "histogram"
           }
          ],
          "histogram2d": [
           {
            "colorbar": {
             "outlinewidth": 0,
             "ticks": ""
            },
            "colorscale": [
             [
              0,
              "#0d0887"
             ],
             [
              0.1111111111111111,
              "#46039f"
             ],
             [
              0.2222222222222222,
              "#7201a8"
             ],
             [
              0.3333333333333333,
              "#9c179e"
             ],
             [
              0.4444444444444444,
              "#bd3786"
             ],
             [
              0.5555555555555556,
              "#d8576b"
             ],
             [
              0.6666666666666666,
              "#ed7953"
             ],
             [
              0.7777777777777778,
              "#fb9f3a"
             ],
             [
              0.8888888888888888,
              "#fdca26"
             ],
             [
              1,
              "#f0f921"
             ]
            ],
            "type": "histogram2d"
           }
          ],
          "histogram2dcontour": [
           {
            "colorbar": {
             "outlinewidth": 0,
             "ticks": ""
            },
            "colorscale": [
             [
              0,
              "#0d0887"
             ],
             [
              0.1111111111111111,
              "#46039f"
             ],
             [
              0.2222222222222222,
              "#7201a8"
             ],
             [
              0.3333333333333333,
              "#9c179e"
             ],
             [
              0.4444444444444444,
              "#bd3786"
             ],
             [
              0.5555555555555556,
              "#d8576b"
             ],
             [
              0.6666666666666666,
              "#ed7953"
             ],
             [
              0.7777777777777778,
              "#fb9f3a"
             ],
             [
              0.8888888888888888,
              "#fdca26"
             ],
             [
              1,
              "#f0f921"
             ]
            ],
            "type": "histogram2dcontour"
           }
          ],
          "mesh3d": [
           {
            "colorbar": {
             "outlinewidth": 0,
             "ticks": ""
            },
            "type": "mesh3d"
           }
          ],
          "parcoords": [
           {
            "line": {
             "colorbar": {
              "outlinewidth": 0,
              "ticks": ""
             }
            },
            "type": "parcoords"
           }
          ],
          "pie": [
           {
            "automargin": true,
            "type": "pie"
           }
          ],
          "scatter": [
           {
            "fillpattern": {
             "fillmode": "overlay",
             "size": 10,
             "solidity": 0.2
            },
            "type": "scatter"
           }
          ],
          "scatter3d": [
           {
            "line": {
             "colorbar": {
              "outlinewidth": 0,
              "ticks": ""
             }
            },
            "marker": {
             "colorbar": {
              "outlinewidth": 0,
              "ticks": ""
             }
            },
            "type": "scatter3d"
           }
          ],
          "scattercarpet": [
           {
            "marker": {
             "colorbar": {
              "outlinewidth": 0,
              "ticks": ""
             }
            },
            "type": "scattercarpet"
           }
          ],
          "scattergeo": [
           {
            "marker": {
             "colorbar": {
              "outlinewidth": 0,
              "ticks": ""
             }
            },
            "type": "scattergeo"
           }
          ],
          "scattergl": [
           {
            "marker": {
             "colorbar": {
              "outlinewidth": 0,
              "ticks": ""
             }
            },
            "type": "scattergl"
           }
          ],
          "scattermapbox": [
           {
            "marker": {
             "colorbar": {
              "outlinewidth": 0,
              "ticks": ""
             }
            },
            "type": "scattermapbox"
           }
          ],
          "scatterpolar": [
           {
            "marker": {
             "colorbar": {
              "outlinewidth": 0,
              "ticks": ""
             }
            },
            "type": "scatterpolar"
           }
          ],
          "scatterpolargl": [
           {
            "marker": {
             "colorbar": {
              "outlinewidth": 0,
              "ticks": ""
             }
            },
            "type": "scatterpolargl"
           }
          ],
          "scatterternary": [
           {
            "marker": {
             "colorbar": {
              "outlinewidth": 0,
              "ticks": ""
             }
            },
            "type": "scatterternary"
           }
          ],
          "surface": [
           {
            "colorbar": {
             "outlinewidth": 0,
             "ticks": ""
            },
            "colorscale": [
             [
              0,
              "#0d0887"
             ],
             [
              0.1111111111111111,
              "#46039f"
             ],
             [
              0.2222222222222222,
              "#7201a8"
             ],
             [
              0.3333333333333333,
              "#9c179e"
             ],
             [
              0.4444444444444444,
              "#bd3786"
             ],
             [
              0.5555555555555556,
              "#d8576b"
             ],
             [
              0.6666666666666666,
              "#ed7953"
             ],
             [
              0.7777777777777778,
              "#fb9f3a"
             ],
             [
              0.8888888888888888,
              "#fdca26"
             ],
             [
              1,
              "#f0f921"
             ]
            ],
            "type": "surface"
           }
          ],
          "table": [
           {
            "cells": {
             "fill": {
              "color": "#EBF0F8"
             },
             "line": {
              "color": "white"
             }
            },
            "header": {
             "fill": {
              "color": "#C8D4E3"
             },
             "line": {
              "color": "white"
             }
            },
            "type": "table"
           }
          ]
         },
         "layout": {
          "annotationdefaults": {
           "arrowcolor": "#2a3f5f",
           "arrowhead": 0,
           "arrowwidth": 1
          },
          "autotypenumbers": "strict",
          "coloraxis": {
           "colorbar": {
            "outlinewidth": 0,
            "ticks": ""
           }
          },
          "colorscale": {
           "diverging": [
            [
             0,
             "#8e0152"
            ],
            [
             0.1,
             "#c51b7d"
            ],
            [
             0.2,
             "#de77ae"
            ],
            [
             0.3,
             "#f1b6da"
            ],
            [
             0.4,
             "#fde0ef"
            ],
            [
             0.5,
             "#f7f7f7"
            ],
            [
             0.6,
             "#e6f5d0"
            ],
            [
             0.7,
             "#b8e186"
            ],
            [
             0.8,
             "#7fbc41"
            ],
            [
             0.9,
             "#4d9221"
            ],
            [
             1,
             "#276419"
            ]
           ],
           "sequential": [
            [
             0,
             "#0d0887"
            ],
            [
             0.1111111111111111,
             "#46039f"
            ],
            [
             0.2222222222222222,
             "#7201a8"
            ],
            [
             0.3333333333333333,
             "#9c179e"
            ],
            [
             0.4444444444444444,
             "#bd3786"
            ],
            [
             0.5555555555555556,
             "#d8576b"
            ],
            [
             0.6666666666666666,
             "#ed7953"
            ],
            [
             0.7777777777777778,
             "#fb9f3a"
            ],
            [
             0.8888888888888888,
             "#fdca26"
            ],
            [
             1,
             "#f0f921"
            ]
           ],
           "sequentialminus": [
            [
             0,
             "#0d0887"
            ],
            [
             0.1111111111111111,
             "#46039f"
            ],
            [
             0.2222222222222222,
             "#7201a8"
            ],
            [
             0.3333333333333333,
             "#9c179e"
            ],
            [
             0.4444444444444444,
             "#bd3786"
            ],
            [
             0.5555555555555556,
             "#d8576b"
            ],
            [
             0.6666666666666666,
             "#ed7953"
            ],
            [
             0.7777777777777778,
             "#fb9f3a"
            ],
            [
             0.8888888888888888,
             "#fdca26"
            ],
            [
             1,
             "#f0f921"
            ]
           ]
          },
          "colorway": [
           "#636efa",
           "#EF553B",
           "#00cc96",
           "#ab63fa",
           "#FFA15A",
           "#19d3f3",
           "#FF6692",
           "#B6E880",
           "#FF97FF",
           "#FECB52"
          ],
          "font": {
           "color": "#2a3f5f"
          },
          "geo": {
           "bgcolor": "white",
           "lakecolor": "white",
           "landcolor": "#E5ECF6",
           "showlakes": true,
           "showland": true,
           "subunitcolor": "white"
          },
          "hoverlabel": {
           "align": "left"
          },
          "hovermode": "closest",
          "mapbox": {
           "style": "light"
          },
          "paper_bgcolor": "white",
          "plot_bgcolor": "#E5ECF6",
          "polar": {
           "angularaxis": {
            "gridcolor": "white",
            "linecolor": "white",
            "ticks": ""
           },
           "bgcolor": "#E5ECF6",
           "radialaxis": {
            "gridcolor": "white",
            "linecolor": "white",
            "ticks": ""
           }
          },
          "scene": {
           "xaxis": {
            "backgroundcolor": "#E5ECF6",
            "gridcolor": "white",
            "gridwidth": 2,
            "linecolor": "white",
            "showbackground": true,
            "ticks": "",
            "zerolinecolor": "white"
           },
           "yaxis": {
            "backgroundcolor": "#E5ECF6",
            "gridcolor": "white",
            "gridwidth": 2,
            "linecolor": "white",
            "showbackground": true,
            "ticks": "",
            "zerolinecolor": "white"
           },
           "zaxis": {
            "backgroundcolor": "#E5ECF6",
            "gridcolor": "white",
            "gridwidth": 2,
            "linecolor": "white",
            "showbackground": true,
            "ticks": "",
            "zerolinecolor": "white"
           }
          },
          "shapedefaults": {
           "line": {
            "color": "#2a3f5f"
           }
          },
          "ternary": {
           "aaxis": {
            "gridcolor": "white",
            "linecolor": "white",
            "ticks": ""
           },
           "baxis": {
            "gridcolor": "white",
            "linecolor": "white",
            "ticks": ""
           },
           "bgcolor": "#E5ECF6",
           "caxis": {
            "gridcolor": "white",
            "linecolor": "white",
            "ticks": ""
           }
          },
          "title": {
           "x": 0.05
          },
          "xaxis": {
           "automargin": true,
           "gridcolor": "white",
           "linecolor": "white",
           "ticks": "",
           "title": {
            "standoff": 15
           },
           "zerolinecolor": "white",
           "zerolinewidth": 2
          },
          "yaxis": {
           "automargin": true,
           "gridcolor": "white",
           "linecolor": "white",
           "ticks": "",
           "title": {
            "standoff": 15
           },
           "zerolinecolor": "white",
           "zerolinewidth": 2
          }
         }
        },
        "xaxis": {
         "anchor": "y",
         "domain": [
          0,
          1
         ],
         "title": {
          "text": "Batting Average"
         }
        },
        "yaxis": {
         "anchor": "x",
         "domain": [
          0,
          1
         ],
         "title": {
          "text": "Bowling Average"
         }
        }
       }
      }
     },
     "metadata": {},
     "output_type": "display_data"
    }
   ],
   "source": [
    "px.scatter(all_men, x='Batting Average', y=\"Bowling Average\", color='label', hover_data=['Innings Player'])"
   ]
  },
  {
   "cell_type": "code",
   "execution_count": null,
   "metadata": {},
   "outputs": [],
   "source": []
  }
 ],
 "metadata": {
  "kernelspec": {
   "display_name": "Python 3.10.4 ('cricket-analysis')",
   "language": "python",
   "name": "python3"
  },
  "language_info": {
   "codemirror_mode": {
    "name": "ipython",
    "version": 3
   },
   "file_extension": ".py",
   "mimetype": "text/x-python",
   "name": "python",
   "nbconvert_exporter": "python",
   "pygments_lexer": "ipython3",
   "version": "3.10.4"
  },
  "orig_nbformat": 4,
  "vscode": {
   "interpreter": {
    "hash": "d73ec44b3e91f18d6b14b169647bbd961e7c85c6f5aa17f297489002cf1508c1"
   }
  }
 },
 "nbformat": 4,
 "nbformat_minor": 2
}
